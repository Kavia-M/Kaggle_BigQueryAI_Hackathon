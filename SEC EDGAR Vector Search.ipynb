{
  "cells": [
    {
      "cell_type": "code",
      "id": "tt3dHjNc6Imr8SazEFBy4cEJ",
      "metadata": {
        "tags": [],
        "id": "tt3dHjNc6Imr8SazEFBy4cEJ",
        "executionInfo": {
          "status": "ok",
          "timestamp": 1758561805544,
          "user_tz": -330,
          "elapsed": 4,
          "user": {
            "displayName": "",
            "userId": ""
          }
        }
      },
      "source": [
        "import numpy as np\n",
        "import pandas as pd\n",
        "import bigframes.pandas as bpd\n",
        "import bigframes.ml.llm as llm\n",
        "import bigframes.bigquery as bbq"
      ],
      "execution_count": 10,
      "outputs": []
    },
    {
      "cell_type": "code",
      "source": [
        "col_name = 'overall_embedding'"
      ],
      "metadata": {
        "id": "_7-ix71QXF-5",
        "executionInfo": {
          "status": "ok",
          "timestamp": 1758560299134,
          "user_tz": -330,
          "elapsed": 5,
          "user": {
            "displayName": "",
            "userId": ""
          }
        }
      },
      "id": "_7-ix71QXF-5",
      "execution_count": 2,
      "outputs": []
    },
    {
      "cell_type": "code",
      "source": [
        "%%bigquery\n",
        "CREATE VIEW `financial-fraud-detection-1.sec_enforcement_actions.view_sec_search` AS\n",
        "SELECT\n",
        "  original.id as id,\n",
        "  original.title as title,\n",
        "  original.summary as summary,\n",
        "  original.entities as entities,\n",
        "  embeddings.ml_generate_embedding_result as sec_enforcement_embeddings\n",
        "FROM `financial-fraud-detection-1.sec_enforcement_actions.sec_actions` original\n",
        "INNER JOIN `financial-fraud-detection-1.sec_enforcement_actions.sec_enforcement_embeddings` embeddings\n",
        "ON original.id = embeddings.id"
      ],
      "metadata": {
        "colab": {
          "base_uri": "https://localhost:8080/",
          "height": 85,
          "referenced_widgets": [
            "43d19b95053e4002ac8a3d1fd46b20ad",
            "22ed77bd2e634c008051792747ca30e7",
            "5ab6c4d8120d4ebdb3dfd0a46811f9f3",
            "562e28fb9d564407b020098548f1241a",
            "45f7a97966144181bc5b9294bee239d1",
            "5b9e939b422049bc9289f933260f6ce6",
            "fb160ba0c6794fbe9b05a2c835884de0",
            "b199b7d93b024a869c958cc26745814f",
            "10a00b6618724568a94cdcb82d0a84af",
            "bbc6f547c38047d89b318ac04c90feed",
            "4a3411ecb3c649bf974f69245e497c2e"
          ]
        },
        "id": "GEnpZbhTX3yo",
        "executionInfo": {
          "status": "ok",
          "timestamp": 1758560944569,
          "user_tz": -330,
          "elapsed": 973,
          "user": {
            "displayName": "",
            "userId": ""
          }
        },
        "outputId": "d43ced13-7b35-4dfe-f527-5d67fda09538"
      },
      "id": "GEnpZbhTX3yo",
      "execution_count": 6,
      "outputs": [
        {
          "output_type": "display_data",
          "data": {
            "text/plain": [
              "Query is running:   0%|          |"
            ],
            "application/vnd.jupyter.widget-view+json": {
              "version_major": 2,
              "version_minor": 0,
              "model_id": "43d19b95053e4002ac8a3d1fd46b20ad"
            }
          },
          "metadata": {}
        },
        {
          "output_type": "execute_result",
          "data": {
            "text/plain": [
              "Empty DataFrame\n",
              "Columns: []\n",
              "Index: []"
            ],
            "text/html": [
              "\n",
              "  <div id=\"df-26179717-2b24-4647-aed3-7d4d86049a11\" class=\"colab-df-container\">\n",
              "    <div>\n",
              "<style scoped>\n",
              "    .dataframe tbody tr th:only-of-type {\n",
              "        vertical-align: middle;\n",
              "    }\n",
              "\n",
              "    .dataframe tbody tr th {\n",
              "        vertical-align: top;\n",
              "    }\n",
              "\n",
              "    .dataframe thead th {\n",
              "        text-align: right;\n",
              "    }\n",
              "</style>\n",
              "<table border=\"1\" class=\"dataframe\">\n",
              "  <thead>\n",
              "    <tr style=\"text-align: right;\">\n",
              "      <th></th>\n",
              "    </tr>\n",
              "  </thead>\n",
              "  <tbody>\n",
              "  </tbody>\n",
              "</table>\n",
              "</div>\n",
              "    <div class=\"colab-df-buttons\">\n",
              "\n",
              "  <div class=\"colab-df-container\">\n",
              "    <button class=\"colab-df-convert\" onclick=\"convertToInteractive('df-26179717-2b24-4647-aed3-7d4d86049a11')\"\n",
              "            title=\"Convert this dataframe to an interactive table.\"\n",
              "            style=\"display:none;\">\n",
              "\n",
              "  <svg xmlns=\"http://www.w3.org/2000/svg\" height=\"24px\" viewBox=\"0 -960 960 960\">\n",
              "    <path d=\"M120-120v-720h720v720H120Zm60-500h600v-160H180v160Zm220 220h160v-160H400v160Zm0 220h160v-160H400v160ZM180-400h160v-160H180v160Zm440 0h160v-160H620v160ZM180-180h160v-160H180v160Zm440 0h160v-160H620v160Z\"/>\n",
              "  </svg>\n",
              "    </button>\n",
              "\n",
              "  <style>\n",
              "    .colab-df-container {\n",
              "      display:flex;\n",
              "      gap: 12px;\n",
              "    }\n",
              "\n",
              "    .colab-df-convert {\n",
              "      background-color: #E8F0FE;\n",
              "      border: none;\n",
              "      border-radius: 50%;\n",
              "      cursor: pointer;\n",
              "      display: none;\n",
              "      fill: #1967D2;\n",
              "      height: 32px;\n",
              "      padding: 0 0 0 0;\n",
              "      width: 32px;\n",
              "    }\n",
              "\n",
              "    .colab-df-convert:hover {\n",
              "      background-color: #E2EBFA;\n",
              "      box-shadow: 0px 1px 2px rgba(60, 64, 67, 0.3), 0px 1px 3px 1px rgba(60, 64, 67, 0.15);\n",
              "      fill: #174EA6;\n",
              "    }\n",
              "\n",
              "    .colab-df-buttons div {\n",
              "      margin-bottom: 4px;\n",
              "    }\n",
              "\n",
              "    [theme=dark] .colab-df-convert {\n",
              "      background-color: #3B4455;\n",
              "      fill: #D2E3FC;\n",
              "    }\n",
              "\n",
              "    [theme=dark] .colab-df-convert:hover {\n",
              "      background-color: #434B5C;\n",
              "      box-shadow: 0px 1px 3px 1px rgba(0, 0, 0, 0.15);\n",
              "      filter: drop-shadow(0px 1px 2px rgba(0, 0, 0, 0.3));\n",
              "      fill: #FFFFFF;\n",
              "    }\n",
              "  </style>\n",
              "\n",
              "    <script>\n",
              "      const buttonEl =\n",
              "        document.querySelector('#df-26179717-2b24-4647-aed3-7d4d86049a11 button.colab-df-convert');\n",
              "      buttonEl.style.display =\n",
              "        google.colab.kernel.accessAllowed ? 'block' : 'none';\n",
              "\n",
              "      async function convertToInteractive(key) {\n",
              "        const element = document.querySelector('#df-26179717-2b24-4647-aed3-7d4d86049a11');\n",
              "        const dataTable =\n",
              "          await google.colab.kernel.invokeFunction('convertToInteractive',\n",
              "                                                    [key], {});\n",
              "        if (!dataTable) return;\n",
              "\n",
              "        const docLinkHtml = 'Like what you see? Visit the ' +\n",
              "          '<a target=\"_blank\" href=https://colab.research.google.com/notebooks/data_table.ipynb>data table notebook</a>'\n",
              "          + ' to learn more about interactive tables.';\n",
              "        element.innerHTML = '';\n",
              "        dataTable['output_type'] = 'display_data';\n",
              "        await google.colab.output.renderOutput(dataTable, element);\n",
              "        const docLink = document.createElement('div');\n",
              "        docLink.innerHTML = docLinkHtml;\n",
              "        element.appendChild(docLink);\n",
              "      }\n",
              "    </script>\n",
              "  </div>\n",
              "\n",
              "\n",
              "    </div>\n",
              "  </div>\n"
            ],
            "application/vnd.google.colaboratory.intrinsic+json": {
              "type": "dataframe",
              "summary": "{\n  \"name\": \"get_ipython()\",\n  \"rows\": 0,\n  \"fields\": []\n}"
            }
          },
          "metadata": {},
          "execution_count": 6
        }
      ]
    },
    {
      "cell_type": "code",
      "source": [
        "%%bigquery results\n",
        "SELECT query.cik as edgar_cik,\n",
        "  query.year as edgar_year,\n",
        "  base.id as overall_embedding_mathing_sec_id,\n",
        "  base.title as overall_embedding_mathing_sec_title\n",
        "FROM\n",
        " VECTOR_SEARCH(\n",
        "   TABLE `financial-fraud-detection-1.sec_enforcement_actions.sec_enforcement_embeddings`, 'ml_generate_embedding_result',\n",
        "   (SELECT * FROM `financial-fraud-detection-1.EDGAR.edgar_corpus_small_embeddings` LIMIT 1), 'overall_embedding', top_k => 5, distance_type => 'COSINE')"
      ],
      "metadata": {
        "colab": {
          "base_uri": "https://localhost:8080/",
          "height": 81,
          "referenced_widgets": [
            "7a2f6c58fa9a412e9f18e6da2bb5938c",
            "e3a0e628e53345b48038ad8f75df1115",
            "92aabe5423534ffc91b438c23277ad74",
            "f15a852b48b14c01b29d0287b07c5b24",
            "7278037693e44a6c94e97405340d8e54",
            "5db1495ee551475b93b8a06c98eebe80",
            "61f3c122ccfa4b32824a3a6e26d50e5c",
            "a2677d744eb14e50bec5f69f6e7c4ebe",
            "8a8f66722e604922a9b0543e63759914",
            "da5d6d48492d473395468a40419b2dc9",
            "b2efbabaeaf34d1eb3927db65c82f009",
            "a5254745ab954f7e88aab5ed7878d75d",
            "aac109e8bdc34c1fa302af6ccd99f063",
            "e0be575e757a4a85a8db1dbe426ef193",
            "0a76f8c39b7d40069c8c33b563cb6f52",
            "1899559d337a402eb8992820f83aabbb",
            "d17c3a89430147828b0d5f5422fb2b67",
            "c9935cef5034418da041a100443a09cd",
            "1f73f41867264f459b3dbcb93dc64d42",
            "ed876856babb4e90a1062e12283e28d7",
            "1c82d7e22a3f446bb680957613c88b1c",
            "5cf588bb34b94553b199fa666188eb5d"
          ]
        },
        "id": "GnhlgVI2XC8l",
        "executionInfo": {
          "status": "ok",
          "timestamp": 1758561286966,
          "user_tz": -330,
          "elapsed": 2601,
          "user": {
            "displayName": "",
            "userId": ""
          }
        },
        "outputId": "1fd33340-993f-4a21-d885-17c687397df9"
      },
      "id": "GnhlgVI2XC8l",
      "execution_count": 8,
      "outputs": [
        {
          "output_type": "display_data",
          "data": {
            "text/plain": [
              "Query is running:   0%|          |"
            ],
            "application/vnd.jupyter.widget-view+json": {
              "version_major": 2,
              "version_minor": 0,
              "model_id": "7a2f6c58fa9a412e9f18e6da2bb5938c"
            }
          },
          "metadata": {}
        },
        {
          "output_type": "display_data",
          "data": {
            "text/plain": [
              "Downloading:   0%|          |"
            ],
            "application/vnd.jupyter.widget-view+json": {
              "version_major": 2,
              "version_minor": 0,
              "model_id": "a5254745ab954f7e88aab5ed7878d75d"
            }
          },
          "metadata": {}
        }
      ]
    },
    {
      "cell_type": "code",
      "source": [
        "results"
      ],
      "metadata": {
        "colab": {
          "base_uri": "https://localhost:8080/",
          "height": 275
        },
        "id": "oAxtJNJcaU3e",
        "executionInfo": {
          "status": "ok",
          "timestamp": 1758561299743,
          "user_tz": -330,
          "elapsed": 6,
          "user": {
            "displayName": "",
            "userId": ""
          }
        },
        "outputId": "65ac2ca9-a954-4079-b0d8-fa06b90ead3d"
      },
      "id": "oAxtJNJcaU3e",
      "execution_count": 9,
      "outputs": [
        {
          "output_type": "execute_result",
          "data": {
            "text/plain": [
              "   edgar_cik  edgar_year  overall_embedding_mathing_sec_id  \\\n",
              "0     315189        1993  652c355b8848e75fdf85651bb0e31432   \n",
              "1     315189        1993  69ef263fb0ce90e8aedc9a456ed0c02d   \n",
              "2     315189        1993  b7e65a1605c5eeefc1e9b98e00dc28e1   \n",
              "3     315189        1993  c09ee5721683dbd0c691e961585f7f74   \n",
              "4     315189        1993  a145fee70d224f197ae414be27f09beb   \n",
              "\n",
              "                 overall_embedding_mathing_sec_title  \n",
              "0  SEC Charges Delphi Corporation and Nine Indivi...  \n",
              "1  SEC Announces Charges Against Corporate Inside...  \n",
              "2  SEC Charges Diebold and Former Executives With...  \n",
              "3  SEC Charges ConAgra Foods, Inc. in Financial F...  \n",
              "4  SEC Charges Four Public Companies With Longsta...  "
            ],
            "text/html": [
              "\n",
              "  <div id=\"df-7f135922-df6a-4fbd-abe6-98eb9240dd54\" class=\"colab-df-container\">\n",
              "    <div>\n",
              "<style scoped>\n",
              "    .dataframe tbody tr th:only-of-type {\n",
              "        vertical-align: middle;\n",
              "    }\n",
              "\n",
              "    .dataframe tbody tr th {\n",
              "        vertical-align: top;\n",
              "    }\n",
              "\n",
              "    .dataframe thead th {\n",
              "        text-align: right;\n",
              "    }\n",
              "</style>\n",
              "<table border=\"1\" class=\"dataframe\">\n",
              "  <thead>\n",
              "    <tr style=\"text-align: right;\">\n",
              "      <th></th>\n",
              "      <th>edgar_cik</th>\n",
              "      <th>edgar_year</th>\n",
              "      <th>overall_embedding_mathing_sec_id</th>\n",
              "      <th>overall_embedding_mathing_sec_title</th>\n",
              "    </tr>\n",
              "  </thead>\n",
              "  <tbody>\n",
              "    <tr>\n",
              "      <th>0</th>\n",
              "      <td>315189</td>\n",
              "      <td>1993</td>\n",
              "      <td>652c355b8848e75fdf85651bb0e31432</td>\n",
              "      <td>SEC Charges Delphi Corporation and Nine Indivi...</td>\n",
              "    </tr>\n",
              "    <tr>\n",
              "      <th>1</th>\n",
              "      <td>315189</td>\n",
              "      <td>1993</td>\n",
              "      <td>69ef263fb0ce90e8aedc9a456ed0c02d</td>\n",
              "      <td>SEC Announces Charges Against Corporate Inside...</td>\n",
              "    </tr>\n",
              "    <tr>\n",
              "      <th>2</th>\n",
              "      <td>315189</td>\n",
              "      <td>1993</td>\n",
              "      <td>b7e65a1605c5eeefc1e9b98e00dc28e1</td>\n",
              "      <td>SEC Charges Diebold and Former Executives With...</td>\n",
              "    </tr>\n",
              "    <tr>\n",
              "      <th>3</th>\n",
              "      <td>315189</td>\n",
              "      <td>1993</td>\n",
              "      <td>c09ee5721683dbd0c691e961585f7f74</td>\n",
              "      <td>SEC Charges ConAgra Foods, Inc. in Financial F...</td>\n",
              "    </tr>\n",
              "    <tr>\n",
              "      <th>4</th>\n",
              "      <td>315189</td>\n",
              "      <td>1993</td>\n",
              "      <td>a145fee70d224f197ae414be27f09beb</td>\n",
              "      <td>SEC Charges Four Public Companies With Longsta...</td>\n",
              "    </tr>\n",
              "  </tbody>\n",
              "</table>\n",
              "</div>\n",
              "    <div class=\"colab-df-buttons\">\n",
              "\n",
              "  <div class=\"colab-df-container\">\n",
              "    <button class=\"colab-df-convert\" onclick=\"convertToInteractive('df-7f135922-df6a-4fbd-abe6-98eb9240dd54')\"\n",
              "            title=\"Convert this dataframe to an interactive table.\"\n",
              "            style=\"display:none;\">\n",
              "\n",
              "  <svg xmlns=\"http://www.w3.org/2000/svg\" height=\"24px\" viewBox=\"0 -960 960 960\">\n",
              "    <path d=\"M120-120v-720h720v720H120Zm60-500h600v-160H180v160Zm220 220h160v-160H400v160Zm0 220h160v-160H400v160ZM180-400h160v-160H180v160Zm440 0h160v-160H620v160ZM180-180h160v-160H180v160Zm440 0h160v-160H620v160Z\"/>\n",
              "  </svg>\n",
              "    </button>\n",
              "\n",
              "  <style>\n",
              "    .colab-df-container {\n",
              "      display:flex;\n",
              "      gap: 12px;\n",
              "    }\n",
              "\n",
              "    .colab-df-convert {\n",
              "      background-color: #E8F0FE;\n",
              "      border: none;\n",
              "      border-radius: 50%;\n",
              "      cursor: pointer;\n",
              "      display: none;\n",
              "      fill: #1967D2;\n",
              "      height: 32px;\n",
              "      padding: 0 0 0 0;\n",
              "      width: 32px;\n",
              "    }\n",
              "\n",
              "    .colab-df-convert:hover {\n",
              "      background-color: #E2EBFA;\n",
              "      box-shadow: 0px 1px 2px rgba(60, 64, 67, 0.3), 0px 1px 3px 1px rgba(60, 64, 67, 0.15);\n",
              "      fill: #174EA6;\n",
              "    }\n",
              "\n",
              "    .colab-df-buttons div {\n",
              "      margin-bottom: 4px;\n",
              "    }\n",
              "\n",
              "    [theme=dark] .colab-df-convert {\n",
              "      background-color: #3B4455;\n",
              "      fill: #D2E3FC;\n",
              "    }\n",
              "\n",
              "    [theme=dark] .colab-df-convert:hover {\n",
              "      background-color: #434B5C;\n",
              "      box-shadow: 0px 1px 3px 1px rgba(0, 0, 0, 0.15);\n",
              "      filter: drop-shadow(0px 1px 2px rgba(0, 0, 0, 0.3));\n",
              "      fill: #FFFFFF;\n",
              "    }\n",
              "  </style>\n",
              "\n",
              "    <script>\n",
              "      const buttonEl =\n",
              "        document.querySelector('#df-7f135922-df6a-4fbd-abe6-98eb9240dd54 button.colab-df-convert');\n",
              "      buttonEl.style.display =\n",
              "        google.colab.kernel.accessAllowed ? 'block' : 'none';\n",
              "\n",
              "      async function convertToInteractive(key) {\n",
              "        const element = document.querySelector('#df-7f135922-df6a-4fbd-abe6-98eb9240dd54');\n",
              "        const dataTable =\n",
              "          await google.colab.kernel.invokeFunction('convertToInteractive',\n",
              "                                                    [key], {});\n",
              "        if (!dataTable) return;\n",
              "\n",
              "        const docLinkHtml = 'Like what you see? Visit the ' +\n",
              "          '<a target=\"_blank\" href=https://colab.research.google.com/notebooks/data_table.ipynb>data table notebook</a>'\n",
              "          + ' to learn more about interactive tables.';\n",
              "        element.innerHTML = '';\n",
              "        dataTable['output_type'] = 'display_data';\n",
              "        await google.colab.output.renderOutput(dataTable, element);\n",
              "        const docLink = document.createElement('div');\n",
              "        docLink.innerHTML = docLinkHtml;\n",
              "        element.appendChild(docLink);\n",
              "      }\n",
              "    </script>\n",
              "  </div>\n",
              "\n",
              "\n",
              "    <div id=\"df-4743c420-cffc-4893-9e30-8e23e79c8ee8\">\n",
              "      <button class=\"colab-df-quickchart\" onclick=\"quickchart('df-4743c420-cffc-4893-9e30-8e23e79c8ee8')\"\n",
              "                title=\"Suggest charts\"\n",
              "                style=\"display:none;\">\n",
              "\n",
              "<svg xmlns=\"http://www.w3.org/2000/svg\" height=\"24px\"viewBox=\"0 0 24 24\"\n",
              "     width=\"24px\">\n",
              "    <g>\n",
              "        <path d=\"M19 3H5c-1.1 0-2 .9-2 2v14c0 1.1.9 2 2 2h14c1.1 0 2-.9 2-2V5c0-1.1-.9-2-2-2zM9 17H7v-7h2v7zm4 0h-2V7h2v10zm4 0h-2v-4h2v4z\"/>\n",
              "    </g>\n",
              "</svg>\n",
              "      </button>\n",
              "\n",
              "<style>\n",
              "  .colab-df-quickchart {\n",
              "      --bg-color: #E8F0FE;\n",
              "      --fill-color: #1967D2;\n",
              "      --hover-bg-color: #E2EBFA;\n",
              "      --hover-fill-color: #174EA6;\n",
              "      --disabled-fill-color: #AAA;\n",
              "      --disabled-bg-color: #DDD;\n",
              "  }\n",
              "\n",
              "  [theme=dark] .colab-df-quickchart {\n",
              "      --bg-color: #3B4455;\n",
              "      --fill-color: #D2E3FC;\n",
              "      --hover-bg-color: #434B5C;\n",
              "      --hover-fill-color: #FFFFFF;\n",
              "      --disabled-bg-color: #3B4455;\n",
              "      --disabled-fill-color: #666;\n",
              "  }\n",
              "\n",
              "  .colab-df-quickchart {\n",
              "    background-color: var(--bg-color);\n",
              "    border: none;\n",
              "    border-radius: 50%;\n",
              "    cursor: pointer;\n",
              "    display: none;\n",
              "    fill: var(--fill-color);\n",
              "    height: 32px;\n",
              "    padding: 0;\n",
              "    width: 32px;\n",
              "  }\n",
              "\n",
              "  .colab-df-quickchart:hover {\n",
              "    background-color: var(--hover-bg-color);\n",
              "    box-shadow: 0 1px 2px rgba(60, 64, 67, 0.3), 0 1px 3px 1px rgba(60, 64, 67, 0.15);\n",
              "    fill: var(--button-hover-fill-color);\n",
              "  }\n",
              "\n",
              "  .colab-df-quickchart-complete:disabled,\n",
              "  .colab-df-quickchart-complete:disabled:hover {\n",
              "    background-color: var(--disabled-bg-color);\n",
              "    fill: var(--disabled-fill-color);\n",
              "    box-shadow: none;\n",
              "  }\n",
              "\n",
              "  .colab-df-spinner {\n",
              "    border: 2px solid var(--fill-color);\n",
              "    border-color: transparent;\n",
              "    border-bottom-color: var(--fill-color);\n",
              "    animation:\n",
              "      spin 1s steps(1) infinite;\n",
              "  }\n",
              "\n",
              "  @keyframes spin {\n",
              "    0% {\n",
              "      border-color: transparent;\n",
              "      border-bottom-color: var(--fill-color);\n",
              "      border-left-color: var(--fill-color);\n",
              "    }\n",
              "    20% {\n",
              "      border-color: transparent;\n",
              "      border-left-color: var(--fill-color);\n",
              "      border-top-color: var(--fill-color);\n",
              "    }\n",
              "    30% {\n",
              "      border-color: transparent;\n",
              "      border-left-color: var(--fill-color);\n",
              "      border-top-color: var(--fill-color);\n",
              "      border-right-color: var(--fill-color);\n",
              "    }\n",
              "    40% {\n",
              "      border-color: transparent;\n",
              "      border-right-color: var(--fill-color);\n",
              "      border-top-color: var(--fill-color);\n",
              "    }\n",
              "    60% {\n",
              "      border-color: transparent;\n",
              "      border-right-color: var(--fill-color);\n",
              "    }\n",
              "    80% {\n",
              "      border-color: transparent;\n",
              "      border-right-color: var(--fill-color);\n",
              "      border-bottom-color: var(--fill-color);\n",
              "    }\n",
              "    90% {\n",
              "      border-color: transparent;\n",
              "      border-bottom-color: var(--fill-color);\n",
              "    }\n",
              "  }\n",
              "</style>\n",
              "\n",
              "      <script>\n",
              "        async function quickchart(key) {\n",
              "          const quickchartButtonEl =\n",
              "            document.querySelector('#' + key + ' button');\n",
              "          quickchartButtonEl.disabled = true;  // To prevent multiple clicks.\n",
              "          quickchartButtonEl.classList.add('colab-df-spinner');\n",
              "          try {\n",
              "            const charts = await google.colab.kernel.invokeFunction(\n",
              "                'suggestCharts', [key], {});\n",
              "          } catch (error) {\n",
              "            console.error('Error during call to suggestCharts:', error);\n",
              "          }\n",
              "          quickchartButtonEl.classList.remove('colab-df-spinner');\n",
              "          quickchartButtonEl.classList.add('colab-df-quickchart-complete');\n",
              "        }\n",
              "        (() => {\n",
              "          let quickchartButtonEl =\n",
              "            document.querySelector('#df-4743c420-cffc-4893-9e30-8e23e79c8ee8 button');\n",
              "          quickchartButtonEl.style.display =\n",
              "            google.colab.kernel.accessAllowed ? 'block' : 'none';\n",
              "        })();\n",
              "      </script>\n",
              "    </div>\n",
              "\n",
              "  <div id=\"id_4031d2bf-824b-4032-9c7c-91ac9727ebb7\">\n",
              "    <style>\n",
              "      .colab-df-generate {\n",
              "        background-color: #E8F0FE;\n",
              "        border: none;\n",
              "        border-radius: 50%;\n",
              "        cursor: pointer;\n",
              "        display: none;\n",
              "        fill: #1967D2;\n",
              "        height: 32px;\n",
              "        padding: 0 0 0 0;\n",
              "        width: 32px;\n",
              "      }\n",
              "\n",
              "      .colab-df-generate:hover {\n",
              "        background-color: #E2EBFA;\n",
              "        box-shadow: 0px 1px 2px rgba(60, 64, 67, 0.3), 0px 1px 3px 1px rgba(60, 64, 67, 0.15);\n",
              "        fill: #174EA6;\n",
              "      }\n",
              "\n",
              "      [theme=dark] .colab-df-generate {\n",
              "        background-color: #3B4455;\n",
              "        fill: #D2E3FC;\n",
              "      }\n",
              "\n",
              "      [theme=dark] .colab-df-generate:hover {\n",
              "        background-color: #434B5C;\n",
              "        box-shadow: 0px 1px 3px 1px rgba(0, 0, 0, 0.15);\n",
              "        filter: drop-shadow(0px 1px 2px rgba(0, 0, 0, 0.3));\n",
              "        fill: #FFFFFF;\n",
              "      }\n",
              "    </style>\n",
              "    <button class=\"colab-df-generate\" onclick=\"generateWithVariable('results')\"\n",
              "            title=\"Generate code using this dataframe.\"\n",
              "            style=\"display:none;\">\n",
              "\n",
              "  <svg xmlns=\"http://www.w3.org/2000/svg\" height=\"24px\"viewBox=\"0 0 24 24\"\n",
              "       width=\"24px\">\n",
              "    <path d=\"M7,19H8.4L18.45,9,17,7.55,7,17.6ZM5,21V16.75L18.45,3.32a2,2,0,0,1,2.83,0l1.4,1.43a1.91,1.91,0,0,1,.58,1.4,1.91,1.91,0,0,1-.58,1.4L9.25,21ZM18.45,9,17,7.55Zm-12,3A5.31,5.31,0,0,0,4.9,8.1,5.31,5.31,0,0,0,1,6.5,5.31,5.31,0,0,0,4.9,4.9,5.31,5.31,0,0,0,6.5,1,5.31,5.31,0,0,0,8.1,4.9,5.31,5.31,0,0,0,12,6.5,5.46,5.46,0,0,0,6.5,12Z\"/>\n",
              "  </svg>\n",
              "    </button>\n",
              "    <script>\n",
              "      (() => {\n",
              "      const buttonEl =\n",
              "        document.querySelector('#id_4031d2bf-824b-4032-9c7c-91ac9727ebb7 button.colab-df-generate');\n",
              "      buttonEl.style.display =\n",
              "        google.colab.kernel.accessAllowed ? 'block' : 'none';\n",
              "\n",
              "      buttonEl.onclick = () => {\n",
              "        google.colab.notebook.generateWithVariable('results');\n",
              "      }\n",
              "      })();\n",
              "    </script>\n",
              "  </div>\n",
              "\n",
              "    </div>\n",
              "  </div>\n"
            ],
            "application/vnd.google.colaboratory.intrinsic+json": {
              "type": "dataframe",
              "variable_name": "results",
              "summary": "{\n  \"name\": \"results\",\n  \"rows\": 5,\n  \"fields\": [\n    {\n      \"column\": \"edgar_cik\",\n      \"properties\": {\n        \"dtype\": \"Int64\",\n        \"num_unique_values\": 1,\n        \"samples\": [\n          315189\n        ],\n        \"semantic_type\": \"\",\n        \"description\": \"\"\n      }\n    },\n    {\n      \"column\": \"edgar_year\",\n      \"properties\": {\n        \"dtype\": \"Int64\",\n        \"num_unique_values\": 1,\n        \"samples\": [\n          1993\n        ],\n        \"semantic_type\": \"\",\n        \"description\": \"\"\n      }\n    },\n    {\n      \"column\": \"overall_embedding_mathing_sec_id\",\n      \"properties\": {\n        \"dtype\": \"string\",\n        \"num_unique_values\": 5,\n        \"samples\": [\n          \"69ef263fb0ce90e8aedc9a456ed0c02d\"\n        ],\n        \"semantic_type\": \"\",\n        \"description\": \"\"\n      }\n    },\n    {\n      \"column\": \"overall_embedding_mathing_sec_title\",\n      \"properties\": {\n        \"dtype\": \"string\",\n        \"num_unique_values\": 5,\n        \"samples\": [\n          \"SEC Announces Charges Against Corporate Insiders for Violating Laws Requiring Prompt Reporting of Transactions and Holdings\"\n        ],\n        \"semantic_type\": \"\",\n        \"description\": \"\"\n      }\n    }\n  ]\n}"
            }
          },
          "metadata": {},
          "execution_count": 9
        }
      ]
    },
    {
      "cell_type": "code",
      "source": [
        "search_query = bpd.read_gbq(\"financial-fraud-detection-1.EDGAR.edgar_corpus_small_embeddings\")"
      ],
      "metadata": {
        "colab": {
          "base_uri": "https://localhost:8080/",
          "height": 34
        },
        "id": "3Ooef3L0c8_B",
        "executionInfo": {
          "status": "ok",
          "timestamp": 1758562011965,
          "user_tz": -330,
          "elapsed": 2624,
          "user": {
            "displayName": "",
            "userId": ""
          }
        },
        "outputId": "d0952c94-0fe3-4a4c-e288-99d405431e35"
      },
      "id": "3Ooef3L0c8_B",
      "execution_count": 12,
      "outputs": [
        {
          "output_type": "display_data",
          "data": {
            "text/plain": [
              "<IPython.core.display.HTML object>"
            ],
            "text/html": [
              "Query job 96cd6b80-835a-43bf-b79a-9e47a759d11e is DONE. 0 Bytes processed. <a target=\"_blank\" href=\"https://console.cloud.google.com/bigquery?project=financial-fraud-detection-1&j=bq:US:96cd6b80-835a-43bf-b79a-9e47a759d11e&page=queryresults\">Open Job</a>"
            ]
          },
          "metadata": {}
        }
      ]
    },
    {
      "cell_type": "code",
      "source": [
        "result_vector = bbq.vector_search(\n",
        "  base_table=\"financial-fraud-detection-1.sec_enforcement_actions.sec_enforcement_embeddings\",\n",
        "  column_to_search=\"ml_generate_embedding_result\",\n",
        "  query=search_query,\n",
        "  query_column_to_search=\"overall_embedding\",\n",
        "  top_k=5,\n",
        "  distance_type=\"cosine\")"
      ],
      "metadata": {
        "colab": {
          "base_uri": "https://localhost:8080/",
          "height": 106
        },
        "id": "eozOT5cfdnMP",
        "executionInfo": {
          "status": "ok",
          "timestamp": 1758562101931,
          "user_tz": -330,
          "elapsed": 8007,
          "user": {
            "displayName": "",
            "userId": ""
          }
        },
        "outputId": "df2046b6-daf3-4c55-d1fa-79394cf18797"
      },
      "id": "eozOT5cfdnMP",
      "execution_count": 16,
      "outputs": [
        {
          "output_type": "display_data",
          "data": {
            "text/plain": [
              "<IPython.core.display.HTML object>"
            ],
            "text/html": [
              "Query job d96b1898-67c8-4bd9-a3ce-e80ca463b6e7 is DONE. 22.2 MB processed. <a target=\"_blank\" href=\"https://console.cloud.google.com/bigquery?project=financial-fraud-detection-1&j=bq:US:d96b1898-67c8-4bd9-a3ce-e80ca463b6e7&page=queryresults\">Open Job</a>"
            ]
          },
          "metadata": {}
        },
        {
          "output_type": "stream",
          "name": "stderr",
          "text": [
            "/usr/local/lib/python3.11/dist-packages/bigframes/core/array_value.py:108: PreviewWarning: JSON column interpretation as a custom PyArrow extention in\n",
            "`db_dtypes` is a preview feature and subject to change.\n",
            "  warnings.warn(msg, bfe.PreviewWarning)\n"
          ]
        }
      ]
    },
    {
      "cell_type": "code",
      "source": [
        "result_vector.loc[result_vector['cik']==315189]['id']"
      ],
      "metadata": {
        "colab": {
          "base_uri": "https://localhost:8080/",
          "height": 156
        },
        "id": "PQEPjRCieBLs",
        "executionInfo": {
          "status": "ok",
          "timestamp": 1758562315113,
          "user_tz": -330,
          "elapsed": 9419,
          "user": {
            "displayName": "",
            "userId": ""
          }
        },
        "outputId": "c297218f-07d6-4c61-ded8-10307e77c081"
      },
      "id": "PQEPjRCieBLs",
      "execution_count": 20,
      "outputs": [
        {
          "output_type": "display_data",
          "data": {
            "text/plain": [
              "<IPython.core.display.HTML object>"
            ],
            "text/html": [
              "Query job 6f639b8c-6bc4-474b-b84c-8cffe334bc52 is DONE. 3.4 MB processed. <a target=\"_blank\" href=\"https://console.cloud.google.com/bigquery?project=financial-fraud-detection-1&j=bq:US:6f639b8c-6bc4-474b-b84c-8cffe334bc52&page=queryresults\">Open Job</a>"
            ]
          },
          "metadata": {}
        },
        {
          "output_type": "display_data",
          "data": {
            "text/plain": [
              "<IPython.core.display.HTML object>"
            ],
            "text/html": [
              "Query job 01192830-5a10-4ca6-afc5-f7ca1c03d2f8 is DONE. 1.4 kB processed. <a target=\"_blank\" href=\"https://console.cloud.google.com/bigquery?project=financial-fraud-detection-1&j=bq:US:01192830-5a10-4ca6-afc5-f7ca1c03d2f8&page=queryresults\">Open Job</a>"
            ]
          },
          "metadata": {}
        },
        {
          "output_type": "execute_result",
          "data": {
            "text/plain": [
              "1    c09ee5721683dbd0c691e961585f7f74\n",
              "1    652c355b8848e75fdf85651bb0e31432\n",
              "1    69ef263fb0ce90e8aedc9a456ed0c02d\n",
              "1    a145fee70d224f197ae414be27f09beb\n",
              "1    b7e65a1605c5eeefc1e9b98e00dc28e1\n",
              "Name: id, dtype: string"
            ]
          },
          "metadata": {},
          "execution_count": 20
        }
      ]
    },
    {
      "cell_type": "code",
      "source": [
        "result_vector_2 = bbq.vector_search(\n",
        "  base_table=\"financial-fraud-detection-1.sec_enforcement_actions.sec_enforcement_embeddings\",\n",
        "  column_to_search=\"ml_generate_embedding_result\",\n",
        "  query=search_query,\n",
        "  query_column_to_search=\"overall_embedding\",\n",
        "  top_k=5,\n",
        "  distance_type=\"cosine\",\n",
        "  use_brute_force=True).sort_values(\"id\")"
      ],
      "metadata": {
        "colab": {
          "base_uri": "https://localhost:8080/",
          "height": 106
        },
        "id": "LkBherz_a-T0",
        "executionInfo": {
          "status": "ok",
          "timestamp": 1758562423631,
          "user_tz": -330,
          "elapsed": 8272,
          "user": {
            "displayName": "",
            "userId": ""
          }
        },
        "outputId": "11f6ec4b-d2cd-48a7-8c50-582fcae95fa3"
      },
      "id": "LkBherz_a-T0",
      "execution_count": 23,
      "outputs": [
        {
          "output_type": "display_data",
          "data": {
            "text/plain": [
              "<IPython.core.display.HTML object>"
            ],
            "text/html": [
              "Query job 363a6615-fb9c-4cc8-a47e-d6784d300d48 is DONE. 22.2 MB processed. <a target=\"_blank\" href=\"https://console.cloud.google.com/bigquery?project=financial-fraud-detection-1&j=bq:US:363a6615-fb9c-4cc8-a47e-d6784d300d48&page=queryresults\">Open Job</a>"
            ]
          },
          "metadata": {}
        },
        {
          "output_type": "stream",
          "name": "stderr",
          "text": [
            "/usr/local/lib/python3.11/dist-packages/bigframes/core/array_value.py:108: PreviewWarning: JSON column interpretation as a custom PyArrow extention in\n",
            "`db_dtypes` is a preview feature and subject to change.\n",
            "  warnings.warn(msg, bfe.PreviewWarning)\n"
          ]
        }
      ]
    },
    {
      "cell_type": "code",
      "source": [
        "result_vector_2"
      ],
      "metadata": {
        "colab": {
          "base_uri": "https://localhost:8080/",
          "height": 1000
        },
        "collapsed": true,
        "id": "tGzAP2fCfiRF",
        "executionInfo": {
          "status": "ok",
          "timestamp": 1758562517755,
          "user_tz": -330,
          "elapsed": 17063,
          "user": {
            "displayName": "",
            "userId": ""
          }
        },
        "outputId": "8d2bcacb-5ec6-4ccd-aefa-b70e8c5476e7"
      },
      "id": "tGzAP2fCfiRF",
      "execution_count": 25,
      "outputs": [
        {
          "output_type": "display_data",
          "data": {
            "text/plain": [
              "<IPython.core.display.HTML object>"
            ],
            "text/html": [
              "Query job 8fd26387-cab7-4299-8071-74c1d1654b8c is DONE. 3.4 MB processed. <a target=\"_blank\" href=\"https://console.cloud.google.com/bigquery?project=financial-fraud-detection-1&j=bq:US:8fd26387-cab7-4299-8071-74c1d1654b8c&page=queryresults\">Open Job</a>"
            ]
          },
          "metadata": {}
        },
        {
          "output_type": "execute_result",
          "data": {
            "text/plain": [
              "           filename      cik  year  \\\n",
              "4     1800_1993.txt     1800  1993   \n",
              "0  1067983_2020.htm  1067983  2020   \n",
              "4     1800_1993.txt     1800  1993   \n",
              "1   315189_1993.txt   315189  1993   \n",
              "4     1800_1993.txt     1800  1993   \n",
              "2    50104_1993.txt    50104  1993   \n",
              "1   315189_1993.txt   315189  1993   \n",
              "0  1067983_2020.htm  1067983  2020   \n",
              "4     1800_1993.txt     1800  1993   \n",
              "3  1137091_2020.htm  1137091  2020   \n",
              "0  1067983_2020.htm  1067983  2020   \n",
              "0  1067983_2020.htm  1067983  2020   \n",
              "3  1137091_2020.htm  1137091  2020   \n",
              "3  1137091_2020.htm  1137091  2020   \n",
              "3  1137091_2020.htm  1137091  2020   \n",
              "1   315189_1993.txt   315189  1993   \n",
              "2    50104_1993.txt    50104  1993   \n",
              "2    50104_1993.txt    50104  1993   \n",
              "1   315189_1993.txt   315189  1993   \n",
              "0  1067983_2020.htm  1067983  2020   \n",
              "2    50104_1993.txt    50104  1993   \n",
              "1   315189_1993.txt   315189  1993   \n",
              "3  1137091_2020.htm  1137091  2020   \n",
              "4     1800_1993.txt     1800  1993   \n",
              "2    50104_1993.txt    50104  1993   \n",
              "\n",
              "                                  section_7embedding  \\\n",
              "4  [-0.01756296 -0.01733708 -0.01346771 -0.013578...   \n",
              "0  [-3.98591966e-04 -6.93545857e-03 -3.90583078e-...   \n",
              "4  [-0.01756296 -0.01733708 -0.01346771 -0.013578...   \n",
              "1  [-1.35571547e-02 -1.56442206e-02 -2.92028040e-...   \n",
              "4  [-0.01756296 -0.01733708 -0.01346771 -0.013578...   \n",
              "2  [-3.47243063e-02  1.94188505e-02 -8.92389864e-...   \n",
              "1  [-1.35571547e-02 -1.56442206e-02 -2.92028040e-...   \n",
              "0  [-3.98591966e-04 -6.93545857e-03 -3.90583078e-...   \n",
              "4  [-0.01756296 -0.01733708 -0.01346771 -0.013578...   \n",
              "3  [-2.10153785e-02  2.59747695e-03 -3.92209039e-...   \n",
              "0  [-3.98591966e-04 -6.93545857e-03 -3.90583078e-...   \n",
              "0  [-3.98591966e-04 -6.93545857e-03 -3.90583078e-...   \n",
              "3  [-2.10153785e-02  2.59747695e-03 -3.92209039e-...   \n",
              "3  [-2.10153785e-02  2.59747695e-03 -3.92209039e-...   \n",
              "3  [-2.10153785e-02  2.59747695e-03 -3.92209039e-...   \n",
              "1  [-1.35571547e-02 -1.56442206e-02 -2.92028040e-...   \n",
              "2  [-3.47243063e-02  1.94188505e-02 -8.92389864e-...   \n",
              "2  [-3.47243063e-02  1.94188505e-02 -8.92389864e-...   \n",
              "1  [-1.35571547e-02 -1.56442206e-02 -2.92028040e-...   \n",
              "0  [-3.98591966e-04 -6.93545857e-03 -3.90583078e-...   \n",
              "2  [-3.47243063e-02  1.94188505e-02 -8.92389864e-...   \n",
              "1  [-1.35571547e-02 -1.56442206e-02 -2.92028040e-...   \n",
              "3  [-2.10153785e-02  2.59747695e-03 -3.92209039e-...   \n",
              "4  [-0.01756296 -0.01733708 -0.01346771 -0.013578...   \n",
              "2  [-3.47243063e-02  1.94188505e-02 -8.92389864e-...   \n",
              "\n",
              "                                  section_9embedding  \\\n",
              "4  [-1.56782791e-02 -6.42858818e-03 -3.48928086e-...   \n",
              "0  [-3.78713012e-02 -2.25618221e-02 -6.61137030e-...   \n",
              "4  [-1.56782791e-02 -6.42858818e-03 -3.48928086e-...   \n",
              "1  [-1.83812398e-02  1.81908242e-03 -2.49630474e-...   \n",
              "4  [-1.56782791e-02 -6.42858818e-03 -3.48928086e-...   \n",
              "2  [-1.55314188e-02 -2.45964527e-03 -3.88711654e-...   \n",
              "1  [-1.83812398e-02  1.81908242e-03 -2.49630474e-...   \n",
              "0  [-3.78713012e-02 -2.25618221e-02 -6.61137030e-...   \n",
              "4  [-1.56782791e-02 -6.42858818e-03 -3.48928086e-...   \n",
              "3  [-4.25587595e-02 -2.09636036e-02 -6.31605536e-...   \n",
              "0  [-3.78713012e-02 -2.25618221e-02 -6.61137030e-...   \n",
              "0  [-3.78713012e-02 -2.25618221e-02 -6.61137030e-...   \n",
              "3  [-4.25587595e-02 -2.09636036e-02 -6.31605536e-...   \n",
              "3  [-4.25587595e-02 -2.09636036e-02 -6.31605536e-...   \n",
              "3  [-4.25587595e-02 -2.09636036e-02 -6.31605536e-...   \n",
              "1  [-1.83812398e-02  1.81908242e-03 -2.49630474e-...   \n",
              "2  [-1.55314188e-02 -2.45964527e-03 -3.88711654e-...   \n",
              "2  [-1.55314188e-02 -2.45964527e-03 -3.88711654e-...   \n",
              "1  [-1.83812398e-02  1.81908242e-03 -2.49630474e-...   \n",
              "0  [-3.78713012e-02 -2.25618221e-02 -6.61137030e-...   \n",
              "2  [-1.55314188e-02 -2.45964527e-03 -3.88711654e-...   \n",
              "1  [-1.83812398e-02  1.81908242e-03 -2.49630474e-...   \n",
              "3  [-4.25587595e-02 -2.09636036e-02 -6.31605536e-...   \n",
              "4  [-1.56782791e-02 -6.42858818e-03 -3.48928086e-...   \n",
              "2  [-1.55314188e-02 -2.45964527e-03 -3.88711654e-...   \n",
              "\n",
              "                                 section_12embedding  \\\n",
              "4  [-4.16508093e-02 -2.62772869e-02 -3.11164446e-...   \n",
              "0  [0. 0. 0. 0. 0. 0. 0. 0. 0. 0. 0. 0. 0. 0. 0. ...   \n",
              "4  [-4.16508093e-02 -2.62772869e-02 -3.11164446e-...   \n",
              "1  [-3.85654159e-02 -1.78559888e-02 -4.98842299e-...   \n",
              "4  [-4.16508093e-02 -2.62772869e-02 -3.11164446e-...   \n",
              "2  [-3.79250757e-02 -4.47099060e-02 -3.67634818e-...   \n",
              "1  [-3.85654159e-02 -1.78559888e-02 -4.98842299e-...   \n",
              "0  [0. 0. 0. 0. 0. 0. 0. 0. 0. 0. 0. 0. 0. 0. 0. ...   \n",
              "4  [-4.16508093e-02 -2.62772869e-02 -3.11164446e-...   \n",
              "3  [-6.73391223e-02 -1.49382157e-02 -3.27744223e-...   \n",
              "0  [0. 0. 0. 0. 0. 0. 0. 0. 0. 0. 0. 0. 0. 0. 0. ...   \n",
              "0  [0. 0. 0. 0. 0. 0. 0. 0. 0. 0. 0. 0. 0. 0. 0. ...   \n",
              "3  [-6.73391223e-02 -1.49382157e-02 -3.27744223e-...   \n",
              "3  [-6.73391223e-02 -1.49382157e-02 -3.27744223e-...   \n",
              "3  [-6.73391223e-02 -1.49382157e-02 -3.27744223e-...   \n",
              "1  [-3.85654159e-02 -1.78559888e-02 -4.98842299e-...   \n",
              "2  [-3.79250757e-02 -4.47099060e-02 -3.67634818e-...   \n",
              "2  [-3.79250757e-02 -4.47099060e-02 -3.67634818e-...   \n",
              "1  [-3.85654159e-02 -1.78559888e-02 -4.98842299e-...   \n",
              "0  [0. 0. 0. 0. 0. 0. 0. 0. 0. 0. 0. 0. 0. 0. 0. ...   \n",
              "2  [-3.79250757e-02 -4.47099060e-02 -3.67634818e-...   \n",
              "1  [-3.85654159e-02 -1.78559888e-02 -4.98842299e-...   \n",
              "3  [-6.73391223e-02 -1.49382157e-02 -3.27744223e-...   \n",
              "4  [-4.16508093e-02 -2.62772869e-02 -3.11164446e-...   \n",
              "2  [-3.79250757e-02 -4.47099060e-02 -3.67634818e-...   \n",
              "\n",
              "                                 section_10embedding  \\\n",
              "4  [-6.22933321e-02 -4.06846032e-02 -2.88069844e-...   \n",
              "0  [0. 0. 0. 0. 0. 0. 0. 0. 0. 0. 0. 0. 0. 0. 0. ...   \n",
              "4  [-6.22933321e-02 -4.06846032e-02 -2.88069844e-...   \n",
              "1  [-5.09253442e-02 -3.28539982e-02 -1.21700037e-...   \n",
              "4  [-6.22933321e-02 -4.06846032e-02 -2.88069844e-...   \n",
              "2  [-4.57181484e-02 -5.33069260e-02 -1.22106224e-...   \n",
              "1  [-5.09253442e-02 -3.28539982e-02 -1.21700037e-...   \n",
              "0  [0. 0. 0. 0. 0. 0. 0. 0. 0. 0. 0. 0. 0. 0. 0. ...   \n",
              "4  [-6.22933321e-02 -4.06846032e-02 -2.88069844e-...   \n",
              "3  [-3.24487165e-02 -1.60200917e-03 -5.89513499e-...   \n",
              "0  [0. 0. 0. 0. 0. 0. 0. 0. 0. 0. 0. 0. 0. 0. 0. ...   \n",
              "0  [0. 0. 0. 0. 0. 0. 0. 0. 0. 0. 0. 0. 0. 0. 0. ...   \n",
              "3  [-3.24487165e-02 -1.60200917e-03 -5.89513499e-...   \n",
              "3  [-3.24487165e-02 -1.60200917e-03 -5.89513499e-...   \n",
              "3  [-3.24487165e-02 -1.60200917e-03 -5.89513499e-...   \n",
              "1  [-5.09253442e-02 -3.28539982e-02 -1.21700037e-...   \n",
              "2  [-4.57181484e-02 -5.33069260e-02 -1.22106224e-...   \n",
              "2  [-4.57181484e-02 -5.33069260e-02 -1.22106224e-...   \n",
              "1  [-5.09253442e-02 -3.28539982e-02 -1.21700037e-...   \n",
              "0  [0. 0. 0. 0. 0. 0. 0. 0. 0. 0. 0. 0. 0. 0. 0. ...   \n",
              "2  [-4.57181484e-02 -5.33069260e-02 -1.22106224e-...   \n",
              "1  [-5.09253442e-02 -3.28539982e-02 -1.21700037e-...   \n",
              "3  [-3.24487165e-02 -1.60200917e-03 -5.89513499e-...   \n",
              "4  [-6.22933321e-02 -4.06846032e-02 -2.88069844e-...   \n",
              "2  [-4.57181484e-02 -5.33069260e-02 -1.22106224e-...   \n",
              "\n",
              "                                  section_4embedding  \\\n",
              "4  [-0.01235421 -0.05187324 -0.01839188  0.048709...   \n",
              "0  [-0.0344297  -0.01074299 -0.04601453  0.000932...   \n",
              "4  [-0.01235421 -0.05187324 -0.01839188  0.048709...   \n",
              "1  [-4.47579399e-02 -1.16266981e-02 -4.29858454e-...   \n",
              "4  [-0.01235421 -0.05187324 -0.01839188  0.048709...   \n",
              "2  [-0.05072239 -0.01314292 -0.03440231 -0.023048...   \n",
              "1  [-4.47579399e-02 -1.16266981e-02 -4.29858454e-...   \n",
              "0  [-0.0344297  -0.01074299 -0.04601453  0.000932...   \n",
              "4  [-0.01235421 -0.05187324 -0.01839188  0.048709...   \n",
              "3  [-3.31896767e-02  1.45743862e-02 -3.72849405e-...   \n",
              "0  [-0.0344297  -0.01074299 -0.04601453  0.000932...   \n",
              "0  [-0.0344297  -0.01074299 -0.04601453  0.000932...   \n",
              "3  [-3.31896767e-02  1.45743862e-02 -3.72849405e-...   \n",
              "3  [-3.31896767e-02  1.45743862e-02 -3.72849405e-...   \n",
              "3  [-3.31896767e-02  1.45743862e-02 -3.72849405e-...   \n",
              "1  [-4.47579399e-02 -1.16266981e-02 -4.29858454e-...   \n",
              "2  [-0.05072239 -0.01314292 -0.03440231 -0.023048...   \n",
              "2  [-0.05072239 -0.01314292 -0.03440231 -0.023048...   \n",
              "1  [-4.47579399e-02 -1.16266981e-02 -4.29858454e-...   \n",
              "0  [-0.0344297  -0.01074299 -0.04601453  0.000932...   \n",
              "2  [-0.05072239 -0.01314292 -0.03440231 -0.023048...   \n",
              "1  [-4.47579399e-02 -1.16266981e-02 -4.29858454e-...   \n",
              "3  [-3.31896767e-02  1.45743862e-02 -3.72849405e-...   \n",
              "4  [-0.01235421 -0.05187324 -0.01839188  0.048709...   \n",
              "2  [-0.05072239 -0.01314292 -0.03440231 -0.023048...   \n",
              "\n",
              "                                  section_8embedding  \\\n",
              "4  [-0.01758242 -0.04470409 -0.02377128 -0.002298...   \n",
              "0  [-1.76449773e-02 -9.34779196e-03 -3.27466425e-...   \n",
              "4  [-0.01758242 -0.04470409 -0.02377128 -0.002298...   \n",
              "1  [-9.26065768e-05 -5.11534102e-02 -4.29588519e-...   \n",
              "4  [-0.01758242 -0.04470409 -0.02377128 -0.002298...   \n",
              "2  [-3.04003223e-02  4.79081871e-03 -5.41995295e-...   \n",
              "1  [-9.26065768e-05 -5.11534102e-02 -4.29588519e-...   \n",
              "0  [-1.76449773e-02 -9.34779196e-03 -3.27466425e-...   \n",
              "4  [-0.01758242 -0.04470409 -0.02377128 -0.002298...   \n",
              "3  [-1.28673098e-02 -8.76872710e-03 -2.86414517e-...   \n",
              "0  [-1.76449773e-02 -9.34779196e-03 -3.27466425e-...   \n",
              "0  [-1.76449773e-02 -9.34779196e-03 -3.27466425e-...   \n",
              "3  [-1.28673098e-02 -8.76872710e-03 -2.86414517e-...   \n",
              "3  [-1.28673098e-02 -8.76872710e-03 -2.86414517e-...   \n",
              "3  [-1.28673098e-02 -8.76872710e-03 -2.86414517e-...   \n",
              "1  [-9.26065768e-05 -5.11534102e-02 -4.29588519e-...   \n",
              "2  [-3.04003223e-02  4.79081871e-03 -5.41995295e-...   \n",
              "2  [-3.04003223e-02  4.79081871e-03 -5.41995295e-...   \n",
              "1  [-9.26065768e-05 -5.11534102e-02 -4.29588519e-...   \n",
              "0  [-1.76449773e-02 -9.34779196e-03 -3.27466425e-...   \n",
              "2  [-3.04003223e-02  4.79081871e-03 -5.41995295e-...   \n",
              "1  [-9.26065768e-05 -5.11534102e-02 -4.29588519e-...   \n",
              "3  [-1.28673098e-02 -8.76872710e-03 -2.86414517e-...   \n",
              "4  [-0.01758242 -0.04470409 -0.02377128 -0.002298...   \n",
              "2  [-3.04003223e-02  4.79081871e-03 -5.41995295e-...   \n",
              "\n",
              "                                 section_14embedding  ...  \\\n",
              "4  [ 3.80702619e-03 -6.57393262e-02 -4.26834710e-...  ...   \n",
              "0  [0. 0. 0. 0. 0. 0. 0. 0. 0. 0. 0. 0. 0. 0. 0. ...  ...   \n",
              "4  [ 3.80702619e-03 -6.57393262e-02 -4.26834710e-...  ...   \n",
              "1  [ 2.28945124e-02  5.21549085e-03 -1.74354800e-...  ...   \n",
              "4  [ 3.80702619e-03 -6.57393262e-02 -4.26834710e-...  ...   \n",
              "2  [ 3.38502717e-03 -5.04764915e-03 -5.59636764e-...  ...   \n",
              "1  [ 2.28945124e-02  5.21549085e-03 -1.74354800e-...  ...   \n",
              "0  [0. 0. 0. 0. 0. 0. 0. 0. 0. 0. 0. 0. 0. 0. 0. ...  ...   \n",
              "4  [ 3.80702619e-03 -6.57393262e-02 -4.26834710e-...  ...   \n",
              "3  [-7.22742230e-02 -2.71525867e-02 -2.11981349e-...  ...   \n",
              "0  [0. 0. 0. 0. 0. 0. 0. 0. 0. 0. 0. 0. 0. 0. 0. ...  ...   \n",
              "0  [0. 0. 0. 0. 0. 0. 0. 0. 0. 0. 0. 0. 0. 0. 0. ...  ...   \n",
              "3  [-7.22742230e-02 -2.71525867e-02 -2.11981349e-...  ...   \n",
              "3  [-7.22742230e-02 -2.71525867e-02 -2.11981349e-...  ...   \n",
              "3  [-7.22742230e-02 -2.71525867e-02 -2.11981349e-...  ...   \n",
              "1  [ 2.28945124e-02  5.21549085e-03 -1.74354800e-...  ...   \n",
              "2  [ 3.38502717e-03 -5.04764915e-03 -5.59636764e-...  ...   \n",
              "2  [ 3.38502717e-03 -5.04764915e-03 -5.59636764e-...  ...   \n",
              "1  [ 2.28945124e-02  5.21549085e-03 -1.74354800e-...  ...   \n",
              "0  [0. 0. 0. 0. 0. 0. 0. 0. 0. 0. 0. 0. 0. 0. 0. ...  ...   \n",
              "2  [ 3.38502717e-03 -5.04764915e-03 -5.59636764e-...  ...   \n",
              "1  [ 2.28945124e-02  5.21549085e-03 -1.74354800e-...  ...   \n",
              "3  [-7.22742230e-02 -2.71525867e-02 -2.11981349e-...  ...   \n",
              "4  [ 3.80702619e-03 -6.57393262e-02 -4.26834710e-...  ...   \n",
              "2  [ 3.38502717e-03 -5.04764915e-03 -5.59636764e-...  ...   \n",
              "\n",
              "                                 section_9Aembedding  \\\n",
              "4  [0. 0. 0. 0. 0. 0. 0. 0. 0. 0. 0. 0. 0. 0. 0. ...   \n",
              "0  [ 1.63675216e-03 -2.70394441e-02 -3.73632014e-...   \n",
              "4  [0. 0. 0. 0. 0. 0. 0. 0. 0. 0. 0. 0. 0. 0. 0. ...   \n",
              "1  [0. 0. 0. 0. 0. 0. 0. 0. 0. 0. 0. 0. 0. 0. 0. ...   \n",
              "4  [0. 0. 0. 0. 0. 0. 0. 0. 0. 0. 0. 0. 0. 0. 0. ...   \n",
              "2  [0. 0. 0. 0. 0. 0. 0. 0. 0. 0. 0. 0. 0. 0. 0. ...   \n",
              "1  [0. 0. 0. 0. 0. 0. 0. 0. 0. 0. 0. 0. 0. 0. 0. ...   \n",
              "0  [ 1.63675216e-03 -2.70394441e-02 -3.73632014e-...   \n",
              "4  [0. 0. 0. 0. 0. 0. 0. 0. 0. 0. 0. 0. 0. 0. 0. ...   \n",
              "3  [-3.16515304e-02 -1.75493170e-02 -9.58232504e-...   \n",
              "0  [ 1.63675216e-03 -2.70394441e-02 -3.73632014e-...   \n",
              "0  [ 1.63675216e-03 -2.70394441e-02 -3.73632014e-...   \n",
              "3  [-3.16515304e-02 -1.75493170e-02 -9.58232504e-...   \n",
              "3  [-3.16515304e-02 -1.75493170e-02 -9.58232504e-...   \n",
              "3  [-3.16515304e-02 -1.75493170e-02 -9.58232504e-...   \n",
              "1  [0. 0. 0. 0. 0. 0. 0. 0. 0. 0. 0. 0. 0. 0. 0. ...   \n",
              "2  [0. 0. 0. 0. 0. 0. 0. 0. 0. 0. 0. 0. 0. 0. 0. ...   \n",
              "2  [0. 0. 0. 0. 0. 0. 0. 0. 0. 0. 0. 0. 0. 0. 0. ...   \n",
              "1  [0. 0. 0. 0. 0. 0. 0. 0. 0. 0. 0. 0. 0. 0. 0. ...   \n",
              "0  [ 1.63675216e-03 -2.70394441e-02 -3.73632014e-...   \n",
              "2  [0. 0. 0. 0. 0. 0. 0. 0. 0. 0. 0. 0. 0. 0. 0. ...   \n",
              "1  [0. 0. 0. 0. 0. 0. 0. 0. 0. 0. 0. 0. 0. 0. 0. ...   \n",
              "3  [-3.16515304e-02 -1.75493170e-02 -9.58232504e-...   \n",
              "4  [0. 0. 0. 0. 0. 0. 0. 0. 0. 0. 0. 0. 0. 0. 0. ...   \n",
              "2  [0. 0. 0. 0. 0. 0. 0. 0. 0. 0. 0. 0. 0. 0. 0. ...   \n",
              "\n",
              "                                  section_1embedding  \\\n",
              "4  [-8.46420446e-03 -1.74391275e-02 -3.04021587e-...   \n",
              "0  [ 7.57767455e-03 -5.32740511e-03 -1.38319638e-...   \n",
              "4  [-8.46420446e-03 -1.74391275e-02 -3.04021587e-...   \n",
              "1  [ 2.29252045e-02  2.62432406e-03 -4.36920724e-...   \n",
              "4  [-8.46420446e-03 -1.74391275e-02 -3.04021587e-...   \n",
              "2  [-0.03292404  0.00087296 -0.04182    -0.004596...   \n",
              "1  [ 2.29252045e-02  2.62432406e-03 -4.36920724e-...   \n",
              "0  [ 7.57767455e-03 -5.32740511e-03 -1.38319638e-...   \n",
              "4  [-8.46420446e-03 -1.74391275e-02 -3.04021587e-...   \n",
              "3  [-5.22894418e-03 -6.85504824e-03 -1.68921131e-...   \n",
              "0  [ 7.57767455e-03 -5.32740511e-03 -1.38319638e-...   \n",
              "0  [ 7.57767455e-03 -5.32740511e-03 -1.38319638e-...   \n",
              "3  [-5.22894418e-03 -6.85504824e-03 -1.68921131e-...   \n",
              "3  [-5.22894418e-03 -6.85504824e-03 -1.68921131e-...   \n",
              "3  [-5.22894418e-03 -6.85504824e-03 -1.68921131e-...   \n",
              "1  [ 2.29252045e-02  2.62432406e-03 -4.36920724e-...   \n",
              "2  [-0.03292404  0.00087296 -0.04182    -0.004596...   \n",
              "2  [-0.03292404  0.00087296 -0.04182    -0.004596...   \n",
              "1  [ 2.29252045e-02  2.62432406e-03 -4.36920724e-...   \n",
              "0  [ 7.57767455e-03 -5.32740511e-03 -1.38319638e-...   \n",
              "2  [-0.03292404  0.00087296 -0.04182    -0.004596...   \n",
              "1  [ 2.29252045e-02  2.62432406e-03 -4.36920724e-...   \n",
              "3  [-5.22894418e-03 -6.85504824e-03 -1.68921131e-...   \n",
              "4  [-8.46420446e-03 -1.74391275e-02 -3.04021587e-...   \n",
              "2  [-0.03292404  0.00087296 -0.04182    -0.004596...   \n",
              "\n",
              "                                   overall_embedding  \\\n",
              "4  [-2.02630794e-02 -2.28220087e-02 -2.03435779e-...   \n",
              "0  [-1.39428654e-02 -7.94268673e-03 -2.75115496e-...   \n",
              "4  [-2.02630794e-02 -2.28220087e-02 -2.03435779e-...   \n",
              "1  [-1.49562186e-02 -1.20997473e-02 -1.77254046e-...   \n",
              "4  [-2.02630794e-02 -2.28220087e-02 -2.03435779e-...   \n",
              "2  [-0.02347898 -0.01731962 -0.02790547  0.000921...   \n",
              "1  [-1.49562186e-02 -1.20997473e-02 -1.77254046e-...   \n",
              "0  [-1.39428654e-02 -7.94268673e-03 -2.75115496e-...   \n",
              "4  [-2.02630794e-02 -2.28220087e-02 -2.03435779e-...   \n",
              "3  [-3.72444206e-02 -1.18594729e-02 -2.65914233e-...   \n",
              "0  [-1.39428654e-02 -7.94268673e-03 -2.75115496e-...   \n",
              "0  [-1.39428654e-02 -7.94268673e-03 -2.75115496e-...   \n",
              "3  [-3.72444206e-02 -1.18594729e-02 -2.65914233e-...   \n",
              "3  [-3.72444206e-02 -1.18594729e-02 -2.65914233e-...   \n",
              "3  [-3.72444206e-02 -1.18594729e-02 -2.65914233e-...   \n",
              "1  [-1.49562186e-02 -1.20997473e-02 -1.77254046e-...   \n",
              "2  [-0.02347898 -0.01731962 -0.02790547  0.000921...   \n",
              "2  [-0.02347898 -0.01731962 -0.02790547  0.000921...   \n",
              "1  [-1.49562186e-02 -1.20997473e-02 -1.77254046e-...   \n",
              "0  [-1.39428654e-02 -7.94268673e-03 -2.75115496e-...   \n",
              "2  [-0.02347898 -0.01731962 -0.02790547  0.000921...   \n",
              "1  [-1.49562186e-02 -1.20997473e-02 -1.77254046e-...   \n",
              "3  [-3.72444206e-02 -1.18594729e-02 -2.65914233e-...   \n",
              "4  [-2.02630794e-02 -2.28220087e-02 -2.03435779e-...   \n",
              "2  [-0.02347898 -0.01731962 -0.02790547  0.000921...   \n",
              "\n",
              "                        ml_generate_embedding_result  \\\n",
              "4  [-2.47707199e-02 -2.66260467e-02  1.42063461e-...   \n",
              "0  [-3.66573147e-02 -1.60664450e-02  1.47968018e-...   \n",
              "4  [-0.03424182 -0.02437511 -0.02993707 -0.051027...   \n",
              "1  [-9.61120520e-03 -2.12113801e-02 -1.15588652e-...   \n",
              "4  [-9.61120520e-03 -2.12113801e-02 -1.15588652e-...   \n",
              "2  [-4.25696969e-02 -6.16127253e-02 -6.23959641e-...   \n",
              "1  [-4.25696969e-02 -6.16127253e-02 -6.23959641e-...   \n",
              "0  [-4.25696969e-02 -6.16127253e-02 -6.23959641e-...   \n",
              "4  [-4.25696969e-02 -6.16127253e-02 -6.23959641e-...   \n",
              "3  [-4.25696969e-02 -6.16127253e-02 -6.23959641e-...   \n",
              "0  [-1.16345128e-02 -4.30568047e-02 -1.48458006e-...   \n",
              "0  [-4.66634147e-02 -1.80950365e-03 -1.84153859e-...   \n",
              "3  [-4.66634147e-02 -1.80950365e-03 -1.84153859e-...   \n",
              "3  [-4.30587344e-02 -6.94525093e-02 -3.08916345e-...   \n",
              "3  [-4.65844162e-02 -2.42230538e-02 -3.48388292e-...   \n",
              "1  [-4.65844162e-02 -2.42230538e-02 -3.48388292e-...   \n",
              "2  [-4.47499603e-02 -1.12841865e-02  2.69178487e-...   \n",
              "2  [-3.37684043e-02 -1.83663459e-03 -3.69063504e-...   \n",
              "1  [-1.20183444e-02 -2.99044251e-02 -1.47989215e-...   \n",
              "0  [-3.26581709e-02 -2.29606368e-02 -2.05970611e-...   \n",
              "2  [-6.55993745e-02 -1.92916710e-02 -2.37861592e-...   \n",
              "1  [-6.55993745e-02 -1.92916710e-02 -2.37861592e-...   \n",
              "3  [-0.05589295 -0.01434082  0.00880999 -0.026128...   \n",
              "4  [-1.72231961e-02 -1.61067247e-02  1.44476667e-...   \n",
              "2  [-3.10617257e-02  4.66713216e-03 -5.74894771e-...   \n",
              "\n",
              "         ml_generate_embedding_statistics ml_generate_embedding_status  \\\n",
              "4   {\"token_count\":426,\"truncated\":false}                                \n",
              "0  {\"token_count\":1539,\"truncated\":false}                                \n",
              "4   {\"token_count\":500,\"truncated\":false}                                \n",
              "1   {\"token_count\":779,\"truncated\":false}                                \n",
              "4   {\"token_count\":779,\"truncated\":false}                                \n",
              "2  {\"token_count\":1269,\"truncated\":false}                                \n",
              "1  {\"token_count\":1269,\"truncated\":false}                                \n",
              "0  {\"token_count\":1269,\"truncated\":false}                                \n",
              "4  {\"token_count\":1269,\"truncated\":false}                                \n",
              "3  {\"token_count\":1269,\"truncated\":false}                                \n",
              "0  {\"token_count\":1393,\"truncated\":false}                                \n",
              "0   {\"token_count\":441,\"truncated\":false}                                \n",
              "3   {\"token_count\":441,\"truncated\":false}                                \n",
              "3   {\"token_count\":551,\"truncated\":false}                                \n",
              "3   {\"token_count\":509,\"truncated\":false}                                \n",
              "1   {\"token_count\":509,\"truncated\":false}                                \n",
              "2   {\"token_count\":402,\"truncated\":false}                                \n",
              "2   {\"token_count\":393,\"truncated\":false}                                \n",
              "1   {\"token_count\":625,\"truncated\":false}                                \n",
              "0  {\"token_count\":1117,\"truncated\":false}                                \n",
              "2   {\"token_count\":364,\"truncated\":false}                                \n",
              "1   {\"token_count\":364,\"truncated\":false}                                \n",
              "3   {\"token_count\":776,\"truncated\":false}                                \n",
              "4   {\"token_count\":478,\"truncated\":false}                                \n",
              "2   {\"token_count\":480,\"truncated\":false}                                \n",
              "\n",
              "                                 id  \\\n",
              "4  5220a1d4d9c02d813c8536464a5be416   \n",
              "0  55f78bf10042846ac936f1564295e733   \n",
              "4  59c38537b26fd1c6ea110bd3b190e588   \n",
              "1  652c355b8848e75fdf85651bb0e31432   \n",
              "4  652c355b8848e75fdf85651bb0e31432   \n",
              "2  69ef263fb0ce90e8aedc9a456ed0c02d   \n",
              "1  69ef263fb0ce90e8aedc9a456ed0c02d   \n",
              "0  69ef263fb0ce90e8aedc9a456ed0c02d   \n",
              "4  69ef263fb0ce90e8aedc9a456ed0c02d   \n",
              "3  69ef263fb0ce90e8aedc9a456ed0c02d   \n",
              "0  7af28a48e0a7aa4f22df07c1c42283bd   \n",
              "0  7fe4e612554df988fb6d4c4bf949b5bd   \n",
              "3  7fe4e612554df988fb6d4c4bf949b5bd   \n",
              "3  80210595c2e576cad4ef1b38b1c76f42   \n",
              "3  a145fee70d224f197ae414be27f09beb   \n",
              "1  a145fee70d224f197ae414be27f09beb   \n",
              "2  a46b5f4282e6f39e9ca97085e537f151   \n",
              "2  a6ca2acd11304aa77cb43b8c456fb536   \n",
              "1  b7e65a1605c5eeefc1e9b98e00dc28e1   \n",
              "0  bffd0ae5fdfb5d316a2dc778d415b446   \n",
              "2  c09ee5721683dbd0c691e961585f7f74   \n",
              "1  c09ee5721683dbd0c691e961585f7f74   \n",
              "3  d7a2d99d60d8f1c5678866b973670c23   \n",
              "4  d7fe2db6d46f007d12d2e0d2a7b998ca   \n",
              "2  e22b3f32ce907a699c63408e1b3a1205   \n",
              "\n",
              "                                               title  \\\n",
              "4  Pharmaceutical Company and Former Executives C...   \n",
              "0  Twenty-Six Firms to Pay More Than $390 Million...   \n",
              "4  SEC Charges General Electric and Two Subsidiar...   \n",
              "1  SEC Charges Delphi Corporation and Nine Indivi...   \n",
              "4  SEC Charges Delphi Corporation and Nine Indivi...   \n",
              "2  SEC Announces Charges Against Corporate Inside...   \n",
              "1  SEC Announces Charges Against Corporate Inside...   \n",
              "0  SEC Announces Charges Against Corporate Inside...   \n",
              "4  SEC Announces Charges Against Corporate Inside...   \n",
              "3  SEC Announces Charges Against Corporate Inside...   \n",
              "0  SEC Charges 69 Audit Firms and Partners for Is...   \n",
              "0  SEC Charges Companies, Former Executives as Pa...   \n",
              "3  SEC Charges Companies, Former Executives as Pa...   \n",
              "3  SEC Charges New Jersey Software Company and Se...   \n",
              "3  SEC Charges Four Public Companies With Longsta...   \n",
              "1  SEC Charges Four Public Companies With Longsta...   \n",
              "2  SEC Files Fraud Charges Against Nicor's Former...   \n",
              "2  SEC Charges Oilfield Services Company and Form...   \n",
              "1  SEC Charges Diebold and Former Executives With...   \n",
              "0  SEC Levies More Than $3.8 Million in Penalties...   \n",
              "2  SEC Charges ConAgra Foods, Inc. in Financial F...   \n",
              "1  SEC Charges ConAgra Foods, Inc. in Financial F...   \n",
              "3  SEC Charges Corporate Insiders for Failing to ...   \n",
              "4  SEC Charges Health Care Co. and Two Former Emp...   \n",
              "2  El Paso Corp., Subsidiaries, and Former Employ...   \n",
              "\n",
              "                                             content  distance  \n",
              "4  Title: Pharmaceutical Company and Former Execu...  0.306597  \n",
              "0  Title: Twenty-Six Firms to Pay More Than $390 ...  0.281621  \n",
              "4  Title: SEC Charges General Electric and Two Su...  0.317306  \n",
              "1  Title: SEC Charges Delphi Corporation and Nine...  0.310323  \n",
              "4  Title: SEC Charges Delphi Corporation and Nine...  0.303072  \n",
              "2  Title: SEC Announces Charges Against Corporate...  0.303516  \n",
              "1  Title: SEC Announces Charges Against Corporate...  0.315145  \n",
              "0  Title: SEC Announces Charges Against Corporate...  0.255627  \n",
              "4  Title: SEC Announces Charges Against Corporate...  0.309091  \n",
              "3  Title: SEC Announces Charges Against Corporate...  0.287852  \n",
              "0  Title: SEC Charges 69 Audit Firms and Partners...  0.280855  \n",
              "0  Title: SEC Charges Companies, Former Executive...  0.276745  \n",
              "3  Title: SEC Charges Companies, Former Executive...  0.294016  \n",
              "3  Title: SEC Charges New Jersey Software Company...   0.29471  \n",
              "3  Title: SEC Charges Four Public Companies With ...  0.282714  \n",
              "1  Title: SEC Charges Four Public Companies With ...  0.317972  \n",
              "2  Title: SEC Files Fraud Charges Against Nicor's...  0.315959  \n",
              "2  Title: SEC Charges Oilfield Services Company a...   0.31363  \n",
              "1  Title: SEC Charges Diebold and Former Executiv...  0.317495  \n",
              "0  Title: SEC Levies More Than $3.8 Million in Pe...  0.265691  \n",
              "2  Title: SEC Charges ConAgra Foods, Inc. in Fina...  0.314247  \n",
              "1  Title: SEC Charges ConAgra Foods, Inc. in Fina...  0.317692  \n",
              "3  Title: SEC Charges Corporate Insiders for Fail...   0.29265  \n",
              "4  Title: SEC Charges Health Care Co. and Two For...  0.315014  \n",
              "2  Title: El Paso Corp., Subsidiaries, and Former...    0.3151  \n",
              "\n",
              "[25 rows x 31 columns]"
            ],
            "text/html": [
              "<div>\n",
              "<style scoped>\n",
              "    .dataframe tbody tr th:only-of-type {\n",
              "        vertical-align: middle;\n",
              "    }\n",
              "\n",
              "    .dataframe tbody tr th {\n",
              "        vertical-align: top;\n",
              "    }\n",
              "\n",
              "    .dataframe thead th {\n",
              "        text-align: right;\n",
              "    }\n",
              "</style>\n",
              "<table border=\"1\" class=\"dataframe\">\n",
              "  <thead>\n",
              "    <tr style=\"text-align: right;\">\n",
              "      <th></th>\n",
              "      <th>filename</th>\n",
              "      <th>cik</th>\n",
              "      <th>year</th>\n",
              "      <th>section_7embedding</th>\n",
              "      <th>section_9embedding</th>\n",
              "      <th>section_12embedding</th>\n",
              "      <th>section_10embedding</th>\n",
              "      <th>section_4embedding</th>\n",
              "      <th>section_8embedding</th>\n",
              "      <th>section_14embedding</th>\n",
              "      <th>...</th>\n",
              "      <th>section_9Aembedding</th>\n",
              "      <th>section_1embedding</th>\n",
              "      <th>overall_embedding</th>\n",
              "      <th>ml_generate_embedding_result</th>\n",
              "      <th>ml_generate_embedding_statistics</th>\n",
              "      <th>ml_generate_embedding_status</th>\n",
              "      <th>id</th>\n",
              "      <th>title</th>\n",
              "      <th>content</th>\n",
              "      <th>distance</th>\n",
              "    </tr>\n",
              "  </thead>\n",
              "  <tbody>\n",
              "    <tr>\n",
              "      <th>4</th>\n",
              "      <td>1800_1993.txt</td>\n",
              "      <td>1800</td>\n",
              "      <td>1993</td>\n",
              "      <td>[-0.01756296 -0.01733708 -0.01346771 -0.013578...</td>\n",
              "      <td>[-1.56782791e-02 -6.42858818e-03 -3.48928086e-...</td>\n",
              "      <td>[-4.16508093e-02 -2.62772869e-02 -3.11164446e-...</td>\n",
              "      <td>[-6.22933321e-02 -4.06846032e-02 -2.88069844e-...</td>\n",
              "      <td>[-0.01235421 -0.05187324 -0.01839188  0.048709...</td>\n",
              "      <td>[-0.01758242 -0.04470409 -0.02377128 -0.002298...</td>\n",
              "      <td>[ 3.80702619e-03 -6.57393262e-02 -4.26834710e-...</td>\n",
              "      <td>...</td>\n",
              "      <td>[0. 0. 0. 0. 0. 0. 0. 0. 0. 0. 0. 0. 0. 0. 0. ...</td>\n",
              "      <td>[-8.46420446e-03 -1.74391275e-02 -3.04021587e-...</td>\n",
              "      <td>[-2.02630794e-02 -2.28220087e-02 -2.03435779e-...</td>\n",
              "      <td>[-2.47707199e-02 -2.66260467e-02  1.42063461e-...</td>\n",
              "      <td>{\"token_count\":426,\"truncated\":false}</td>\n",
              "      <td></td>\n",
              "      <td>5220a1d4d9c02d813c8536464a5be416</td>\n",
              "      <td>Pharmaceutical Company and Former Executives C...</td>\n",
              "      <td>Title: Pharmaceutical Company and Former Execu...</td>\n",
              "      <td>0.306597</td>\n",
              "    </tr>\n",
              "    <tr>\n",
              "      <th>0</th>\n",
              "      <td>1067983_2020.htm</td>\n",
              "      <td>1067983</td>\n",
              "      <td>2020</td>\n",
              "      <td>[-3.98591966e-04 -6.93545857e-03 -3.90583078e-...</td>\n",
              "      <td>[-3.78713012e-02 -2.25618221e-02 -6.61137030e-...</td>\n",
              "      <td>[0. 0. 0. 0. 0. 0. 0. 0. 0. 0. 0. 0. 0. 0. 0. ...</td>\n",
              "      <td>[0. 0. 0. 0. 0. 0. 0. 0. 0. 0. 0. 0. 0. 0. 0. ...</td>\n",
              "      <td>[-0.0344297  -0.01074299 -0.04601453  0.000932...</td>\n",
              "      <td>[-1.76449773e-02 -9.34779196e-03 -3.27466425e-...</td>\n",
              "      <td>[0. 0. 0. 0. 0. 0. 0. 0. 0. 0. 0. 0. 0. 0. 0. ...</td>\n",
              "      <td>...</td>\n",
              "      <td>[ 1.63675216e-03 -2.70394441e-02 -3.73632014e-...</td>\n",
              "      <td>[ 7.57767455e-03 -5.32740511e-03 -1.38319638e-...</td>\n",
              "      <td>[-1.39428654e-02 -7.94268673e-03 -2.75115496e-...</td>\n",
              "      <td>[-3.66573147e-02 -1.60664450e-02  1.47968018e-...</td>\n",
              "      <td>{\"token_count\":1539,\"truncated\":false}</td>\n",
              "      <td></td>\n",
              "      <td>55f78bf10042846ac936f1564295e733</td>\n",
              "      <td>Twenty-Six Firms to Pay More Than $390 Million...</td>\n",
              "      <td>Title: Twenty-Six Firms to Pay More Than $390 ...</td>\n",
              "      <td>0.281621</td>\n",
              "    </tr>\n",
              "    <tr>\n",
              "      <th>4</th>\n",
              "      <td>1800_1993.txt</td>\n",
              "      <td>1800</td>\n",
              "      <td>1993</td>\n",
              "      <td>[-0.01756296 -0.01733708 -0.01346771 -0.013578...</td>\n",
              "      <td>[-1.56782791e-02 -6.42858818e-03 -3.48928086e-...</td>\n",
              "      <td>[-4.16508093e-02 -2.62772869e-02 -3.11164446e-...</td>\n",
              "      <td>[-6.22933321e-02 -4.06846032e-02 -2.88069844e-...</td>\n",
              "      <td>[-0.01235421 -0.05187324 -0.01839188  0.048709...</td>\n",
              "      <td>[-0.01758242 -0.04470409 -0.02377128 -0.002298...</td>\n",
              "      <td>[ 3.80702619e-03 -6.57393262e-02 -4.26834710e-...</td>\n",
              "      <td>...</td>\n",
              "      <td>[0. 0. 0. 0. 0. 0. 0. 0. 0. 0. 0. 0. 0. 0. 0. ...</td>\n",
              "      <td>[-8.46420446e-03 -1.74391275e-02 -3.04021587e-...</td>\n",
              "      <td>[-2.02630794e-02 -2.28220087e-02 -2.03435779e-...</td>\n",
              "      <td>[-0.03424182 -0.02437511 -0.02993707 -0.051027...</td>\n",
              "      <td>{\"token_count\":500,\"truncated\":false}</td>\n",
              "      <td></td>\n",
              "      <td>59c38537b26fd1c6ea110bd3b190e588</td>\n",
              "      <td>SEC Charges General Electric and Two Subsidiar...</td>\n",
              "      <td>Title: SEC Charges General Electric and Two Su...</td>\n",
              "      <td>0.317306</td>\n",
              "    </tr>\n",
              "    <tr>\n",
              "      <th>1</th>\n",
              "      <td>315189_1993.txt</td>\n",
              "      <td>315189</td>\n",
              "      <td>1993</td>\n",
              "      <td>[-1.35571547e-02 -1.56442206e-02 -2.92028040e-...</td>\n",
              "      <td>[-1.83812398e-02  1.81908242e-03 -2.49630474e-...</td>\n",
              "      <td>[-3.85654159e-02 -1.78559888e-02 -4.98842299e-...</td>\n",
              "      <td>[-5.09253442e-02 -3.28539982e-02 -1.21700037e-...</td>\n",
              "      <td>[-4.47579399e-02 -1.16266981e-02 -4.29858454e-...</td>\n",
              "      <td>[-9.26065768e-05 -5.11534102e-02 -4.29588519e-...</td>\n",
              "      <td>[ 2.28945124e-02  5.21549085e-03 -1.74354800e-...</td>\n",
              "      <td>...</td>\n",
              "      <td>[0. 0. 0. 0. 0. 0. 0. 0. 0. 0. 0. 0. 0. 0. 0. ...</td>\n",
              "      <td>[ 2.29252045e-02  2.62432406e-03 -4.36920724e-...</td>\n",
              "      <td>[-1.49562186e-02 -1.20997473e-02 -1.77254046e-...</td>\n",
              "      <td>[-9.61120520e-03 -2.12113801e-02 -1.15588652e-...</td>\n",
              "      <td>{\"token_count\":779,\"truncated\":false}</td>\n",
              "      <td></td>\n",
              "      <td>652c355b8848e75fdf85651bb0e31432</td>\n",
              "      <td>SEC Charges Delphi Corporation and Nine Indivi...</td>\n",
              "      <td>Title: SEC Charges Delphi Corporation and Nine...</td>\n",
              "      <td>0.310323</td>\n",
              "    </tr>\n",
              "    <tr>\n",
              "      <th>4</th>\n",
              "      <td>1800_1993.txt</td>\n",
              "      <td>1800</td>\n",
              "      <td>1993</td>\n",
              "      <td>[-0.01756296 -0.01733708 -0.01346771 -0.013578...</td>\n",
              "      <td>[-1.56782791e-02 -6.42858818e-03 -3.48928086e-...</td>\n",
              "      <td>[-4.16508093e-02 -2.62772869e-02 -3.11164446e-...</td>\n",
              "      <td>[-6.22933321e-02 -4.06846032e-02 -2.88069844e-...</td>\n",
              "      <td>[-0.01235421 -0.05187324 -0.01839188  0.048709...</td>\n",
              "      <td>[-0.01758242 -0.04470409 -0.02377128 -0.002298...</td>\n",
              "      <td>[ 3.80702619e-03 -6.57393262e-02 -4.26834710e-...</td>\n",
              "      <td>...</td>\n",
              "      <td>[0. 0. 0. 0. 0. 0. 0. 0. 0. 0. 0. 0. 0. 0. 0. ...</td>\n",
              "      <td>[-8.46420446e-03 -1.74391275e-02 -3.04021587e-...</td>\n",
              "      <td>[-2.02630794e-02 -2.28220087e-02 -2.03435779e-...</td>\n",
              "      <td>[-9.61120520e-03 -2.12113801e-02 -1.15588652e-...</td>\n",
              "      <td>{\"token_count\":779,\"truncated\":false}</td>\n",
              "      <td></td>\n",
              "      <td>652c355b8848e75fdf85651bb0e31432</td>\n",
              "      <td>SEC Charges Delphi Corporation and Nine Indivi...</td>\n",
              "      <td>Title: SEC Charges Delphi Corporation and Nine...</td>\n",
              "      <td>0.303072</td>\n",
              "    </tr>\n",
              "    <tr>\n",
              "      <th>2</th>\n",
              "      <td>50104_1993.txt</td>\n",
              "      <td>50104</td>\n",
              "      <td>1993</td>\n",
              "      <td>[-3.47243063e-02  1.94188505e-02 -8.92389864e-...</td>\n",
              "      <td>[-1.55314188e-02 -2.45964527e-03 -3.88711654e-...</td>\n",
              "      <td>[-3.79250757e-02 -4.47099060e-02 -3.67634818e-...</td>\n",
              "      <td>[-4.57181484e-02 -5.33069260e-02 -1.22106224e-...</td>\n",
              "      <td>[-0.05072239 -0.01314292 -0.03440231 -0.023048...</td>\n",
              "      <td>[-3.04003223e-02  4.79081871e-03 -5.41995295e-...</td>\n",
              "      <td>[ 3.38502717e-03 -5.04764915e-03 -5.59636764e-...</td>\n",
              "      <td>...</td>\n",
              "      <td>[0. 0. 0. 0. 0. 0. 0. 0. 0. 0. 0. 0. 0. 0. 0. ...</td>\n",
              "      <td>[-0.03292404  0.00087296 -0.04182    -0.004596...</td>\n",
              "      <td>[-0.02347898 -0.01731962 -0.02790547  0.000921...</td>\n",
              "      <td>[-4.25696969e-02 -6.16127253e-02 -6.23959641e-...</td>\n",
              "      <td>{\"token_count\":1269,\"truncated\":false}</td>\n",
              "      <td></td>\n",
              "      <td>69ef263fb0ce90e8aedc9a456ed0c02d</td>\n",
              "      <td>SEC Announces Charges Against Corporate Inside...</td>\n",
              "      <td>Title: SEC Announces Charges Against Corporate...</td>\n",
              "      <td>0.303516</td>\n",
              "    </tr>\n",
              "    <tr>\n",
              "      <th>1</th>\n",
              "      <td>315189_1993.txt</td>\n",
              "      <td>315189</td>\n",
              "      <td>1993</td>\n",
              "      <td>[-1.35571547e-02 -1.56442206e-02 -2.92028040e-...</td>\n",
              "      <td>[-1.83812398e-02  1.81908242e-03 -2.49630474e-...</td>\n",
              "      <td>[-3.85654159e-02 -1.78559888e-02 -4.98842299e-...</td>\n",
              "      <td>[-5.09253442e-02 -3.28539982e-02 -1.21700037e-...</td>\n",
              "      <td>[-4.47579399e-02 -1.16266981e-02 -4.29858454e-...</td>\n",
              "      <td>[-9.26065768e-05 -5.11534102e-02 -4.29588519e-...</td>\n",
              "      <td>[ 2.28945124e-02  5.21549085e-03 -1.74354800e-...</td>\n",
              "      <td>...</td>\n",
              "      <td>[0. 0. 0. 0. 0. 0. 0. 0. 0. 0. 0. 0. 0. 0. 0. ...</td>\n",
              "      <td>[ 2.29252045e-02  2.62432406e-03 -4.36920724e-...</td>\n",
              "      <td>[-1.49562186e-02 -1.20997473e-02 -1.77254046e-...</td>\n",
              "      <td>[-4.25696969e-02 -6.16127253e-02 -6.23959641e-...</td>\n",
              "      <td>{\"token_count\":1269,\"truncated\":false}</td>\n",
              "      <td></td>\n",
              "      <td>69ef263fb0ce90e8aedc9a456ed0c02d</td>\n",
              "      <td>SEC Announces Charges Against Corporate Inside...</td>\n",
              "      <td>Title: SEC Announces Charges Against Corporate...</td>\n",
              "      <td>0.315145</td>\n",
              "    </tr>\n",
              "    <tr>\n",
              "      <th>0</th>\n",
              "      <td>1067983_2020.htm</td>\n",
              "      <td>1067983</td>\n",
              "      <td>2020</td>\n",
              "      <td>[-3.98591966e-04 -6.93545857e-03 -3.90583078e-...</td>\n",
              "      <td>[-3.78713012e-02 -2.25618221e-02 -6.61137030e-...</td>\n",
              "      <td>[0. 0. 0. 0. 0. 0. 0. 0. 0. 0. 0. 0. 0. 0. 0. ...</td>\n",
              "      <td>[0. 0. 0. 0. 0. 0. 0. 0. 0. 0. 0. 0. 0. 0. 0. ...</td>\n",
              "      <td>[-0.0344297  -0.01074299 -0.04601453  0.000932...</td>\n",
              "      <td>[-1.76449773e-02 -9.34779196e-03 -3.27466425e-...</td>\n",
              "      <td>[0. 0. 0. 0. 0. 0. 0. 0. 0. 0. 0. 0. 0. 0. 0. ...</td>\n",
              "      <td>...</td>\n",
              "      <td>[ 1.63675216e-03 -2.70394441e-02 -3.73632014e-...</td>\n",
              "      <td>[ 7.57767455e-03 -5.32740511e-03 -1.38319638e-...</td>\n",
              "      <td>[-1.39428654e-02 -7.94268673e-03 -2.75115496e-...</td>\n",
              "      <td>[-4.25696969e-02 -6.16127253e-02 -6.23959641e-...</td>\n",
              "      <td>{\"token_count\":1269,\"truncated\":false}</td>\n",
              "      <td></td>\n",
              "      <td>69ef263fb0ce90e8aedc9a456ed0c02d</td>\n",
              "      <td>SEC Announces Charges Against Corporate Inside...</td>\n",
              "      <td>Title: SEC Announces Charges Against Corporate...</td>\n",
              "      <td>0.255627</td>\n",
              "    </tr>\n",
              "    <tr>\n",
              "      <th>4</th>\n",
              "      <td>1800_1993.txt</td>\n",
              "      <td>1800</td>\n",
              "      <td>1993</td>\n",
              "      <td>[-0.01756296 -0.01733708 -0.01346771 -0.013578...</td>\n",
              "      <td>[-1.56782791e-02 -6.42858818e-03 -3.48928086e-...</td>\n",
              "      <td>[-4.16508093e-02 -2.62772869e-02 -3.11164446e-...</td>\n",
              "      <td>[-6.22933321e-02 -4.06846032e-02 -2.88069844e-...</td>\n",
              "      <td>[-0.01235421 -0.05187324 -0.01839188  0.048709...</td>\n",
              "      <td>[-0.01758242 -0.04470409 -0.02377128 -0.002298...</td>\n",
              "      <td>[ 3.80702619e-03 -6.57393262e-02 -4.26834710e-...</td>\n",
              "      <td>...</td>\n",
              "      <td>[0. 0. 0. 0. 0. 0. 0. 0. 0. 0. 0. 0. 0. 0. 0. ...</td>\n",
              "      <td>[-8.46420446e-03 -1.74391275e-02 -3.04021587e-...</td>\n",
              "      <td>[-2.02630794e-02 -2.28220087e-02 -2.03435779e-...</td>\n",
              "      <td>[-4.25696969e-02 -6.16127253e-02 -6.23959641e-...</td>\n",
              "      <td>{\"token_count\":1269,\"truncated\":false}</td>\n",
              "      <td></td>\n",
              "      <td>69ef263fb0ce90e8aedc9a456ed0c02d</td>\n",
              "      <td>SEC Announces Charges Against Corporate Inside...</td>\n",
              "      <td>Title: SEC Announces Charges Against Corporate...</td>\n",
              "      <td>0.309091</td>\n",
              "    </tr>\n",
              "    <tr>\n",
              "      <th>3</th>\n",
              "      <td>1137091_2020.htm</td>\n",
              "      <td>1137091</td>\n",
              "      <td>2020</td>\n",
              "      <td>[-2.10153785e-02  2.59747695e-03 -3.92209039e-...</td>\n",
              "      <td>[-4.25587595e-02 -2.09636036e-02 -6.31605536e-...</td>\n",
              "      <td>[-6.73391223e-02 -1.49382157e-02 -3.27744223e-...</td>\n",
              "      <td>[-3.24487165e-02 -1.60200917e-03 -5.89513499e-...</td>\n",
              "      <td>[-3.31896767e-02  1.45743862e-02 -3.72849405e-...</td>\n",
              "      <td>[-1.28673098e-02 -8.76872710e-03 -2.86414517e-...</td>\n",
              "      <td>[-7.22742230e-02 -2.71525867e-02 -2.11981349e-...</td>\n",
              "      <td>...</td>\n",
              "      <td>[-3.16515304e-02 -1.75493170e-02 -9.58232504e-...</td>\n",
              "      <td>[-5.22894418e-03 -6.85504824e-03 -1.68921131e-...</td>\n",
              "      <td>[-3.72444206e-02 -1.18594729e-02 -2.65914233e-...</td>\n",
              "      <td>[-4.25696969e-02 -6.16127253e-02 -6.23959641e-...</td>\n",
              "      <td>{\"token_count\":1269,\"truncated\":false}</td>\n",
              "      <td></td>\n",
              "      <td>69ef263fb0ce90e8aedc9a456ed0c02d</td>\n",
              "      <td>SEC Announces Charges Against Corporate Inside...</td>\n",
              "      <td>Title: SEC Announces Charges Against Corporate...</td>\n",
              "      <td>0.287852</td>\n",
              "    </tr>\n",
              "    <tr>\n",
              "      <th>0</th>\n",
              "      <td>1067983_2020.htm</td>\n",
              "      <td>1067983</td>\n",
              "      <td>2020</td>\n",
              "      <td>[-3.98591966e-04 -6.93545857e-03 -3.90583078e-...</td>\n",
              "      <td>[-3.78713012e-02 -2.25618221e-02 -6.61137030e-...</td>\n",
              "      <td>[0. 0. 0. 0. 0. 0. 0. 0. 0. 0. 0. 0. 0. 0. 0. ...</td>\n",
              "      <td>[0. 0. 0. 0. 0. 0. 0. 0. 0. 0. 0. 0. 0. 0. 0. ...</td>\n",
              "      <td>[-0.0344297  -0.01074299 -0.04601453  0.000932...</td>\n",
              "      <td>[-1.76449773e-02 -9.34779196e-03 -3.27466425e-...</td>\n",
              "      <td>[0. 0. 0. 0. 0. 0. 0. 0. 0. 0. 0. 0. 0. 0. 0. ...</td>\n",
              "      <td>...</td>\n",
              "      <td>[ 1.63675216e-03 -2.70394441e-02 -3.73632014e-...</td>\n",
              "      <td>[ 7.57767455e-03 -5.32740511e-03 -1.38319638e-...</td>\n",
              "      <td>[-1.39428654e-02 -7.94268673e-03 -2.75115496e-...</td>\n",
              "      <td>[-1.16345128e-02 -4.30568047e-02 -1.48458006e-...</td>\n",
              "      <td>{\"token_count\":1393,\"truncated\":false}</td>\n",
              "      <td></td>\n",
              "      <td>7af28a48e0a7aa4f22df07c1c42283bd</td>\n",
              "      <td>SEC Charges 69 Audit Firms and Partners for Is...</td>\n",
              "      <td>Title: SEC Charges 69 Audit Firms and Partners...</td>\n",
              "      <td>0.280855</td>\n",
              "    </tr>\n",
              "    <tr>\n",
              "      <th>0</th>\n",
              "      <td>1067983_2020.htm</td>\n",
              "      <td>1067983</td>\n",
              "      <td>2020</td>\n",
              "      <td>[-3.98591966e-04 -6.93545857e-03 -3.90583078e-...</td>\n",
              "      <td>[-3.78713012e-02 -2.25618221e-02 -6.61137030e-...</td>\n",
              "      <td>[0. 0. 0. 0. 0. 0. 0. 0. 0. 0. 0. 0. 0. 0. 0. ...</td>\n",
              "      <td>[0. 0. 0. 0. 0. 0. 0. 0. 0. 0. 0. 0. 0. 0. 0. ...</td>\n",
              "      <td>[-0.0344297  -0.01074299 -0.04601453  0.000932...</td>\n",
              "      <td>[-1.76449773e-02 -9.34779196e-03 -3.27466425e-...</td>\n",
              "      <td>[0. 0. 0. 0. 0. 0. 0. 0. 0. 0. 0. 0. 0. 0. 0. ...</td>\n",
              "      <td>...</td>\n",
              "      <td>[ 1.63675216e-03 -2.70394441e-02 -3.73632014e-...</td>\n",
              "      <td>[ 7.57767455e-03 -5.32740511e-03 -1.38319638e-...</td>\n",
              "      <td>[-1.39428654e-02 -7.94268673e-03 -2.75115496e-...</td>\n",
              "      <td>[-4.66634147e-02 -1.80950365e-03 -1.84153859e-...</td>\n",
              "      <td>{\"token_count\":441,\"truncated\":false}</td>\n",
              "      <td></td>\n",
              "      <td>7fe4e612554df988fb6d4c4bf949b5bd</td>\n",
              "      <td>SEC Charges Companies, Former Executives as Pa...</td>\n",
              "      <td>Title: SEC Charges Companies, Former Executive...</td>\n",
              "      <td>0.276745</td>\n",
              "    </tr>\n",
              "    <tr>\n",
              "      <th>3</th>\n",
              "      <td>1137091_2020.htm</td>\n",
              "      <td>1137091</td>\n",
              "      <td>2020</td>\n",
              "      <td>[-2.10153785e-02  2.59747695e-03 -3.92209039e-...</td>\n",
              "      <td>[-4.25587595e-02 -2.09636036e-02 -6.31605536e-...</td>\n",
              "      <td>[-6.73391223e-02 -1.49382157e-02 -3.27744223e-...</td>\n",
              "      <td>[-3.24487165e-02 -1.60200917e-03 -5.89513499e-...</td>\n",
              "      <td>[-3.31896767e-02  1.45743862e-02 -3.72849405e-...</td>\n",
              "      <td>[-1.28673098e-02 -8.76872710e-03 -2.86414517e-...</td>\n",
              "      <td>[-7.22742230e-02 -2.71525867e-02 -2.11981349e-...</td>\n",
              "      <td>...</td>\n",
              "      <td>[-3.16515304e-02 -1.75493170e-02 -9.58232504e-...</td>\n",
              "      <td>[-5.22894418e-03 -6.85504824e-03 -1.68921131e-...</td>\n",
              "      <td>[-3.72444206e-02 -1.18594729e-02 -2.65914233e-...</td>\n",
              "      <td>[-4.66634147e-02 -1.80950365e-03 -1.84153859e-...</td>\n",
              "      <td>{\"token_count\":441,\"truncated\":false}</td>\n",
              "      <td></td>\n",
              "      <td>7fe4e612554df988fb6d4c4bf949b5bd</td>\n",
              "      <td>SEC Charges Companies, Former Executives as Pa...</td>\n",
              "      <td>Title: SEC Charges Companies, Former Executive...</td>\n",
              "      <td>0.294016</td>\n",
              "    </tr>\n",
              "    <tr>\n",
              "      <th>3</th>\n",
              "      <td>1137091_2020.htm</td>\n",
              "      <td>1137091</td>\n",
              "      <td>2020</td>\n",
              "      <td>[-2.10153785e-02  2.59747695e-03 -3.92209039e-...</td>\n",
              "      <td>[-4.25587595e-02 -2.09636036e-02 -6.31605536e-...</td>\n",
              "      <td>[-6.73391223e-02 -1.49382157e-02 -3.27744223e-...</td>\n",
              "      <td>[-3.24487165e-02 -1.60200917e-03 -5.89513499e-...</td>\n",
              "      <td>[-3.31896767e-02  1.45743862e-02 -3.72849405e-...</td>\n",
              "      <td>[-1.28673098e-02 -8.76872710e-03 -2.86414517e-...</td>\n",
              "      <td>[-7.22742230e-02 -2.71525867e-02 -2.11981349e-...</td>\n",
              "      <td>...</td>\n",
              "      <td>[-3.16515304e-02 -1.75493170e-02 -9.58232504e-...</td>\n",
              "      <td>[-5.22894418e-03 -6.85504824e-03 -1.68921131e-...</td>\n",
              "      <td>[-3.72444206e-02 -1.18594729e-02 -2.65914233e-...</td>\n",
              "      <td>[-4.30587344e-02 -6.94525093e-02 -3.08916345e-...</td>\n",
              "      <td>{\"token_count\":551,\"truncated\":false}</td>\n",
              "      <td></td>\n",
              "      <td>80210595c2e576cad4ef1b38b1c76f42</td>\n",
              "      <td>SEC Charges New Jersey Software Company and Se...</td>\n",
              "      <td>Title: SEC Charges New Jersey Software Company...</td>\n",
              "      <td>0.29471</td>\n",
              "    </tr>\n",
              "    <tr>\n",
              "      <th>3</th>\n",
              "      <td>1137091_2020.htm</td>\n",
              "      <td>1137091</td>\n",
              "      <td>2020</td>\n",
              "      <td>[-2.10153785e-02  2.59747695e-03 -3.92209039e-...</td>\n",
              "      <td>[-4.25587595e-02 -2.09636036e-02 -6.31605536e-...</td>\n",
              "      <td>[-6.73391223e-02 -1.49382157e-02 -3.27744223e-...</td>\n",
              "      <td>[-3.24487165e-02 -1.60200917e-03 -5.89513499e-...</td>\n",
              "      <td>[-3.31896767e-02  1.45743862e-02 -3.72849405e-...</td>\n",
              "      <td>[-1.28673098e-02 -8.76872710e-03 -2.86414517e-...</td>\n",
              "      <td>[-7.22742230e-02 -2.71525867e-02 -2.11981349e-...</td>\n",
              "      <td>...</td>\n",
              "      <td>[-3.16515304e-02 -1.75493170e-02 -9.58232504e-...</td>\n",
              "      <td>[-5.22894418e-03 -6.85504824e-03 -1.68921131e-...</td>\n",
              "      <td>[-3.72444206e-02 -1.18594729e-02 -2.65914233e-...</td>\n",
              "      <td>[-4.65844162e-02 -2.42230538e-02 -3.48388292e-...</td>\n",
              "      <td>{\"token_count\":509,\"truncated\":false}</td>\n",
              "      <td></td>\n",
              "      <td>a145fee70d224f197ae414be27f09beb</td>\n",
              "      <td>SEC Charges Four Public Companies With Longsta...</td>\n",
              "      <td>Title: SEC Charges Four Public Companies With ...</td>\n",
              "      <td>0.282714</td>\n",
              "    </tr>\n",
              "    <tr>\n",
              "      <th>1</th>\n",
              "      <td>315189_1993.txt</td>\n",
              "      <td>315189</td>\n",
              "      <td>1993</td>\n",
              "      <td>[-1.35571547e-02 -1.56442206e-02 -2.92028040e-...</td>\n",
              "      <td>[-1.83812398e-02  1.81908242e-03 -2.49630474e-...</td>\n",
              "      <td>[-3.85654159e-02 -1.78559888e-02 -4.98842299e-...</td>\n",
              "      <td>[-5.09253442e-02 -3.28539982e-02 -1.21700037e-...</td>\n",
              "      <td>[-4.47579399e-02 -1.16266981e-02 -4.29858454e-...</td>\n",
              "      <td>[-9.26065768e-05 -5.11534102e-02 -4.29588519e-...</td>\n",
              "      <td>[ 2.28945124e-02  5.21549085e-03 -1.74354800e-...</td>\n",
              "      <td>...</td>\n",
              "      <td>[0. 0. 0. 0. 0. 0. 0. 0. 0. 0. 0. 0. 0. 0. 0. ...</td>\n",
              "      <td>[ 2.29252045e-02  2.62432406e-03 -4.36920724e-...</td>\n",
              "      <td>[-1.49562186e-02 -1.20997473e-02 -1.77254046e-...</td>\n",
              "      <td>[-4.65844162e-02 -2.42230538e-02 -3.48388292e-...</td>\n",
              "      <td>{\"token_count\":509,\"truncated\":false}</td>\n",
              "      <td></td>\n",
              "      <td>a145fee70d224f197ae414be27f09beb</td>\n",
              "      <td>SEC Charges Four Public Companies With Longsta...</td>\n",
              "      <td>Title: SEC Charges Four Public Companies With ...</td>\n",
              "      <td>0.317972</td>\n",
              "    </tr>\n",
              "    <tr>\n",
              "      <th>2</th>\n",
              "      <td>50104_1993.txt</td>\n",
              "      <td>50104</td>\n",
              "      <td>1993</td>\n",
              "      <td>[-3.47243063e-02  1.94188505e-02 -8.92389864e-...</td>\n",
              "      <td>[-1.55314188e-02 -2.45964527e-03 -3.88711654e-...</td>\n",
              "      <td>[-3.79250757e-02 -4.47099060e-02 -3.67634818e-...</td>\n",
              "      <td>[-4.57181484e-02 -5.33069260e-02 -1.22106224e-...</td>\n",
              "      <td>[-0.05072239 -0.01314292 -0.03440231 -0.023048...</td>\n",
              "      <td>[-3.04003223e-02  4.79081871e-03 -5.41995295e-...</td>\n",
              "      <td>[ 3.38502717e-03 -5.04764915e-03 -5.59636764e-...</td>\n",
              "      <td>...</td>\n",
              "      <td>[0. 0. 0. 0. 0. 0. 0. 0. 0. 0. 0. 0. 0. 0. 0. ...</td>\n",
              "      <td>[-0.03292404  0.00087296 -0.04182    -0.004596...</td>\n",
              "      <td>[-0.02347898 -0.01731962 -0.02790547  0.000921...</td>\n",
              "      <td>[-4.47499603e-02 -1.12841865e-02  2.69178487e-...</td>\n",
              "      <td>{\"token_count\":402,\"truncated\":false}</td>\n",
              "      <td></td>\n",
              "      <td>a46b5f4282e6f39e9ca97085e537f151</td>\n",
              "      <td>SEC Files Fraud Charges Against Nicor's Former...</td>\n",
              "      <td>Title: SEC Files Fraud Charges Against Nicor's...</td>\n",
              "      <td>0.315959</td>\n",
              "    </tr>\n",
              "    <tr>\n",
              "      <th>2</th>\n",
              "      <td>50104_1993.txt</td>\n",
              "      <td>50104</td>\n",
              "      <td>1993</td>\n",
              "      <td>[-3.47243063e-02  1.94188505e-02 -8.92389864e-...</td>\n",
              "      <td>[-1.55314188e-02 -2.45964527e-03 -3.88711654e-...</td>\n",
              "      <td>[-3.79250757e-02 -4.47099060e-02 -3.67634818e-...</td>\n",
              "      <td>[-4.57181484e-02 -5.33069260e-02 -1.22106224e-...</td>\n",
              "      <td>[-0.05072239 -0.01314292 -0.03440231 -0.023048...</td>\n",
              "      <td>[-3.04003223e-02  4.79081871e-03 -5.41995295e-...</td>\n",
              "      <td>[ 3.38502717e-03 -5.04764915e-03 -5.59636764e-...</td>\n",
              "      <td>...</td>\n",
              "      <td>[0. 0. 0. 0. 0. 0. 0. 0. 0. 0. 0. 0. 0. 0. 0. ...</td>\n",
              "      <td>[-0.03292404  0.00087296 -0.04182    -0.004596...</td>\n",
              "      <td>[-0.02347898 -0.01731962 -0.02790547  0.000921...</td>\n",
              "      <td>[-3.37684043e-02 -1.83663459e-03 -3.69063504e-...</td>\n",
              "      <td>{\"token_count\":393,\"truncated\":false}</td>\n",
              "      <td></td>\n",
              "      <td>a6ca2acd11304aa77cb43b8c456fb536</td>\n",
              "      <td>SEC Charges Oilfield Services Company and Form...</td>\n",
              "      <td>Title: SEC Charges Oilfield Services Company a...</td>\n",
              "      <td>0.31363</td>\n",
              "    </tr>\n",
              "    <tr>\n",
              "      <th>1</th>\n",
              "      <td>315189_1993.txt</td>\n",
              "      <td>315189</td>\n",
              "      <td>1993</td>\n",
              "      <td>[-1.35571547e-02 -1.56442206e-02 -2.92028040e-...</td>\n",
              "      <td>[-1.83812398e-02  1.81908242e-03 -2.49630474e-...</td>\n",
              "      <td>[-3.85654159e-02 -1.78559888e-02 -4.98842299e-...</td>\n",
              "      <td>[-5.09253442e-02 -3.28539982e-02 -1.21700037e-...</td>\n",
              "      <td>[-4.47579399e-02 -1.16266981e-02 -4.29858454e-...</td>\n",
              "      <td>[-9.26065768e-05 -5.11534102e-02 -4.29588519e-...</td>\n",
              "      <td>[ 2.28945124e-02  5.21549085e-03 -1.74354800e-...</td>\n",
              "      <td>...</td>\n",
              "      <td>[0. 0. 0. 0. 0. 0. 0. 0. 0. 0. 0. 0. 0. 0. 0. ...</td>\n",
              "      <td>[ 2.29252045e-02  2.62432406e-03 -4.36920724e-...</td>\n",
              "      <td>[-1.49562186e-02 -1.20997473e-02 -1.77254046e-...</td>\n",
              "      <td>[-1.20183444e-02 -2.99044251e-02 -1.47989215e-...</td>\n",
              "      <td>{\"token_count\":625,\"truncated\":false}</td>\n",
              "      <td></td>\n",
              "      <td>b7e65a1605c5eeefc1e9b98e00dc28e1</td>\n",
              "      <td>SEC Charges Diebold and Former Executives With...</td>\n",
              "      <td>Title: SEC Charges Diebold and Former Executiv...</td>\n",
              "      <td>0.317495</td>\n",
              "    </tr>\n",
              "    <tr>\n",
              "      <th>0</th>\n",
              "      <td>1067983_2020.htm</td>\n",
              "      <td>1067983</td>\n",
              "      <td>2020</td>\n",
              "      <td>[-3.98591966e-04 -6.93545857e-03 -3.90583078e-...</td>\n",
              "      <td>[-3.78713012e-02 -2.25618221e-02 -6.61137030e-...</td>\n",
              "      <td>[0. 0. 0. 0. 0. 0. 0. 0. 0. 0. 0. 0. 0. 0. 0. ...</td>\n",
              "      <td>[0. 0. 0. 0. 0. 0. 0. 0. 0. 0. 0. 0. 0. 0. 0. ...</td>\n",
              "      <td>[-0.0344297  -0.01074299 -0.04601453  0.000932...</td>\n",
              "      <td>[-1.76449773e-02 -9.34779196e-03 -3.27466425e-...</td>\n",
              "      <td>[0. 0. 0. 0. 0. 0. 0. 0. 0. 0. 0. 0. 0. 0. 0. ...</td>\n",
              "      <td>...</td>\n",
              "      <td>[ 1.63675216e-03 -2.70394441e-02 -3.73632014e-...</td>\n",
              "      <td>[ 7.57767455e-03 -5.32740511e-03 -1.38319638e-...</td>\n",
              "      <td>[-1.39428654e-02 -7.94268673e-03 -2.75115496e-...</td>\n",
              "      <td>[-3.26581709e-02 -2.29606368e-02 -2.05970611e-...</td>\n",
              "      <td>{\"token_count\":1117,\"truncated\":false}</td>\n",
              "      <td></td>\n",
              "      <td>bffd0ae5fdfb5d316a2dc778d415b446</td>\n",
              "      <td>SEC Levies More Than $3.8 Million in Penalties...</td>\n",
              "      <td>Title: SEC Levies More Than $3.8 Million in Pe...</td>\n",
              "      <td>0.265691</td>\n",
              "    </tr>\n",
              "    <tr>\n",
              "      <th>2</th>\n",
              "      <td>50104_1993.txt</td>\n",
              "      <td>50104</td>\n",
              "      <td>1993</td>\n",
              "      <td>[-3.47243063e-02  1.94188505e-02 -8.92389864e-...</td>\n",
              "      <td>[-1.55314188e-02 -2.45964527e-03 -3.88711654e-...</td>\n",
              "      <td>[-3.79250757e-02 -4.47099060e-02 -3.67634818e-...</td>\n",
              "      <td>[-4.57181484e-02 -5.33069260e-02 -1.22106224e-...</td>\n",
              "      <td>[-0.05072239 -0.01314292 -0.03440231 -0.023048...</td>\n",
              "      <td>[-3.04003223e-02  4.79081871e-03 -5.41995295e-...</td>\n",
              "      <td>[ 3.38502717e-03 -5.04764915e-03 -5.59636764e-...</td>\n",
              "      <td>...</td>\n",
              "      <td>[0. 0. 0. 0. 0. 0. 0. 0. 0. 0. 0. 0. 0. 0. 0. ...</td>\n",
              "      <td>[-0.03292404  0.00087296 -0.04182    -0.004596...</td>\n",
              "      <td>[-0.02347898 -0.01731962 -0.02790547  0.000921...</td>\n",
              "      <td>[-6.55993745e-02 -1.92916710e-02 -2.37861592e-...</td>\n",
              "      <td>{\"token_count\":364,\"truncated\":false}</td>\n",
              "      <td></td>\n",
              "      <td>c09ee5721683dbd0c691e961585f7f74</td>\n",
              "      <td>SEC Charges ConAgra Foods, Inc. in Financial F...</td>\n",
              "      <td>Title: SEC Charges ConAgra Foods, Inc. in Fina...</td>\n",
              "      <td>0.314247</td>\n",
              "    </tr>\n",
              "    <tr>\n",
              "      <th>1</th>\n",
              "      <td>315189_1993.txt</td>\n",
              "      <td>315189</td>\n",
              "      <td>1993</td>\n",
              "      <td>[-1.35571547e-02 -1.56442206e-02 -2.92028040e-...</td>\n",
              "      <td>[-1.83812398e-02  1.81908242e-03 -2.49630474e-...</td>\n",
              "      <td>[-3.85654159e-02 -1.78559888e-02 -4.98842299e-...</td>\n",
              "      <td>[-5.09253442e-02 -3.28539982e-02 -1.21700037e-...</td>\n",
              "      <td>[-4.47579399e-02 -1.16266981e-02 -4.29858454e-...</td>\n",
              "      <td>[-9.26065768e-05 -5.11534102e-02 -4.29588519e-...</td>\n",
              "      <td>[ 2.28945124e-02  5.21549085e-03 -1.74354800e-...</td>\n",
              "      <td>...</td>\n",
              "      <td>[0. 0. 0. 0. 0. 0. 0. 0. 0. 0. 0. 0. 0. 0. 0. ...</td>\n",
              "      <td>[ 2.29252045e-02  2.62432406e-03 -4.36920724e-...</td>\n",
              "      <td>[-1.49562186e-02 -1.20997473e-02 -1.77254046e-...</td>\n",
              "      <td>[-6.55993745e-02 -1.92916710e-02 -2.37861592e-...</td>\n",
              "      <td>{\"token_count\":364,\"truncated\":false}</td>\n",
              "      <td></td>\n",
              "      <td>c09ee5721683dbd0c691e961585f7f74</td>\n",
              "      <td>SEC Charges ConAgra Foods, Inc. in Financial F...</td>\n",
              "      <td>Title: SEC Charges ConAgra Foods, Inc. in Fina...</td>\n",
              "      <td>0.317692</td>\n",
              "    </tr>\n",
              "    <tr>\n",
              "      <th>3</th>\n",
              "      <td>1137091_2020.htm</td>\n",
              "      <td>1137091</td>\n",
              "      <td>2020</td>\n",
              "      <td>[-2.10153785e-02  2.59747695e-03 -3.92209039e-...</td>\n",
              "      <td>[-4.25587595e-02 -2.09636036e-02 -6.31605536e-...</td>\n",
              "      <td>[-6.73391223e-02 -1.49382157e-02 -3.27744223e-...</td>\n",
              "      <td>[-3.24487165e-02 -1.60200917e-03 -5.89513499e-...</td>\n",
              "      <td>[-3.31896767e-02  1.45743862e-02 -3.72849405e-...</td>\n",
              "      <td>[-1.28673098e-02 -8.76872710e-03 -2.86414517e-...</td>\n",
              "      <td>[-7.22742230e-02 -2.71525867e-02 -2.11981349e-...</td>\n",
              "      <td>...</td>\n",
              "      <td>[-3.16515304e-02 -1.75493170e-02 -9.58232504e-...</td>\n",
              "      <td>[-5.22894418e-03 -6.85504824e-03 -1.68921131e-...</td>\n",
              "      <td>[-3.72444206e-02 -1.18594729e-02 -2.65914233e-...</td>\n",
              "      <td>[-0.05589295 -0.01434082  0.00880999 -0.026128...</td>\n",
              "      <td>{\"token_count\":776,\"truncated\":false}</td>\n",
              "      <td></td>\n",
              "      <td>d7a2d99d60d8f1c5678866b973670c23</td>\n",
              "      <td>SEC Charges Corporate Insiders for Failing to ...</td>\n",
              "      <td>Title: SEC Charges Corporate Insiders for Fail...</td>\n",
              "      <td>0.29265</td>\n",
              "    </tr>\n",
              "    <tr>\n",
              "      <th>4</th>\n",
              "      <td>1800_1993.txt</td>\n",
              "      <td>1800</td>\n",
              "      <td>1993</td>\n",
              "      <td>[-0.01756296 -0.01733708 -0.01346771 -0.013578...</td>\n",
              "      <td>[-1.56782791e-02 -6.42858818e-03 -3.48928086e-...</td>\n",
              "      <td>[-4.16508093e-02 -2.62772869e-02 -3.11164446e-...</td>\n",
              "      <td>[-6.22933321e-02 -4.06846032e-02 -2.88069844e-...</td>\n",
              "      <td>[-0.01235421 -0.05187324 -0.01839188  0.048709...</td>\n",
              "      <td>[-0.01758242 -0.04470409 -0.02377128 -0.002298...</td>\n",
              "      <td>[ 3.80702619e-03 -6.57393262e-02 -4.26834710e-...</td>\n",
              "      <td>...</td>\n",
              "      <td>[0. 0. 0. 0. 0. 0. 0. 0. 0. 0. 0. 0. 0. 0. 0. ...</td>\n",
              "      <td>[-8.46420446e-03 -1.74391275e-02 -3.04021587e-...</td>\n",
              "      <td>[-2.02630794e-02 -2.28220087e-02 -2.03435779e-...</td>\n",
              "      <td>[-1.72231961e-02 -1.61067247e-02  1.44476667e-...</td>\n",
              "      <td>{\"token_count\":478,\"truncated\":false}</td>\n",
              "      <td></td>\n",
              "      <td>d7fe2db6d46f007d12d2e0d2a7b998ca</td>\n",
              "      <td>SEC Charges Health Care Co. and Two Former Emp...</td>\n",
              "      <td>Title: SEC Charges Health Care Co. and Two For...</td>\n",
              "      <td>0.315014</td>\n",
              "    </tr>\n",
              "    <tr>\n",
              "      <th>2</th>\n",
              "      <td>50104_1993.txt</td>\n",
              "      <td>50104</td>\n",
              "      <td>1993</td>\n",
              "      <td>[-3.47243063e-02  1.94188505e-02 -8.92389864e-...</td>\n",
              "      <td>[-1.55314188e-02 -2.45964527e-03 -3.88711654e-...</td>\n",
              "      <td>[-3.79250757e-02 -4.47099060e-02 -3.67634818e-...</td>\n",
              "      <td>[-4.57181484e-02 -5.33069260e-02 -1.22106224e-...</td>\n",
              "      <td>[-0.05072239 -0.01314292 -0.03440231 -0.023048...</td>\n",
              "      <td>[-3.04003223e-02  4.79081871e-03 -5.41995295e-...</td>\n",
              "      <td>[ 3.38502717e-03 -5.04764915e-03 -5.59636764e-...</td>\n",
              "      <td>...</td>\n",
              "      <td>[0. 0. 0. 0. 0. 0. 0. 0. 0. 0. 0. 0. 0. 0. 0. ...</td>\n",
              "      <td>[-0.03292404  0.00087296 -0.04182    -0.004596...</td>\n",
              "      <td>[-0.02347898 -0.01731962 -0.02790547  0.000921...</td>\n",
              "      <td>[-3.10617257e-02  4.66713216e-03 -5.74894771e-...</td>\n",
              "      <td>{\"token_count\":480,\"truncated\":false}</td>\n",
              "      <td></td>\n",
              "      <td>e22b3f32ce907a699c63408e1b3a1205</td>\n",
              "      <td>El Paso Corp., Subsidiaries, and Former Employ...</td>\n",
              "      <td>Title: El Paso Corp., Subsidiaries, and Former...</td>\n",
              "      <td>0.3151</td>\n",
              "    </tr>\n",
              "  </tbody>\n",
              "</table>\n",
              "<p>25 rows × 31 columns</p>\n",
              "</div>[25 rows x 31 columns in total]"
            ]
          },
          "metadata": {},
          "execution_count": 25
        }
      ]
    },
    {
      "cell_type": "code",
      "source": [
        "result_value_2 = result_vector_2.reset_index()"
      ],
      "metadata": {
        "id": "-zCHnLNnf8N_",
        "executionInfo": {
          "status": "ok",
          "timestamp": 1758562651902,
          "user_tz": -330,
          "elapsed": 4,
          "user": {
            "displayName": "",
            "userId": ""
          }
        }
      },
      "id": "-zCHnLNnf8N_",
      "execution_count": 28,
      "outputs": []
    },
    {
      "cell_type": "code",
      "source": [
        "result_vector_2.loc[result_vector_2['cik']==315189]['id']"
      ],
      "metadata": {
        "colab": {
          "base_uri": "https://localhost:8080/",
          "height": 156
        },
        "id": "fnNGxtdHfHXj",
        "executionInfo": {
          "status": "ok",
          "timestamp": 1758562726286,
          "user_tz": -330,
          "elapsed": 7561,
          "user": {
            "displayName": "",
            "userId": ""
          }
        },
        "outputId": "4ad9a086-ba8b-4f02-e691-6c956d79c9e1"
      },
      "id": "fnNGxtdHfHXj",
      "execution_count": 31,
      "outputs": [
        {
          "output_type": "display_data",
          "data": {
            "text/plain": [
              "<IPython.core.display.HTML object>"
            ],
            "text/html": [
              "Query job 477dad83-9514-460b-800d-30c1aec8b603 is DONE. 3.4 MB processed. <a target=\"_blank\" href=\"https://console.cloud.google.com/bigquery?project=financial-fraud-detection-1&j=bq:US:477dad83-9514-460b-800d-30c1aec8b603&page=queryresults\">Open Job</a>"
            ]
          },
          "metadata": {}
        },
        {
          "output_type": "display_data",
          "data": {
            "text/plain": [
              "<IPython.core.display.HTML object>"
            ],
            "text/html": [
              "Query job 39ac85ec-5440-4ce2-9138-3ffd88a218bd is DONE. 1.4 kB processed. <a target=\"_blank\" href=\"https://console.cloud.google.com/bigquery?project=financial-fraud-detection-1&j=bq:US:39ac85ec-5440-4ce2-9138-3ffd88a218bd&page=queryresults\">Open Job</a>"
            ]
          },
          "metadata": {}
        },
        {
          "output_type": "execute_result",
          "data": {
            "text/plain": [
              "1    652c355b8848e75fdf85651bb0e31432\n",
              "1    69ef263fb0ce90e8aedc9a456ed0c02d\n",
              "1    a145fee70d224f197ae414be27f09beb\n",
              "1    b7e65a1605c5eeefc1e9b98e00dc28e1\n",
              "1    c09ee5721683dbd0c691e961585f7f74\n",
              "Name: id, dtype: string"
            ]
          },
          "metadata": {},
          "execution_count": 31
        }
      ]
    },
    {
      "cell_type": "code",
      "source": [
        "result_value_2.info()"
      ],
      "metadata": {
        "colab": {
          "base_uri": "https://localhost:8080/"
        },
        "collapsed": true,
        "id": "V_fm4kLNhgSN",
        "executionInfo": {
          "status": "ok",
          "timestamp": 1758563019075,
          "user_tz": -330,
          "elapsed": 1790,
          "user": {
            "displayName": "",
            "userId": ""
          }
        },
        "outputId": "8890bdcc-f42f-4155-b225-b5ee74578c0e"
      },
      "id": "V_fm4kLNhgSN",
      "execution_count": 32,
      "outputs": [
        {
          "output_type": "stream",
          "name": "stdout",
          "text": [
            "<class 'bigframes.dataframe.DataFrame'>\n",
            "Index: 25 entries, 0 to 24\n",
            "Data columns (total 32 columns):\n",
            "  #  Column                            Non-Null Count    Dtype\n",
            "---  --------------------------------  ----------------  -----------------------------------------\n",
            "  0  index                             25 non-null       Int64\n",
            "  1  filename                          25 non-null       string\n",
            "  2  cik                               25 non-null       Int64\n",
            "  3  year                              25 non-null       Int64\n",
            "  4  section_7embedding                25 non-null       list<item: double>[pyarrow]\n",
            "  5  section_9embedding                25 non-null       list<item: double>[pyarrow]\n",
            "  6  section_12embedding               25 non-null       list<item: double>[pyarrow]\n",
            "  7  section_10embedding               25 non-null       list<item: double>[pyarrow]\n",
            "  8  section_4embedding                25 non-null       list<item: double>[pyarrow]\n",
            "  9  section_8embedding                25 non-null       list<item: double>[pyarrow]\n",
            " 10  section_14embedding               25 non-null       list<item: double>[pyarrow]\n",
            " 11  section_1Aembedding               25 non-null       list<item: double>[pyarrow]\n",
            " 12  section_11embedding               25 non-null       list<item: double>[pyarrow]\n",
            " 13  section_15embedding               25 non-null       list<item: double>[pyarrow]\n",
            " 14  section_5embedding                25 non-null       list<item: double>[pyarrow]\n",
            " 15  section_13embedding               25 non-null       list<item: double>[pyarrow]\n",
            " 16  section_7Aembedding               25 non-null       list<item: double>[pyarrow]\n",
            " 17  section_1Bembedding               25 non-null       list<item: double>[pyarrow]\n",
            " 18  section_9Bembedding               25 non-null       list<item: double>[pyarrow]\n",
            " 19  section_2embedding                25 non-null       list<item: double>[pyarrow]\n",
            " 20  section_6embedding                25 non-null       list<item: double>[pyarrow]\n",
            " 21  section_3embedding                25 non-null       list<item: double>[pyarrow]\n",
            " 22  section_9Aembedding               25 non-null       list<item: double>[pyarrow]\n",
            " 23  section_1embedding                25 non-null       list<item: double>[pyarrow]\n",
            " 24  overall_embedding                 25 non-null       list<item: double>[pyarrow]\n",
            " 25  ml_generate_embedding_result      25 non-null       list<item: double>[pyarrow]\n",
            " 26  ml_generate_embedding_statistics  25 non-null       extension<dbjson<JSONArrowType>>[pyarrow]\n",
            " 27  ml_generate_embedding_status      25 non-null       string\n",
            " 28  id                                25 non-null       string\n",
            " 29  title                             25 non-null       string\n",
            " 30  content                           25 non-null       string\n",
            " 31  distance                          25 non-null       Float64\n",
            "dtypes: Float64(1), Int64(3), extension<dbjson<JSONArrowType>>[pyarrow](1), list<item: double>[pyarrow](22), string(5)\n",
            "memory usage: 6600 bytes\n"
          ]
        }
      ]
    },
    {
      "cell_type": "code",
      "source": [
        "result_vector_2.sort_values(by=['cik', 'distance'], ascending=False)"
      ],
      "metadata": {
        "colab": {
          "base_uri": "https://localhost:8080/",
          "height": 1000
        },
        "collapsed": true,
        "id": "UazTKN-zhpG_",
        "executionInfo": {
          "status": "ok",
          "timestamp": 1758563178380,
          "user_tz": -330,
          "elapsed": 15031,
          "user": {
            "displayName": "",
            "userId": ""
          }
        },
        "outputId": "54d14f83-ded5-4ad4-fc2a-0c1806df8526"
      },
      "id": "UazTKN-zhpG_",
      "execution_count": 34,
      "outputs": [
        {
          "output_type": "display_data",
          "data": {
            "text/plain": [
              "<IPython.core.display.HTML object>"
            ],
            "text/html": [
              "Query job 31e108b1-eef5-4939-8b55-075364c93604 is DONE. 3.4 MB processed. <a target=\"_blank\" href=\"https://console.cloud.google.com/bigquery?project=financial-fraud-detection-1&j=bq:US:31e108b1-eef5-4939-8b55-075364c93604&page=queryresults\">Open Job</a>"
            ]
          },
          "metadata": {}
        },
        {
          "output_type": "execute_result",
          "data": {
            "text/plain": [
              "           filename      cik  year  \\\n",
              "3  1137091_2020.htm  1137091  2020   \n",
              "3  1137091_2020.htm  1137091  2020   \n",
              "3  1137091_2020.htm  1137091  2020   \n",
              "3  1137091_2020.htm  1137091  2020   \n",
              "3  1137091_2020.htm  1137091  2020   \n",
              "0  1067983_2020.htm  1067983  2020   \n",
              "0  1067983_2020.htm  1067983  2020   \n",
              "0  1067983_2020.htm  1067983  2020   \n",
              "0  1067983_2020.htm  1067983  2020   \n",
              "0  1067983_2020.htm  1067983  2020   \n",
              "1   315189_1993.txt   315189  1993   \n",
              "1   315189_1993.txt   315189  1993   \n",
              "1   315189_1993.txt   315189  1993   \n",
              "1   315189_1993.txt   315189  1993   \n",
              "1   315189_1993.txt   315189  1993   \n",
              "2    50104_1993.txt    50104  1993   \n",
              "2    50104_1993.txt    50104  1993   \n",
              "2    50104_1993.txt    50104  1993   \n",
              "2    50104_1993.txt    50104  1993   \n",
              "2    50104_1993.txt    50104  1993   \n",
              "4     1800_1993.txt     1800  1993   \n",
              "4     1800_1993.txt     1800  1993   \n",
              "4     1800_1993.txt     1800  1993   \n",
              "4     1800_1993.txt     1800  1993   \n",
              "4     1800_1993.txt     1800  1993   \n",
              "\n",
              "                                  section_7embedding  \\\n",
              "3  [-2.10153785e-02  2.59747695e-03 -3.92209039e-...   \n",
              "3  [-2.10153785e-02  2.59747695e-03 -3.92209039e-...   \n",
              "3  [-2.10153785e-02  2.59747695e-03 -3.92209039e-...   \n",
              "3  [-2.10153785e-02  2.59747695e-03 -3.92209039e-...   \n",
              "3  [-2.10153785e-02  2.59747695e-03 -3.92209039e-...   \n",
              "0  [-3.98591966e-04 -6.93545857e-03 -3.90583078e-...   \n",
              "0  [-3.98591966e-04 -6.93545857e-03 -3.90583078e-...   \n",
              "0  [-3.98591966e-04 -6.93545857e-03 -3.90583078e-...   \n",
              "0  [-3.98591966e-04 -6.93545857e-03 -3.90583078e-...   \n",
              "0  [-3.98591966e-04 -6.93545857e-03 -3.90583078e-...   \n",
              "1  [-1.35571547e-02 -1.56442206e-02 -2.92028040e-...   \n",
              "1  [-1.35571547e-02 -1.56442206e-02 -2.92028040e-...   \n",
              "1  [-1.35571547e-02 -1.56442206e-02 -2.92028040e-...   \n",
              "1  [-1.35571547e-02 -1.56442206e-02 -2.92028040e-...   \n",
              "1  [-1.35571547e-02 -1.56442206e-02 -2.92028040e-...   \n",
              "2  [-3.47243063e-02  1.94188505e-02 -8.92389864e-...   \n",
              "2  [-3.47243063e-02  1.94188505e-02 -8.92389864e-...   \n",
              "2  [-3.47243063e-02  1.94188505e-02 -8.92389864e-...   \n",
              "2  [-3.47243063e-02  1.94188505e-02 -8.92389864e-...   \n",
              "2  [-3.47243063e-02  1.94188505e-02 -8.92389864e-...   \n",
              "4  [-0.01756296 -0.01733708 -0.01346771 -0.013578...   \n",
              "4  [-0.01756296 -0.01733708 -0.01346771 -0.013578...   \n",
              "4  [-0.01756296 -0.01733708 -0.01346771 -0.013578...   \n",
              "4  [-0.01756296 -0.01733708 -0.01346771 -0.013578...   \n",
              "4  [-0.01756296 -0.01733708 -0.01346771 -0.013578...   \n",
              "\n",
              "                                  section_9embedding  \\\n",
              "3  [-4.25587595e-02 -2.09636036e-02 -6.31605536e-...   \n",
              "3  [-4.25587595e-02 -2.09636036e-02 -6.31605536e-...   \n",
              "3  [-4.25587595e-02 -2.09636036e-02 -6.31605536e-...   \n",
              "3  [-4.25587595e-02 -2.09636036e-02 -6.31605536e-...   \n",
              "3  [-4.25587595e-02 -2.09636036e-02 -6.31605536e-...   \n",
              "0  [-3.78713012e-02 -2.25618221e-02 -6.61137030e-...   \n",
              "0  [-3.78713012e-02 -2.25618221e-02 -6.61137030e-...   \n",
              "0  [-3.78713012e-02 -2.25618221e-02 -6.61137030e-...   \n",
              "0  [-3.78713012e-02 -2.25618221e-02 -6.61137030e-...   \n",
              "0  [-3.78713012e-02 -2.25618221e-02 -6.61137030e-...   \n",
              "1  [-1.83812398e-02  1.81908242e-03 -2.49630474e-...   \n",
              "1  [-1.83812398e-02  1.81908242e-03 -2.49630474e-...   \n",
              "1  [-1.83812398e-02  1.81908242e-03 -2.49630474e-...   \n",
              "1  [-1.83812398e-02  1.81908242e-03 -2.49630474e-...   \n",
              "1  [-1.83812398e-02  1.81908242e-03 -2.49630474e-...   \n",
              "2  [-1.55314188e-02 -2.45964527e-03 -3.88711654e-...   \n",
              "2  [-1.55314188e-02 -2.45964527e-03 -3.88711654e-...   \n",
              "2  [-1.55314188e-02 -2.45964527e-03 -3.88711654e-...   \n",
              "2  [-1.55314188e-02 -2.45964527e-03 -3.88711654e-...   \n",
              "2  [-1.55314188e-02 -2.45964527e-03 -3.88711654e-...   \n",
              "4  [-1.56782791e-02 -6.42858818e-03 -3.48928086e-...   \n",
              "4  [-1.56782791e-02 -6.42858818e-03 -3.48928086e-...   \n",
              "4  [-1.56782791e-02 -6.42858818e-03 -3.48928086e-...   \n",
              "4  [-1.56782791e-02 -6.42858818e-03 -3.48928086e-...   \n",
              "4  [-1.56782791e-02 -6.42858818e-03 -3.48928086e-...   \n",
              "\n",
              "                                 section_12embedding  \\\n",
              "3  [-6.73391223e-02 -1.49382157e-02 -3.27744223e-...   \n",
              "3  [-6.73391223e-02 -1.49382157e-02 -3.27744223e-...   \n",
              "3  [-6.73391223e-02 -1.49382157e-02 -3.27744223e-...   \n",
              "3  [-6.73391223e-02 -1.49382157e-02 -3.27744223e-...   \n",
              "3  [-6.73391223e-02 -1.49382157e-02 -3.27744223e-...   \n",
              "0  [0. 0. 0. 0. 0. 0. 0. 0. 0. 0. 0. 0. 0. 0. 0. ...   \n",
              "0  [0. 0. 0. 0. 0. 0. 0. 0. 0. 0. 0. 0. 0. 0. 0. ...   \n",
              "0  [0. 0. 0. 0. 0. 0. 0. 0. 0. 0. 0. 0. 0. 0. 0. ...   \n",
              "0  [0. 0. 0. 0. 0. 0. 0. 0. 0. 0. 0. 0. 0. 0. 0. ...   \n",
              "0  [0. 0. 0. 0. 0. 0. 0. 0. 0. 0. 0. 0. 0. 0. 0. ...   \n",
              "1  [-3.85654159e-02 -1.78559888e-02 -4.98842299e-...   \n",
              "1  [-3.85654159e-02 -1.78559888e-02 -4.98842299e-...   \n",
              "1  [-3.85654159e-02 -1.78559888e-02 -4.98842299e-...   \n",
              "1  [-3.85654159e-02 -1.78559888e-02 -4.98842299e-...   \n",
              "1  [-3.85654159e-02 -1.78559888e-02 -4.98842299e-...   \n",
              "2  [-3.79250757e-02 -4.47099060e-02 -3.67634818e-...   \n",
              "2  [-3.79250757e-02 -4.47099060e-02 -3.67634818e-...   \n",
              "2  [-3.79250757e-02 -4.47099060e-02 -3.67634818e-...   \n",
              "2  [-3.79250757e-02 -4.47099060e-02 -3.67634818e-...   \n",
              "2  [-3.79250757e-02 -4.47099060e-02 -3.67634818e-...   \n",
              "4  [-4.16508093e-02 -2.62772869e-02 -3.11164446e-...   \n",
              "4  [-4.16508093e-02 -2.62772869e-02 -3.11164446e-...   \n",
              "4  [-4.16508093e-02 -2.62772869e-02 -3.11164446e-...   \n",
              "4  [-4.16508093e-02 -2.62772869e-02 -3.11164446e-...   \n",
              "4  [-4.16508093e-02 -2.62772869e-02 -3.11164446e-...   \n",
              "\n",
              "                                 section_10embedding  \\\n",
              "3  [-3.24487165e-02 -1.60200917e-03 -5.89513499e-...   \n",
              "3  [-3.24487165e-02 -1.60200917e-03 -5.89513499e-...   \n",
              "3  [-3.24487165e-02 -1.60200917e-03 -5.89513499e-...   \n",
              "3  [-3.24487165e-02 -1.60200917e-03 -5.89513499e-...   \n",
              "3  [-3.24487165e-02 -1.60200917e-03 -5.89513499e-...   \n",
              "0  [0. 0. 0. 0. 0. 0. 0. 0. 0. 0. 0. 0. 0. 0. 0. ...   \n",
              "0  [0. 0. 0. 0. 0. 0. 0. 0. 0. 0. 0. 0. 0. 0. 0. ...   \n",
              "0  [0. 0. 0. 0. 0. 0. 0. 0. 0. 0. 0. 0. 0. 0. 0. ...   \n",
              "0  [0. 0. 0. 0. 0. 0. 0. 0. 0. 0. 0. 0. 0. 0. 0. ...   \n",
              "0  [0. 0. 0. 0. 0. 0. 0. 0. 0. 0. 0. 0. 0. 0. 0. ...   \n",
              "1  [-5.09253442e-02 -3.28539982e-02 -1.21700037e-...   \n",
              "1  [-5.09253442e-02 -3.28539982e-02 -1.21700037e-...   \n",
              "1  [-5.09253442e-02 -3.28539982e-02 -1.21700037e-...   \n",
              "1  [-5.09253442e-02 -3.28539982e-02 -1.21700037e-...   \n",
              "1  [-5.09253442e-02 -3.28539982e-02 -1.21700037e-...   \n",
              "2  [-4.57181484e-02 -5.33069260e-02 -1.22106224e-...   \n",
              "2  [-4.57181484e-02 -5.33069260e-02 -1.22106224e-...   \n",
              "2  [-4.57181484e-02 -5.33069260e-02 -1.22106224e-...   \n",
              "2  [-4.57181484e-02 -5.33069260e-02 -1.22106224e-...   \n",
              "2  [-4.57181484e-02 -5.33069260e-02 -1.22106224e-...   \n",
              "4  [-6.22933321e-02 -4.06846032e-02 -2.88069844e-...   \n",
              "4  [-6.22933321e-02 -4.06846032e-02 -2.88069844e-...   \n",
              "4  [-6.22933321e-02 -4.06846032e-02 -2.88069844e-...   \n",
              "4  [-6.22933321e-02 -4.06846032e-02 -2.88069844e-...   \n",
              "4  [-6.22933321e-02 -4.06846032e-02 -2.88069844e-...   \n",
              "\n",
              "                                  section_4embedding  \\\n",
              "3  [-3.31896767e-02  1.45743862e-02 -3.72849405e-...   \n",
              "3  [-3.31896767e-02  1.45743862e-02 -3.72849405e-...   \n",
              "3  [-3.31896767e-02  1.45743862e-02 -3.72849405e-...   \n",
              "3  [-3.31896767e-02  1.45743862e-02 -3.72849405e-...   \n",
              "3  [-3.31896767e-02  1.45743862e-02 -3.72849405e-...   \n",
              "0  [-0.0344297  -0.01074299 -0.04601453  0.000932...   \n",
              "0  [-0.0344297  -0.01074299 -0.04601453  0.000932...   \n",
              "0  [-0.0344297  -0.01074299 -0.04601453  0.000932...   \n",
              "0  [-0.0344297  -0.01074299 -0.04601453  0.000932...   \n",
              "0  [-0.0344297  -0.01074299 -0.04601453  0.000932...   \n",
              "1  [-4.47579399e-02 -1.16266981e-02 -4.29858454e-...   \n",
              "1  [-4.47579399e-02 -1.16266981e-02 -4.29858454e-...   \n",
              "1  [-4.47579399e-02 -1.16266981e-02 -4.29858454e-...   \n",
              "1  [-4.47579399e-02 -1.16266981e-02 -4.29858454e-...   \n",
              "1  [-4.47579399e-02 -1.16266981e-02 -4.29858454e-...   \n",
              "2  [-0.05072239 -0.01314292 -0.03440231 -0.023048...   \n",
              "2  [-0.05072239 -0.01314292 -0.03440231 -0.023048...   \n",
              "2  [-0.05072239 -0.01314292 -0.03440231 -0.023048...   \n",
              "2  [-0.05072239 -0.01314292 -0.03440231 -0.023048...   \n",
              "2  [-0.05072239 -0.01314292 -0.03440231 -0.023048...   \n",
              "4  [-0.01235421 -0.05187324 -0.01839188  0.048709...   \n",
              "4  [-0.01235421 -0.05187324 -0.01839188  0.048709...   \n",
              "4  [-0.01235421 -0.05187324 -0.01839188  0.048709...   \n",
              "4  [-0.01235421 -0.05187324 -0.01839188  0.048709...   \n",
              "4  [-0.01235421 -0.05187324 -0.01839188  0.048709...   \n",
              "\n",
              "                                  section_8embedding  \\\n",
              "3  [-1.28673098e-02 -8.76872710e-03 -2.86414517e-...   \n",
              "3  [-1.28673098e-02 -8.76872710e-03 -2.86414517e-...   \n",
              "3  [-1.28673098e-02 -8.76872710e-03 -2.86414517e-...   \n",
              "3  [-1.28673098e-02 -8.76872710e-03 -2.86414517e-...   \n",
              "3  [-1.28673098e-02 -8.76872710e-03 -2.86414517e-...   \n",
              "0  [-1.76449773e-02 -9.34779196e-03 -3.27466425e-...   \n",
              "0  [-1.76449773e-02 -9.34779196e-03 -3.27466425e-...   \n",
              "0  [-1.76449773e-02 -9.34779196e-03 -3.27466425e-...   \n",
              "0  [-1.76449773e-02 -9.34779196e-03 -3.27466425e-...   \n",
              "0  [-1.76449773e-02 -9.34779196e-03 -3.27466425e-...   \n",
              "1  [-9.26065768e-05 -5.11534102e-02 -4.29588519e-...   \n",
              "1  [-9.26065768e-05 -5.11534102e-02 -4.29588519e-...   \n",
              "1  [-9.26065768e-05 -5.11534102e-02 -4.29588519e-...   \n",
              "1  [-9.26065768e-05 -5.11534102e-02 -4.29588519e-...   \n",
              "1  [-9.26065768e-05 -5.11534102e-02 -4.29588519e-...   \n",
              "2  [-3.04003223e-02  4.79081871e-03 -5.41995295e-...   \n",
              "2  [-3.04003223e-02  4.79081871e-03 -5.41995295e-...   \n",
              "2  [-3.04003223e-02  4.79081871e-03 -5.41995295e-...   \n",
              "2  [-3.04003223e-02  4.79081871e-03 -5.41995295e-...   \n",
              "2  [-3.04003223e-02  4.79081871e-03 -5.41995295e-...   \n",
              "4  [-0.01758242 -0.04470409 -0.02377128 -0.002298...   \n",
              "4  [-0.01758242 -0.04470409 -0.02377128 -0.002298...   \n",
              "4  [-0.01758242 -0.04470409 -0.02377128 -0.002298...   \n",
              "4  [-0.01758242 -0.04470409 -0.02377128 -0.002298...   \n",
              "4  [-0.01758242 -0.04470409 -0.02377128 -0.002298...   \n",
              "\n",
              "                                 section_14embedding  ...  \\\n",
              "3  [-7.22742230e-02 -2.71525867e-02 -2.11981349e-...  ...   \n",
              "3  [-7.22742230e-02 -2.71525867e-02 -2.11981349e-...  ...   \n",
              "3  [-7.22742230e-02 -2.71525867e-02 -2.11981349e-...  ...   \n",
              "3  [-7.22742230e-02 -2.71525867e-02 -2.11981349e-...  ...   \n",
              "3  [-7.22742230e-02 -2.71525867e-02 -2.11981349e-...  ...   \n",
              "0  [0. 0. 0. 0. 0. 0. 0. 0. 0. 0. 0. 0. 0. 0. 0. ...  ...   \n",
              "0  [0. 0. 0. 0. 0. 0. 0. 0. 0. 0. 0. 0. 0. 0. 0. ...  ...   \n",
              "0  [0. 0. 0. 0. 0. 0. 0. 0. 0. 0. 0. 0. 0. 0. 0. ...  ...   \n",
              "0  [0. 0. 0. 0. 0. 0. 0. 0. 0. 0. 0. 0. 0. 0. 0. ...  ...   \n",
              "0  [0. 0. 0. 0. 0. 0. 0. 0. 0. 0. 0. 0. 0. 0. 0. ...  ...   \n",
              "1  [ 2.28945124e-02  5.21549085e-03 -1.74354800e-...  ...   \n",
              "1  [ 2.28945124e-02  5.21549085e-03 -1.74354800e-...  ...   \n",
              "1  [ 2.28945124e-02  5.21549085e-03 -1.74354800e-...  ...   \n",
              "1  [ 2.28945124e-02  5.21549085e-03 -1.74354800e-...  ...   \n",
              "1  [ 2.28945124e-02  5.21549085e-03 -1.74354800e-...  ...   \n",
              "2  [ 3.38502717e-03 -5.04764915e-03 -5.59636764e-...  ...   \n",
              "2  [ 3.38502717e-03 -5.04764915e-03 -5.59636764e-...  ...   \n",
              "2  [ 3.38502717e-03 -5.04764915e-03 -5.59636764e-...  ...   \n",
              "2  [ 3.38502717e-03 -5.04764915e-03 -5.59636764e-...  ...   \n",
              "2  [ 3.38502717e-03 -5.04764915e-03 -5.59636764e-...  ...   \n",
              "4  [ 3.80702619e-03 -6.57393262e-02 -4.26834710e-...  ...   \n",
              "4  [ 3.80702619e-03 -6.57393262e-02 -4.26834710e-...  ...   \n",
              "4  [ 3.80702619e-03 -6.57393262e-02 -4.26834710e-...  ...   \n",
              "4  [ 3.80702619e-03 -6.57393262e-02 -4.26834710e-...  ...   \n",
              "4  [ 3.80702619e-03 -6.57393262e-02 -4.26834710e-...  ...   \n",
              "\n",
              "                                 section_9Aembedding  \\\n",
              "3  [-3.16515304e-02 -1.75493170e-02 -9.58232504e-...   \n",
              "3  [-3.16515304e-02 -1.75493170e-02 -9.58232504e-...   \n",
              "3  [-3.16515304e-02 -1.75493170e-02 -9.58232504e-...   \n",
              "3  [-3.16515304e-02 -1.75493170e-02 -9.58232504e-...   \n",
              "3  [-3.16515304e-02 -1.75493170e-02 -9.58232504e-...   \n",
              "0  [ 1.63675216e-03 -2.70394441e-02 -3.73632014e-...   \n",
              "0  [ 1.63675216e-03 -2.70394441e-02 -3.73632014e-...   \n",
              "0  [ 1.63675216e-03 -2.70394441e-02 -3.73632014e-...   \n",
              "0  [ 1.63675216e-03 -2.70394441e-02 -3.73632014e-...   \n",
              "0  [ 1.63675216e-03 -2.70394441e-02 -3.73632014e-...   \n",
              "1  [0. 0. 0. 0. 0. 0. 0. 0. 0. 0. 0. 0. 0. 0. 0. ...   \n",
              "1  [0. 0. 0. 0. 0. 0. 0. 0. 0. 0. 0. 0. 0. 0. 0. ...   \n",
              "1  [0. 0. 0. 0. 0. 0. 0. 0. 0. 0. 0. 0. 0. 0. 0. ...   \n",
              "1  [0. 0. 0. 0. 0. 0. 0. 0. 0. 0. 0. 0. 0. 0. 0. ...   \n",
              "1  [0. 0. 0. 0. 0. 0. 0. 0. 0. 0. 0. 0. 0. 0. 0. ...   \n",
              "2  [0. 0. 0. 0. 0. 0. 0. 0. 0. 0. 0. 0. 0. 0. 0. ...   \n",
              "2  [0. 0. 0. 0. 0. 0. 0. 0. 0. 0. 0. 0. 0. 0. 0. ...   \n",
              "2  [0. 0. 0. 0. 0. 0. 0. 0. 0. 0. 0. 0. 0. 0. 0. ...   \n",
              "2  [0. 0. 0. 0. 0. 0. 0. 0. 0. 0. 0. 0. 0. 0. 0. ...   \n",
              "2  [0. 0. 0. 0. 0. 0. 0. 0. 0. 0. 0. 0. 0. 0. 0. ...   \n",
              "4  [0. 0. 0. 0. 0. 0. 0. 0. 0. 0. 0. 0. 0. 0. 0. ...   \n",
              "4  [0. 0. 0. 0. 0. 0. 0. 0. 0. 0. 0. 0. 0. 0. 0. ...   \n",
              "4  [0. 0. 0. 0. 0. 0. 0. 0. 0. 0. 0. 0. 0. 0. 0. ...   \n",
              "4  [0. 0. 0. 0. 0. 0. 0. 0. 0. 0. 0. 0. 0. 0. 0. ...   \n",
              "4  [0. 0. 0. 0. 0. 0. 0. 0. 0. 0. 0. 0. 0. 0. 0. ...   \n",
              "\n",
              "                                  section_1embedding  \\\n",
              "3  [-5.22894418e-03 -6.85504824e-03 -1.68921131e-...   \n",
              "3  [-5.22894418e-03 -6.85504824e-03 -1.68921131e-...   \n",
              "3  [-5.22894418e-03 -6.85504824e-03 -1.68921131e-...   \n",
              "3  [-5.22894418e-03 -6.85504824e-03 -1.68921131e-...   \n",
              "3  [-5.22894418e-03 -6.85504824e-03 -1.68921131e-...   \n",
              "0  [ 7.57767455e-03 -5.32740511e-03 -1.38319638e-...   \n",
              "0  [ 7.57767455e-03 -5.32740511e-03 -1.38319638e-...   \n",
              "0  [ 7.57767455e-03 -5.32740511e-03 -1.38319638e-...   \n",
              "0  [ 7.57767455e-03 -5.32740511e-03 -1.38319638e-...   \n",
              "0  [ 7.57767455e-03 -5.32740511e-03 -1.38319638e-...   \n",
              "1  [ 2.29252045e-02  2.62432406e-03 -4.36920724e-...   \n",
              "1  [ 2.29252045e-02  2.62432406e-03 -4.36920724e-...   \n",
              "1  [ 2.29252045e-02  2.62432406e-03 -4.36920724e-...   \n",
              "1  [ 2.29252045e-02  2.62432406e-03 -4.36920724e-...   \n",
              "1  [ 2.29252045e-02  2.62432406e-03 -4.36920724e-...   \n",
              "2  [-0.03292404  0.00087296 -0.04182    -0.004596...   \n",
              "2  [-0.03292404  0.00087296 -0.04182    -0.004596...   \n",
              "2  [-0.03292404  0.00087296 -0.04182    -0.004596...   \n",
              "2  [-0.03292404  0.00087296 -0.04182    -0.004596...   \n",
              "2  [-0.03292404  0.00087296 -0.04182    -0.004596...   \n",
              "4  [-8.46420446e-03 -1.74391275e-02 -3.04021587e-...   \n",
              "4  [-8.46420446e-03 -1.74391275e-02 -3.04021587e-...   \n",
              "4  [-8.46420446e-03 -1.74391275e-02 -3.04021587e-...   \n",
              "4  [-8.46420446e-03 -1.74391275e-02 -3.04021587e-...   \n",
              "4  [-8.46420446e-03 -1.74391275e-02 -3.04021587e-...   \n",
              "\n",
              "                                   overall_embedding  \\\n",
              "3  [-3.72444206e-02 -1.18594729e-02 -2.65914233e-...   \n",
              "3  [-3.72444206e-02 -1.18594729e-02 -2.65914233e-...   \n",
              "3  [-3.72444206e-02 -1.18594729e-02 -2.65914233e-...   \n",
              "3  [-3.72444206e-02 -1.18594729e-02 -2.65914233e-...   \n",
              "3  [-3.72444206e-02 -1.18594729e-02 -2.65914233e-...   \n",
              "0  [-1.39428654e-02 -7.94268673e-03 -2.75115496e-...   \n",
              "0  [-1.39428654e-02 -7.94268673e-03 -2.75115496e-...   \n",
              "0  [-1.39428654e-02 -7.94268673e-03 -2.75115496e-...   \n",
              "0  [-1.39428654e-02 -7.94268673e-03 -2.75115496e-...   \n",
              "0  [-1.39428654e-02 -7.94268673e-03 -2.75115496e-...   \n",
              "1  [-1.49562186e-02 -1.20997473e-02 -1.77254046e-...   \n",
              "1  [-1.49562186e-02 -1.20997473e-02 -1.77254046e-...   \n",
              "1  [-1.49562186e-02 -1.20997473e-02 -1.77254046e-...   \n",
              "1  [-1.49562186e-02 -1.20997473e-02 -1.77254046e-...   \n",
              "1  [-1.49562186e-02 -1.20997473e-02 -1.77254046e-...   \n",
              "2  [-0.02347898 -0.01731962 -0.02790547  0.000921...   \n",
              "2  [-0.02347898 -0.01731962 -0.02790547  0.000921...   \n",
              "2  [-0.02347898 -0.01731962 -0.02790547  0.000921...   \n",
              "2  [-0.02347898 -0.01731962 -0.02790547  0.000921...   \n",
              "2  [-0.02347898 -0.01731962 -0.02790547  0.000921...   \n",
              "4  [-2.02630794e-02 -2.28220087e-02 -2.03435779e-...   \n",
              "4  [-2.02630794e-02 -2.28220087e-02 -2.03435779e-...   \n",
              "4  [-2.02630794e-02 -2.28220087e-02 -2.03435779e-...   \n",
              "4  [-2.02630794e-02 -2.28220087e-02 -2.03435779e-...   \n",
              "4  [-2.02630794e-02 -2.28220087e-02 -2.03435779e-...   \n",
              "\n",
              "                        ml_generate_embedding_result  \\\n",
              "3  [-4.30587344e-02 -6.94525093e-02 -3.08916345e-...   \n",
              "3  [-4.66634147e-02 -1.80950365e-03 -1.84153859e-...   \n",
              "3  [-0.05589295 -0.01434082  0.00880999 -0.026128...   \n",
              "3  [-4.25696969e-02 -6.16127253e-02 -6.23959641e-...   \n",
              "3  [-4.65844162e-02 -2.42230538e-02 -3.48388292e-...   \n",
              "0  [-3.66573147e-02 -1.60664450e-02  1.47968018e-...   \n",
              "0  [-1.16345128e-02 -4.30568047e-02 -1.48458006e-...   \n",
              "0  [-4.66634147e-02 -1.80950365e-03 -1.84153859e-...   \n",
              "0  [-3.26581709e-02 -2.29606368e-02 -2.05970611e-...   \n",
              "0  [-4.25696969e-02 -6.16127253e-02 -6.23959641e-...   \n",
              "1  [-4.65844162e-02 -2.42230538e-02 -3.48388292e-...   \n",
              "1  [-6.55993745e-02 -1.92916710e-02 -2.37861592e-...   \n",
              "1  [-1.20183444e-02 -2.99044251e-02 -1.47989215e-...   \n",
              "1  [-4.25696969e-02 -6.16127253e-02 -6.23959641e-...   \n",
              "1  [-9.61120520e-03 -2.12113801e-02 -1.15588652e-...   \n",
              "2  [-4.47499603e-02 -1.12841865e-02  2.69178487e-...   \n",
              "2  [-3.10617257e-02  4.66713216e-03 -5.74894771e-...   \n",
              "2  [-6.55993745e-02 -1.92916710e-02 -2.37861592e-...   \n",
              "2  [-3.37684043e-02 -1.83663459e-03 -3.69063504e-...   \n",
              "2  [-4.25696969e-02 -6.16127253e-02 -6.23959641e-...   \n",
              "4  [-0.03424182 -0.02437511 -0.02993707 -0.051027...   \n",
              "4  [-1.72231961e-02 -1.61067247e-02  1.44476667e-...   \n",
              "4  [-4.25696969e-02 -6.16127253e-02 -6.23959641e-...   \n",
              "4  [-2.47707199e-02 -2.66260467e-02  1.42063461e-...   \n",
              "4  [-9.61120520e-03 -2.12113801e-02 -1.15588652e-...   \n",
              "\n",
              "         ml_generate_embedding_statistics ml_generate_embedding_status  \\\n",
              "3   {\"token_count\":551,\"truncated\":false}                                \n",
              "3   {\"token_count\":441,\"truncated\":false}                                \n",
              "3   {\"token_count\":776,\"truncated\":false}                                \n",
              "3  {\"token_count\":1269,\"truncated\":false}                                \n",
              "3   {\"token_count\":509,\"truncated\":false}                                \n",
              "0  {\"token_count\":1539,\"truncated\":false}                                \n",
              "0  {\"token_count\":1393,\"truncated\":false}                                \n",
              "0   {\"token_count\":441,\"truncated\":false}                                \n",
              "0  {\"token_count\":1117,\"truncated\":false}                                \n",
              "0  {\"token_count\":1269,\"truncated\":false}                                \n",
              "1   {\"token_count\":509,\"truncated\":false}                                \n",
              "1   {\"token_count\":364,\"truncated\":false}                                \n",
              "1   {\"token_count\":625,\"truncated\":false}                                \n",
              "1  {\"token_count\":1269,\"truncated\":false}                                \n",
              "1   {\"token_count\":779,\"truncated\":false}                                \n",
              "2   {\"token_count\":402,\"truncated\":false}                                \n",
              "2   {\"token_count\":480,\"truncated\":false}                                \n",
              "2   {\"token_count\":364,\"truncated\":false}                                \n",
              "2   {\"token_count\":393,\"truncated\":false}                                \n",
              "2  {\"token_count\":1269,\"truncated\":false}                                \n",
              "4   {\"token_count\":500,\"truncated\":false}                                \n",
              "4   {\"token_count\":478,\"truncated\":false}                                \n",
              "4  {\"token_count\":1269,\"truncated\":false}                                \n",
              "4   {\"token_count\":426,\"truncated\":false}                                \n",
              "4   {\"token_count\":779,\"truncated\":false}                                \n",
              "\n",
              "                                 id  \\\n",
              "3  80210595c2e576cad4ef1b38b1c76f42   \n",
              "3  7fe4e612554df988fb6d4c4bf949b5bd   \n",
              "3  d7a2d99d60d8f1c5678866b973670c23   \n",
              "3  69ef263fb0ce90e8aedc9a456ed0c02d   \n",
              "3  a145fee70d224f197ae414be27f09beb   \n",
              "0  55f78bf10042846ac936f1564295e733   \n",
              "0  7af28a48e0a7aa4f22df07c1c42283bd   \n",
              "0  7fe4e612554df988fb6d4c4bf949b5bd   \n",
              "0  bffd0ae5fdfb5d316a2dc778d415b446   \n",
              "0  69ef263fb0ce90e8aedc9a456ed0c02d   \n",
              "1  a145fee70d224f197ae414be27f09beb   \n",
              "1  c09ee5721683dbd0c691e961585f7f74   \n",
              "1  b7e65a1605c5eeefc1e9b98e00dc28e1   \n",
              "1  69ef263fb0ce90e8aedc9a456ed0c02d   \n",
              "1  652c355b8848e75fdf85651bb0e31432   \n",
              "2  a46b5f4282e6f39e9ca97085e537f151   \n",
              "2  e22b3f32ce907a699c63408e1b3a1205   \n",
              "2  c09ee5721683dbd0c691e961585f7f74   \n",
              "2  a6ca2acd11304aa77cb43b8c456fb536   \n",
              "2  69ef263fb0ce90e8aedc9a456ed0c02d   \n",
              "4  59c38537b26fd1c6ea110bd3b190e588   \n",
              "4  d7fe2db6d46f007d12d2e0d2a7b998ca   \n",
              "4  69ef263fb0ce90e8aedc9a456ed0c02d   \n",
              "4  5220a1d4d9c02d813c8536464a5be416   \n",
              "4  652c355b8848e75fdf85651bb0e31432   \n",
              "\n",
              "                                               title  \\\n",
              "3  SEC Charges New Jersey Software Company and Se...   \n",
              "3  SEC Charges Companies, Former Executives as Pa...   \n",
              "3  SEC Charges Corporate Insiders for Failing to ...   \n",
              "3  SEC Announces Charges Against Corporate Inside...   \n",
              "3  SEC Charges Four Public Companies With Longsta...   \n",
              "0  Twenty-Six Firms to Pay More Than $390 Million...   \n",
              "0  SEC Charges 69 Audit Firms and Partners for Is...   \n",
              "0  SEC Charges Companies, Former Executives as Pa...   \n",
              "0  SEC Levies More Than $3.8 Million in Penalties...   \n",
              "0  SEC Announces Charges Against Corporate Inside...   \n",
              "1  SEC Charges Four Public Companies With Longsta...   \n",
              "1  SEC Charges ConAgra Foods, Inc. in Financial F...   \n",
              "1  SEC Charges Diebold and Former Executives With...   \n",
              "1  SEC Announces Charges Against Corporate Inside...   \n",
              "1  SEC Charges Delphi Corporation and Nine Indivi...   \n",
              "2  SEC Files Fraud Charges Against Nicor's Former...   \n",
              "2  El Paso Corp., Subsidiaries, and Former Employ...   \n",
              "2  SEC Charges ConAgra Foods, Inc. in Financial F...   \n",
              "2  SEC Charges Oilfield Services Company and Form...   \n",
              "2  SEC Announces Charges Against Corporate Inside...   \n",
              "4  SEC Charges General Electric and Two Subsidiar...   \n",
              "4  SEC Charges Health Care Co. and Two Former Emp...   \n",
              "4  SEC Announces Charges Against Corporate Inside...   \n",
              "4  Pharmaceutical Company and Former Executives C...   \n",
              "4  SEC Charges Delphi Corporation and Nine Indivi...   \n",
              "\n",
              "                                             content  distance  \n",
              "3  Title: SEC Charges New Jersey Software Company...   0.29471  \n",
              "3  Title: SEC Charges Companies, Former Executive...  0.294016  \n",
              "3  Title: SEC Charges Corporate Insiders for Fail...   0.29265  \n",
              "3  Title: SEC Announces Charges Against Corporate...  0.287852  \n",
              "3  Title: SEC Charges Four Public Companies With ...  0.282714  \n",
              "0  Title: Twenty-Six Firms to Pay More Than $390 ...  0.281621  \n",
              "0  Title: SEC Charges 69 Audit Firms and Partners...  0.280855  \n",
              "0  Title: SEC Charges Companies, Former Executive...  0.276745  \n",
              "0  Title: SEC Levies More Than $3.8 Million in Pe...  0.265691  \n",
              "0  Title: SEC Announces Charges Against Corporate...  0.255627  \n",
              "1  Title: SEC Charges Four Public Companies With ...  0.317972  \n",
              "1  Title: SEC Charges ConAgra Foods, Inc. in Fina...  0.317692  \n",
              "1  Title: SEC Charges Diebold and Former Executiv...  0.317495  \n",
              "1  Title: SEC Announces Charges Against Corporate...  0.315145  \n",
              "1  Title: SEC Charges Delphi Corporation and Nine...  0.310323  \n",
              "2  Title: SEC Files Fraud Charges Against Nicor's...  0.315959  \n",
              "2  Title: El Paso Corp., Subsidiaries, and Former...    0.3151  \n",
              "2  Title: SEC Charges ConAgra Foods, Inc. in Fina...  0.314247  \n",
              "2  Title: SEC Charges Oilfield Services Company a...   0.31363  \n",
              "2  Title: SEC Announces Charges Against Corporate...  0.303516  \n",
              "4  Title: SEC Charges General Electric and Two Su...  0.317306  \n",
              "4  Title: SEC Charges Health Care Co. and Two For...  0.315014  \n",
              "4  Title: SEC Announces Charges Against Corporate...  0.309091  \n",
              "4  Title: Pharmaceutical Company and Former Execu...  0.306597  \n",
              "4  Title: SEC Charges Delphi Corporation and Nine...  0.303072  \n",
              "\n",
              "[25 rows x 31 columns]"
            ],
            "text/html": [
              "<div>\n",
              "<style scoped>\n",
              "    .dataframe tbody tr th:only-of-type {\n",
              "        vertical-align: middle;\n",
              "    }\n",
              "\n",
              "    .dataframe tbody tr th {\n",
              "        vertical-align: top;\n",
              "    }\n",
              "\n",
              "    .dataframe thead th {\n",
              "        text-align: right;\n",
              "    }\n",
              "</style>\n",
              "<table border=\"1\" class=\"dataframe\">\n",
              "  <thead>\n",
              "    <tr style=\"text-align: right;\">\n",
              "      <th></th>\n",
              "      <th>filename</th>\n",
              "      <th>cik</th>\n",
              "      <th>year</th>\n",
              "      <th>section_7embedding</th>\n",
              "      <th>section_9embedding</th>\n",
              "      <th>section_12embedding</th>\n",
              "      <th>section_10embedding</th>\n",
              "      <th>section_4embedding</th>\n",
              "      <th>section_8embedding</th>\n",
              "      <th>section_14embedding</th>\n",
              "      <th>...</th>\n",
              "      <th>section_9Aembedding</th>\n",
              "      <th>section_1embedding</th>\n",
              "      <th>overall_embedding</th>\n",
              "      <th>ml_generate_embedding_result</th>\n",
              "      <th>ml_generate_embedding_statistics</th>\n",
              "      <th>ml_generate_embedding_status</th>\n",
              "      <th>id</th>\n",
              "      <th>title</th>\n",
              "      <th>content</th>\n",
              "      <th>distance</th>\n",
              "    </tr>\n",
              "  </thead>\n",
              "  <tbody>\n",
              "    <tr>\n",
              "      <th>3</th>\n",
              "      <td>1137091_2020.htm</td>\n",
              "      <td>1137091</td>\n",
              "      <td>2020</td>\n",
              "      <td>[-2.10153785e-02  2.59747695e-03 -3.92209039e-...</td>\n",
              "      <td>[-4.25587595e-02 -2.09636036e-02 -6.31605536e-...</td>\n",
              "      <td>[-6.73391223e-02 -1.49382157e-02 -3.27744223e-...</td>\n",
              "      <td>[-3.24487165e-02 -1.60200917e-03 -5.89513499e-...</td>\n",
              "      <td>[-3.31896767e-02  1.45743862e-02 -3.72849405e-...</td>\n",
              "      <td>[-1.28673098e-02 -8.76872710e-03 -2.86414517e-...</td>\n",
              "      <td>[-7.22742230e-02 -2.71525867e-02 -2.11981349e-...</td>\n",
              "      <td>...</td>\n",
              "      <td>[-3.16515304e-02 -1.75493170e-02 -9.58232504e-...</td>\n",
              "      <td>[-5.22894418e-03 -6.85504824e-03 -1.68921131e-...</td>\n",
              "      <td>[-3.72444206e-02 -1.18594729e-02 -2.65914233e-...</td>\n",
              "      <td>[-4.30587344e-02 -6.94525093e-02 -3.08916345e-...</td>\n",
              "      <td>{\"token_count\":551,\"truncated\":false}</td>\n",
              "      <td></td>\n",
              "      <td>80210595c2e576cad4ef1b38b1c76f42</td>\n",
              "      <td>SEC Charges New Jersey Software Company and Se...</td>\n",
              "      <td>Title: SEC Charges New Jersey Software Company...</td>\n",
              "      <td>0.29471</td>\n",
              "    </tr>\n",
              "    <tr>\n",
              "      <th>3</th>\n",
              "      <td>1137091_2020.htm</td>\n",
              "      <td>1137091</td>\n",
              "      <td>2020</td>\n",
              "      <td>[-2.10153785e-02  2.59747695e-03 -3.92209039e-...</td>\n",
              "      <td>[-4.25587595e-02 -2.09636036e-02 -6.31605536e-...</td>\n",
              "      <td>[-6.73391223e-02 -1.49382157e-02 -3.27744223e-...</td>\n",
              "      <td>[-3.24487165e-02 -1.60200917e-03 -5.89513499e-...</td>\n",
              "      <td>[-3.31896767e-02  1.45743862e-02 -3.72849405e-...</td>\n",
              "      <td>[-1.28673098e-02 -8.76872710e-03 -2.86414517e-...</td>\n",
              "      <td>[-7.22742230e-02 -2.71525867e-02 -2.11981349e-...</td>\n",
              "      <td>...</td>\n",
              "      <td>[-3.16515304e-02 -1.75493170e-02 -9.58232504e-...</td>\n",
              "      <td>[-5.22894418e-03 -6.85504824e-03 -1.68921131e-...</td>\n",
              "      <td>[-3.72444206e-02 -1.18594729e-02 -2.65914233e-...</td>\n",
              "      <td>[-4.66634147e-02 -1.80950365e-03 -1.84153859e-...</td>\n",
              "      <td>{\"token_count\":441,\"truncated\":false}</td>\n",
              "      <td></td>\n",
              "      <td>7fe4e612554df988fb6d4c4bf949b5bd</td>\n",
              "      <td>SEC Charges Companies, Former Executives as Pa...</td>\n",
              "      <td>Title: SEC Charges Companies, Former Executive...</td>\n",
              "      <td>0.294016</td>\n",
              "    </tr>\n",
              "    <tr>\n",
              "      <th>3</th>\n",
              "      <td>1137091_2020.htm</td>\n",
              "      <td>1137091</td>\n",
              "      <td>2020</td>\n",
              "      <td>[-2.10153785e-02  2.59747695e-03 -3.92209039e-...</td>\n",
              "      <td>[-4.25587595e-02 -2.09636036e-02 -6.31605536e-...</td>\n",
              "      <td>[-6.73391223e-02 -1.49382157e-02 -3.27744223e-...</td>\n",
              "      <td>[-3.24487165e-02 -1.60200917e-03 -5.89513499e-...</td>\n",
              "      <td>[-3.31896767e-02  1.45743862e-02 -3.72849405e-...</td>\n",
              "      <td>[-1.28673098e-02 -8.76872710e-03 -2.86414517e-...</td>\n",
              "      <td>[-7.22742230e-02 -2.71525867e-02 -2.11981349e-...</td>\n",
              "      <td>...</td>\n",
              "      <td>[-3.16515304e-02 -1.75493170e-02 -9.58232504e-...</td>\n",
              "      <td>[-5.22894418e-03 -6.85504824e-03 -1.68921131e-...</td>\n",
              "      <td>[-3.72444206e-02 -1.18594729e-02 -2.65914233e-...</td>\n",
              "      <td>[-0.05589295 -0.01434082  0.00880999 -0.026128...</td>\n",
              "      <td>{\"token_count\":776,\"truncated\":false}</td>\n",
              "      <td></td>\n",
              "      <td>d7a2d99d60d8f1c5678866b973670c23</td>\n",
              "      <td>SEC Charges Corporate Insiders for Failing to ...</td>\n",
              "      <td>Title: SEC Charges Corporate Insiders for Fail...</td>\n",
              "      <td>0.29265</td>\n",
              "    </tr>\n",
              "    <tr>\n",
              "      <th>3</th>\n",
              "      <td>1137091_2020.htm</td>\n",
              "      <td>1137091</td>\n",
              "      <td>2020</td>\n",
              "      <td>[-2.10153785e-02  2.59747695e-03 -3.92209039e-...</td>\n",
              "      <td>[-4.25587595e-02 -2.09636036e-02 -6.31605536e-...</td>\n",
              "      <td>[-6.73391223e-02 -1.49382157e-02 -3.27744223e-...</td>\n",
              "      <td>[-3.24487165e-02 -1.60200917e-03 -5.89513499e-...</td>\n",
              "      <td>[-3.31896767e-02  1.45743862e-02 -3.72849405e-...</td>\n",
              "      <td>[-1.28673098e-02 -8.76872710e-03 -2.86414517e-...</td>\n",
              "      <td>[-7.22742230e-02 -2.71525867e-02 -2.11981349e-...</td>\n",
              "      <td>...</td>\n",
              "      <td>[-3.16515304e-02 -1.75493170e-02 -9.58232504e-...</td>\n",
              "      <td>[-5.22894418e-03 -6.85504824e-03 -1.68921131e-...</td>\n",
              "      <td>[-3.72444206e-02 -1.18594729e-02 -2.65914233e-...</td>\n",
              "      <td>[-4.25696969e-02 -6.16127253e-02 -6.23959641e-...</td>\n",
              "      <td>{\"token_count\":1269,\"truncated\":false}</td>\n",
              "      <td></td>\n",
              "      <td>69ef263fb0ce90e8aedc9a456ed0c02d</td>\n",
              "      <td>SEC Announces Charges Against Corporate Inside...</td>\n",
              "      <td>Title: SEC Announces Charges Against Corporate...</td>\n",
              "      <td>0.287852</td>\n",
              "    </tr>\n",
              "    <tr>\n",
              "      <th>3</th>\n",
              "      <td>1137091_2020.htm</td>\n",
              "      <td>1137091</td>\n",
              "      <td>2020</td>\n",
              "      <td>[-2.10153785e-02  2.59747695e-03 -3.92209039e-...</td>\n",
              "      <td>[-4.25587595e-02 -2.09636036e-02 -6.31605536e-...</td>\n",
              "      <td>[-6.73391223e-02 -1.49382157e-02 -3.27744223e-...</td>\n",
              "      <td>[-3.24487165e-02 -1.60200917e-03 -5.89513499e-...</td>\n",
              "      <td>[-3.31896767e-02  1.45743862e-02 -3.72849405e-...</td>\n",
              "      <td>[-1.28673098e-02 -8.76872710e-03 -2.86414517e-...</td>\n",
              "      <td>[-7.22742230e-02 -2.71525867e-02 -2.11981349e-...</td>\n",
              "      <td>...</td>\n",
              "      <td>[-3.16515304e-02 -1.75493170e-02 -9.58232504e-...</td>\n",
              "      <td>[-5.22894418e-03 -6.85504824e-03 -1.68921131e-...</td>\n",
              "      <td>[-3.72444206e-02 -1.18594729e-02 -2.65914233e-...</td>\n",
              "      <td>[-4.65844162e-02 -2.42230538e-02 -3.48388292e-...</td>\n",
              "      <td>{\"token_count\":509,\"truncated\":false}</td>\n",
              "      <td></td>\n",
              "      <td>a145fee70d224f197ae414be27f09beb</td>\n",
              "      <td>SEC Charges Four Public Companies With Longsta...</td>\n",
              "      <td>Title: SEC Charges Four Public Companies With ...</td>\n",
              "      <td>0.282714</td>\n",
              "    </tr>\n",
              "    <tr>\n",
              "      <th>0</th>\n",
              "      <td>1067983_2020.htm</td>\n",
              "      <td>1067983</td>\n",
              "      <td>2020</td>\n",
              "      <td>[-3.98591966e-04 -6.93545857e-03 -3.90583078e-...</td>\n",
              "      <td>[-3.78713012e-02 -2.25618221e-02 -6.61137030e-...</td>\n",
              "      <td>[0. 0. 0. 0. 0. 0. 0. 0. 0. 0. 0. 0. 0. 0. 0. ...</td>\n",
              "      <td>[0. 0. 0. 0. 0. 0. 0. 0. 0. 0. 0. 0. 0. 0. 0. ...</td>\n",
              "      <td>[-0.0344297  -0.01074299 -0.04601453  0.000932...</td>\n",
              "      <td>[-1.76449773e-02 -9.34779196e-03 -3.27466425e-...</td>\n",
              "      <td>[0. 0. 0. 0. 0. 0. 0. 0. 0. 0. 0. 0. 0. 0. 0. ...</td>\n",
              "      <td>...</td>\n",
              "      <td>[ 1.63675216e-03 -2.70394441e-02 -3.73632014e-...</td>\n",
              "      <td>[ 7.57767455e-03 -5.32740511e-03 -1.38319638e-...</td>\n",
              "      <td>[-1.39428654e-02 -7.94268673e-03 -2.75115496e-...</td>\n",
              "      <td>[-3.66573147e-02 -1.60664450e-02  1.47968018e-...</td>\n",
              "      <td>{\"token_count\":1539,\"truncated\":false}</td>\n",
              "      <td></td>\n",
              "      <td>55f78bf10042846ac936f1564295e733</td>\n",
              "      <td>Twenty-Six Firms to Pay More Than $390 Million...</td>\n",
              "      <td>Title: Twenty-Six Firms to Pay More Than $390 ...</td>\n",
              "      <td>0.281621</td>\n",
              "    </tr>\n",
              "    <tr>\n",
              "      <th>0</th>\n",
              "      <td>1067983_2020.htm</td>\n",
              "      <td>1067983</td>\n",
              "      <td>2020</td>\n",
              "      <td>[-3.98591966e-04 -6.93545857e-03 -3.90583078e-...</td>\n",
              "      <td>[-3.78713012e-02 -2.25618221e-02 -6.61137030e-...</td>\n",
              "      <td>[0. 0. 0. 0. 0. 0. 0. 0. 0. 0. 0. 0. 0. 0. 0. ...</td>\n",
              "      <td>[0. 0. 0. 0. 0. 0. 0. 0. 0. 0. 0. 0. 0. 0. 0. ...</td>\n",
              "      <td>[-0.0344297  -0.01074299 -0.04601453  0.000932...</td>\n",
              "      <td>[-1.76449773e-02 -9.34779196e-03 -3.27466425e-...</td>\n",
              "      <td>[0. 0. 0. 0. 0. 0. 0. 0. 0. 0. 0. 0. 0. 0. 0. ...</td>\n",
              "      <td>...</td>\n",
              "      <td>[ 1.63675216e-03 -2.70394441e-02 -3.73632014e-...</td>\n",
              "      <td>[ 7.57767455e-03 -5.32740511e-03 -1.38319638e-...</td>\n",
              "      <td>[-1.39428654e-02 -7.94268673e-03 -2.75115496e-...</td>\n",
              "      <td>[-1.16345128e-02 -4.30568047e-02 -1.48458006e-...</td>\n",
              "      <td>{\"token_count\":1393,\"truncated\":false}</td>\n",
              "      <td></td>\n",
              "      <td>7af28a48e0a7aa4f22df07c1c42283bd</td>\n",
              "      <td>SEC Charges 69 Audit Firms and Partners for Is...</td>\n",
              "      <td>Title: SEC Charges 69 Audit Firms and Partners...</td>\n",
              "      <td>0.280855</td>\n",
              "    </tr>\n",
              "    <tr>\n",
              "      <th>0</th>\n",
              "      <td>1067983_2020.htm</td>\n",
              "      <td>1067983</td>\n",
              "      <td>2020</td>\n",
              "      <td>[-3.98591966e-04 -6.93545857e-03 -3.90583078e-...</td>\n",
              "      <td>[-3.78713012e-02 -2.25618221e-02 -6.61137030e-...</td>\n",
              "      <td>[0. 0. 0. 0. 0. 0. 0. 0. 0. 0. 0. 0. 0. 0. 0. ...</td>\n",
              "      <td>[0. 0. 0. 0. 0. 0. 0. 0. 0. 0. 0. 0. 0. 0. 0. ...</td>\n",
              "      <td>[-0.0344297  -0.01074299 -0.04601453  0.000932...</td>\n",
              "      <td>[-1.76449773e-02 -9.34779196e-03 -3.27466425e-...</td>\n",
              "      <td>[0. 0. 0. 0. 0. 0. 0. 0. 0. 0. 0. 0. 0. 0. 0. ...</td>\n",
              "      <td>...</td>\n",
              "      <td>[ 1.63675216e-03 -2.70394441e-02 -3.73632014e-...</td>\n",
              "      <td>[ 7.57767455e-03 -5.32740511e-03 -1.38319638e-...</td>\n",
              "      <td>[-1.39428654e-02 -7.94268673e-03 -2.75115496e-...</td>\n",
              "      <td>[-4.66634147e-02 -1.80950365e-03 -1.84153859e-...</td>\n",
              "      <td>{\"token_count\":441,\"truncated\":false}</td>\n",
              "      <td></td>\n",
              "      <td>7fe4e612554df988fb6d4c4bf949b5bd</td>\n",
              "      <td>SEC Charges Companies, Former Executives as Pa...</td>\n",
              "      <td>Title: SEC Charges Companies, Former Executive...</td>\n",
              "      <td>0.276745</td>\n",
              "    </tr>\n",
              "    <tr>\n",
              "      <th>0</th>\n",
              "      <td>1067983_2020.htm</td>\n",
              "      <td>1067983</td>\n",
              "      <td>2020</td>\n",
              "      <td>[-3.98591966e-04 -6.93545857e-03 -3.90583078e-...</td>\n",
              "      <td>[-3.78713012e-02 -2.25618221e-02 -6.61137030e-...</td>\n",
              "      <td>[0. 0. 0. 0. 0. 0. 0. 0. 0. 0. 0. 0. 0. 0. 0. ...</td>\n",
              "      <td>[0. 0. 0. 0. 0. 0. 0. 0. 0. 0. 0. 0. 0. 0. 0. ...</td>\n",
              "      <td>[-0.0344297  -0.01074299 -0.04601453  0.000932...</td>\n",
              "      <td>[-1.76449773e-02 -9.34779196e-03 -3.27466425e-...</td>\n",
              "      <td>[0. 0. 0. 0. 0. 0. 0. 0. 0. 0. 0. 0. 0. 0. 0. ...</td>\n",
              "      <td>...</td>\n",
              "      <td>[ 1.63675216e-03 -2.70394441e-02 -3.73632014e-...</td>\n",
              "      <td>[ 7.57767455e-03 -5.32740511e-03 -1.38319638e-...</td>\n",
              "      <td>[-1.39428654e-02 -7.94268673e-03 -2.75115496e-...</td>\n",
              "      <td>[-3.26581709e-02 -2.29606368e-02 -2.05970611e-...</td>\n",
              "      <td>{\"token_count\":1117,\"truncated\":false}</td>\n",
              "      <td></td>\n",
              "      <td>bffd0ae5fdfb5d316a2dc778d415b446</td>\n",
              "      <td>SEC Levies More Than $3.8 Million in Penalties...</td>\n",
              "      <td>Title: SEC Levies More Than $3.8 Million in Pe...</td>\n",
              "      <td>0.265691</td>\n",
              "    </tr>\n",
              "    <tr>\n",
              "      <th>0</th>\n",
              "      <td>1067983_2020.htm</td>\n",
              "      <td>1067983</td>\n",
              "      <td>2020</td>\n",
              "      <td>[-3.98591966e-04 -6.93545857e-03 -3.90583078e-...</td>\n",
              "      <td>[-3.78713012e-02 -2.25618221e-02 -6.61137030e-...</td>\n",
              "      <td>[0. 0. 0. 0. 0. 0. 0. 0. 0. 0. 0. 0. 0. 0. 0. ...</td>\n",
              "      <td>[0. 0. 0. 0. 0. 0. 0. 0. 0. 0. 0. 0. 0. 0. 0. ...</td>\n",
              "      <td>[-0.0344297  -0.01074299 -0.04601453  0.000932...</td>\n",
              "      <td>[-1.76449773e-02 -9.34779196e-03 -3.27466425e-...</td>\n",
              "      <td>[0. 0. 0. 0. 0. 0. 0. 0. 0. 0. 0. 0. 0. 0. 0. ...</td>\n",
              "      <td>...</td>\n",
              "      <td>[ 1.63675216e-03 -2.70394441e-02 -3.73632014e-...</td>\n",
              "      <td>[ 7.57767455e-03 -5.32740511e-03 -1.38319638e-...</td>\n",
              "      <td>[-1.39428654e-02 -7.94268673e-03 -2.75115496e-...</td>\n",
              "      <td>[-4.25696969e-02 -6.16127253e-02 -6.23959641e-...</td>\n",
              "      <td>{\"token_count\":1269,\"truncated\":false}</td>\n",
              "      <td></td>\n",
              "      <td>69ef263fb0ce90e8aedc9a456ed0c02d</td>\n",
              "      <td>SEC Announces Charges Against Corporate Inside...</td>\n",
              "      <td>Title: SEC Announces Charges Against Corporate...</td>\n",
              "      <td>0.255627</td>\n",
              "    </tr>\n",
              "    <tr>\n",
              "      <th>1</th>\n",
              "      <td>315189_1993.txt</td>\n",
              "      <td>315189</td>\n",
              "      <td>1993</td>\n",
              "      <td>[-1.35571547e-02 -1.56442206e-02 -2.92028040e-...</td>\n",
              "      <td>[-1.83812398e-02  1.81908242e-03 -2.49630474e-...</td>\n",
              "      <td>[-3.85654159e-02 -1.78559888e-02 -4.98842299e-...</td>\n",
              "      <td>[-5.09253442e-02 -3.28539982e-02 -1.21700037e-...</td>\n",
              "      <td>[-4.47579399e-02 -1.16266981e-02 -4.29858454e-...</td>\n",
              "      <td>[-9.26065768e-05 -5.11534102e-02 -4.29588519e-...</td>\n",
              "      <td>[ 2.28945124e-02  5.21549085e-03 -1.74354800e-...</td>\n",
              "      <td>...</td>\n",
              "      <td>[0. 0. 0. 0. 0. 0. 0. 0. 0. 0. 0. 0. 0. 0. 0. ...</td>\n",
              "      <td>[ 2.29252045e-02  2.62432406e-03 -4.36920724e-...</td>\n",
              "      <td>[-1.49562186e-02 -1.20997473e-02 -1.77254046e-...</td>\n",
              "      <td>[-4.65844162e-02 -2.42230538e-02 -3.48388292e-...</td>\n",
              "      <td>{\"token_count\":509,\"truncated\":false}</td>\n",
              "      <td></td>\n",
              "      <td>a145fee70d224f197ae414be27f09beb</td>\n",
              "      <td>SEC Charges Four Public Companies With Longsta...</td>\n",
              "      <td>Title: SEC Charges Four Public Companies With ...</td>\n",
              "      <td>0.317972</td>\n",
              "    </tr>\n",
              "    <tr>\n",
              "      <th>1</th>\n",
              "      <td>315189_1993.txt</td>\n",
              "      <td>315189</td>\n",
              "      <td>1993</td>\n",
              "      <td>[-1.35571547e-02 -1.56442206e-02 -2.92028040e-...</td>\n",
              "      <td>[-1.83812398e-02  1.81908242e-03 -2.49630474e-...</td>\n",
              "      <td>[-3.85654159e-02 -1.78559888e-02 -4.98842299e-...</td>\n",
              "      <td>[-5.09253442e-02 -3.28539982e-02 -1.21700037e-...</td>\n",
              "      <td>[-4.47579399e-02 -1.16266981e-02 -4.29858454e-...</td>\n",
              "      <td>[-9.26065768e-05 -5.11534102e-02 -4.29588519e-...</td>\n",
              "      <td>[ 2.28945124e-02  5.21549085e-03 -1.74354800e-...</td>\n",
              "      <td>...</td>\n",
              "      <td>[0. 0. 0. 0. 0. 0. 0. 0. 0. 0. 0. 0. 0. 0. 0. ...</td>\n",
              "      <td>[ 2.29252045e-02  2.62432406e-03 -4.36920724e-...</td>\n",
              "      <td>[-1.49562186e-02 -1.20997473e-02 -1.77254046e-...</td>\n",
              "      <td>[-6.55993745e-02 -1.92916710e-02 -2.37861592e-...</td>\n",
              "      <td>{\"token_count\":364,\"truncated\":false}</td>\n",
              "      <td></td>\n",
              "      <td>c09ee5721683dbd0c691e961585f7f74</td>\n",
              "      <td>SEC Charges ConAgra Foods, Inc. in Financial F...</td>\n",
              "      <td>Title: SEC Charges ConAgra Foods, Inc. in Fina...</td>\n",
              "      <td>0.317692</td>\n",
              "    </tr>\n",
              "    <tr>\n",
              "      <th>1</th>\n",
              "      <td>315189_1993.txt</td>\n",
              "      <td>315189</td>\n",
              "      <td>1993</td>\n",
              "      <td>[-1.35571547e-02 -1.56442206e-02 -2.92028040e-...</td>\n",
              "      <td>[-1.83812398e-02  1.81908242e-03 -2.49630474e-...</td>\n",
              "      <td>[-3.85654159e-02 -1.78559888e-02 -4.98842299e-...</td>\n",
              "      <td>[-5.09253442e-02 -3.28539982e-02 -1.21700037e-...</td>\n",
              "      <td>[-4.47579399e-02 -1.16266981e-02 -4.29858454e-...</td>\n",
              "      <td>[-9.26065768e-05 -5.11534102e-02 -4.29588519e-...</td>\n",
              "      <td>[ 2.28945124e-02  5.21549085e-03 -1.74354800e-...</td>\n",
              "      <td>...</td>\n",
              "      <td>[0. 0. 0. 0. 0. 0. 0. 0. 0. 0. 0. 0. 0. 0. 0. ...</td>\n",
              "      <td>[ 2.29252045e-02  2.62432406e-03 -4.36920724e-...</td>\n",
              "      <td>[-1.49562186e-02 -1.20997473e-02 -1.77254046e-...</td>\n",
              "      <td>[-1.20183444e-02 -2.99044251e-02 -1.47989215e-...</td>\n",
              "      <td>{\"token_count\":625,\"truncated\":false}</td>\n",
              "      <td></td>\n",
              "      <td>b7e65a1605c5eeefc1e9b98e00dc28e1</td>\n",
              "      <td>SEC Charges Diebold and Former Executives With...</td>\n",
              "      <td>Title: SEC Charges Diebold and Former Executiv...</td>\n",
              "      <td>0.317495</td>\n",
              "    </tr>\n",
              "    <tr>\n",
              "      <th>1</th>\n",
              "      <td>315189_1993.txt</td>\n",
              "      <td>315189</td>\n",
              "      <td>1993</td>\n",
              "      <td>[-1.35571547e-02 -1.56442206e-02 -2.92028040e-...</td>\n",
              "      <td>[-1.83812398e-02  1.81908242e-03 -2.49630474e-...</td>\n",
              "      <td>[-3.85654159e-02 -1.78559888e-02 -4.98842299e-...</td>\n",
              "      <td>[-5.09253442e-02 -3.28539982e-02 -1.21700037e-...</td>\n",
              "      <td>[-4.47579399e-02 -1.16266981e-02 -4.29858454e-...</td>\n",
              "      <td>[-9.26065768e-05 -5.11534102e-02 -4.29588519e-...</td>\n",
              "      <td>[ 2.28945124e-02  5.21549085e-03 -1.74354800e-...</td>\n",
              "      <td>...</td>\n",
              "      <td>[0. 0. 0. 0. 0. 0. 0. 0. 0. 0. 0. 0. 0. 0. 0. ...</td>\n",
              "      <td>[ 2.29252045e-02  2.62432406e-03 -4.36920724e-...</td>\n",
              "      <td>[-1.49562186e-02 -1.20997473e-02 -1.77254046e-...</td>\n",
              "      <td>[-4.25696969e-02 -6.16127253e-02 -6.23959641e-...</td>\n",
              "      <td>{\"token_count\":1269,\"truncated\":false}</td>\n",
              "      <td></td>\n",
              "      <td>69ef263fb0ce90e8aedc9a456ed0c02d</td>\n",
              "      <td>SEC Announces Charges Against Corporate Inside...</td>\n",
              "      <td>Title: SEC Announces Charges Against Corporate...</td>\n",
              "      <td>0.315145</td>\n",
              "    </tr>\n",
              "    <tr>\n",
              "      <th>1</th>\n",
              "      <td>315189_1993.txt</td>\n",
              "      <td>315189</td>\n",
              "      <td>1993</td>\n",
              "      <td>[-1.35571547e-02 -1.56442206e-02 -2.92028040e-...</td>\n",
              "      <td>[-1.83812398e-02  1.81908242e-03 -2.49630474e-...</td>\n",
              "      <td>[-3.85654159e-02 -1.78559888e-02 -4.98842299e-...</td>\n",
              "      <td>[-5.09253442e-02 -3.28539982e-02 -1.21700037e-...</td>\n",
              "      <td>[-4.47579399e-02 -1.16266981e-02 -4.29858454e-...</td>\n",
              "      <td>[-9.26065768e-05 -5.11534102e-02 -4.29588519e-...</td>\n",
              "      <td>[ 2.28945124e-02  5.21549085e-03 -1.74354800e-...</td>\n",
              "      <td>...</td>\n",
              "      <td>[0. 0. 0. 0. 0. 0. 0. 0. 0. 0. 0. 0. 0. 0. 0. ...</td>\n",
              "      <td>[ 2.29252045e-02  2.62432406e-03 -4.36920724e-...</td>\n",
              "      <td>[-1.49562186e-02 -1.20997473e-02 -1.77254046e-...</td>\n",
              "      <td>[-9.61120520e-03 -2.12113801e-02 -1.15588652e-...</td>\n",
              "      <td>{\"token_count\":779,\"truncated\":false}</td>\n",
              "      <td></td>\n",
              "      <td>652c355b8848e75fdf85651bb0e31432</td>\n",
              "      <td>SEC Charges Delphi Corporation and Nine Indivi...</td>\n",
              "      <td>Title: SEC Charges Delphi Corporation and Nine...</td>\n",
              "      <td>0.310323</td>\n",
              "    </tr>\n",
              "    <tr>\n",
              "      <th>2</th>\n",
              "      <td>50104_1993.txt</td>\n",
              "      <td>50104</td>\n",
              "      <td>1993</td>\n",
              "      <td>[-3.47243063e-02  1.94188505e-02 -8.92389864e-...</td>\n",
              "      <td>[-1.55314188e-02 -2.45964527e-03 -3.88711654e-...</td>\n",
              "      <td>[-3.79250757e-02 -4.47099060e-02 -3.67634818e-...</td>\n",
              "      <td>[-4.57181484e-02 -5.33069260e-02 -1.22106224e-...</td>\n",
              "      <td>[-0.05072239 -0.01314292 -0.03440231 -0.023048...</td>\n",
              "      <td>[-3.04003223e-02  4.79081871e-03 -5.41995295e-...</td>\n",
              "      <td>[ 3.38502717e-03 -5.04764915e-03 -5.59636764e-...</td>\n",
              "      <td>...</td>\n",
              "      <td>[0. 0. 0. 0. 0. 0. 0. 0. 0. 0. 0. 0. 0. 0. 0. ...</td>\n",
              "      <td>[-0.03292404  0.00087296 -0.04182    -0.004596...</td>\n",
              "      <td>[-0.02347898 -0.01731962 -0.02790547  0.000921...</td>\n",
              "      <td>[-4.47499603e-02 -1.12841865e-02  2.69178487e-...</td>\n",
              "      <td>{\"token_count\":402,\"truncated\":false}</td>\n",
              "      <td></td>\n",
              "      <td>a46b5f4282e6f39e9ca97085e537f151</td>\n",
              "      <td>SEC Files Fraud Charges Against Nicor's Former...</td>\n",
              "      <td>Title: SEC Files Fraud Charges Against Nicor's...</td>\n",
              "      <td>0.315959</td>\n",
              "    </tr>\n",
              "    <tr>\n",
              "      <th>2</th>\n",
              "      <td>50104_1993.txt</td>\n",
              "      <td>50104</td>\n",
              "      <td>1993</td>\n",
              "      <td>[-3.47243063e-02  1.94188505e-02 -8.92389864e-...</td>\n",
              "      <td>[-1.55314188e-02 -2.45964527e-03 -3.88711654e-...</td>\n",
              "      <td>[-3.79250757e-02 -4.47099060e-02 -3.67634818e-...</td>\n",
              "      <td>[-4.57181484e-02 -5.33069260e-02 -1.22106224e-...</td>\n",
              "      <td>[-0.05072239 -0.01314292 -0.03440231 -0.023048...</td>\n",
              "      <td>[-3.04003223e-02  4.79081871e-03 -5.41995295e-...</td>\n",
              "      <td>[ 3.38502717e-03 -5.04764915e-03 -5.59636764e-...</td>\n",
              "      <td>...</td>\n",
              "      <td>[0. 0. 0. 0. 0. 0. 0. 0. 0. 0. 0. 0. 0. 0. 0. ...</td>\n",
              "      <td>[-0.03292404  0.00087296 -0.04182    -0.004596...</td>\n",
              "      <td>[-0.02347898 -0.01731962 -0.02790547  0.000921...</td>\n",
              "      <td>[-3.10617257e-02  4.66713216e-03 -5.74894771e-...</td>\n",
              "      <td>{\"token_count\":480,\"truncated\":false}</td>\n",
              "      <td></td>\n",
              "      <td>e22b3f32ce907a699c63408e1b3a1205</td>\n",
              "      <td>El Paso Corp., Subsidiaries, and Former Employ...</td>\n",
              "      <td>Title: El Paso Corp., Subsidiaries, and Former...</td>\n",
              "      <td>0.3151</td>\n",
              "    </tr>\n",
              "    <tr>\n",
              "      <th>2</th>\n",
              "      <td>50104_1993.txt</td>\n",
              "      <td>50104</td>\n",
              "      <td>1993</td>\n",
              "      <td>[-3.47243063e-02  1.94188505e-02 -8.92389864e-...</td>\n",
              "      <td>[-1.55314188e-02 -2.45964527e-03 -3.88711654e-...</td>\n",
              "      <td>[-3.79250757e-02 -4.47099060e-02 -3.67634818e-...</td>\n",
              "      <td>[-4.57181484e-02 -5.33069260e-02 -1.22106224e-...</td>\n",
              "      <td>[-0.05072239 -0.01314292 -0.03440231 -0.023048...</td>\n",
              "      <td>[-3.04003223e-02  4.79081871e-03 -5.41995295e-...</td>\n",
              "      <td>[ 3.38502717e-03 -5.04764915e-03 -5.59636764e-...</td>\n",
              "      <td>...</td>\n",
              "      <td>[0. 0. 0. 0. 0. 0. 0. 0. 0. 0. 0. 0. 0. 0. 0. ...</td>\n",
              "      <td>[-0.03292404  0.00087296 -0.04182    -0.004596...</td>\n",
              "      <td>[-0.02347898 -0.01731962 -0.02790547  0.000921...</td>\n",
              "      <td>[-6.55993745e-02 -1.92916710e-02 -2.37861592e-...</td>\n",
              "      <td>{\"token_count\":364,\"truncated\":false}</td>\n",
              "      <td></td>\n",
              "      <td>c09ee5721683dbd0c691e961585f7f74</td>\n",
              "      <td>SEC Charges ConAgra Foods, Inc. in Financial F...</td>\n",
              "      <td>Title: SEC Charges ConAgra Foods, Inc. in Fina...</td>\n",
              "      <td>0.314247</td>\n",
              "    </tr>\n",
              "    <tr>\n",
              "      <th>2</th>\n",
              "      <td>50104_1993.txt</td>\n",
              "      <td>50104</td>\n",
              "      <td>1993</td>\n",
              "      <td>[-3.47243063e-02  1.94188505e-02 -8.92389864e-...</td>\n",
              "      <td>[-1.55314188e-02 -2.45964527e-03 -3.88711654e-...</td>\n",
              "      <td>[-3.79250757e-02 -4.47099060e-02 -3.67634818e-...</td>\n",
              "      <td>[-4.57181484e-02 -5.33069260e-02 -1.22106224e-...</td>\n",
              "      <td>[-0.05072239 -0.01314292 -0.03440231 -0.023048...</td>\n",
              "      <td>[-3.04003223e-02  4.79081871e-03 -5.41995295e-...</td>\n",
              "      <td>[ 3.38502717e-03 -5.04764915e-03 -5.59636764e-...</td>\n",
              "      <td>...</td>\n",
              "      <td>[0. 0. 0. 0. 0. 0. 0. 0. 0. 0. 0. 0. 0. 0. 0. ...</td>\n",
              "      <td>[-0.03292404  0.00087296 -0.04182    -0.004596...</td>\n",
              "      <td>[-0.02347898 -0.01731962 -0.02790547  0.000921...</td>\n",
              "      <td>[-3.37684043e-02 -1.83663459e-03 -3.69063504e-...</td>\n",
              "      <td>{\"token_count\":393,\"truncated\":false}</td>\n",
              "      <td></td>\n",
              "      <td>a6ca2acd11304aa77cb43b8c456fb536</td>\n",
              "      <td>SEC Charges Oilfield Services Company and Form...</td>\n",
              "      <td>Title: SEC Charges Oilfield Services Company a...</td>\n",
              "      <td>0.31363</td>\n",
              "    </tr>\n",
              "    <tr>\n",
              "      <th>2</th>\n",
              "      <td>50104_1993.txt</td>\n",
              "      <td>50104</td>\n",
              "      <td>1993</td>\n",
              "      <td>[-3.47243063e-02  1.94188505e-02 -8.92389864e-...</td>\n",
              "      <td>[-1.55314188e-02 -2.45964527e-03 -3.88711654e-...</td>\n",
              "      <td>[-3.79250757e-02 -4.47099060e-02 -3.67634818e-...</td>\n",
              "      <td>[-4.57181484e-02 -5.33069260e-02 -1.22106224e-...</td>\n",
              "      <td>[-0.05072239 -0.01314292 -0.03440231 -0.023048...</td>\n",
              "      <td>[-3.04003223e-02  4.79081871e-03 -5.41995295e-...</td>\n",
              "      <td>[ 3.38502717e-03 -5.04764915e-03 -5.59636764e-...</td>\n",
              "      <td>...</td>\n",
              "      <td>[0. 0. 0. 0. 0. 0. 0. 0. 0. 0. 0. 0. 0. 0. 0. ...</td>\n",
              "      <td>[-0.03292404  0.00087296 -0.04182    -0.004596...</td>\n",
              "      <td>[-0.02347898 -0.01731962 -0.02790547  0.000921...</td>\n",
              "      <td>[-4.25696969e-02 -6.16127253e-02 -6.23959641e-...</td>\n",
              "      <td>{\"token_count\":1269,\"truncated\":false}</td>\n",
              "      <td></td>\n",
              "      <td>69ef263fb0ce90e8aedc9a456ed0c02d</td>\n",
              "      <td>SEC Announces Charges Against Corporate Inside...</td>\n",
              "      <td>Title: SEC Announces Charges Against Corporate...</td>\n",
              "      <td>0.303516</td>\n",
              "    </tr>\n",
              "    <tr>\n",
              "      <th>4</th>\n",
              "      <td>1800_1993.txt</td>\n",
              "      <td>1800</td>\n",
              "      <td>1993</td>\n",
              "      <td>[-0.01756296 -0.01733708 -0.01346771 -0.013578...</td>\n",
              "      <td>[-1.56782791e-02 -6.42858818e-03 -3.48928086e-...</td>\n",
              "      <td>[-4.16508093e-02 -2.62772869e-02 -3.11164446e-...</td>\n",
              "      <td>[-6.22933321e-02 -4.06846032e-02 -2.88069844e-...</td>\n",
              "      <td>[-0.01235421 -0.05187324 -0.01839188  0.048709...</td>\n",
              "      <td>[-0.01758242 -0.04470409 -0.02377128 -0.002298...</td>\n",
              "      <td>[ 3.80702619e-03 -6.57393262e-02 -4.26834710e-...</td>\n",
              "      <td>...</td>\n",
              "      <td>[0. 0. 0. 0. 0. 0. 0. 0. 0. 0. 0. 0. 0. 0. 0. ...</td>\n",
              "      <td>[-8.46420446e-03 -1.74391275e-02 -3.04021587e-...</td>\n",
              "      <td>[-2.02630794e-02 -2.28220087e-02 -2.03435779e-...</td>\n",
              "      <td>[-0.03424182 -0.02437511 -0.02993707 -0.051027...</td>\n",
              "      <td>{\"token_count\":500,\"truncated\":false}</td>\n",
              "      <td></td>\n",
              "      <td>59c38537b26fd1c6ea110bd3b190e588</td>\n",
              "      <td>SEC Charges General Electric and Two Subsidiar...</td>\n",
              "      <td>Title: SEC Charges General Electric and Two Su...</td>\n",
              "      <td>0.317306</td>\n",
              "    </tr>\n",
              "    <tr>\n",
              "      <th>4</th>\n",
              "      <td>1800_1993.txt</td>\n",
              "      <td>1800</td>\n",
              "      <td>1993</td>\n",
              "      <td>[-0.01756296 -0.01733708 -0.01346771 -0.013578...</td>\n",
              "      <td>[-1.56782791e-02 -6.42858818e-03 -3.48928086e-...</td>\n",
              "      <td>[-4.16508093e-02 -2.62772869e-02 -3.11164446e-...</td>\n",
              "      <td>[-6.22933321e-02 -4.06846032e-02 -2.88069844e-...</td>\n",
              "      <td>[-0.01235421 -0.05187324 -0.01839188  0.048709...</td>\n",
              "      <td>[-0.01758242 -0.04470409 -0.02377128 -0.002298...</td>\n",
              "      <td>[ 3.80702619e-03 -6.57393262e-02 -4.26834710e-...</td>\n",
              "      <td>...</td>\n",
              "      <td>[0. 0. 0. 0. 0. 0. 0. 0. 0. 0. 0. 0. 0. 0. 0. ...</td>\n",
              "      <td>[-8.46420446e-03 -1.74391275e-02 -3.04021587e-...</td>\n",
              "      <td>[-2.02630794e-02 -2.28220087e-02 -2.03435779e-...</td>\n",
              "      <td>[-1.72231961e-02 -1.61067247e-02  1.44476667e-...</td>\n",
              "      <td>{\"token_count\":478,\"truncated\":false}</td>\n",
              "      <td></td>\n",
              "      <td>d7fe2db6d46f007d12d2e0d2a7b998ca</td>\n",
              "      <td>SEC Charges Health Care Co. and Two Former Emp...</td>\n",
              "      <td>Title: SEC Charges Health Care Co. and Two For...</td>\n",
              "      <td>0.315014</td>\n",
              "    </tr>\n",
              "    <tr>\n",
              "      <th>4</th>\n",
              "      <td>1800_1993.txt</td>\n",
              "      <td>1800</td>\n",
              "      <td>1993</td>\n",
              "      <td>[-0.01756296 -0.01733708 -0.01346771 -0.013578...</td>\n",
              "      <td>[-1.56782791e-02 -6.42858818e-03 -3.48928086e-...</td>\n",
              "      <td>[-4.16508093e-02 -2.62772869e-02 -3.11164446e-...</td>\n",
              "      <td>[-6.22933321e-02 -4.06846032e-02 -2.88069844e-...</td>\n",
              "      <td>[-0.01235421 -0.05187324 -0.01839188  0.048709...</td>\n",
              "      <td>[-0.01758242 -0.04470409 -0.02377128 -0.002298...</td>\n",
              "      <td>[ 3.80702619e-03 -6.57393262e-02 -4.26834710e-...</td>\n",
              "      <td>...</td>\n",
              "      <td>[0. 0. 0. 0. 0. 0. 0. 0. 0. 0. 0. 0. 0. 0. 0. ...</td>\n",
              "      <td>[-8.46420446e-03 -1.74391275e-02 -3.04021587e-...</td>\n",
              "      <td>[-2.02630794e-02 -2.28220087e-02 -2.03435779e-...</td>\n",
              "      <td>[-4.25696969e-02 -6.16127253e-02 -6.23959641e-...</td>\n",
              "      <td>{\"token_count\":1269,\"truncated\":false}</td>\n",
              "      <td></td>\n",
              "      <td>69ef263fb0ce90e8aedc9a456ed0c02d</td>\n",
              "      <td>SEC Announces Charges Against Corporate Inside...</td>\n",
              "      <td>Title: SEC Announces Charges Against Corporate...</td>\n",
              "      <td>0.309091</td>\n",
              "    </tr>\n",
              "    <tr>\n",
              "      <th>4</th>\n",
              "      <td>1800_1993.txt</td>\n",
              "      <td>1800</td>\n",
              "      <td>1993</td>\n",
              "      <td>[-0.01756296 -0.01733708 -0.01346771 -0.013578...</td>\n",
              "      <td>[-1.56782791e-02 -6.42858818e-03 -3.48928086e-...</td>\n",
              "      <td>[-4.16508093e-02 -2.62772869e-02 -3.11164446e-...</td>\n",
              "      <td>[-6.22933321e-02 -4.06846032e-02 -2.88069844e-...</td>\n",
              "      <td>[-0.01235421 -0.05187324 -0.01839188  0.048709...</td>\n",
              "      <td>[-0.01758242 -0.04470409 -0.02377128 -0.002298...</td>\n",
              "      <td>[ 3.80702619e-03 -6.57393262e-02 -4.26834710e-...</td>\n",
              "      <td>...</td>\n",
              "      <td>[0. 0. 0. 0. 0. 0. 0. 0. 0. 0. 0. 0. 0. 0. 0. ...</td>\n",
              "      <td>[-8.46420446e-03 -1.74391275e-02 -3.04021587e-...</td>\n",
              "      <td>[-2.02630794e-02 -2.28220087e-02 -2.03435779e-...</td>\n",
              "      <td>[-2.47707199e-02 -2.66260467e-02  1.42063461e-...</td>\n",
              "      <td>{\"token_count\":426,\"truncated\":false}</td>\n",
              "      <td></td>\n",
              "      <td>5220a1d4d9c02d813c8536464a5be416</td>\n",
              "      <td>Pharmaceutical Company and Former Executives C...</td>\n",
              "      <td>Title: Pharmaceutical Company and Former Execu...</td>\n",
              "      <td>0.306597</td>\n",
              "    </tr>\n",
              "    <tr>\n",
              "      <th>4</th>\n",
              "      <td>1800_1993.txt</td>\n",
              "      <td>1800</td>\n",
              "      <td>1993</td>\n",
              "      <td>[-0.01756296 -0.01733708 -0.01346771 -0.013578...</td>\n",
              "      <td>[-1.56782791e-02 -6.42858818e-03 -3.48928086e-...</td>\n",
              "      <td>[-4.16508093e-02 -2.62772869e-02 -3.11164446e-...</td>\n",
              "      <td>[-6.22933321e-02 -4.06846032e-02 -2.88069844e-...</td>\n",
              "      <td>[-0.01235421 -0.05187324 -0.01839188  0.048709...</td>\n",
              "      <td>[-0.01758242 -0.04470409 -0.02377128 -0.002298...</td>\n",
              "      <td>[ 3.80702619e-03 -6.57393262e-02 -4.26834710e-...</td>\n",
              "      <td>...</td>\n",
              "      <td>[0. 0. 0. 0. 0. 0. 0. 0. 0. 0. 0. 0. 0. 0. 0. ...</td>\n",
              "      <td>[-8.46420446e-03 -1.74391275e-02 -3.04021587e-...</td>\n",
              "      <td>[-2.02630794e-02 -2.28220087e-02 -2.03435779e-...</td>\n",
              "      <td>[-9.61120520e-03 -2.12113801e-02 -1.15588652e-...</td>\n",
              "      <td>{\"token_count\":779,\"truncated\":false}</td>\n",
              "      <td></td>\n",
              "      <td>652c355b8848e75fdf85651bb0e31432</td>\n",
              "      <td>SEC Charges Delphi Corporation and Nine Indivi...</td>\n",
              "      <td>Title: SEC Charges Delphi Corporation and Nine...</td>\n",
              "      <td>0.303072</td>\n",
              "    </tr>\n",
              "  </tbody>\n",
              "</table>\n",
              "<p>25 rows × 31 columns</p>\n",
              "</div>[25 rows x 31 columns in total]"
            ]
          },
          "metadata": {},
          "execution_count": 34
        }
      ]
    },
    {
      "cell_type": "code",
      "source": [
        "rv2 = result_value_2[['cik', 'year', 'id', 'title', 'distance']].sort_values(by=['cik', 'distance'], ascending=False)"
      ],
      "metadata": {
        "id": "d-NRRulQfVNx",
        "executionInfo": {
          "status": "ok",
          "timestamp": 1758563275738,
          "user_tz": -330,
          "elapsed": 2,
          "user": {
            "displayName": "",
            "userId": ""
          }
        }
      },
      "id": "d-NRRulQfVNx",
      "execution_count": 37,
      "outputs": []
    },
    {
      "cell_type": "code",
      "source": [
        "rv2.columns=['edgar_cik', 'edgar_year', 'sec_id', 'sec_title', 'distance']"
      ],
      "metadata": {
        "id": "54VexoYYicPj",
        "executionInfo": {
          "status": "ok",
          "timestamp": 1758563410897,
          "user_tz": -330,
          "elapsed": 749,
          "user": {
            "displayName": "",
            "userId": ""
          }
        }
      },
      "id": "54VexoYYicPj",
      "execution_count": 39,
      "outputs": []
    },
    {
      "cell_type": "code",
      "source": [
        "rv2"
      ],
      "metadata": {
        "colab": {
          "base_uri": "https://localhost:8080/",
          "height": 1000
        },
        "collapsed": true,
        "id": "KW_wpRidi1jn",
        "executionInfo": {
          "status": "ok",
          "timestamp": 1758563418088,
          "user_tz": -330,
          "elapsed": 3916,
          "user": {
            "displayName": "",
            "userId": ""
          }
        },
        "outputId": "92d1bfa2-0407-4deb-f4d3-aa54d96109e0"
      },
      "id": "KW_wpRidi1jn",
      "execution_count": 40,
      "outputs": [
        {
          "output_type": "display_data",
          "data": {
            "text/plain": [
              "<IPython.core.display.HTML object>"
            ],
            "text/html": [
              "Query job 52161ea8-6340-479e-ab9e-433ea0a9d86c is DONE. 4.9 kB processed. <a target=\"_blank\" href=\"https://console.cloud.google.com/bigquery?project=financial-fraud-detection-1&j=bq:US:52161ea8-6340-479e-ab9e-433ea0a9d86c&page=queryresults\">Open Job</a>"
            ]
          },
          "metadata": {}
        },
        {
          "output_type": "execute_result",
          "data": {
            "text/plain": [
              "    edgar_cik  edgar_year                            sec_id  \\\n",
              "13    1137091        2020  80210595c2e576cad4ef1b38b1c76f42   \n",
              "12    1137091        2020  7fe4e612554df988fb6d4c4bf949b5bd   \n",
              "22    1137091        2020  d7a2d99d60d8f1c5678866b973670c23   \n",
              "9     1137091        2020  69ef263fb0ce90e8aedc9a456ed0c02d   \n",
              "14    1137091        2020  a145fee70d224f197ae414be27f09beb   \n",
              "1     1067983        2020  55f78bf10042846ac936f1564295e733   \n",
              "10    1067983        2020  7af28a48e0a7aa4f22df07c1c42283bd   \n",
              "11    1067983        2020  7fe4e612554df988fb6d4c4bf949b5bd   \n",
              "19    1067983        2020  bffd0ae5fdfb5d316a2dc778d415b446   \n",
              "7     1067983        2020  69ef263fb0ce90e8aedc9a456ed0c02d   \n",
              "15     315189        1993  a145fee70d224f197ae414be27f09beb   \n",
              "21     315189        1993  c09ee5721683dbd0c691e961585f7f74   \n",
              "18     315189        1993  b7e65a1605c5eeefc1e9b98e00dc28e1   \n",
              "6      315189        1993  69ef263fb0ce90e8aedc9a456ed0c02d   \n",
              "3      315189        1993  652c355b8848e75fdf85651bb0e31432   \n",
              "16      50104        1993  a46b5f4282e6f39e9ca97085e537f151   \n",
              "24      50104        1993  e22b3f32ce907a699c63408e1b3a1205   \n",
              "20      50104        1993  c09ee5721683dbd0c691e961585f7f74   \n",
              "17      50104        1993  a6ca2acd11304aa77cb43b8c456fb536   \n",
              "5       50104        1993  69ef263fb0ce90e8aedc9a456ed0c02d   \n",
              "2        1800        1993  59c38537b26fd1c6ea110bd3b190e588   \n",
              "23       1800        1993  d7fe2db6d46f007d12d2e0d2a7b998ca   \n",
              "8        1800        1993  69ef263fb0ce90e8aedc9a456ed0c02d   \n",
              "0        1800        1993  5220a1d4d9c02d813c8536464a5be416   \n",
              "4        1800        1993  652c355b8848e75fdf85651bb0e31432   \n",
              "\n",
              "                                            sec_title  distance  \n",
              "13  SEC Charges New Jersey Software Company and Se...   0.29471  \n",
              "12  SEC Charges Companies, Former Executives as Pa...  0.294016  \n",
              "22  SEC Charges Corporate Insiders for Failing to ...   0.29265  \n",
              "9   SEC Announces Charges Against Corporate Inside...  0.287852  \n",
              "14  SEC Charges Four Public Companies With Longsta...  0.282714  \n",
              "1   Twenty-Six Firms to Pay More Than $390 Million...  0.281621  \n",
              "10  SEC Charges 69 Audit Firms and Partners for Is...  0.280855  \n",
              "11  SEC Charges Companies, Former Executives as Pa...  0.276745  \n",
              "19  SEC Levies More Than $3.8 Million in Penalties...  0.265691  \n",
              "7   SEC Announces Charges Against Corporate Inside...  0.255627  \n",
              "15  SEC Charges Four Public Companies With Longsta...  0.317972  \n",
              "21  SEC Charges ConAgra Foods, Inc. in Financial F...  0.317692  \n",
              "18  SEC Charges Diebold and Former Executives With...  0.317495  \n",
              "6   SEC Announces Charges Against Corporate Inside...  0.315145  \n",
              "3   SEC Charges Delphi Corporation and Nine Indivi...  0.310323  \n",
              "16  SEC Files Fraud Charges Against Nicor's Former...  0.315959  \n",
              "24  El Paso Corp., Subsidiaries, and Former Employ...    0.3151  \n",
              "20  SEC Charges ConAgra Foods, Inc. in Financial F...  0.314247  \n",
              "17  SEC Charges Oilfield Services Company and Form...   0.31363  \n",
              "5   SEC Announces Charges Against Corporate Inside...  0.303516  \n",
              "2   SEC Charges General Electric and Two Subsidiar...  0.317306  \n",
              "23  SEC Charges Health Care Co. and Two Former Emp...  0.315014  \n",
              "8   SEC Announces Charges Against Corporate Inside...  0.309091  \n",
              "0   Pharmaceutical Company and Former Executives C...  0.306597  \n",
              "4   SEC Charges Delphi Corporation and Nine Indivi...  0.303072  \n",
              "\n",
              "[25 rows x 5 columns]"
            ],
            "text/html": [
              "<div>\n",
              "<style scoped>\n",
              "    .dataframe tbody tr th:only-of-type {\n",
              "        vertical-align: middle;\n",
              "    }\n",
              "\n",
              "    .dataframe tbody tr th {\n",
              "        vertical-align: top;\n",
              "    }\n",
              "\n",
              "    .dataframe thead th {\n",
              "        text-align: right;\n",
              "    }\n",
              "</style>\n",
              "<table border=\"1\" class=\"dataframe\">\n",
              "  <thead>\n",
              "    <tr style=\"text-align: right;\">\n",
              "      <th></th>\n",
              "      <th>edgar_cik</th>\n",
              "      <th>edgar_year</th>\n",
              "      <th>sec_id</th>\n",
              "      <th>sec_title</th>\n",
              "      <th>distance</th>\n",
              "    </tr>\n",
              "  </thead>\n",
              "  <tbody>\n",
              "    <tr>\n",
              "      <th>13</th>\n",
              "      <td>1137091</td>\n",
              "      <td>2020</td>\n",
              "      <td>80210595c2e576cad4ef1b38b1c76f42</td>\n",
              "      <td>SEC Charges New Jersey Software Company and Se...</td>\n",
              "      <td>0.29471</td>\n",
              "    </tr>\n",
              "    <tr>\n",
              "      <th>12</th>\n",
              "      <td>1137091</td>\n",
              "      <td>2020</td>\n",
              "      <td>7fe4e612554df988fb6d4c4bf949b5bd</td>\n",
              "      <td>SEC Charges Companies, Former Executives as Pa...</td>\n",
              "      <td>0.294016</td>\n",
              "    </tr>\n",
              "    <tr>\n",
              "      <th>22</th>\n",
              "      <td>1137091</td>\n",
              "      <td>2020</td>\n",
              "      <td>d7a2d99d60d8f1c5678866b973670c23</td>\n",
              "      <td>SEC Charges Corporate Insiders for Failing to ...</td>\n",
              "      <td>0.29265</td>\n",
              "    </tr>\n",
              "    <tr>\n",
              "      <th>9</th>\n",
              "      <td>1137091</td>\n",
              "      <td>2020</td>\n",
              "      <td>69ef263fb0ce90e8aedc9a456ed0c02d</td>\n",
              "      <td>SEC Announces Charges Against Corporate Inside...</td>\n",
              "      <td>0.287852</td>\n",
              "    </tr>\n",
              "    <tr>\n",
              "      <th>14</th>\n",
              "      <td>1137091</td>\n",
              "      <td>2020</td>\n",
              "      <td>a145fee70d224f197ae414be27f09beb</td>\n",
              "      <td>SEC Charges Four Public Companies With Longsta...</td>\n",
              "      <td>0.282714</td>\n",
              "    </tr>\n",
              "    <tr>\n",
              "      <th>1</th>\n",
              "      <td>1067983</td>\n",
              "      <td>2020</td>\n",
              "      <td>55f78bf10042846ac936f1564295e733</td>\n",
              "      <td>Twenty-Six Firms to Pay More Than $390 Million...</td>\n",
              "      <td>0.281621</td>\n",
              "    </tr>\n",
              "    <tr>\n",
              "      <th>10</th>\n",
              "      <td>1067983</td>\n",
              "      <td>2020</td>\n",
              "      <td>7af28a48e0a7aa4f22df07c1c42283bd</td>\n",
              "      <td>SEC Charges 69 Audit Firms and Partners for Is...</td>\n",
              "      <td>0.280855</td>\n",
              "    </tr>\n",
              "    <tr>\n",
              "      <th>11</th>\n",
              "      <td>1067983</td>\n",
              "      <td>2020</td>\n",
              "      <td>7fe4e612554df988fb6d4c4bf949b5bd</td>\n",
              "      <td>SEC Charges Companies, Former Executives as Pa...</td>\n",
              "      <td>0.276745</td>\n",
              "    </tr>\n",
              "    <tr>\n",
              "      <th>19</th>\n",
              "      <td>1067983</td>\n",
              "      <td>2020</td>\n",
              "      <td>bffd0ae5fdfb5d316a2dc778d415b446</td>\n",
              "      <td>SEC Levies More Than $3.8 Million in Penalties...</td>\n",
              "      <td>0.265691</td>\n",
              "    </tr>\n",
              "    <tr>\n",
              "      <th>7</th>\n",
              "      <td>1067983</td>\n",
              "      <td>2020</td>\n",
              "      <td>69ef263fb0ce90e8aedc9a456ed0c02d</td>\n",
              "      <td>SEC Announces Charges Against Corporate Inside...</td>\n",
              "      <td>0.255627</td>\n",
              "    </tr>\n",
              "    <tr>\n",
              "      <th>15</th>\n",
              "      <td>315189</td>\n",
              "      <td>1993</td>\n",
              "      <td>a145fee70d224f197ae414be27f09beb</td>\n",
              "      <td>SEC Charges Four Public Companies With Longsta...</td>\n",
              "      <td>0.317972</td>\n",
              "    </tr>\n",
              "    <tr>\n",
              "      <th>21</th>\n",
              "      <td>315189</td>\n",
              "      <td>1993</td>\n",
              "      <td>c09ee5721683dbd0c691e961585f7f74</td>\n",
              "      <td>SEC Charges ConAgra Foods, Inc. in Financial F...</td>\n",
              "      <td>0.317692</td>\n",
              "    </tr>\n",
              "    <tr>\n",
              "      <th>18</th>\n",
              "      <td>315189</td>\n",
              "      <td>1993</td>\n",
              "      <td>b7e65a1605c5eeefc1e9b98e00dc28e1</td>\n",
              "      <td>SEC Charges Diebold and Former Executives With...</td>\n",
              "      <td>0.317495</td>\n",
              "    </tr>\n",
              "    <tr>\n",
              "      <th>6</th>\n",
              "      <td>315189</td>\n",
              "      <td>1993</td>\n",
              "      <td>69ef263fb0ce90e8aedc9a456ed0c02d</td>\n",
              "      <td>SEC Announces Charges Against Corporate Inside...</td>\n",
              "      <td>0.315145</td>\n",
              "    </tr>\n",
              "    <tr>\n",
              "      <th>3</th>\n",
              "      <td>315189</td>\n",
              "      <td>1993</td>\n",
              "      <td>652c355b8848e75fdf85651bb0e31432</td>\n",
              "      <td>SEC Charges Delphi Corporation and Nine Indivi...</td>\n",
              "      <td>0.310323</td>\n",
              "    </tr>\n",
              "    <tr>\n",
              "      <th>16</th>\n",
              "      <td>50104</td>\n",
              "      <td>1993</td>\n",
              "      <td>a46b5f4282e6f39e9ca97085e537f151</td>\n",
              "      <td>SEC Files Fraud Charges Against Nicor's Former...</td>\n",
              "      <td>0.315959</td>\n",
              "    </tr>\n",
              "    <tr>\n",
              "      <th>24</th>\n",
              "      <td>50104</td>\n",
              "      <td>1993</td>\n",
              "      <td>e22b3f32ce907a699c63408e1b3a1205</td>\n",
              "      <td>El Paso Corp., Subsidiaries, and Former Employ...</td>\n",
              "      <td>0.3151</td>\n",
              "    </tr>\n",
              "    <tr>\n",
              "      <th>20</th>\n",
              "      <td>50104</td>\n",
              "      <td>1993</td>\n",
              "      <td>c09ee5721683dbd0c691e961585f7f74</td>\n",
              "      <td>SEC Charges ConAgra Foods, Inc. in Financial F...</td>\n",
              "      <td>0.314247</td>\n",
              "    </tr>\n",
              "    <tr>\n",
              "      <th>17</th>\n",
              "      <td>50104</td>\n",
              "      <td>1993</td>\n",
              "      <td>a6ca2acd11304aa77cb43b8c456fb536</td>\n",
              "      <td>SEC Charges Oilfield Services Company and Form...</td>\n",
              "      <td>0.31363</td>\n",
              "    </tr>\n",
              "    <tr>\n",
              "      <th>5</th>\n",
              "      <td>50104</td>\n",
              "      <td>1993</td>\n",
              "      <td>69ef263fb0ce90e8aedc9a456ed0c02d</td>\n",
              "      <td>SEC Announces Charges Against Corporate Inside...</td>\n",
              "      <td>0.303516</td>\n",
              "    </tr>\n",
              "    <tr>\n",
              "      <th>2</th>\n",
              "      <td>1800</td>\n",
              "      <td>1993</td>\n",
              "      <td>59c38537b26fd1c6ea110bd3b190e588</td>\n",
              "      <td>SEC Charges General Electric and Two Subsidiar...</td>\n",
              "      <td>0.317306</td>\n",
              "    </tr>\n",
              "    <tr>\n",
              "      <th>23</th>\n",
              "      <td>1800</td>\n",
              "      <td>1993</td>\n",
              "      <td>d7fe2db6d46f007d12d2e0d2a7b998ca</td>\n",
              "      <td>SEC Charges Health Care Co. and Two Former Emp...</td>\n",
              "      <td>0.315014</td>\n",
              "    </tr>\n",
              "    <tr>\n",
              "      <th>8</th>\n",
              "      <td>1800</td>\n",
              "      <td>1993</td>\n",
              "      <td>69ef263fb0ce90e8aedc9a456ed0c02d</td>\n",
              "      <td>SEC Announces Charges Against Corporate Inside...</td>\n",
              "      <td>0.309091</td>\n",
              "    </tr>\n",
              "    <tr>\n",
              "      <th>0</th>\n",
              "      <td>1800</td>\n",
              "      <td>1993</td>\n",
              "      <td>5220a1d4d9c02d813c8536464a5be416</td>\n",
              "      <td>Pharmaceutical Company and Former Executives C...</td>\n",
              "      <td>0.306597</td>\n",
              "    </tr>\n",
              "    <tr>\n",
              "      <th>4</th>\n",
              "      <td>1800</td>\n",
              "      <td>1993</td>\n",
              "      <td>652c355b8848e75fdf85651bb0e31432</td>\n",
              "      <td>SEC Charges Delphi Corporation and Nine Indivi...</td>\n",
              "      <td>0.303072</td>\n",
              "    </tr>\n",
              "  </tbody>\n",
              "</table>\n",
              "<p>25 rows × 5 columns</p>\n",
              "</div>[25 rows x 5 columns in total]"
            ]
          },
          "metadata": {},
          "execution_count": 40
        }
      ]
    },
    {
      "cell_type": "code",
      "source": [
        "rv2.info()"
      ],
      "metadata": {
        "colab": {
          "base_uri": "https://localhost:8080/"
        },
        "id": "OZxzXKDsjCaT",
        "executionInfo": {
          "status": "ok",
          "timestamp": 1758563423391,
          "user_tz": -330,
          "elapsed": 2502,
          "user": {
            "displayName": "",
            "userId": ""
          }
        },
        "outputId": "4c4879be-0126-4e43-86aa-0485c06788d9"
      },
      "id": "OZxzXKDsjCaT",
      "execution_count": 41,
      "outputs": [
        {
          "output_type": "stream",
          "name": "stdout",
          "text": [
            "<class 'bigframes.dataframe.DataFrame'>\n",
            "Index: 25 entries, 13 to 4\n",
            "Data columns (total 5 columns):\n",
            "  #  Column      Non-Null Count    Dtype\n",
            "---  ----------  ----------------  -------\n",
            "  0  edgar_cik   25 non-null       Int64\n",
            "  1  edgar_year  25 non-null       Int64\n",
            "  2  sec_id      25 non-null       string\n",
            "  3  sec_title   25 non-null       string\n",
            "  4  distance    25 non-null       Float64\n",
            "dtypes: Float64(1), Int64(2), string(2)\n",
            "memory usage: 1200 bytes\n"
          ]
        }
      ]
    },
    {
      "cell_type": "code",
      "source": [
        "rv2.to_gbq(\"financial-fraud-detection-1.SEC_EDGAR_Vector_Search.overall\", if_exists=\"replace\")"
      ],
      "metadata": {
        "colab": {
          "base_uri": "https://localhost:8080/",
          "height": 53
        },
        "id": "uxLHQfX-jEAE",
        "executionInfo": {
          "status": "ok",
          "timestamp": 1758563587614,
          "user_tz": -330,
          "elapsed": 4055,
          "user": {
            "displayName": "",
            "userId": ""
          }
        },
        "outputId": "221f2962-35f0-414f-ca25-8dd7e2b4f003"
      },
      "id": "uxLHQfX-jEAE",
      "execution_count": 42,
      "outputs": [
        {
          "output_type": "display_data",
          "data": {
            "text/plain": [
              "<IPython.core.display.HTML object>"
            ],
            "text/html": [
              "Query job 30257dbe-314a-4871-af41-1c5fe7ceaed9 is DONE. 4.5 kB processed. <a target=\"_blank\" href=\"https://console.cloud.google.com/bigquery?project=financial-fraud-detection-1&j=bq:US:30257dbe-314a-4871-af41-1c5fe7ceaed9&page=queryresults\">Open Job</a>"
            ]
          },
          "metadata": {}
        },
        {
          "output_type": "execute_result",
          "data": {
            "text/plain": [
              "'financial-fraud-detection-1.SEC_EDGAR_Vector_Search.overall'"
            ],
            "application/vnd.google.colaboratory.intrinsic+json": {
              "type": "string"
            }
          },
          "metadata": {},
          "execution_count": 42
        }
      ]
    },
    {
      "cell_type": "code",
      "source": [
        "search_query.columns"
      ],
      "metadata": {
        "colab": {
          "base_uri": "https://localhost:8080/"
        },
        "id": "cTIs00iHjsGT",
        "executionInfo": {
          "status": "ok",
          "timestamp": 1758563663575,
          "user_tz": -330,
          "elapsed": 5,
          "user": {
            "displayName": "",
            "userId": ""
          }
        },
        "outputId": "326525aa-1917-434b-95ed-f8dd09e560fc"
      },
      "id": "cTIs00iHjsGT",
      "execution_count": 43,
      "outputs": [
        {
          "output_type": "execute_result",
          "data": {
            "text/plain": [
              "Index(['filename', 'cik', 'year', 'section_7embedding', 'section_9embedding',\n",
              "       'section_12embedding', 'section_10embedding', 'section_4embedding',\n",
              "       'section_8embedding', 'section_14embedding', 'section_1Aembedding',\n",
              "       'section_11embedding', 'section_15embedding', 'section_5embedding',\n",
              "       'section_13embedding', 'section_7Aembedding', 'section_1Bembedding',\n",
              "       'section_9Bembedding', 'section_2embedding', 'section_6embedding',\n",
              "       'section_3embedding', 'section_9Aembedding', 'section_1embedding',\n",
              "       'overall_embedding'],\n",
              "      dtype='object')"
            ]
          },
          "metadata": {},
          "execution_count": 43
        }
      ]
    },
    {
      "cell_type": "code",
      "source": [
        "# except overall since overall is already into table"
      ],
      "metadata": {
        "id": "9JA3Cghrkkjy"
      },
      "id": "9JA3Cghrkkjy",
      "execution_count": null,
      "outputs": []
    },
    {
      "cell_type": "code",
      "source": [
        "separate_embeddings = {col.replace('embedding', '') for col in search_query.columns if 'embedding' in col} - {'overall_'}"
      ],
      "metadata": {
        "id": "QIEqoj8jj_f7",
        "executionInfo": {
          "status": "ok",
          "timestamp": 1758563857727,
          "user_tz": -330,
          "elapsed": 893,
          "user": {
            "displayName": "",
            "userId": ""
          }
        }
      },
      "id": "QIEqoj8jj_f7",
      "execution_count": 46,
      "outputs": []
    },
    {
      "cell_type": "code",
      "source": [
        "separate_embeddings"
      ],
      "metadata": {
        "colab": {
          "base_uri": "https://localhost:8080/"
        },
        "collapsed": true,
        "id": "XaFoZ7jIkcAI",
        "executionInfo": {
          "status": "ok",
          "timestamp": 1758563876812,
          "user_tz": -330,
          "elapsed": 812,
          "user": {
            "displayName": "",
            "userId": ""
          }
        },
        "outputId": "44d63d4a-d155-4e36-a677-4a4032aba70e"
      },
      "id": "XaFoZ7jIkcAI",
      "execution_count": 47,
      "outputs": [
        {
          "output_type": "execute_result",
          "data": {
            "text/plain": [
              "{'section_1',\n",
              " 'section_10',\n",
              " 'section_11',\n",
              " 'section_12',\n",
              " 'section_13',\n",
              " 'section_14',\n",
              " 'section_15',\n",
              " 'section_1A',\n",
              " 'section_1B',\n",
              " 'section_2',\n",
              " 'section_3',\n",
              " 'section_4',\n",
              " 'section_5',\n",
              " 'section_6',\n",
              " 'section_7',\n",
              " 'section_7A',\n",
              " 'section_8',\n",
              " 'section_9',\n",
              " 'section_9A',\n",
              " 'section_9B'}"
            ]
          },
          "metadata": {},
          "execution_count": 47
        }
      ]
    },
    {
      "cell_type": "code",
      "source": [
        "len(separate_embeddings)"
      ],
      "metadata": {
        "colab": {
          "base_uri": "https://localhost:8080/"
        },
        "id": "sRU_2Plrk1v3",
        "executionInfo": {
          "status": "ok",
          "timestamp": 1758563888591,
          "user_tz": -330,
          "elapsed": 5,
          "user": {
            "displayName": "",
            "userId": ""
          }
        },
        "outputId": "5919ebda-74b8-4bb2-9990-e9b469c8becd"
      },
      "id": "sRU_2Plrk1v3",
      "execution_count": 48,
      "outputs": [
        {
          "output_type": "execute_result",
          "data": {
            "text/plain": [
              "20"
            ]
          },
          "metadata": {},
          "execution_count": 48
        }
      ]
    },
    {
      "cell_type": "code",
      "source": [
        "import pyarrow as pa\n"
      ],
      "metadata": {
        "id": "EMlHGa0gqnBr",
        "executionInfo": {
          "status": "ok",
          "timestamp": 1758565403118,
          "user_tz": -330,
          "elapsed": 2,
          "user": {
            "displayName": "",
            "userId": ""
          }
        }
      },
      "id": "EMlHGa0gqnBr",
      "execution_count": 66,
      "outputs": []
    },
    {
      "cell_type": "code",
      "source": [
        "for col_name in separate_embeddings:\n",
        "\n",
        "  query_column_to_search_value = col_name + \"embedding\"\n",
        "  table_name = \"financial-fraud-detection-1.SEC_EDGAR_Vector_Search.\" + col_name\n",
        "\n",
        "  # filtering before use\n",
        "  embedding_list = search_query[query_column_to_search_value].to_list()\n",
        "  is_not_zero_vector = [sum(vec) != 0 for vec in embedding_list]\n",
        "  search_query_filtered = (search_query.to_pandas().loc[is_not_zero_vector])\n",
        "\n",
        "  result_for_col = bbq.vector_search(\n",
        "    base_table=\"financial-fraud-detection-1.sec_enforcement_actions.sec_enforcement_embeddings\",\n",
        "    column_to_search=\"ml_generate_embedding_result\",\n",
        "    query=search_query_filtered,\n",
        "    query_column_to_search=query_column_to_search_value,\n",
        "    top_k=5,\n",
        "    distance_type=\"cosine\",\n",
        "    use_brute_force=True)\n",
        "\n",
        "  result_for_col = result_for_col.reset_index()\n",
        "  result_for_col = result_for_col[['cik', 'year', 'id', 'title', 'distance']].sort_values(by=['cik', 'distance'], ascending=False)\n",
        "  result_for_col.columns=['edgar_cik', 'edgar_year', 'sec_id', 'sec_title', 'distance']\n",
        "\n",
        "  result_for_col.to_gbq(table_name, if_exists=\"replace\")"
      ],
      "metadata": {
        "colab": {
          "base_uri": "https://localhost:8080/",
          "height": 1000
        },
        "collapsed": true,
        "id": "1snIhhxvk2Ye",
        "executionInfo": {
          "status": "ok",
          "timestamp": 1758566574544,
          "user_tz": -330,
          "elapsed": 324339,
          "user": {
            "displayName": "",
            "userId": ""
          }
        },
        "outputId": "b22c6c35-0f68-4923-d549-16510037a133"
      },
      "id": "1snIhhxvk2Ye",
      "execution_count": 86,
      "outputs": [
        {
          "output_type": "display_data",
          "data": {
            "text/plain": [
              "<IPython.core.display.HTML object>"
            ],
            "text/html": [
              "Load job c30078fc-b107-4de2-8860-db1e3dbbdceb is DONE. <a target=\"_blank\" href=\"https://console.cloud.google.com/bigquery?project=financial-fraud-detection-1&j=bq:US:c30078fc-b107-4de2-8860-db1e3dbbdceb&page=queryresults\">Open Job</a>"
            ]
          },
          "metadata": {}
        },
        {
          "output_type": "display_data",
          "data": {
            "text/plain": [
              "<IPython.core.display.HTML object>"
            ],
            "text/html": [
              "Query job 47478b8f-57b2-416b-af63-60ae85c8a7f0 is DONE. 22.2 MB processed. <a target=\"_blank\" href=\"https://console.cloud.google.com/bigquery?project=financial-fraud-detection-1&j=bq:US:47478b8f-57b2-416b-af63-60ae85c8a7f0&page=queryresults\">Open Job</a>"
            ]
          },
          "metadata": {}
        },
        {
          "output_type": "stream",
          "name": "stderr",
          "text": [
            "/usr/local/lib/python3.11/dist-packages/bigframes/core/array_value.py:108: PreviewWarning: JSON column interpretation as a custom PyArrow extention in\n",
            "`db_dtypes` is a preview feature and subject to change.\n",
            "  warnings.warn(msg, bfe.PreviewWarning)\n"
          ]
        },
        {
          "output_type": "display_data",
          "data": {
            "text/plain": [
              "<IPython.core.display.HTML object>"
            ],
            "text/html": [
              "Query job 92f182a8-d864-42d0-b717-645d6bb3d3e0 is DONE. 8.6 kB processed. <a target=\"_blank\" href=\"https://console.cloud.google.com/bigquery?project=financial-fraud-detection-1&j=bq:US:92f182a8-d864-42d0-b717-645d6bb3d3e0&page=queryresults\">Open Job</a>"
            ]
          },
          "metadata": {}
        },
        {
          "output_type": "display_data",
          "data": {
            "text/plain": [
              "<IPython.core.display.HTML object>"
            ],
            "text/html": [
              "Load job 4d2b863b-7b95-44f0-9602-971c78445db2 is DONE. <a target=\"_blank\" href=\"https://console.cloud.google.com/bigquery?project=financial-fraud-detection-1&j=bq:US:4d2b863b-7b95-44f0-9602-971c78445db2&page=queryresults\">Open Job</a>"
            ]
          },
          "metadata": {}
        },
        {
          "output_type": "display_data",
          "data": {
            "text/plain": [
              "<IPython.core.display.HTML object>"
            ],
            "text/html": [
              "Query job 2d900774-f8ba-4b14-aede-f52a910fa6cd is DONE. 22.1 MB processed. <a target=\"_blank\" href=\"https://console.cloud.google.com/bigquery?project=financial-fraud-detection-1&j=bq:US:2d900774-f8ba-4b14-aede-f52a910fa6cd&page=queryresults\">Open Job</a>"
            ]
          },
          "metadata": {}
        },
        {
          "output_type": "stream",
          "name": "stderr",
          "text": [
            "/usr/local/lib/python3.11/dist-packages/bigframes/core/array_value.py:108: PreviewWarning: JSON column interpretation as a custom PyArrow extention in\n",
            "`db_dtypes` is a preview feature and subject to change.\n",
            "  warnings.warn(msg, bfe.PreviewWarning)\n"
          ]
        },
        {
          "output_type": "display_data",
          "data": {
            "text/plain": [
              "<IPython.core.display.HTML object>"
            ],
            "text/html": [
              "Query job 4da6edfe-e513-4a78-9dc5-131b82e8dc4c is DONE. 3.5 kB processed. <a target=\"_blank\" href=\"https://console.cloud.google.com/bigquery?project=financial-fraud-detection-1&j=bq:US:4da6edfe-e513-4a78-9dc5-131b82e8dc4c&page=queryresults\">Open Job</a>"
            ]
          },
          "metadata": {}
        },
        {
          "output_type": "display_data",
          "data": {
            "text/plain": [
              "<IPython.core.display.HTML object>"
            ],
            "text/html": [
              "Load job c552998c-5f29-449e-8eed-58fa1dbc5435 is DONE. <a target=\"_blank\" href=\"https://console.cloud.google.com/bigquery?project=financial-fraud-detection-1&j=bq:US:c552998c-5f29-449e-8eed-58fa1dbc5435&page=queryresults\">Open Job</a>"
            ]
          },
          "metadata": {}
        },
        {
          "output_type": "display_data",
          "data": {
            "text/plain": [
              "<IPython.core.display.HTML object>"
            ],
            "text/html": [
              "Query job 16eec7c6-f517-4aa0-8219-1c835b7394ef is DONE. 21.8 MB processed. <a target=\"_blank\" href=\"https://console.cloud.google.com/bigquery?project=financial-fraud-detection-1&j=bq:US:16eec7c6-f517-4aa0-8219-1c835b7394ef&page=queryresults\">Open Job</a>"
            ]
          },
          "metadata": {}
        },
        {
          "output_type": "stream",
          "name": "stderr",
          "text": [
            "/usr/local/lib/python3.11/dist-packages/bigframes/core/array_value.py:108: PreviewWarning: JSON column interpretation as a custom PyArrow extention in\n",
            "`db_dtypes` is a preview feature and subject to change.\n",
            "  warnings.warn(msg, bfe.PreviewWarning)\n"
          ]
        },
        {
          "output_type": "display_data",
          "data": {
            "text/plain": [
              "<IPython.core.display.HTML object>"
            ],
            "text/html": [
              "Query job ddd8ab33-70bf-40ce-a748-de73d7f8e819 is DONE. 1.5 kB processed. <a target=\"_blank\" href=\"https://console.cloud.google.com/bigquery?project=financial-fraud-detection-1&j=bq:US:ddd8ab33-70bf-40ce-a748-de73d7f8e819&page=queryresults\">Open Job</a>"
            ]
          },
          "metadata": {}
        },
        {
          "output_type": "display_data",
          "data": {
            "text/plain": [
              "<IPython.core.display.HTML object>"
            ],
            "text/html": [
              "Load job e7cc571f-c81f-48fe-8469-01fd45a2561e is DONE. <a target=\"_blank\" href=\"https://console.cloud.google.com/bigquery?project=financial-fraud-detection-1&j=bq:US:e7cc571f-c81f-48fe-8469-01fd45a2561e&page=queryresults\">Open Job</a>"
            ]
          },
          "metadata": {}
        },
        {
          "output_type": "display_data",
          "data": {
            "text/plain": [
              "<IPython.core.display.HTML object>"
            ],
            "text/html": [
              "Query job 1c6baafb-71bc-4b0b-a1c4-70bf67ef7bfc is DONE. 22.1 MB processed. <a target=\"_blank\" href=\"https://console.cloud.google.com/bigquery?project=financial-fraud-detection-1&j=bq:US:1c6baafb-71bc-4b0b-a1c4-70bf67ef7bfc&page=queryresults\">Open Job</a>"
            ]
          },
          "metadata": {}
        },
        {
          "output_type": "stream",
          "name": "stderr",
          "text": [
            "/usr/local/lib/python3.11/dist-packages/bigframes/core/array_value.py:108: PreviewWarning: JSON column interpretation as a custom PyArrow extention in\n",
            "`db_dtypes` is a preview feature and subject to change.\n",
            "  warnings.warn(msg, bfe.PreviewWarning)\n"
          ]
        },
        {
          "output_type": "display_data",
          "data": {
            "text/plain": [
              "<IPython.core.display.HTML object>"
            ],
            "text/html": [
              "Query job c9e1d4fe-b745-4ca7-aa9e-41f962df6526 is DONE. 3.2 kB processed. <a target=\"_blank\" href=\"https://console.cloud.google.com/bigquery?project=financial-fraud-detection-1&j=bq:US:c9e1d4fe-b745-4ca7-aa9e-41f962df6526&page=queryresults\">Open Job</a>"
            ]
          },
          "metadata": {}
        },
        {
          "output_type": "display_data",
          "data": {
            "text/plain": [
              "<IPython.core.display.HTML object>"
            ],
            "text/html": [
              "Load job d13db742-2b06-4016-9880-cd71937c03a4 is DONE. <a target=\"_blank\" href=\"https://console.cloud.google.com/bigquery?project=financial-fraud-detection-1&j=bq:US:d13db742-2b06-4016-9880-cd71937c03a4&page=queryresults\">Open Job</a>"
            ]
          },
          "metadata": {}
        },
        {
          "output_type": "display_data",
          "data": {
            "text/plain": [
              "<IPython.core.display.HTML object>"
            ],
            "text/html": [
              "Query job 9f4e2859-0e5f-476d-868a-b557de773f97 is DONE. 21.8 MB processed. <a target=\"_blank\" href=\"https://console.cloud.google.com/bigquery?project=financial-fraud-detection-1&j=bq:US:9f4e2859-0e5f-476d-868a-b557de773f97&page=queryresults\">Open Job</a>"
            ]
          },
          "metadata": {}
        },
        {
          "output_type": "stream",
          "name": "stderr",
          "text": [
            "/usr/local/lib/python3.11/dist-packages/bigframes/core/array_value.py:108: PreviewWarning: JSON column interpretation as a custom PyArrow extention in\n",
            "`db_dtypes` is a preview feature and subject to change.\n",
            "  warnings.warn(msg, bfe.PreviewWarning)\n"
          ]
        },
        {
          "output_type": "display_data",
          "data": {
            "text/plain": [
              "<IPython.core.display.HTML object>"
            ],
            "text/html": [
              "Query job 86ae56c4-96c8-498a-9c49-4f59b754e3f2 is DONE. 1.5 kB processed. <a target=\"_blank\" href=\"https://console.cloud.google.com/bigquery?project=financial-fraud-detection-1&j=bq:US:86ae56c4-96c8-498a-9c49-4f59b754e3f2&page=queryresults\">Open Job</a>"
            ]
          },
          "metadata": {}
        },
        {
          "output_type": "display_data",
          "data": {
            "text/plain": [
              "<IPython.core.display.HTML object>"
            ],
            "text/html": [
              "Load job 0cb02de8-a8ee-4ed1-818e-1817e74080e7 is DONE. <a target=\"_blank\" href=\"https://console.cloud.google.com/bigquery?project=financial-fraud-detection-1&j=bq:US:0cb02de8-a8ee-4ed1-818e-1817e74080e7&page=queryresults\">Open Job</a>"
            ]
          },
          "metadata": {}
        },
        {
          "output_type": "display_data",
          "data": {
            "text/plain": [
              "<IPython.core.display.HTML object>"
            ],
            "text/html": [
              "Query job 79d132ae-1f74-447e-83b5-8a5c350a1c1d is DONE. 22.2 MB processed. <a target=\"_blank\" href=\"https://console.cloud.google.com/bigquery?project=financial-fraud-detection-1&j=bq:US:79d132ae-1f74-447e-83b5-8a5c350a1c1d&page=queryresults\">Open Job</a>"
            ]
          },
          "metadata": {}
        },
        {
          "output_type": "stream",
          "name": "stderr",
          "text": [
            "/usr/local/lib/python3.11/dist-packages/bigframes/core/array_value.py:108: PreviewWarning: JSON column interpretation as a custom PyArrow extention in\n",
            "`db_dtypes` is a preview feature and subject to change.\n",
            "  warnings.warn(msg, bfe.PreviewWarning)\n"
          ]
        },
        {
          "output_type": "display_data",
          "data": {
            "text/plain": [
              "<IPython.core.display.HTML object>"
            ],
            "text/html": [
              "Query job 6a66cf98-d3db-4b6c-87d2-191a541ed956 is DONE. 4.3 kB processed. <a target=\"_blank\" href=\"https://console.cloud.google.com/bigquery?project=financial-fraud-detection-1&j=bq:US:6a66cf98-d3db-4b6c-87d2-191a541ed956&page=queryresults\">Open Job</a>"
            ]
          },
          "metadata": {}
        },
        {
          "output_type": "display_data",
          "data": {
            "text/plain": [
              "<IPython.core.display.HTML object>"
            ],
            "text/html": [
              "Load job a4dcf1f5-7457-4064-a58d-afb79ecf1b5b is DONE. <a target=\"_blank\" href=\"https://console.cloud.google.com/bigquery?project=financial-fraud-detection-1&j=bq:US:a4dcf1f5-7457-4064-a58d-afb79ecf1b5b&page=queryresults\">Open Job</a>"
            ]
          },
          "metadata": {}
        },
        {
          "output_type": "display_data",
          "data": {
            "text/plain": [
              "<IPython.core.display.HTML object>"
            ],
            "text/html": [
              "Query job a30450a7-1455-4587-a966-85337ec0821b is DONE. 22.2 MB processed. <a target=\"_blank\" href=\"https://console.cloud.google.com/bigquery?project=financial-fraud-detection-1&j=bq:US:a30450a7-1455-4587-a966-85337ec0821b&page=queryresults\">Open Job</a>"
            ]
          },
          "metadata": {}
        },
        {
          "output_type": "stream",
          "name": "stderr",
          "text": [
            "/usr/local/lib/python3.11/dist-packages/bigframes/core/array_value.py:108: PreviewWarning: JSON column interpretation as a custom PyArrow extention in\n",
            "`db_dtypes` is a preview feature and subject to change.\n",
            "  warnings.warn(msg, bfe.PreviewWarning)\n"
          ]
        },
        {
          "output_type": "display_data",
          "data": {
            "text/plain": [
              "<IPython.core.display.HTML object>"
            ],
            "text/html": [
              "Query job 87190375-4bbf-4f08-9321-7388b0b68216 is DONE. 4.4 kB processed. <a target=\"_blank\" href=\"https://console.cloud.google.com/bigquery?project=financial-fraud-detection-1&j=bq:US:87190375-4bbf-4f08-9321-7388b0b68216&page=queryresults\">Open Job</a>"
            ]
          },
          "metadata": {}
        },
        {
          "output_type": "display_data",
          "data": {
            "text/plain": [
              "<IPython.core.display.HTML object>"
            ],
            "text/html": [
              "Load job d7b70d7e-b7df-4b32-94a8-0d533acb1141 is DONE. <a target=\"_blank\" href=\"https://console.cloud.google.com/bigquery?project=financial-fraud-detection-1&j=bq:US:d7b70d7e-b7df-4b32-94a8-0d533acb1141&page=queryresults\">Open Job</a>"
            ]
          },
          "metadata": {}
        },
        {
          "output_type": "display_data",
          "data": {
            "text/plain": [
              "<IPython.core.display.HTML object>"
            ],
            "text/html": [
              "Query job 98996417-2e1e-44ad-beb9-21f8e5790c5c is DONE. 22.2 MB processed. <a target=\"_blank\" href=\"https://console.cloud.google.com/bigquery?project=financial-fraud-detection-1&j=bq:US:98996417-2e1e-44ad-beb9-21f8e5790c5c&page=queryresults\">Open Job</a>"
            ]
          },
          "metadata": {}
        },
        {
          "output_type": "stream",
          "name": "stderr",
          "text": [
            "/usr/local/lib/python3.11/dist-packages/bigframes/core/array_value.py:108: PreviewWarning: JSON column interpretation as a custom PyArrow extention in\n",
            "`db_dtypes` is a preview feature and subject to change.\n",
            "  warnings.warn(msg, bfe.PreviewWarning)\n"
          ]
        },
        {
          "output_type": "display_data",
          "data": {
            "text/plain": [
              "<IPython.core.display.HTML object>"
            ],
            "text/html": [
              "Query job eeeb82df-3ce6-4fe1-9b00-1927d44e36b5 is DONE. 3.8 kB processed. <a target=\"_blank\" href=\"https://console.cloud.google.com/bigquery?project=financial-fraud-detection-1&j=bq:US:eeeb82df-3ce6-4fe1-9b00-1927d44e36b5&page=queryresults\">Open Job</a>"
            ]
          },
          "metadata": {}
        },
        {
          "output_type": "display_data",
          "data": {
            "text/plain": [
              "<IPython.core.display.HTML object>"
            ],
            "text/html": [
              "Load job 793560ad-0742-4295-be19-d877fb6accc5 is DONE. <a target=\"_blank\" href=\"https://console.cloud.google.com/bigquery?project=financial-fraud-detection-1&j=bq:US:793560ad-0742-4295-be19-d877fb6accc5&page=queryresults\">Open Job</a>"
            ]
          },
          "metadata": {}
        },
        {
          "output_type": "display_data",
          "data": {
            "text/plain": [
              "<IPython.core.display.HTML object>"
            ],
            "text/html": [
              "Query job 2d5fc0e6-74ec-4920-855b-1bebbf857321 is DONE. 22.2 MB processed. <a target=\"_blank\" href=\"https://console.cloud.google.com/bigquery?project=financial-fraud-detection-1&j=bq:US:2d5fc0e6-74ec-4920-855b-1bebbf857321&page=queryresults\">Open Job</a>"
            ]
          },
          "metadata": {}
        },
        {
          "output_type": "stream",
          "name": "stderr",
          "text": [
            "/usr/local/lib/python3.11/dist-packages/bigframes/core/array_value.py:108: PreviewWarning: JSON column interpretation as a custom PyArrow extention in\n",
            "`db_dtypes` is a preview feature and subject to change.\n",
            "  warnings.warn(msg, bfe.PreviewWarning)\n"
          ]
        },
        {
          "output_type": "display_data",
          "data": {
            "text/plain": [
              "<IPython.core.display.HTML object>"
            ],
            "text/html": [
              "Query job 5d20d89b-442f-40b7-acc7-8d06da245f4b is DONE. 4.0 kB processed. <a target=\"_blank\" href=\"https://console.cloud.google.com/bigquery?project=financial-fraud-detection-1&j=bq:US:5d20d89b-442f-40b7-acc7-8d06da245f4b&page=queryresults\">Open Job</a>"
            ]
          },
          "metadata": {}
        },
        {
          "output_type": "display_data",
          "data": {
            "text/plain": [
              "<IPython.core.display.HTML object>"
            ],
            "text/html": [
              "Load job 6ed76fe6-dadb-4c94-9449-c26e6ccfe98e is DONE. <a target=\"_blank\" href=\"https://console.cloud.google.com/bigquery?project=financial-fraud-detection-1&j=bq:US:6ed76fe6-dadb-4c94-9449-c26e6ccfe98e&page=queryresults\">Open Job</a>"
            ]
          },
          "metadata": {}
        },
        {
          "output_type": "display_data",
          "data": {
            "text/plain": [
              "<IPython.core.display.HTML object>"
            ],
            "text/html": [
              "Query job 95807514-a6ec-48e8-a97e-47b65b302da0 is DONE. 21.8 MB processed. <a target=\"_blank\" href=\"https://console.cloud.google.com/bigquery?project=financial-fraud-detection-1&j=bq:US:95807514-a6ec-48e8-a97e-47b65b302da0&page=queryresults\">Open Job</a>"
            ]
          },
          "metadata": {}
        },
        {
          "output_type": "stream",
          "name": "stderr",
          "text": [
            "/usr/local/lib/python3.11/dist-packages/bigframes/core/array_value.py:108: PreviewWarning: JSON column interpretation as a custom PyArrow extention in\n",
            "`db_dtypes` is a preview feature and subject to change.\n",
            "  warnings.warn(msg, bfe.PreviewWarning)\n"
          ]
        },
        {
          "output_type": "display_data",
          "data": {
            "text/plain": [
              "<IPython.core.display.HTML object>"
            ],
            "text/html": [
              "Query job 199ca268-59b6-4ccd-9788-fb10bfd4c667 is DONE. 1.6 kB processed. <a target=\"_blank\" href=\"https://console.cloud.google.com/bigquery?project=financial-fraud-detection-1&j=bq:US:199ca268-59b6-4ccd-9788-fb10bfd4c667&page=queryresults\">Open Job</a>"
            ]
          },
          "metadata": {}
        },
        {
          "output_type": "display_data",
          "data": {
            "text/plain": [
              "<IPython.core.display.HTML object>"
            ],
            "text/html": [
              "Load job cae7e255-1a3b-4642-8dc2-dc435839ea4b is DONE. <a target=\"_blank\" href=\"https://console.cloud.google.com/bigquery?project=financial-fraud-detection-1&j=bq:US:cae7e255-1a3b-4642-8dc2-dc435839ea4b&page=queryresults\">Open Job</a>"
            ]
          },
          "metadata": {}
        },
        {
          "output_type": "display_data",
          "data": {
            "text/plain": [
              "<IPython.core.display.HTML object>"
            ],
            "text/html": [
              "Query job 6a7e5057-abe5-496a-9053-a01b61eb48a8 is DONE. 22.1 MB processed. <a target=\"_blank\" href=\"https://console.cloud.google.com/bigquery?project=financial-fraud-detection-1&j=bq:US:6a7e5057-abe5-496a-9053-a01b61eb48a8&page=queryresults\">Open Job</a>"
            ]
          },
          "metadata": {}
        },
        {
          "output_type": "stream",
          "name": "stderr",
          "text": [
            "/usr/local/lib/python3.11/dist-packages/bigframes/core/array_value.py:108: PreviewWarning: JSON column interpretation as a custom PyArrow extention in\n",
            "`db_dtypes` is a preview feature and subject to change.\n",
            "  warnings.warn(msg, bfe.PreviewWarning)\n"
          ]
        },
        {
          "output_type": "display_data",
          "data": {
            "text/plain": [
              "<IPython.core.display.HTML object>"
            ],
            "text/html": [
              "Query job e069564a-c27a-47ad-a483-26e7315681b5 is DONE. 4.1 kB processed. <a target=\"_blank\" href=\"https://console.cloud.google.com/bigquery?project=financial-fraud-detection-1&j=bq:US:e069564a-c27a-47ad-a483-26e7315681b5&page=queryresults\">Open Job</a>"
            ]
          },
          "metadata": {}
        },
        {
          "output_type": "display_data",
          "data": {
            "text/plain": [
              "<IPython.core.display.HTML object>"
            ],
            "text/html": [
              "Load job ea434ff5-7114-4fbd-ba54-8cae03cc9bce is DONE. <a target=\"_blank\" href=\"https://console.cloud.google.com/bigquery?project=financial-fraud-detection-1&j=bq:US:ea434ff5-7114-4fbd-ba54-8cae03cc9bce&page=queryresults\">Open Job</a>"
            ]
          },
          "metadata": {}
        },
        {
          "output_type": "display_data",
          "data": {
            "text/plain": [
              "<IPython.core.display.HTML object>"
            ],
            "text/html": [
              "Query job 03889f91-8f4d-45a5-9dfd-2b23e18a683f is DONE. 22.2 MB processed. <a target=\"_blank\" href=\"https://console.cloud.google.com/bigquery?project=financial-fraud-detection-1&j=bq:US:03889f91-8f4d-45a5-9dfd-2b23e18a683f&page=queryresults\">Open Job</a>"
            ]
          },
          "metadata": {}
        },
        {
          "output_type": "stream",
          "name": "stderr",
          "text": [
            "/usr/local/lib/python3.11/dist-packages/bigframes/core/array_value.py:108: PreviewWarning: JSON column interpretation as a custom PyArrow extention in\n",
            "`db_dtypes` is a preview feature and subject to change.\n",
            "  warnings.warn(msg, bfe.PreviewWarning)\n"
          ]
        },
        {
          "output_type": "display_data",
          "data": {
            "text/plain": [
              "<IPython.core.display.HTML object>"
            ],
            "text/html": [
              "Query job 2f3be5ae-35d4-40e6-8b8e-fc385b7ddfe8 is DONE. 4.2 kB processed. <a target=\"_blank\" href=\"https://console.cloud.google.com/bigquery?project=financial-fraud-detection-1&j=bq:US:2f3be5ae-35d4-40e6-8b8e-fc385b7ddfe8&page=queryresults\">Open Job</a>"
            ]
          },
          "metadata": {}
        },
        {
          "output_type": "display_data",
          "data": {
            "text/plain": [
              "<IPython.core.display.HTML object>"
            ],
            "text/html": [
              "Load job 9ad378b1-f8a0-4444-a33d-5a9309283efc is DONE. <a target=\"_blank\" href=\"https://console.cloud.google.com/bigquery?project=financial-fraud-detection-1&j=bq:US:9ad378b1-f8a0-4444-a33d-5a9309283efc&page=queryresults\">Open Job</a>"
            ]
          },
          "metadata": {}
        },
        {
          "output_type": "display_data",
          "data": {
            "text/plain": [
              "<IPython.core.display.HTML object>"
            ],
            "text/html": [
              "Query job 14dd4e85-0b14-4ea3-ace8-07229f6647ab is DONE. 22.2 MB processed. <a target=\"_blank\" href=\"https://console.cloud.google.com/bigquery?project=financial-fraud-detection-1&j=bq:US:14dd4e85-0b14-4ea3-ace8-07229f6647ab&page=queryresults\">Open Job</a>"
            ]
          },
          "metadata": {}
        },
        {
          "output_type": "stream",
          "name": "stderr",
          "text": [
            "/usr/local/lib/python3.11/dist-packages/bigframes/core/array_value.py:108: PreviewWarning: JSON column interpretation as a custom PyArrow extention in\n",
            "`db_dtypes` is a preview feature and subject to change.\n",
            "  warnings.warn(msg, bfe.PreviewWarning)\n"
          ]
        },
        {
          "output_type": "display_data",
          "data": {
            "text/plain": [
              "<IPython.core.display.HTML object>"
            ],
            "text/html": [
              "Query job 96878588-9d88-4087-bf5c-9d113f7260bd is DONE. 4.0 kB processed. <a target=\"_blank\" href=\"https://console.cloud.google.com/bigquery?project=financial-fraud-detection-1&j=bq:US:96878588-9d88-4087-bf5c-9d113f7260bd&page=queryresults\">Open Job</a>"
            ]
          },
          "metadata": {}
        },
        {
          "output_type": "display_data",
          "data": {
            "text/plain": [
              "<IPython.core.display.HTML object>"
            ],
            "text/html": [
              "Load job 2df39f60-18ad-414b-b41d-abf2eda50c35 is DONE. <a target=\"_blank\" href=\"https://console.cloud.google.com/bigquery?project=financial-fraud-detection-1&j=bq:US:2df39f60-18ad-414b-b41d-abf2eda50c35&page=queryresults\">Open Job</a>"
            ]
          },
          "metadata": {}
        },
        {
          "output_type": "display_data",
          "data": {
            "text/plain": [
              "<IPython.core.display.HTML object>"
            ],
            "text/html": [
              "Query job e21a8959-d207-43dd-af71-6b81d38d3fc9 is DONE. 22.2 MB processed. <a target=\"_blank\" href=\"https://console.cloud.google.com/bigquery?project=financial-fraud-detection-1&j=bq:US:e21a8959-d207-43dd-af71-6b81d38d3fc9&page=queryresults\">Open Job</a>"
            ]
          },
          "metadata": {}
        },
        {
          "output_type": "stream",
          "name": "stderr",
          "text": [
            "/usr/local/lib/python3.11/dist-packages/bigframes/core/array_value.py:108: PreviewWarning: JSON column interpretation as a custom PyArrow extention in\n",
            "`db_dtypes` is a preview feature and subject to change.\n",
            "  warnings.warn(msg, bfe.PreviewWarning)\n"
          ]
        },
        {
          "output_type": "display_data",
          "data": {
            "text/plain": [
              "<IPython.core.display.HTML object>"
            ],
            "text/html": [
              "Query job 26667b10-e50e-46c9-9ba7-2b769ba915a6 is DONE. 4.2 kB processed. <a target=\"_blank\" href=\"https://console.cloud.google.com/bigquery?project=financial-fraud-detection-1&j=bq:US:26667b10-e50e-46c9-9ba7-2b769ba915a6&page=queryresults\">Open Job</a>"
            ]
          },
          "metadata": {}
        },
        {
          "output_type": "display_data",
          "data": {
            "text/plain": [
              "<IPython.core.display.HTML object>"
            ],
            "text/html": [
              "Load job 4b93a3c9-51ab-410e-98ac-111b1b44e5ba is DONE. <a target=\"_blank\" href=\"https://console.cloud.google.com/bigquery?project=financial-fraud-detection-1&j=bq:US:4b93a3c9-51ab-410e-98ac-111b1b44e5ba&page=queryresults\">Open Job</a>"
            ]
          },
          "metadata": {}
        },
        {
          "output_type": "display_data",
          "data": {
            "text/plain": [
              "<IPython.core.display.HTML object>"
            ],
            "text/html": [
              "Query job 45b89bdd-f8f9-4362-bc09-06cb1ea12a79 is DONE. 22.2 MB processed. <a target=\"_blank\" href=\"https://console.cloud.google.com/bigquery?project=financial-fraud-detection-1&j=bq:US:45b89bdd-f8f9-4362-bc09-06cb1ea12a79&page=queryresults\">Open Job</a>"
            ]
          },
          "metadata": {}
        },
        {
          "output_type": "stream",
          "name": "stderr",
          "text": [
            "/usr/local/lib/python3.11/dist-packages/bigframes/core/array_value.py:108: PreviewWarning: JSON column interpretation as a custom PyArrow extention in\n",
            "`db_dtypes` is a preview feature and subject to change.\n",
            "  warnings.warn(msg, bfe.PreviewWarning)\n"
          ]
        },
        {
          "output_type": "display_data",
          "data": {
            "text/plain": [
              "<IPython.core.display.HTML object>"
            ],
            "text/html": [
              "Query job 36999ad1-b72a-40cf-8ec1-fa2534c8bab8 is DONE. 4.1 kB processed. <a target=\"_blank\" href=\"https://console.cloud.google.com/bigquery?project=financial-fraud-detection-1&j=bq:US:36999ad1-b72a-40cf-8ec1-fa2534c8bab8&page=queryresults\">Open Job</a>"
            ]
          },
          "metadata": {}
        },
        {
          "output_type": "display_data",
          "data": {
            "text/plain": [
              "<IPython.core.display.HTML object>"
            ],
            "text/html": [
              "Load job 233c233f-1e38-4dcc-931a-1aa1d5c60359 is DONE. <a target=\"_blank\" href=\"https://console.cloud.google.com/bigquery?project=financial-fraud-detection-1&j=bq:US:233c233f-1e38-4dcc-931a-1aa1d5c60359&page=queryresults\">Open Job</a>"
            ]
          },
          "metadata": {}
        },
        {
          "output_type": "display_data",
          "data": {
            "text/plain": [
              "<IPython.core.display.HTML object>"
            ],
            "text/html": [
              "Query job 77519e27-c235-4514-97c2-fbe1b88d9c01 is DONE. 21.8 MB processed. <a target=\"_blank\" href=\"https://console.cloud.google.com/bigquery?project=financial-fraud-detection-1&j=bq:US:77519e27-c235-4514-97c2-fbe1b88d9c01&page=queryresults\">Open Job</a>"
            ]
          },
          "metadata": {}
        },
        {
          "output_type": "stream",
          "name": "stderr",
          "text": [
            "/usr/local/lib/python3.11/dist-packages/bigframes/core/array_value.py:108: PreviewWarning: JSON column interpretation as a custom PyArrow extention in\n",
            "`db_dtypes` is a preview feature and subject to change.\n",
            "  warnings.warn(msg, bfe.PreviewWarning)\n"
          ]
        },
        {
          "output_type": "display_data",
          "data": {
            "text/plain": [
              "<IPython.core.display.HTML object>"
            ],
            "text/html": [
              "Query job b7eb14ed-151c-4920-bdb0-04ae88af9c8a is DONE. 1.2 kB processed. <a target=\"_blank\" href=\"https://console.cloud.google.com/bigquery?project=financial-fraud-detection-1&j=bq:US:b7eb14ed-151c-4920-bdb0-04ae88af9c8a&page=queryresults\">Open Job</a>"
            ]
          },
          "metadata": {}
        },
        {
          "output_type": "display_data",
          "data": {
            "text/plain": [
              "<IPython.core.display.HTML object>"
            ],
            "text/html": [
              "Load job 63ea3cca-2c09-4344-9ace-97cf617e0542 is DONE. <a target=\"_blank\" href=\"https://console.cloud.google.com/bigquery?project=financial-fraud-detection-1&j=bq:US:63ea3cca-2c09-4344-9ace-97cf617e0542&page=queryresults\">Open Job</a>"
            ]
          },
          "metadata": {}
        },
        {
          "output_type": "display_data",
          "data": {
            "text/plain": [
              "<IPython.core.display.HTML object>"
            ],
            "text/html": [
              "Query job 677149d6-b700-422e-8bb3-40eed9d291ab is DONE. 21.8 MB processed. <a target=\"_blank\" href=\"https://console.cloud.google.com/bigquery?project=financial-fraud-detection-1&j=bq:US:677149d6-b700-422e-8bb3-40eed9d291ab&page=queryresults\">Open Job</a>"
            ]
          },
          "metadata": {}
        },
        {
          "output_type": "stream",
          "name": "stderr",
          "text": [
            "/usr/local/lib/python3.11/dist-packages/bigframes/core/array_value.py:108: PreviewWarning: JSON column interpretation as a custom PyArrow extention in\n",
            "`db_dtypes` is a preview feature and subject to change.\n",
            "  warnings.warn(msg, bfe.PreviewWarning)\n"
          ]
        },
        {
          "output_type": "display_data",
          "data": {
            "text/plain": [
              "<IPython.core.display.HTML object>"
            ],
            "text/html": [
              "Query job 34f29c20-a3e4-4a4b-b222-3c370241a2a9 is DONE. 1.6 kB processed. <a target=\"_blank\" href=\"https://console.cloud.google.com/bigquery?project=financial-fraud-detection-1&j=bq:US:34f29c20-a3e4-4a4b-b222-3c370241a2a9&page=queryresults\">Open Job</a>"
            ]
          },
          "metadata": {}
        },
        {
          "output_type": "display_data",
          "data": {
            "text/plain": [
              "<IPython.core.display.HTML object>"
            ],
            "text/html": [
              "Load job af56f278-02dc-4de5-a4d1-cbc761feb795 is DONE. <a target=\"_blank\" href=\"https://console.cloud.google.com/bigquery?project=financial-fraud-detection-1&j=bq:US:af56f278-02dc-4de5-a4d1-cbc761feb795&page=queryresults\">Open Job</a>"
            ]
          },
          "metadata": {}
        },
        {
          "output_type": "display_data",
          "data": {
            "text/plain": [
              "<IPython.core.display.HTML object>"
            ],
            "text/html": [
              "Query job 1caf9c1c-e42f-42e2-8963-afbae7ed9242 is DONE. 22.1 MB processed. <a target=\"_blank\" href=\"https://console.cloud.google.com/bigquery?project=financial-fraud-detection-1&j=bq:US:1caf9c1c-e42f-42e2-8963-afbae7ed9242&page=queryresults\">Open Job</a>"
            ]
          },
          "metadata": {}
        },
        {
          "output_type": "stream",
          "name": "stderr",
          "text": [
            "/usr/local/lib/python3.11/dist-packages/bigframes/core/array_value.py:108: PreviewWarning: JSON column interpretation as a custom PyArrow extention in\n",
            "`db_dtypes` is a preview feature and subject to change.\n",
            "  warnings.warn(msg, bfe.PreviewWarning)\n"
          ]
        },
        {
          "output_type": "display_data",
          "data": {
            "text/plain": [
              "<IPython.core.display.HTML object>"
            ],
            "text/html": [
              "Query job b10ef182-f5fe-4490-84dc-6859e9b9f9c1 is DONE. 3.3 kB processed. <a target=\"_blank\" href=\"https://console.cloud.google.com/bigquery?project=financial-fraud-detection-1&j=bq:US:b10ef182-f5fe-4490-84dc-6859e9b9f9c1&page=queryresults\">Open Job</a>"
            ]
          },
          "metadata": {}
        },
        {
          "output_type": "display_data",
          "data": {
            "text/plain": [
              "<IPython.core.display.HTML object>"
            ],
            "text/html": [
              "Load job 16a31dec-a9bd-4d29-aece-ac7c3b7f69a7 is DONE. <a target=\"_blank\" href=\"https://console.cloud.google.com/bigquery?project=financial-fraud-detection-1&j=bq:US:16a31dec-a9bd-4d29-aece-ac7c3b7f69a7&page=queryresults\">Open Job</a>"
            ]
          },
          "metadata": {}
        },
        {
          "output_type": "display_data",
          "data": {
            "text/plain": [
              "<IPython.core.display.HTML object>"
            ],
            "text/html": [
              "Query job 666008f0-598a-4862-b95d-9315a78205bd is DONE. 21.8 MB processed. <a target=\"_blank\" href=\"https://console.cloud.google.com/bigquery?project=financial-fraud-detection-1&j=bq:US:666008f0-598a-4862-b95d-9315a78205bd&page=queryresults\">Open Job</a>"
            ]
          },
          "metadata": {}
        },
        {
          "output_type": "stream",
          "name": "stderr",
          "text": [
            "/usr/local/lib/python3.11/dist-packages/bigframes/core/array_value.py:108: PreviewWarning: JSON column interpretation as a custom PyArrow extention in\n",
            "`db_dtypes` is a preview feature and subject to change.\n",
            "  warnings.warn(msg, bfe.PreviewWarning)\n"
          ]
        },
        {
          "output_type": "display_data",
          "data": {
            "text/plain": [
              "<IPython.core.display.HTML object>"
            ],
            "text/html": [
              "Query job 27208915-fb44-44a5-b485-d44fcdb177ec is DONE. 1.5 kB processed. <a target=\"_blank\" href=\"https://console.cloud.google.com/bigquery?project=financial-fraud-detection-1&j=bq:US:27208915-fb44-44a5-b485-d44fcdb177ec&page=queryresults\">Open Job</a>"
            ]
          },
          "metadata": {}
        },
        {
          "output_type": "display_data",
          "data": {
            "text/plain": [
              "<IPython.core.display.HTML object>"
            ],
            "text/html": [
              "Load job 52edc8b1-8891-46d9-b266-b39ae8bc60c3 is DONE. <a target=\"_blank\" href=\"https://console.cloud.google.com/bigquery?project=financial-fraud-detection-1&j=bq:US:52edc8b1-8891-46d9-b266-b39ae8bc60c3&page=queryresults\">Open Job</a>"
            ]
          },
          "metadata": {}
        },
        {
          "output_type": "display_data",
          "data": {
            "text/plain": [
              "<IPython.core.display.HTML object>"
            ],
            "text/html": [
              "Query job 2eb3ffac-0d69-41d6-b41f-80036fda0500 is DONE. 22.1 MB processed. <a target=\"_blank\" href=\"https://console.cloud.google.com/bigquery?project=financial-fraud-detection-1&j=bq:US:2eb3ffac-0d69-41d6-b41f-80036fda0500&page=queryresults\">Open Job</a>"
            ]
          },
          "metadata": {}
        },
        {
          "output_type": "stream",
          "name": "stderr",
          "text": [
            "/usr/local/lib/python3.11/dist-packages/bigframes/core/array_value.py:108: PreviewWarning: JSON column interpretation as a custom PyArrow extention in\n",
            "`db_dtypes` is a preview feature and subject to change.\n",
            "  warnings.warn(msg, bfe.PreviewWarning)\n"
          ]
        },
        {
          "output_type": "display_data",
          "data": {
            "text/plain": [
              "<IPython.core.display.HTML object>"
            ],
            "text/html": [
              "Query job 3d9f9632-1e66-4571-826c-6c2e852c5295 is DONE. 3.8 kB processed. <a target=\"_blank\" href=\"https://console.cloud.google.com/bigquery?project=financial-fraud-detection-1&j=bq:US:3d9f9632-1e66-4571-826c-6c2e852c5295&page=queryresults\">Open Job</a>"
            ]
          },
          "metadata": {}
        }
      ]
    },
    {
      "cell_type": "code",
      "source": [
        "# tables created"
      ],
      "metadata": {
        "id": "CSpKNirXvaBp"
      },
      "id": "CSpKNirXvaBp",
      "execution_count": null,
      "outputs": []
    }
  ],
  "metadata": {
    "kernelspec": {
      "display_name": "Python 3",
      "language": "python",
      "name": "python3"
    },
    "language_info": {
      "codemirror_mode": {
        "name": "ipython",
        "version": 3
      },
      "file_extension": ".py",
      "mimetype": "text/x-python",
      "name": "python",
      "nbconvert_exporter": "python",
      "pygments_lexer": "ipython3",
      "version": "3.10.10"
    },
    "colab": {
      "provenance": [],
      "name": "SEC EDGAR Vector Search"
    },
    "widgets": {
      "application/vnd.jupyter.widget-state+json": {
        "43d19b95053e4002ac8a3d1fd46b20ad": {
          "model_module": "@jupyter-widgets/controls",
          "model_name": "HBoxModel",
          "model_module_version": "1.5.0",
          "state": {
            "_dom_classes": [],
            "_model_module": "@jupyter-widgets/controls",
            "_model_module_version": "1.5.0",
            "_model_name": "HBoxModel",
            "_view_count": null,
            "_view_module": "@jupyter-widgets/controls",
            "_view_module_version": "1.5.0",
            "_view_name": "HBoxView",
            "box_style": "",
            "children": [
              "IPY_MODEL_22ed77bd2e634c008051792747ca30e7",
              "IPY_MODEL_5ab6c4d8120d4ebdb3dfd0a46811f9f3",
              "IPY_MODEL_562e28fb9d564407b020098548f1241a"
            ],
            "layout": "IPY_MODEL_45f7a97966144181bc5b9294bee239d1"
          }
        },
        "22ed77bd2e634c008051792747ca30e7": {
          "model_module": "@jupyter-widgets/controls",
          "model_name": "HTMLModel",
          "model_module_version": "1.5.0",
          "state": {
            "_dom_classes": [],
            "_model_module": "@jupyter-widgets/controls",
            "_model_module_version": "1.5.0",
            "_model_name": "HTMLModel",
            "_view_count": null,
            "_view_module": "@jupyter-widgets/controls",
            "_view_module_version": "1.5.0",
            "_view_name": "HTMLView",
            "description": "",
            "description_tooltip": null,
            "layout": "IPY_MODEL_5b9e939b422049bc9289f933260f6ce6",
            "placeholder": "​",
            "style": "IPY_MODEL_fb160ba0c6794fbe9b05a2c835884de0",
            "value": "Job ID f03322e7-53e5-42a0-bb13-d8075a2f9747 successfully executed: 100%"
          }
        },
        "5ab6c4d8120d4ebdb3dfd0a46811f9f3": {
          "model_module": "@jupyter-widgets/controls",
          "model_name": "FloatProgressModel",
          "model_module_version": "1.5.0",
          "state": {
            "_dom_classes": [],
            "_model_module": "@jupyter-widgets/controls",
            "_model_module_version": "1.5.0",
            "_model_name": "FloatProgressModel",
            "_view_count": null,
            "_view_module": "@jupyter-widgets/controls",
            "_view_module_version": "1.5.0",
            "_view_name": "ProgressView",
            "bar_style": "success",
            "description": "",
            "description_tooltip": null,
            "layout": "IPY_MODEL_b199b7d93b024a869c958cc26745814f",
            "max": 1,
            "min": 0,
            "orientation": "horizontal",
            "style": "IPY_MODEL_10a00b6618724568a94cdcb82d0a84af",
            "value": 1
          }
        },
        "562e28fb9d564407b020098548f1241a": {
          "model_module": "@jupyter-widgets/controls",
          "model_name": "HTMLModel",
          "model_module_version": "1.5.0",
          "state": {
            "_dom_classes": [],
            "_model_module": "@jupyter-widgets/controls",
            "_model_module_version": "1.5.0",
            "_model_name": "HTMLModel",
            "_view_count": null,
            "_view_module": "@jupyter-widgets/controls",
            "_view_module_version": "1.5.0",
            "_view_name": "HTMLView",
            "description": "",
            "description_tooltip": null,
            "layout": "IPY_MODEL_bbc6f547c38047d89b318ac04c90feed",
            "placeholder": "​",
            "style": "IPY_MODEL_4a3411ecb3c649bf974f69245e497c2e",
            "value": ""
          }
        },
        "45f7a97966144181bc5b9294bee239d1": {
          "model_module": "@jupyter-widgets/base",
          "model_name": "LayoutModel",
          "model_module_version": "1.2.0",
          "state": {
            "_model_module": "@jupyter-widgets/base",
            "_model_module_version": "1.2.0",
            "_model_name": "LayoutModel",
            "_view_count": null,
            "_view_module": "@jupyter-widgets/base",
            "_view_module_version": "1.2.0",
            "_view_name": "LayoutView",
            "align_content": null,
            "align_items": null,
            "align_self": null,
            "border": null,
            "bottom": null,
            "display": null,
            "flex": null,
            "flex_flow": null,
            "grid_area": null,
            "grid_auto_columns": null,
            "grid_auto_flow": null,
            "grid_auto_rows": null,
            "grid_column": null,
            "grid_gap": null,
            "grid_row": null,
            "grid_template_areas": null,
            "grid_template_columns": null,
            "grid_template_rows": null,
            "height": null,
            "justify_content": null,
            "justify_items": null,
            "left": null,
            "margin": null,
            "max_height": null,
            "max_width": null,
            "min_height": null,
            "min_width": null,
            "object_fit": null,
            "object_position": null,
            "order": null,
            "overflow": null,
            "overflow_x": null,
            "overflow_y": null,
            "padding": null,
            "right": null,
            "top": null,
            "visibility": null,
            "width": null
          }
        },
        "5b9e939b422049bc9289f933260f6ce6": {
          "model_module": "@jupyter-widgets/base",
          "model_name": "LayoutModel",
          "model_module_version": "1.2.0",
          "state": {
            "_model_module": "@jupyter-widgets/base",
            "_model_module_version": "1.2.0",
            "_model_name": "LayoutModel",
            "_view_count": null,
            "_view_module": "@jupyter-widgets/base",
            "_view_module_version": "1.2.0",
            "_view_name": "LayoutView",
            "align_content": null,
            "align_items": null,
            "align_self": null,
            "border": null,
            "bottom": null,
            "display": null,
            "flex": null,
            "flex_flow": null,
            "grid_area": null,
            "grid_auto_columns": null,
            "grid_auto_flow": null,
            "grid_auto_rows": null,
            "grid_column": null,
            "grid_gap": null,
            "grid_row": null,
            "grid_template_areas": null,
            "grid_template_columns": null,
            "grid_template_rows": null,
            "height": null,
            "justify_content": null,
            "justify_items": null,
            "left": null,
            "margin": null,
            "max_height": null,
            "max_width": null,
            "min_height": null,
            "min_width": null,
            "object_fit": null,
            "object_position": null,
            "order": null,
            "overflow": null,
            "overflow_x": null,
            "overflow_y": null,
            "padding": null,
            "right": null,
            "top": null,
            "visibility": null,
            "width": null
          }
        },
        "fb160ba0c6794fbe9b05a2c835884de0": {
          "model_module": "@jupyter-widgets/controls",
          "model_name": "DescriptionStyleModel",
          "model_module_version": "1.5.0",
          "state": {
            "_model_module": "@jupyter-widgets/controls",
            "_model_module_version": "1.5.0",
            "_model_name": "DescriptionStyleModel",
            "_view_count": null,
            "_view_module": "@jupyter-widgets/base",
            "_view_module_version": "1.2.0",
            "_view_name": "StyleView",
            "description_width": ""
          }
        },
        "b199b7d93b024a869c958cc26745814f": {
          "model_module": "@jupyter-widgets/base",
          "model_name": "LayoutModel",
          "model_module_version": "1.2.0",
          "state": {
            "_model_module": "@jupyter-widgets/base",
            "_model_module_version": "1.2.0",
            "_model_name": "LayoutModel",
            "_view_count": null,
            "_view_module": "@jupyter-widgets/base",
            "_view_module_version": "1.2.0",
            "_view_name": "LayoutView",
            "align_content": null,
            "align_items": null,
            "align_self": null,
            "border": null,
            "bottom": null,
            "display": null,
            "flex": null,
            "flex_flow": null,
            "grid_area": null,
            "grid_auto_columns": null,
            "grid_auto_flow": null,
            "grid_auto_rows": null,
            "grid_column": null,
            "grid_gap": null,
            "grid_row": null,
            "grid_template_areas": null,
            "grid_template_columns": null,
            "grid_template_rows": null,
            "height": null,
            "justify_content": null,
            "justify_items": null,
            "left": null,
            "margin": null,
            "max_height": null,
            "max_width": null,
            "min_height": null,
            "min_width": null,
            "object_fit": null,
            "object_position": null,
            "order": null,
            "overflow": null,
            "overflow_x": null,
            "overflow_y": null,
            "padding": null,
            "right": null,
            "top": null,
            "visibility": null,
            "width": null
          }
        },
        "10a00b6618724568a94cdcb82d0a84af": {
          "model_module": "@jupyter-widgets/controls",
          "model_name": "ProgressStyleModel",
          "model_module_version": "1.5.0",
          "state": {
            "_model_module": "@jupyter-widgets/controls",
            "_model_module_version": "1.5.0",
            "_model_name": "ProgressStyleModel",
            "_view_count": null,
            "_view_module": "@jupyter-widgets/base",
            "_view_module_version": "1.2.0",
            "_view_name": "StyleView",
            "bar_color": null,
            "description_width": ""
          }
        },
        "bbc6f547c38047d89b318ac04c90feed": {
          "model_module": "@jupyter-widgets/base",
          "model_name": "LayoutModel",
          "model_module_version": "1.2.0",
          "state": {
            "_model_module": "@jupyter-widgets/base",
            "_model_module_version": "1.2.0",
            "_model_name": "LayoutModel",
            "_view_count": null,
            "_view_module": "@jupyter-widgets/base",
            "_view_module_version": "1.2.0",
            "_view_name": "LayoutView",
            "align_content": null,
            "align_items": null,
            "align_self": null,
            "border": null,
            "bottom": null,
            "display": null,
            "flex": null,
            "flex_flow": null,
            "grid_area": null,
            "grid_auto_columns": null,
            "grid_auto_flow": null,
            "grid_auto_rows": null,
            "grid_column": null,
            "grid_gap": null,
            "grid_row": null,
            "grid_template_areas": null,
            "grid_template_columns": null,
            "grid_template_rows": null,
            "height": null,
            "justify_content": null,
            "justify_items": null,
            "left": null,
            "margin": null,
            "max_height": null,
            "max_width": null,
            "min_height": null,
            "min_width": null,
            "object_fit": null,
            "object_position": null,
            "order": null,
            "overflow": null,
            "overflow_x": null,
            "overflow_y": null,
            "padding": null,
            "right": null,
            "top": null,
            "visibility": null,
            "width": null
          }
        },
        "4a3411ecb3c649bf974f69245e497c2e": {
          "model_module": "@jupyter-widgets/controls",
          "model_name": "DescriptionStyleModel",
          "model_module_version": "1.5.0",
          "state": {
            "_model_module": "@jupyter-widgets/controls",
            "_model_module_version": "1.5.0",
            "_model_name": "DescriptionStyleModel",
            "_view_count": null,
            "_view_module": "@jupyter-widgets/base",
            "_view_module_version": "1.2.0",
            "_view_name": "StyleView",
            "description_width": ""
          }
        },
        "7a2f6c58fa9a412e9f18e6da2bb5938c": {
          "model_module": "@jupyter-widgets/controls",
          "model_name": "HBoxModel",
          "model_module_version": "1.5.0",
          "state": {
            "_dom_classes": [],
            "_model_module": "@jupyter-widgets/controls",
            "_model_module_version": "1.5.0",
            "_model_name": "HBoxModel",
            "_view_count": null,
            "_view_module": "@jupyter-widgets/controls",
            "_view_module_version": "1.5.0",
            "_view_name": "HBoxView",
            "box_style": "",
            "children": [
              "IPY_MODEL_e3a0e628e53345b48038ad8f75df1115",
              "IPY_MODEL_92aabe5423534ffc91b438c23277ad74",
              "IPY_MODEL_f15a852b48b14c01b29d0287b07c5b24"
            ],
            "layout": "IPY_MODEL_7278037693e44a6c94e97405340d8e54"
          }
        },
        "e3a0e628e53345b48038ad8f75df1115": {
          "model_module": "@jupyter-widgets/controls",
          "model_name": "HTMLModel",
          "model_module_version": "1.5.0",
          "state": {
            "_dom_classes": [],
            "_model_module": "@jupyter-widgets/controls",
            "_model_module_version": "1.5.0",
            "_model_name": "HTMLModel",
            "_view_count": null,
            "_view_module": "@jupyter-widgets/controls",
            "_view_module_version": "1.5.0",
            "_view_name": "HTMLView",
            "description": "",
            "description_tooltip": null,
            "layout": "IPY_MODEL_5db1495ee551475b93b8a06c98eebe80",
            "placeholder": "​",
            "style": "IPY_MODEL_61f3c122ccfa4b32824a3a6e26d50e5c",
            "value": "Job ID af83d1f9-d604-4a8b-8508-858d295eaae8 successfully executed: 100%"
          }
        },
        "92aabe5423534ffc91b438c23277ad74": {
          "model_module": "@jupyter-widgets/controls",
          "model_name": "FloatProgressModel",
          "model_module_version": "1.5.0",
          "state": {
            "_dom_classes": [],
            "_model_module": "@jupyter-widgets/controls",
            "_model_module_version": "1.5.0",
            "_model_name": "FloatProgressModel",
            "_view_count": null,
            "_view_module": "@jupyter-widgets/controls",
            "_view_module_version": "1.5.0",
            "_view_name": "ProgressView",
            "bar_style": "success",
            "description": "",
            "description_tooltip": null,
            "layout": "IPY_MODEL_a2677d744eb14e50bec5f69f6e7c4ebe",
            "max": 1,
            "min": 0,
            "orientation": "horizontal",
            "style": "IPY_MODEL_8a8f66722e604922a9b0543e63759914",
            "value": 1
          }
        },
        "f15a852b48b14c01b29d0287b07c5b24": {
          "model_module": "@jupyter-widgets/controls",
          "model_name": "HTMLModel",
          "model_module_version": "1.5.0",
          "state": {
            "_dom_classes": [],
            "_model_module": "@jupyter-widgets/controls",
            "_model_module_version": "1.5.0",
            "_model_name": "HTMLModel",
            "_view_count": null,
            "_view_module": "@jupyter-widgets/controls",
            "_view_module_version": "1.5.0",
            "_view_name": "HTMLView",
            "description": "",
            "description_tooltip": null,
            "layout": "IPY_MODEL_da5d6d48492d473395468a40419b2dc9",
            "placeholder": "​",
            "style": "IPY_MODEL_b2efbabaeaf34d1eb3927db65c82f009",
            "value": ""
          }
        },
        "7278037693e44a6c94e97405340d8e54": {
          "model_module": "@jupyter-widgets/base",
          "model_name": "LayoutModel",
          "model_module_version": "1.2.0",
          "state": {
            "_model_module": "@jupyter-widgets/base",
            "_model_module_version": "1.2.0",
            "_model_name": "LayoutModel",
            "_view_count": null,
            "_view_module": "@jupyter-widgets/base",
            "_view_module_version": "1.2.0",
            "_view_name": "LayoutView",
            "align_content": null,
            "align_items": null,
            "align_self": null,
            "border": null,
            "bottom": null,
            "display": null,
            "flex": null,
            "flex_flow": null,
            "grid_area": null,
            "grid_auto_columns": null,
            "grid_auto_flow": null,
            "grid_auto_rows": null,
            "grid_column": null,
            "grid_gap": null,
            "grid_row": null,
            "grid_template_areas": null,
            "grid_template_columns": null,
            "grid_template_rows": null,
            "height": null,
            "justify_content": null,
            "justify_items": null,
            "left": null,
            "margin": null,
            "max_height": null,
            "max_width": null,
            "min_height": null,
            "min_width": null,
            "object_fit": null,
            "object_position": null,
            "order": null,
            "overflow": null,
            "overflow_x": null,
            "overflow_y": null,
            "padding": null,
            "right": null,
            "top": null,
            "visibility": null,
            "width": null
          }
        },
        "5db1495ee551475b93b8a06c98eebe80": {
          "model_module": "@jupyter-widgets/base",
          "model_name": "LayoutModel",
          "model_module_version": "1.2.0",
          "state": {
            "_model_module": "@jupyter-widgets/base",
            "_model_module_version": "1.2.0",
            "_model_name": "LayoutModel",
            "_view_count": null,
            "_view_module": "@jupyter-widgets/base",
            "_view_module_version": "1.2.0",
            "_view_name": "LayoutView",
            "align_content": null,
            "align_items": null,
            "align_self": null,
            "border": null,
            "bottom": null,
            "display": null,
            "flex": null,
            "flex_flow": null,
            "grid_area": null,
            "grid_auto_columns": null,
            "grid_auto_flow": null,
            "grid_auto_rows": null,
            "grid_column": null,
            "grid_gap": null,
            "grid_row": null,
            "grid_template_areas": null,
            "grid_template_columns": null,
            "grid_template_rows": null,
            "height": null,
            "justify_content": null,
            "justify_items": null,
            "left": null,
            "margin": null,
            "max_height": null,
            "max_width": null,
            "min_height": null,
            "min_width": null,
            "object_fit": null,
            "object_position": null,
            "order": null,
            "overflow": null,
            "overflow_x": null,
            "overflow_y": null,
            "padding": null,
            "right": null,
            "top": null,
            "visibility": null,
            "width": null
          }
        },
        "61f3c122ccfa4b32824a3a6e26d50e5c": {
          "model_module": "@jupyter-widgets/controls",
          "model_name": "DescriptionStyleModel",
          "model_module_version": "1.5.0",
          "state": {
            "_model_module": "@jupyter-widgets/controls",
            "_model_module_version": "1.5.0",
            "_model_name": "DescriptionStyleModel",
            "_view_count": null,
            "_view_module": "@jupyter-widgets/base",
            "_view_module_version": "1.2.0",
            "_view_name": "StyleView",
            "description_width": ""
          }
        },
        "a2677d744eb14e50bec5f69f6e7c4ebe": {
          "model_module": "@jupyter-widgets/base",
          "model_name": "LayoutModel",
          "model_module_version": "1.2.0",
          "state": {
            "_model_module": "@jupyter-widgets/base",
            "_model_module_version": "1.2.0",
            "_model_name": "LayoutModel",
            "_view_count": null,
            "_view_module": "@jupyter-widgets/base",
            "_view_module_version": "1.2.0",
            "_view_name": "LayoutView",
            "align_content": null,
            "align_items": null,
            "align_self": null,
            "border": null,
            "bottom": null,
            "display": null,
            "flex": null,
            "flex_flow": null,
            "grid_area": null,
            "grid_auto_columns": null,
            "grid_auto_flow": null,
            "grid_auto_rows": null,
            "grid_column": null,
            "grid_gap": null,
            "grid_row": null,
            "grid_template_areas": null,
            "grid_template_columns": null,
            "grid_template_rows": null,
            "height": null,
            "justify_content": null,
            "justify_items": null,
            "left": null,
            "margin": null,
            "max_height": null,
            "max_width": null,
            "min_height": null,
            "min_width": null,
            "object_fit": null,
            "object_position": null,
            "order": null,
            "overflow": null,
            "overflow_x": null,
            "overflow_y": null,
            "padding": null,
            "right": null,
            "top": null,
            "visibility": null,
            "width": null
          }
        },
        "8a8f66722e604922a9b0543e63759914": {
          "model_module": "@jupyter-widgets/controls",
          "model_name": "ProgressStyleModel",
          "model_module_version": "1.5.0",
          "state": {
            "_model_module": "@jupyter-widgets/controls",
            "_model_module_version": "1.5.0",
            "_model_name": "ProgressStyleModel",
            "_view_count": null,
            "_view_module": "@jupyter-widgets/base",
            "_view_module_version": "1.2.0",
            "_view_name": "StyleView",
            "bar_color": null,
            "description_width": ""
          }
        },
        "da5d6d48492d473395468a40419b2dc9": {
          "model_module": "@jupyter-widgets/base",
          "model_name": "LayoutModel",
          "model_module_version": "1.2.0",
          "state": {
            "_model_module": "@jupyter-widgets/base",
            "_model_module_version": "1.2.0",
            "_model_name": "LayoutModel",
            "_view_count": null,
            "_view_module": "@jupyter-widgets/base",
            "_view_module_version": "1.2.0",
            "_view_name": "LayoutView",
            "align_content": null,
            "align_items": null,
            "align_self": null,
            "border": null,
            "bottom": null,
            "display": null,
            "flex": null,
            "flex_flow": null,
            "grid_area": null,
            "grid_auto_columns": null,
            "grid_auto_flow": null,
            "grid_auto_rows": null,
            "grid_column": null,
            "grid_gap": null,
            "grid_row": null,
            "grid_template_areas": null,
            "grid_template_columns": null,
            "grid_template_rows": null,
            "height": null,
            "justify_content": null,
            "justify_items": null,
            "left": null,
            "margin": null,
            "max_height": null,
            "max_width": null,
            "min_height": null,
            "min_width": null,
            "object_fit": null,
            "object_position": null,
            "order": null,
            "overflow": null,
            "overflow_x": null,
            "overflow_y": null,
            "padding": null,
            "right": null,
            "top": null,
            "visibility": null,
            "width": null
          }
        },
        "b2efbabaeaf34d1eb3927db65c82f009": {
          "model_module": "@jupyter-widgets/controls",
          "model_name": "DescriptionStyleModel",
          "model_module_version": "1.5.0",
          "state": {
            "_model_module": "@jupyter-widgets/controls",
            "_model_module_version": "1.5.0",
            "_model_name": "DescriptionStyleModel",
            "_view_count": null,
            "_view_module": "@jupyter-widgets/base",
            "_view_module_version": "1.2.0",
            "_view_name": "StyleView",
            "description_width": ""
          }
        },
        "a5254745ab954f7e88aab5ed7878d75d": {
          "model_module": "@jupyter-widgets/controls",
          "model_name": "HBoxModel",
          "model_module_version": "1.5.0",
          "state": {
            "_dom_classes": [],
            "_model_module": "@jupyter-widgets/controls",
            "_model_module_version": "1.5.0",
            "_model_name": "HBoxModel",
            "_view_count": null,
            "_view_module": "@jupyter-widgets/controls",
            "_view_module_version": "1.5.0",
            "_view_name": "HBoxView",
            "box_style": "",
            "children": [
              "IPY_MODEL_aac109e8bdc34c1fa302af6ccd99f063",
              "IPY_MODEL_e0be575e757a4a85a8db1dbe426ef193",
              "IPY_MODEL_0a76f8c39b7d40069c8c33b563cb6f52"
            ],
            "layout": "IPY_MODEL_1899559d337a402eb8992820f83aabbb"
          }
        },
        "aac109e8bdc34c1fa302af6ccd99f063": {
          "model_module": "@jupyter-widgets/controls",
          "model_name": "HTMLModel",
          "model_module_version": "1.5.0",
          "state": {
            "_dom_classes": [],
            "_model_module": "@jupyter-widgets/controls",
            "_model_module_version": "1.5.0",
            "_model_name": "HTMLModel",
            "_view_count": null,
            "_view_module": "@jupyter-widgets/controls",
            "_view_module_version": "1.5.0",
            "_view_name": "HTMLView",
            "description": "",
            "description_tooltip": null,
            "layout": "IPY_MODEL_d17c3a89430147828b0d5f5422fb2b67",
            "placeholder": "​",
            "style": "IPY_MODEL_c9935cef5034418da041a100443a09cd",
            "value": "Downloading: 100%"
          }
        },
        "e0be575e757a4a85a8db1dbe426ef193": {
          "model_module": "@jupyter-widgets/controls",
          "model_name": "FloatProgressModel",
          "model_module_version": "1.5.0",
          "state": {
            "_dom_classes": [],
            "_model_module": "@jupyter-widgets/controls",
            "_model_module_version": "1.5.0",
            "_model_name": "FloatProgressModel",
            "_view_count": null,
            "_view_module": "@jupyter-widgets/controls",
            "_view_module_version": "1.5.0",
            "_view_name": "ProgressView",
            "bar_style": "success",
            "description": "",
            "description_tooltip": null,
            "layout": "IPY_MODEL_1f73f41867264f459b3dbcb93dc64d42",
            "max": 5,
            "min": 0,
            "orientation": "horizontal",
            "style": "IPY_MODEL_ed876856babb4e90a1062e12283e28d7",
            "value": 5
          }
        },
        "0a76f8c39b7d40069c8c33b563cb6f52": {
          "model_module": "@jupyter-widgets/controls",
          "model_name": "HTMLModel",
          "model_module_version": "1.5.0",
          "state": {
            "_dom_classes": [],
            "_model_module": "@jupyter-widgets/controls",
            "_model_module_version": "1.5.0",
            "_model_name": "HTMLModel",
            "_view_count": null,
            "_view_module": "@jupyter-widgets/controls",
            "_view_module_version": "1.5.0",
            "_view_name": "HTMLView",
            "description": "",
            "description_tooltip": null,
            "layout": "IPY_MODEL_1c82d7e22a3f446bb680957613c88b1c",
            "placeholder": "​",
            "style": "IPY_MODEL_5cf588bb34b94553b199fa666188eb5d",
            "value": ""
          }
        },
        "1899559d337a402eb8992820f83aabbb": {
          "model_module": "@jupyter-widgets/base",
          "model_name": "LayoutModel",
          "model_module_version": "1.2.0",
          "state": {
            "_model_module": "@jupyter-widgets/base",
            "_model_module_version": "1.2.0",
            "_model_name": "LayoutModel",
            "_view_count": null,
            "_view_module": "@jupyter-widgets/base",
            "_view_module_version": "1.2.0",
            "_view_name": "LayoutView",
            "align_content": null,
            "align_items": null,
            "align_self": null,
            "border": null,
            "bottom": null,
            "display": null,
            "flex": null,
            "flex_flow": null,
            "grid_area": null,
            "grid_auto_columns": null,
            "grid_auto_flow": null,
            "grid_auto_rows": null,
            "grid_column": null,
            "grid_gap": null,
            "grid_row": null,
            "grid_template_areas": null,
            "grid_template_columns": null,
            "grid_template_rows": null,
            "height": null,
            "justify_content": null,
            "justify_items": null,
            "left": null,
            "margin": null,
            "max_height": null,
            "max_width": null,
            "min_height": null,
            "min_width": null,
            "object_fit": null,
            "object_position": null,
            "order": null,
            "overflow": null,
            "overflow_x": null,
            "overflow_y": null,
            "padding": null,
            "right": null,
            "top": null,
            "visibility": null,
            "width": null
          }
        },
        "d17c3a89430147828b0d5f5422fb2b67": {
          "model_module": "@jupyter-widgets/base",
          "model_name": "LayoutModel",
          "model_module_version": "1.2.0",
          "state": {
            "_model_module": "@jupyter-widgets/base",
            "_model_module_version": "1.2.0",
            "_model_name": "LayoutModel",
            "_view_count": null,
            "_view_module": "@jupyter-widgets/base",
            "_view_module_version": "1.2.0",
            "_view_name": "LayoutView",
            "align_content": null,
            "align_items": null,
            "align_self": null,
            "border": null,
            "bottom": null,
            "display": null,
            "flex": null,
            "flex_flow": null,
            "grid_area": null,
            "grid_auto_columns": null,
            "grid_auto_flow": null,
            "grid_auto_rows": null,
            "grid_column": null,
            "grid_gap": null,
            "grid_row": null,
            "grid_template_areas": null,
            "grid_template_columns": null,
            "grid_template_rows": null,
            "height": null,
            "justify_content": null,
            "justify_items": null,
            "left": null,
            "margin": null,
            "max_height": null,
            "max_width": null,
            "min_height": null,
            "min_width": null,
            "object_fit": null,
            "object_position": null,
            "order": null,
            "overflow": null,
            "overflow_x": null,
            "overflow_y": null,
            "padding": null,
            "right": null,
            "top": null,
            "visibility": null,
            "width": null
          }
        },
        "c9935cef5034418da041a100443a09cd": {
          "model_module": "@jupyter-widgets/controls",
          "model_name": "DescriptionStyleModel",
          "model_module_version": "1.5.0",
          "state": {
            "_model_module": "@jupyter-widgets/controls",
            "_model_module_version": "1.5.0",
            "_model_name": "DescriptionStyleModel",
            "_view_count": null,
            "_view_module": "@jupyter-widgets/base",
            "_view_module_version": "1.2.0",
            "_view_name": "StyleView",
            "description_width": ""
          }
        },
        "1f73f41867264f459b3dbcb93dc64d42": {
          "model_module": "@jupyter-widgets/base",
          "model_name": "LayoutModel",
          "model_module_version": "1.2.0",
          "state": {
            "_model_module": "@jupyter-widgets/base",
            "_model_module_version": "1.2.0",
            "_model_name": "LayoutModel",
            "_view_count": null,
            "_view_module": "@jupyter-widgets/base",
            "_view_module_version": "1.2.0",
            "_view_name": "LayoutView",
            "align_content": null,
            "align_items": null,
            "align_self": null,
            "border": null,
            "bottom": null,
            "display": null,
            "flex": null,
            "flex_flow": null,
            "grid_area": null,
            "grid_auto_columns": null,
            "grid_auto_flow": null,
            "grid_auto_rows": null,
            "grid_column": null,
            "grid_gap": null,
            "grid_row": null,
            "grid_template_areas": null,
            "grid_template_columns": null,
            "grid_template_rows": null,
            "height": null,
            "justify_content": null,
            "justify_items": null,
            "left": null,
            "margin": null,
            "max_height": null,
            "max_width": null,
            "min_height": null,
            "min_width": null,
            "object_fit": null,
            "object_position": null,
            "order": null,
            "overflow": null,
            "overflow_x": null,
            "overflow_y": null,
            "padding": null,
            "right": null,
            "top": null,
            "visibility": null,
            "width": null
          }
        },
        "ed876856babb4e90a1062e12283e28d7": {
          "model_module": "@jupyter-widgets/controls",
          "model_name": "ProgressStyleModel",
          "model_module_version": "1.5.0",
          "state": {
            "_model_module": "@jupyter-widgets/controls",
            "_model_module_version": "1.5.0",
            "_model_name": "ProgressStyleModel",
            "_view_count": null,
            "_view_module": "@jupyter-widgets/base",
            "_view_module_version": "1.2.0",
            "_view_name": "StyleView",
            "bar_color": null,
            "description_width": ""
          }
        },
        "1c82d7e22a3f446bb680957613c88b1c": {
          "model_module": "@jupyter-widgets/base",
          "model_name": "LayoutModel",
          "model_module_version": "1.2.0",
          "state": {
            "_model_module": "@jupyter-widgets/base",
            "_model_module_version": "1.2.0",
            "_model_name": "LayoutModel",
            "_view_count": null,
            "_view_module": "@jupyter-widgets/base",
            "_view_module_version": "1.2.0",
            "_view_name": "LayoutView",
            "align_content": null,
            "align_items": null,
            "align_self": null,
            "border": null,
            "bottom": null,
            "display": null,
            "flex": null,
            "flex_flow": null,
            "grid_area": null,
            "grid_auto_columns": null,
            "grid_auto_flow": null,
            "grid_auto_rows": null,
            "grid_column": null,
            "grid_gap": null,
            "grid_row": null,
            "grid_template_areas": null,
            "grid_template_columns": null,
            "grid_template_rows": null,
            "height": null,
            "justify_content": null,
            "justify_items": null,
            "left": null,
            "margin": null,
            "max_height": null,
            "max_width": null,
            "min_height": null,
            "min_width": null,
            "object_fit": null,
            "object_position": null,
            "order": null,
            "overflow": null,
            "overflow_x": null,
            "overflow_y": null,
            "padding": null,
            "right": null,
            "top": null,
            "visibility": null,
            "width": null
          }
        },
        "5cf588bb34b94553b199fa666188eb5d": {
          "model_module": "@jupyter-widgets/controls",
          "model_name": "DescriptionStyleModel",
          "model_module_version": "1.5.0",
          "state": {
            "_model_module": "@jupyter-widgets/controls",
            "_model_module_version": "1.5.0",
            "_model_name": "DescriptionStyleModel",
            "_view_count": null,
            "_view_module": "@jupyter-widgets/base",
            "_view_module_version": "1.2.0",
            "_view_name": "StyleView",
            "description_width": ""
          }
        }
      }
    }
  },
  "nbformat": 4,
  "nbformat_minor": 5
}