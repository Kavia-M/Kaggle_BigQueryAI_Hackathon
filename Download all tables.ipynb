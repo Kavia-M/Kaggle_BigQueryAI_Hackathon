{
  "cells": [
    {
      "cell_type": "code",
      "id": "DMiCj5IpvFM3rVO6FPoM0jI2",
      "metadata": {
        "tags": [],
        "id": "DMiCj5IpvFM3rVO6FPoM0jI2",
        "executionInfo": {
          "status": "ok",
          "timestamp": 1758569607684,
          "user_tz": -330,
          "elapsed": 2028,
          "user": {
            "displayName": "",
            "userId": ""
          }
        }
      },
      "source": [
        "from google.cloud import bigquery\n",
        "import pandas as pd"
      ],
      "execution_count": 1,
      "outputs": []
    },
    {
      "cell_type": "code",
      "source": [
        "project_id = 'financial-fraud-detection-1'\n",
        "dataset_id = 'SEC_EDGAR_Vector_Search'"
      ],
      "metadata": {
        "id": "FtUvxCUh6qzZ",
        "executionInfo": {
          "status": "ok",
          "timestamp": 1758569643472,
          "user_tz": -330,
          "elapsed": 3,
          "user": {
            "displayName": "",
            "userId": ""
          }
        }
      },
      "id": "FtUvxCUh6qzZ",
      "execution_count": 2,
      "outputs": []
    },
    {
      "cell_type": "code",
      "source": [
        "client = bigquery.Client(project=project_id)"
      ],
      "metadata": {
        "id": "fefZEbTo67uA",
        "executionInfo": {
          "status": "ok",
          "timestamp": 1758569680019,
          "user_tz": -330,
          "elapsed": 3,
          "user": {
            "displayName": "",
            "userId": ""
          }
        }
      },
      "id": "fefZEbTo67uA",
      "execution_count": 4,
      "outputs": []
    },
    {
      "cell_type": "code",
      "source": [
        "# Get an iterator of tables in the dataset\n",
        "tables = client.list_tables(dataset_id)\n",
        "\n",
        "print(f\"Tables found in dataset '{dataset_id}':\")\n",
        "for table in tables:\n",
        "    print(f\"- {table.table_id}\")"
      ],
      "metadata": {
        "colab": {
          "base_uri": "https://localhost:8080/"
        },
        "collapsed": true,
        "id": "aartXWPQ63oW",
        "executionInfo": {
          "status": "ok",
          "timestamp": 1758569723483,
          "user_tz": -330,
          "elapsed": 4,
          "user": {
            "displayName": "",
            "userId": ""
          }
        },
        "outputId": "abb3de00-862f-426f-8dc1-d3649e1e563a"
      },
      "id": "aartXWPQ63oW",
      "execution_count": 5,
      "outputs": [
        {
          "output_type": "stream",
          "name": "stdout",
          "text": [
            "Tables found in dataset 'SEC_EDGAR_Vector_Search':\n",
            "- overall\n",
            "- section_1\n",
            "- section_10\n",
            "- section_11\n",
            "- section_12\n",
            "- section_13\n",
            "- section_14\n",
            "- section_15\n",
            "- section_1A\n",
            "- section_1B\n",
            "- section_2\n",
            "- section_3\n",
            "- section_4\n",
            "- section_5\n",
            "- section_6\n",
            "- section_7\n",
            "- section_7A\n",
            "- section_8\n",
            "- section_9\n",
            "- section_9A\n",
            "- section_9B\n"
          ]
        }
      ]
    },
    {
      "cell_type": "code",
      "source": [
        "tables = client.list_tables(dataset_id)\n",
        "\n",
        "for table in tables:\n",
        "    table_id = table.table_id\n",
        "    full_table_id = f\"{project_id}.{dataset_id}.{table_id}\"\n",
        "\n",
        "    # Construct a query to select all data from the table\n",
        "    query = f\"SELECT * FROM `{full_table_id}`\"\n",
        "\n",
        "    print(f\"Downloading table: {table_id}...\")\n",
        "\n",
        "    # Run the query and convert to a DataFrame\n",
        "    query_job = client.query(query)\n",
        "    df = query_job.to_dataframe()\n",
        "\n",
        "    # Define the local filename\n",
        "    filename = f\"{table_id}.csv\"\n",
        "\n",
        "    # Save the DataFrame to a CSV file\n",
        "    df.to_csv(filename, index=False)\n",
        "\n",
        "    print(f\"Successfully downloaded {table_id} to {filename}\\n\")\n",
        "\n",
        "print(\"All tables downloaded as CSVs.\")"
      ],
      "metadata": {
        "colab": {
          "base_uri": "https://localhost:8080/"
        },
        "collapsed": true,
        "id": "gsfs1Aa87H9Z",
        "executionInfo": {
          "status": "ok",
          "timestamp": 1758569894903,
          "user_tz": -330,
          "elapsed": 38301,
          "user": {
            "displayName": "",
            "userId": ""
          }
        },
        "outputId": "e4f363dd-35d1-4b36-ed3b-a862cf4dd9aa"
      },
      "id": "gsfs1Aa87H9Z",
      "execution_count": 8,
      "outputs": [
        {
          "output_type": "stream",
          "name": "stdout",
          "text": [
            "Downloading table: overall...\n",
            "Successfully downloaded overall to overall.csv\n",
            "\n",
            "Downloading table: section_1...\n",
            "Successfully downloaded section_1 to section_1.csv\n",
            "\n",
            "Downloading table: section_10...\n",
            "Successfully downloaded section_10 to section_10.csv\n",
            "\n",
            "Downloading table: section_11...\n",
            "Successfully downloaded section_11 to section_11.csv\n",
            "\n",
            "Downloading table: section_12...\n",
            "Successfully downloaded section_12 to section_12.csv\n",
            "\n",
            "Downloading table: section_13...\n",
            "Successfully downloaded section_13 to section_13.csv\n",
            "\n",
            "Downloading table: section_14...\n",
            "Successfully downloaded section_14 to section_14.csv\n",
            "\n",
            "Downloading table: section_15...\n",
            "Successfully downloaded section_15 to section_15.csv\n",
            "\n",
            "Downloading table: section_1A...\n",
            "Successfully downloaded section_1A to section_1A.csv\n",
            "\n",
            "Downloading table: section_1B...\n",
            "Successfully downloaded section_1B to section_1B.csv\n",
            "\n",
            "Downloading table: section_2...\n",
            "Successfully downloaded section_2 to section_2.csv\n",
            "\n",
            "Downloading table: section_3...\n",
            "Successfully downloaded section_3 to section_3.csv\n",
            "\n",
            "Downloading table: section_4...\n",
            "Successfully downloaded section_4 to section_4.csv\n",
            "\n",
            "Downloading table: section_5...\n",
            "Successfully downloaded section_5 to section_5.csv\n",
            "\n",
            "Downloading table: section_6...\n",
            "Successfully downloaded section_6 to section_6.csv\n",
            "\n",
            "Downloading table: section_7...\n",
            "Successfully downloaded section_7 to section_7.csv\n",
            "\n",
            "Downloading table: section_7A...\n",
            "Successfully downloaded section_7A to section_7A.csv\n",
            "\n",
            "Downloading table: section_8...\n",
            "Successfully downloaded section_8 to section_8.csv\n",
            "\n",
            "Downloading table: section_9...\n",
            "Successfully downloaded section_9 to section_9.csv\n",
            "\n",
            "Downloading table: section_9A...\n",
            "Successfully downloaded section_9A to section_9A.csv\n",
            "\n",
            "Downloading table: section_9B...\n",
            "Successfully downloaded section_9B to section_9B.csv\n",
            "\n",
            "All tables downloaded as CSVs.\n"
          ]
        }
      ]
    },
    {
      "cell_type": "code",
      "source": [
        "dataset2 = 'sec_enforcement_actions'"
      ],
      "metadata": {
        "id": "hE2QY-ZD7neQ",
        "executionInfo": {
          "status": "ok",
          "timestamp": 1758570062484,
          "user_tz": -330,
          "elapsed": 4,
          "user": {
            "displayName": "",
            "userId": ""
          }
        }
      },
      "id": "hE2QY-ZD7neQ",
      "execution_count": 9,
      "outputs": []
    },
    {
      "cell_type": "code",
      "source": [
        "tables = client.list_tables(dataset2)\n",
        "\n",
        "for table in tables:\n",
        "    table_id = table.table_id\n",
        "    full_table_id = f\"{project_id}.{dataset2}.{table_id}\"\n",
        "\n",
        "    # Construct a query to select all data from the table\n",
        "    query = f\"SELECT * FROM `{full_table_id}`\"\n",
        "\n",
        "    print(f\"Downloading table: {table_id}...\")\n",
        "\n",
        "    # Run the query and convert to a DataFrame\n",
        "    query_job = client.query(query)\n",
        "    df = query_job.to_dataframe()\n",
        "\n",
        "    # Define the local filename\n",
        "    filename = f\"{table_id}.csv\"\n",
        "\n",
        "    # Save the DataFrame to a CSV file\n",
        "    df.to_csv(filename, index=False)\n",
        "\n",
        "    print(f\"Successfully downloaded {table_id} to {filename}\\n\")\n",
        "\n",
        "print(\"All tables downloaded as CSVs.\")"
      ],
      "metadata": {
        "colab": {
          "base_uri": "https://localhost:8080/"
        },
        "id": "7ku86zkz8dBv",
        "executionInfo": {
          "status": "ok",
          "timestamp": 1758570146559,
          "user_tz": -330,
          "elapsed": 44488,
          "user": {
            "displayName": "",
            "userId": ""
          }
        },
        "outputId": "abf5b2b0-c5f8-49c7-e62f-1e7caaf2366d"
      },
      "id": "7ku86zkz8dBv",
      "execution_count": 10,
      "outputs": [
        {
          "output_type": "stream",
          "name": "stdout",
          "text": [
            "Downloading table: sec_actions...\n",
            "Successfully downloaded sec_actions to sec_actions.csv\n",
            "\n",
            "Downloading table: sec_enforcement_embeddings...\n",
            "Successfully downloaded sec_enforcement_embeddings to sec_enforcement_embeddings.csv\n",
            "\n",
            "Downloading table: view_sec_actions_content...\n",
            "Successfully downloaded view_sec_actions_content to view_sec_actions_content.csv\n",
            "\n",
            "Downloading table: view_sec_search...\n",
            "Successfully downloaded view_sec_search to view_sec_search.csv\n",
            "\n",
            "All tables downloaded as CSVs.\n"
          ]
        }
      ]
    },
    {
      "cell_type": "code",
      "source": [
        "dataset3= 'EDGAR'"
      ],
      "metadata": {
        "id": "jka4l8eI815i",
        "executionInfo": {
          "status": "ok",
          "timestamp": 1758570202116,
          "user_tz": -330,
          "elapsed": 2,
          "user": {
            "displayName": "",
            "userId": ""
          }
        }
      },
      "id": "jka4l8eI815i",
      "execution_count": 11,
      "outputs": []
    },
    {
      "cell_type": "code",
      "source": [
        "tables = client.list_tables(dataset3)\n",
        "\n",
        "for table in tables:\n",
        "    table_id = table.table_id\n",
        "    full_table_id = f\"{project_id}.{dataset3}.{table_id}\"\n",
        "\n",
        "    # Construct a query to select all data from the table\n",
        "    query = f\"SELECT * FROM `{full_table_id}`\"\n",
        "\n",
        "    print(f\"Downloading table: {table_id}...\")\n",
        "\n",
        "    # Run the query and convert to a DataFrame\n",
        "    query_job = client.query(query)\n",
        "    df = query_job.to_dataframe()\n",
        "\n",
        "    # Define the local filename\n",
        "    filename = f\"{table_id}.csv\"\n",
        "\n",
        "    # Save the DataFrame to a CSV file\n",
        "    df.to_csv(filename, index=False)\n",
        "\n",
        "    print(f\"Successfully downloaded {table_id} to {filename}\\n\")\n",
        "\n",
        "print(\"All tables downloaded as CSVs.\")"
      ],
      "metadata": {
        "colab": {
          "base_uri": "https://localhost:8080/"
        },
        "id": "0tGa7a-W87yP",
        "executionInfo": {
          "status": "ok",
          "timestamp": 1758570226967,
          "user_tz": -330,
          "elapsed": 9488,
          "user": {
            "displayName": "",
            "userId": ""
          }
        },
        "outputId": "e7ef98e5-6930-4b32-a21a-65d0f708aa0c"
      },
      "id": "0tGa7a-W87yP",
      "execution_count": 12,
      "outputs": [
        {
          "output_type": "stream",
          "name": "stdout",
          "text": [
            "Downloading table: edgar_corpus_sample...\n",
            "Successfully downloaded edgar_corpus_sample to edgar_corpus_sample.csv\n",
            "\n",
            "Downloading table: edgar_corpus_sample_small...\n",
            "Successfully downloaded edgar_corpus_sample_small to edgar_corpus_sample_small.csv\n",
            "\n",
            "Downloading table: edgar_corpus_small_embeddings...\n",
            "Successfully downloaded edgar_corpus_small_embeddings to edgar_corpus_small_embeddings.csv\n",
            "\n",
            "All tables downloaded as CSVs.\n"
          ]
        }
      ]
    }
  ],
  "metadata": {
    "kernelspec": {
      "display_name": "Python 3",
      "language": "python",
      "name": "python3"
    },
    "language_info": {
      "codemirror_mode": {
        "name": "ipython",
        "version": 3
      },
      "file_extension": ".py",
      "mimetype": "text/x-python",
      "name": "python",
      "nbconvert_exporter": "python",
      "pygments_lexer": "ipython3",
      "version": "3.10.10"
    },
    "colab": {
      "provenance": []
    }
  },
  "nbformat": 4,
  "nbformat_minor": 5
}