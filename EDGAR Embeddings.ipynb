{
  "cells": [
    {
      "cell_type": "code",
      "id": "GtXeqpWahYG4vgbsCuUxUxUb",
      "metadata": {
        "tags": [],
        "id": "GtXeqpWahYG4vgbsCuUxUxUb",
        "executionInfo": {
          "status": "ok",
          "timestamp": 1758550789880,
          "user_tz": -330,
          "elapsed": 3675,
          "user": {
            "displayName": "",
            "userId": ""
          }
        }
      },
      "source": [
        "import bigframes.pandas as bpd\n",
        "import bigframes.ml.llm as llm\n",
        "import numpy as np\n",
        "import pandas as pd"
      ],
      "execution_count": 1,
      "outputs": []
    },
    {
      "cell_type": "code",
      "source": [
        "model = llm.TextEmbeddingGenerator(model_name='text-embedding-005', connection_name='projects/financial-fraud-detection-1/locations/us/connections/vertex_AI_connection')"
      ],
      "metadata": {
        "colab": {
          "base_uri": "https://localhost:8080/",
          "height": 106
        },
        "id": "Bul7CWOe-NWb",
        "executionInfo": {
          "status": "ok",
          "timestamp": 1758550796216,
          "user_tz": -330,
          "elapsed": 3806,
          "user": {
            "displayName": "",
            "userId": ""
          }
        },
        "outputId": "7db4c448-fcad-47af-823c-b8d834dbaeb2"
      },
      "id": "Bul7CWOe-NWb",
      "execution_count": 2,
      "outputs": [
        {
          "output_type": "stream",
          "name": "stderr",
          "text": [
            "/usr/local/lib/python3.11/dist-packages/bigframes/core/global_session.py:103: DefaultLocationWarning: No explicit location is set, so using location US for the session.\n",
            "  _global_session = bigframes.session.connect(\n"
          ]
        },
        {
          "output_type": "display_data",
          "data": {
            "text/plain": [
              "<IPython.core.display.HTML object>"
            ],
            "text/html": [
              "Query job 91e13a2e-a0d3-46ae-97fb-00df8de07776 is DONE. 0 Bytes processed. <a target=\"_blank\" href=\"https://console.cloud.google.com/bigquery?project=financial-fraud-detection-1&j=bq:US:91e13a2e-a0d3-46ae-97fb-00df8de07776&page=queryresults\">Open Job</a>"
            ]
          },
          "metadata": {}
        },
        {
          "output_type": "display_data",
          "data": {
            "text/plain": [
              "<IPython.core.display.HTML object>"
            ],
            "text/html": [
              "Query job 51713cd2-0d1a-452e-bd60-121df4a94e64 is DONE. 0 Bytes processed. <a target=\"_blank\" href=\"https://console.cloud.google.com/bigquery?project=financial-fraud-detection-1&j=bq:US:51713cd2-0d1a-452e-bd60-121df4a94e64&page=queryresults\">Open Job</a>"
            ]
          },
          "metadata": {}
        }
      ]
    },
    {
      "cell_type": "markdown",
      "source": [
        "CREATE OR REPLACE MODEL `financial-fraud-detection-1`.`_ece87972ce3ce2b55ab9b47413e61ef5f70dbc1f`.`1abaa11b2a12496ba3d6a74d408d4feb`\n",
        "REMOTE WITH CONNECTION `financial-fraud-detection-1.us.vertex_AI_connection`\n",
        "OPTIONS(\n",
        "  endpoint='text-embedding-005')"
      ],
      "metadata": {
        "id": "fPB4Mr00_Y8m"
      },
      "id": "fPB4Mr00_Y8m"
    },
    {
      "cell_type": "code",
      "source": [
        "model.get_params()"
      ],
      "metadata": {
        "colab": {
          "base_uri": "https://localhost:8080/"
        },
        "id": "I5X1TUMl-P_W",
        "executionInfo": {
          "status": "ok",
          "timestamp": 1758550856520,
          "user_tz": -330,
          "elapsed": 2,
          "user": {
            "displayName": "",
            "userId": ""
          }
        },
        "outputId": "6f341d79-da7a-44ed-d71a-3cbbea691753"
      },
      "id": "I5X1TUMl-P_W",
      "execution_count": 3,
      "outputs": [
        {
          "output_type": "execute_result",
          "data": {
            "text/plain": [
              "{'connection_name': 'financial-fraud-detection-1.us.vertex_AI_connection',\n",
              " 'model_name': 'text-embedding-005',\n",
              " 'session': <bigframes.session.Session at 0x7be51a1ad850>}"
            ]
          },
          "metadata": {},
          "execution_count": 3
        }
      ]
    },
    {
      "cell_type": "code",
      "source": [
        "df_edgar = bpd.read_gbq(\"financial-fraud-detection-1.EDGAR.edgar_corpus_sample_small\")"
      ],
      "metadata": {
        "id": "6fxhbg1eAJOl",
        "executionInfo": {
          "status": "ok",
          "timestamp": 1758550910700,
          "user_tz": -330,
          "elapsed": 850,
          "user": {
            "displayName": "",
            "userId": ""
          }
        }
      },
      "id": "6fxhbg1eAJOl",
      "execution_count": 5,
      "outputs": []
    },
    {
      "cell_type": "code",
      "source": [
        "df_edgar"
      ],
      "metadata": {
        "colab": {
          "base_uri": "https://localhost:8080/",
          "height": 724
        },
        "collapsed": true,
        "id": "oICqDVWE-Rdj",
        "executionInfo": {
          "status": "ok",
          "timestamp": 1758550921053,
          "user_tz": -330,
          "elapsed": 8049,
          "user": {
            "displayName": "",
            "userId": ""
          }
        },
        "outputId": "33414640-f9ac-49cd-8ac6-6b8fd4d2d576"
      },
      "id": "oICqDVWE-Rdj",
      "execution_count": 6,
      "outputs": [
        {
          "output_type": "display_data",
          "data": {
            "text/plain": [
              "<IPython.core.display.HTML object>"
            ],
            "text/html": [
              "Query job dd6fac64-7777-45ca-879a-787efe45a960 is DONE. 1.1 MB processed. <a target=\"_blank\" href=\"https://console.cloud.google.com/bigquery?project=financial-fraud-detection-1&j=bq:US:dd6fac64-7777-45ca-879a-787efe45a960&page=queryresults\">Open Job</a>"
            ]
          },
          "metadata": {}
        },
        {
          "output_type": "execute_result",
          "data": {
            "text/plain": [
              "           filename      cik  year  \\\n",
              "0    50104_1993.txt    50104  1993   \n",
              "1   315189_1993.txt   315189  1993   \n",
              "2     1800_1993.txt     1800  1993   \n",
              "3  1137091_2020.htm  1137091  2020   \n",
              "4  1067983_2020.htm  1067983  2020   \n",
              "\n",
              "                                           section_1  \\\n",
              "0  ITEM 1. BUSINESS\n",
              "Tesoro Petroleum Corporation,...   \n",
              "1  ITEM 1. BUSINESS.\n",
              "PRODUCTS\n",
              "Deere & Company (Co...   \n",
              "2  ITEM 1. BUSINESS\n",
              "GENERAL DEVELOPMENT OF BUSINE...   \n",
              "3  Item 1. Business.\n",
              "General Business Overview\n",
              "Po...   \n",
              "4  Item 1. Business Description\n",
              "Berkshire Hathawa...   \n",
              "\n",
              "                                          section_1A  \\\n",
              "0                                                      \n",
              "1                                                      \n",
              "2                                                      \n",
              "3  Item 1A. Risk Factors.\n",
              "The Company’s business ...   \n",
              "4  Item 1A. Risk Factors\n",
              "Berkshire and its subsid...   \n",
              "\n",
              "                                          section_1B  \\\n",
              "0                                                      \n",
              "1                                                      \n",
              "2                                                      \n",
              "3  Item 1B. Unresolved Staff Comments.\n",
              "None.\n",
              "Item 2.   \n",
              "4   Item 1B. Unresolved Staff Comments\n",
              "None.\n",
              "Item 2.   \n",
              "\n",
              "                                           section_2  \\\n",
              "0  ITEM 2. PROPERTIES\n",
              "See information appearing u...   \n",
              "1  ITEM 2. PROPERTIES.\n",
              "See \"Manufacturing\" in Ite...   \n",
              "2  ITEM 2. PROPERTIES\n",
              "The Company's corporate off...   \n",
              "3  Item 2. Properties.\n",
              "The Company’s operations a...   \n",
              "4  Item 2. Description of Properties\n",
              "The properti...   \n",
              "\n",
              "                                           section_3  \\\n",
              "0  ITEM 3. LEGAL PROCEEDINGS\n",
              "(a) The Company is s...   \n",
              "1  ITEM 3. LEGAL PROCEEDINGS.\n",
              "The Company is subj...   \n",
              "2  ITEM 3. LEGAL PROCEEDINGS\n",
              "The Company is invol...   \n",
              "3  Item 3. Legal Proceedings.\n",
              "See Note 10. Commit...   \n",
              "4  Item 3. Legal Proceedings\n",
              "Berkshire and its su...   \n",
              "\n",
              "                                           section_4  \\\n",
              "0  ITEM 4. SUBMISSION OF MATTERS TO A VOTE OF SEC...   \n",
              "1  ITEM 4. SUBMISSION OF MATTERS TO A VOTE OF SEC...   \n",
              "2  ITEM 4. SUBMISSION OF MATTERS TO A VOTE OF SEC...   \n",
              "3  Item 4. Mine Safety Disclosures.\n",
              "Not applicabl...   \n",
              "4  Item 4. Mine Safety Disclosures\n",
              "Information re...   \n",
              "\n",
              "                                           section_5  ...  \\\n",
              "0  ITEM 5. MARKET FOR THE REGISTRANT'S COMMON EQU...  ...   \n",
              "1  ITEM 5. MARKET FOR REGISTRANT'S COMMON EQUITY ...  ...   \n",
              "2  ITEM 5. MARKET FOR THE REGISTRANT'S COMMON EQU...  ...   \n",
              "3  Item 5. Market for Registrant’s Common Equity,...  ...   \n",
              "4  Item 5. Market for Registrant’s Common Equity,...  ...   \n",
              "\n",
              "                                           section_8  \\\n",
              "0  ITEM 8. FINANCIAL STATEMENTS AND SUPPLEMENTARY...   \n",
              "1  ITEM 8. FINANCIAL STATEMENTS AND SUPPLEMENTARY...   \n",
              "2  ITEM 8. FINANCIAL STATEMENTS AND SUPPLEMENTARY...   \n",
              "3  Item 8. Financial Statements and Supplementary...   \n",
              "4  Item 8. Financial Statements and Supplementary...   \n",
              "\n",
              "                                           section_9  \\\n",
              "0  ITEM 9. CHANGES IN AND DISAGREEMENTS WITH ACCO...   \n",
              "1  ITEM 9. CHANGES IN AND DISAGREEMENTS WITH ACCO...   \n",
              "2  ITEM 9. DISAGREEMENTS ON ACCOUNTING AND FINANC...   \n",
              "3  Item 9. Changes in and Disagreements with Acco...   \n",
              "4  Item 9. Changes in and Disagreements with Acco...   \n",
              "\n",
              "                                          section_9A  \\\n",
              "0                                                      \n",
              "1                                                      \n",
              "2                                                      \n",
              "3  Item 9A. Controls and Procedures.\n",
              "Evaluation o...   \n",
              "4  Item 9A. Controls and Procedures\n",
              "At the end of...   \n",
              "\n",
              "                                          section_9B  \\\n",
              "0                                                      \n",
              "1                                                      \n",
              "2                                                      \n",
              "3  Item 9B. Other Information.\n",
              "None.\n",
              "PART III\n",
              "Ite...   \n",
              "4  Item 9B. Other Information\n",
              "None\n",
              "Part III\n",
              "Excep...   \n",
              "\n",
              "                                          section_10  \\\n",
              "0  ITEM 10. DIRECTORS AND EXECUTIVE OFFICERS OF T...   \n",
              "1  ITEM 10. DIRECTORS AND EXECUTIVE OFFICERS OF T...   \n",
              "2  ITEM 10. DIRECTORS AND EXECUTIVE OFFICERS OF T...   \n",
              "3  Item 10. Directors, Executive Officers and Cor...   \n",
              "4                                                      \n",
              "\n",
              "                                          section_11  \\\n",
              "0  ITEM 11. EXECUTIVE COMPENSATION\n",
              "Information re...   \n",
              "1  ITEM 11. EXECUTIVE COMPENSATION.\n",
              "The informati...   \n",
              "2  ITEM 11. EXECUTIVE COMPENSATION\n",
              "The material i...   \n",
              "3  Item 11. Executive Compensation.\n",
              "The informati...   \n",
              "4                                                      \n",
              "\n",
              "                                          section_12  \\\n",
              "0  ITEM 12. SECURITY OWNERSHIP OF CERTAIN BENEFIC...   \n",
              "1  ITEM 12. SECURITY OWNERSHIP OF CERTAIN BENEFIC...   \n",
              "2  ITEM 12. SECURITY OWNERSHIP OF CERTAIN BENEFIC...   \n",
              "3  Item 12. Security Ownership of Certain Benefic...   \n",
              "4                                                      \n",
              "\n",
              "                                          section_13  \\\n",
              "0  ITEM 13. CERTAIN RELATIONSHIPS AND RELATED TRA...   \n",
              "1  ITEM 13. CERTAIN RELATIONSHIPS AND RELATED TRA...   \n",
              "2  ITEM 13. CERTAIN RELATIONSHIPS AND RELATED TRA...   \n",
              "3  Item 13. Certain Relationships and Related Tra...   \n",
              "4                                                      \n",
              "\n",
              "                                          section_14  \\\n",
              "0  ITEM 14. EXHIBITS, FINANCIAL STATEMENT SCHEDUL...   \n",
              "1  ITEM 14. EXHIBITS, FINANCIAL STATEMENT SCHEDUL...   \n",
              "2  ITEM 14. EXHIBITS, FINANCIAL STATEMENT SCHEDUL...   \n",
              "3  Item 14. Principal Accounting Fees and Service...   \n",
              "4                                                      \n",
              "\n",
              "                                          section_15  \n",
              "0                                                     \n",
              "1                                                     \n",
              "2                                                     \n",
              "3  Item 15. Exhibits, Financial Statement Schedul...  \n",
              "4  Item 15. Exhibits and Financial Statement Sche...  \n",
              "\n",
              "[5 rows x 23 columns]"
            ],
            "text/html": [
              "<div>\n",
              "<style scoped>\n",
              "    .dataframe tbody tr th:only-of-type {\n",
              "        vertical-align: middle;\n",
              "    }\n",
              "\n",
              "    .dataframe tbody tr th {\n",
              "        vertical-align: top;\n",
              "    }\n",
              "\n",
              "    .dataframe thead th {\n",
              "        text-align: right;\n",
              "    }\n",
              "</style>\n",
              "<table border=\"1\" class=\"dataframe\">\n",
              "  <thead>\n",
              "    <tr style=\"text-align: right;\">\n",
              "      <th></th>\n",
              "      <th>filename</th>\n",
              "      <th>cik</th>\n",
              "      <th>year</th>\n",
              "      <th>section_1</th>\n",
              "      <th>section_1A</th>\n",
              "      <th>section_1B</th>\n",
              "      <th>section_2</th>\n",
              "      <th>section_3</th>\n",
              "      <th>section_4</th>\n",
              "      <th>section_5</th>\n",
              "      <th>...</th>\n",
              "      <th>section_8</th>\n",
              "      <th>section_9</th>\n",
              "      <th>section_9A</th>\n",
              "      <th>section_9B</th>\n",
              "      <th>section_10</th>\n",
              "      <th>section_11</th>\n",
              "      <th>section_12</th>\n",
              "      <th>section_13</th>\n",
              "      <th>section_14</th>\n",
              "      <th>section_15</th>\n",
              "    </tr>\n",
              "  </thead>\n",
              "  <tbody>\n",
              "    <tr>\n",
              "      <th>0</th>\n",
              "      <td>50104_1993.txt</td>\n",
              "      <td>50104</td>\n",
              "      <td>1993</td>\n",
              "      <td>ITEM 1. BUSINESS\n",
              "Tesoro Petroleum Corporation,...</td>\n",
              "      <td></td>\n",
              "      <td></td>\n",
              "      <td>ITEM 2. PROPERTIES\n",
              "See information appearing u...</td>\n",
              "      <td>ITEM 3. LEGAL PROCEEDINGS\n",
              "(a) The Company is s...</td>\n",
              "      <td>ITEM 4. SUBMISSION OF MATTERS TO A VOTE OF SEC...</td>\n",
              "      <td>ITEM 5. MARKET FOR THE REGISTRANT'S COMMON EQU...</td>\n",
              "      <td>...</td>\n",
              "      <td>ITEM 8. FINANCIAL STATEMENTS AND SUPPLEMENTARY...</td>\n",
              "      <td>ITEM 9. CHANGES IN AND DISAGREEMENTS WITH ACCO...</td>\n",
              "      <td></td>\n",
              "      <td></td>\n",
              "      <td>ITEM 10. DIRECTORS AND EXECUTIVE OFFICERS OF T...</td>\n",
              "      <td>ITEM 11. EXECUTIVE COMPENSATION\n",
              "Information re...</td>\n",
              "      <td>ITEM 12. SECURITY OWNERSHIP OF CERTAIN BENEFIC...</td>\n",
              "      <td>ITEM 13. CERTAIN RELATIONSHIPS AND RELATED TRA...</td>\n",
              "      <td>ITEM 14. EXHIBITS, FINANCIAL STATEMENT SCHEDUL...</td>\n",
              "      <td></td>\n",
              "    </tr>\n",
              "    <tr>\n",
              "      <th>1</th>\n",
              "      <td>315189_1993.txt</td>\n",
              "      <td>315189</td>\n",
              "      <td>1993</td>\n",
              "      <td>ITEM 1. BUSINESS.\n",
              "PRODUCTS\n",
              "Deere &amp; Company (Co...</td>\n",
              "      <td></td>\n",
              "      <td></td>\n",
              "      <td>ITEM 2. PROPERTIES.\n",
              "See \"Manufacturing\" in Ite...</td>\n",
              "      <td>ITEM 3. LEGAL PROCEEDINGS.\n",
              "The Company is subj...</td>\n",
              "      <td>ITEM 4. SUBMISSION OF MATTERS TO A VOTE OF SEC...</td>\n",
              "      <td>ITEM 5. MARKET FOR REGISTRANT'S COMMON EQUITY ...</td>\n",
              "      <td>...</td>\n",
              "      <td>ITEM 8. FINANCIAL STATEMENTS AND SUPPLEMENTARY...</td>\n",
              "      <td>ITEM 9. CHANGES IN AND DISAGREEMENTS WITH ACCO...</td>\n",
              "      <td></td>\n",
              "      <td></td>\n",
              "      <td>ITEM 10. DIRECTORS AND EXECUTIVE OFFICERS OF T...</td>\n",
              "      <td>ITEM 11. EXECUTIVE COMPENSATION.\n",
              "The informati...</td>\n",
              "      <td>ITEM 12. SECURITY OWNERSHIP OF CERTAIN BENEFIC...</td>\n",
              "      <td>ITEM 13. CERTAIN RELATIONSHIPS AND RELATED TRA...</td>\n",
              "      <td>ITEM 14. EXHIBITS, FINANCIAL STATEMENT SCHEDUL...</td>\n",
              "      <td></td>\n",
              "    </tr>\n",
              "    <tr>\n",
              "      <th>2</th>\n",
              "      <td>1800_1993.txt</td>\n",
              "      <td>1800</td>\n",
              "      <td>1993</td>\n",
              "      <td>ITEM 1. BUSINESS\n",
              "GENERAL DEVELOPMENT OF BUSINE...</td>\n",
              "      <td></td>\n",
              "      <td></td>\n",
              "      <td>ITEM 2. PROPERTIES\n",
              "The Company's corporate off...</td>\n",
              "      <td>ITEM 3. LEGAL PROCEEDINGS\n",
              "The Company is invol...</td>\n",
              "      <td>ITEM 4. SUBMISSION OF MATTERS TO A VOTE OF SEC...</td>\n",
              "      <td>ITEM 5. MARKET FOR THE REGISTRANT'S COMMON EQU...</td>\n",
              "      <td>...</td>\n",
              "      <td>ITEM 8. FINANCIAL STATEMENTS AND SUPPLEMENTARY...</td>\n",
              "      <td>ITEM 9. DISAGREEMENTS ON ACCOUNTING AND FINANC...</td>\n",
              "      <td></td>\n",
              "      <td></td>\n",
              "      <td>ITEM 10. DIRECTORS AND EXECUTIVE OFFICERS OF T...</td>\n",
              "      <td>ITEM 11. EXECUTIVE COMPENSATION\n",
              "The material i...</td>\n",
              "      <td>ITEM 12. SECURITY OWNERSHIP OF CERTAIN BENEFIC...</td>\n",
              "      <td>ITEM 13. CERTAIN RELATIONSHIPS AND RELATED TRA...</td>\n",
              "      <td>ITEM 14. EXHIBITS, FINANCIAL STATEMENT SCHEDUL...</td>\n",
              "      <td></td>\n",
              "    </tr>\n",
              "    <tr>\n",
              "      <th>3</th>\n",
              "      <td>1137091_2020.htm</td>\n",
              "      <td>1137091</td>\n",
              "      <td>2020</td>\n",
              "      <td>Item 1. Business.\n",
              "General Business Overview\n",
              "Po...</td>\n",
              "      <td>Item 1A. Risk Factors.\n",
              "The Company’s business ...</td>\n",
              "      <td>Item 1B. Unresolved Staff Comments.\n",
              "None.\n",
              "Item 2.</td>\n",
              "      <td>Item 2. Properties.\n",
              "The Company’s operations a...</td>\n",
              "      <td>Item 3. Legal Proceedings.\n",
              "See Note 10. Commit...</td>\n",
              "      <td>Item 4. Mine Safety Disclosures.\n",
              "Not applicabl...</td>\n",
              "      <td>Item 5. Market for Registrant’s Common Equity,...</td>\n",
              "      <td>...</td>\n",
              "      <td>Item 8. Financial Statements and Supplementary...</td>\n",
              "      <td>Item 9. Changes in and Disagreements with Acco...</td>\n",
              "      <td>Item 9A. Controls and Procedures.\n",
              "Evaluation o...</td>\n",
              "      <td>Item 9B. Other Information.\n",
              "None.\n",
              "PART III\n",
              "Ite...</td>\n",
              "      <td>Item 10. Directors, Executive Officers and Cor...</td>\n",
              "      <td>Item 11. Executive Compensation.\n",
              "The informati...</td>\n",
              "      <td>Item 12. Security Ownership of Certain Benefic...</td>\n",
              "      <td>Item 13. Certain Relationships and Related Tra...</td>\n",
              "      <td>Item 14. Principal Accounting Fees and Service...</td>\n",
              "      <td>Item 15. Exhibits, Financial Statement Schedul...</td>\n",
              "    </tr>\n",
              "    <tr>\n",
              "      <th>4</th>\n",
              "      <td>1067983_2020.htm</td>\n",
              "      <td>1067983</td>\n",
              "      <td>2020</td>\n",
              "      <td>Item 1. Business Description\n",
              "Berkshire Hathawa...</td>\n",
              "      <td>Item 1A. Risk Factors\n",
              "Berkshire and its subsid...</td>\n",
              "      <td>Item 1B. Unresolved Staff Comments\n",
              "None.\n",
              "Item 2.</td>\n",
              "      <td>Item 2. Description of Properties\n",
              "The properti...</td>\n",
              "      <td>Item 3. Legal Proceedings\n",
              "Berkshire and its su...</td>\n",
              "      <td>Item 4. Mine Safety Disclosures\n",
              "Information re...</td>\n",
              "      <td>Item 5. Market for Registrant’s Common Equity,...</td>\n",
              "      <td>...</td>\n",
              "      <td>Item 8. Financial Statements and Supplementary...</td>\n",
              "      <td>Item 9. Changes in and Disagreements with Acco...</td>\n",
              "      <td>Item 9A. Controls and Procedures\n",
              "At the end of...</td>\n",
              "      <td>Item 9B. Other Information\n",
              "None\n",
              "Part III\n",
              "Excep...</td>\n",
              "      <td></td>\n",
              "      <td></td>\n",
              "      <td></td>\n",
              "      <td></td>\n",
              "      <td></td>\n",
              "      <td>Item 15. Exhibits and Financial Statement Sche...</td>\n",
              "    </tr>\n",
              "  </tbody>\n",
              "</table>\n",
              "<p>5 rows × 23 columns</p>\n",
              "</div>[5 rows x 23 columns in total]"
            ]
          },
          "metadata": {},
          "execution_count": 6
        }
      ]
    },
    {
      "cell_type": "code",
      "source": [
        "df_edgar.info()"
      ],
      "metadata": {
        "colab": {
          "base_uri": "https://localhost:8080/"
        },
        "id": "uQQGwJo1C8lF",
        "executionInfo": {
          "status": "ok",
          "timestamp": 1758550952385,
          "user_tz": -330,
          "elapsed": 2527,
          "user": {
            "displayName": "",
            "userId": ""
          }
        },
        "outputId": "7c023594-8d5c-4cbc-f86d-68abfc991e19"
      },
      "id": "uQQGwJo1C8lF",
      "execution_count": 8,
      "outputs": [
        {
          "output_type": "stream",
          "name": "stdout",
          "text": [
            "<class 'bigframes.dataframe.DataFrame'>\n",
            "Index: 5 entries, 0 to 4\n",
            "Data columns (total 23 columns):\n",
            "  #  Column      Non-Null Count    Dtype\n",
            "---  ----------  ----------------  -------\n",
            "  0  filename    5 non-null        string\n",
            "  1  cik         5 non-null        Int64\n",
            "  2  year        5 non-null        Int64\n",
            "  3  section_1   5 non-null        string\n",
            "  4  section_1A  5 non-null        string\n",
            "  5  section_1B  5 non-null        string\n",
            "  6  section_2   5 non-null        string\n",
            "  7  section_3   5 non-null        string\n",
            "  8  section_4   5 non-null        string\n",
            "  9  section_5   5 non-null        string\n",
            " 10  section_6   5 non-null        string\n",
            " 11  section_7   5 non-null        string\n",
            " 12  section_7A  5 non-null        string\n",
            " 13  section_8   5 non-null        string\n",
            " 14  section_9   5 non-null        string\n",
            " 15  section_9A  5 non-null        string\n",
            " 16  section_9B  5 non-null        string\n",
            " 17  section_10  5 non-null        string\n",
            " 18  section_11  5 non-null        string\n",
            " 19  section_12  5 non-null        string\n",
            " 20  section_13  5 non-null        string\n",
            " 21  section_14  5 non-null        string\n",
            " 22  section_15  5 non-null        string\n",
            "dtypes: Int64(2), string(21)\n",
            "memory usage: 960 bytes\n"
          ]
        }
      ]
    },
    {
      "cell_type": "code",
      "source": [
        "# averaged_embedding_pd = pd.DataFrame(a.to_pandas().to_list()).mean(axis = 0)"
      ],
      "metadata": {
        "id": "JsYMYa2sDJmp",
        "executionInfo": {
          "status": "ok",
          "timestamp": 1758550960109,
          "user_tz": -330,
          "elapsed": 814,
          "user": {
            "displayName": "",
            "userId": ""
          }
        }
      },
      "id": "JsYMYa2sDJmp",
      "execution_count": 9,
      "outputs": []
    },
    {
      "cell_type": "code",
      "source": [
        "# # A remote function that takes a single string, chunks it, and returns an averaged embedding.\n",
        "# @bpd.remote_function(\n",
        "#     cloud_function_service_account=\"default\",\n",
        "#     output_type=list[float]\n",
        "# )\n",
        "def chunk_and_embed_text(text: str) -> list[float]:\n",
        "    \"\"\"Chunks a long text and returns an averaged embedding.\"\"\"\n",
        "\n",
        "    if not text:\n",
        "      return [0.0] * 768\n",
        "    if not isinstance(text, str):\n",
        "        return [0.0] * 768\n",
        "    if not str(text).strip():\n",
        "        return [0.0] * 768\n",
        "\n",
        "    chunk_size = 1000\n",
        "    words = text.split()\n",
        "    chunks = [' '.join(words[i:i + chunk_size]) for i in range(0, len(words), chunk_size)]\n",
        "\n",
        "    chunks_series = pd.Series(chunks)\n",
        "    chunks_series.dropna(inplace=True)\n",
        "    if chunks_series.empty:\n",
        "        return [0.0] * 768\n",
        "    embeddings_df = model.predict(chunks_series)\n",
        "\n",
        "    if not embeddings_df.empty:\n",
        "        # Flatten the vectors into a single Series to apply the mean\n",
        "        # This is the correct way to perform the element-wise mean in BigFrames\n",
        "        vector_series = embeddings_df['ml_generate_embedding_result']\n",
        "        vector_df = pd.DataFrame(vector_series.to_pandas().to_list())\n",
        "\n",
        "        # Calculate the mean of the DataFrame's columns, which results in a Series\n",
        "        averaged_embedding_series = vector_df.mean(axis = 0)\n",
        "\n",
        "        # Convert the resulting BigFrames Series back to a Python list\n",
        "        print(\"One cell completed with embeddings\")\n",
        "        return averaged_embedding_series.to_list()\n",
        "\n",
        "    # Return an empty list if no embeddings are generated\n",
        "    return [0.0] * 768"
      ],
      "metadata": {
        "id": "xogQUfHvY4mx",
        "executionInfo": {
          "status": "ok",
          "timestamp": 1758550961803,
          "user_tz": -330,
          "elapsed": 3,
          "user": {
            "displayName": "",
            "userId": ""
          }
        }
      },
      "id": "xogQUfHvY4mx",
      "execution_count": 10,
      "outputs": []
    },
    {
      "cell_type": "code",
      "source": [
        "# @bpd.remote_function(\n",
        "#     cloud_function_service_account=\"default\",\n",
        "#     output_type=list[float]\n",
        "# )\n",
        "# def chunk_and_embed_text_func(text: str) -> list[float]:\n",
        "#     \"\"\"This function just points to your remote implementation.\"\"\"\n",
        "#     return chunk_and_embed_text(text)"
      ],
      "metadata": {
        "id": "_QGSk4S3hGyh",
        "executionInfo": {
          "status": "ok",
          "timestamp": 1758550964885,
          "user_tz": -330,
          "elapsed": 1,
          "user": {
            "displayName": "",
            "userId": ""
          }
        }
      },
      "id": "_QGSk4S3hGyh",
      "execution_count": 11,
      "outputs": []
    },
    {
      "cell_type": "code",
      "source": [
        "len(df_edgar.columns)"
      ],
      "metadata": {
        "colab": {
          "base_uri": "https://localhost:8080/"
        },
        "id": "7v60l63OfOaZ",
        "executionInfo": {
          "status": "ok",
          "timestamp": 1758550965583,
          "user_tz": -330,
          "elapsed": 4,
          "user": {
            "displayName": "",
            "userId": ""
          }
        },
        "outputId": "55fcbf70-7af2-45d9-e5b3-34c77d1ad3cc"
      },
      "id": "7v60l63OfOaZ",
      "execution_count": 12,
      "outputs": [
        {
          "output_type": "execute_result",
          "data": {
            "text/plain": [
              "23"
            ]
          },
          "metadata": {},
          "execution_count": 12
        }
      ]
    },
    {
      "cell_type": "code",
      "source": [
        "column_names_to_be_embedded = set(df_edgar.columns) - set(['filename', 'cik', 'year'])"
      ],
      "metadata": {
        "id": "pD1J0k3efUCo",
        "executionInfo": {
          "status": "ok",
          "timestamp": 1758550967957,
          "user_tz": -330,
          "elapsed": 2,
          "user": {
            "displayName": "",
            "userId": ""
          }
        }
      },
      "id": "pD1J0k3efUCo",
      "execution_count": 13,
      "outputs": []
    },
    {
      "cell_type": "code",
      "source": [
        "df_embedding = df_edgar[['filename', 'cik', 'year']]"
      ],
      "metadata": {
        "id": "8fYn_TUJf2My",
        "executionInfo": {
          "status": "ok",
          "timestamp": 1758550968815,
          "user_tz": -330,
          "elapsed": 2,
          "user": {
            "displayName": "",
            "userId": ""
          }
        }
      },
      "id": "8fYn_TUJf2My",
      "execution_count": 14,
      "outputs": []
    },
    {
      "cell_type": "code",
      "source": [
        "type(df_embedding)"
      ],
      "metadata": {
        "colab": {
          "base_uri": "https://localhost:8080/"
        },
        "id": "Vls4Ty_6f_VV",
        "executionInfo": {
          "status": "ok",
          "timestamp": 1758550969730,
          "user_tz": -330,
          "elapsed": 2,
          "user": {
            "displayName": "",
            "userId": ""
          }
        },
        "outputId": "c5a795db-9db5-4201-c9b2-88d636f01002"
      },
      "id": "Vls4Ty_6f_VV",
      "execution_count": 15,
      "outputs": [
        {
          "output_type": "execute_result",
          "data": {
            "text/plain": [
              "bigframes.dataframe.DataFrame"
            ]
          },
          "metadata": {},
          "execution_count": 15
        }
      ]
    },
    {
      "cell_type": "code",
      "source": [
        "df_edgar_pd = df_edgar.to_pandas()"
      ],
      "metadata": {
        "id": "_rPItnZLnykS",
        "executionInfo": {
          "status": "ok",
          "timestamp": 1758550972343,
          "user_tz": -330,
          "elapsed": 1894,
          "user": {
            "displayName": "",
            "userId": ""
          }
        }
      },
      "id": "_rPItnZLnykS",
      "execution_count": 16,
      "outputs": []
    },
    {
      "cell_type": "code",
      "source": [
        "for col in column_names_to_be_embedded:\n",
        "  print(col)"
      ],
      "metadata": {
        "colab": {
          "base_uri": "https://localhost:8080/"
        },
        "id": "C-EB9vO0tnKK",
        "executionInfo": {
          "status": "ok",
          "timestamp": 1758550972343,
          "user_tz": -330,
          "elapsed": 5,
          "user": {
            "displayName": "",
            "userId": ""
          }
        },
        "outputId": "04459c81-8c20-4797-c448-40654a418278"
      },
      "id": "C-EB9vO0tnKK",
      "execution_count": 17,
      "outputs": [
        {
          "output_type": "stream",
          "name": "stdout",
          "text": [
            "section_7\n",
            "section_9\n",
            "section_12\n",
            "section_10\n",
            "section_4\n",
            "section_8\n",
            "section_14\n",
            "section_1A\n",
            "section_11\n",
            "section_15\n",
            "section_5\n",
            "section_13\n",
            "section_7A\n",
            "section_1B\n",
            "section_9B\n",
            "section_2\n",
            "section_6\n",
            "section_3\n",
            "section_9A\n",
            "section_1\n"
          ]
        }
      ]
    },
    {
      "cell_type": "code",
      "source": [
        "df_embedding.info()"
      ],
      "metadata": {
        "colab": {
          "base_uri": "https://localhost:8080/"
        },
        "id": "36dvsi9lt9a2",
        "executionInfo": {
          "status": "ok",
          "timestamp": 1758550976377,
          "user_tz": -330,
          "elapsed": 2355,
          "user": {
            "displayName": "",
            "userId": ""
          }
        },
        "outputId": "7f8bdc4c-3035-4b54-df11-d52475a4ddf6"
      },
      "id": "36dvsi9lt9a2",
      "execution_count": 18,
      "outputs": [
        {
          "output_type": "stream",
          "name": "stdout",
          "text": [
            "<class 'bigframes.dataframe.DataFrame'>\n",
            "Index: 5 entries, 0 to 4\n",
            "Data columns (total 3 columns):\n",
            "  #  Column    Non-Null Count    Dtype\n",
            "---  --------  ----------------  -------\n",
            "  0  filename  5 non-null        string\n",
            "  1  cik       5 non-null        Int64\n",
            "  2  year      5 non-null        Int64\n",
            "dtypes: Int64(2), string(1)\n",
            "memory usage: 160 bytes\n"
          ]
        }
      ]
    },
    {
      "cell_type": "code",
      "source": [],
      "metadata": {
        "id": "_q8BccELxXfn",
        "executionInfo": {
          "status": "ok",
          "timestamp": 1758550980487,
          "user_tz": -330,
          "elapsed": 888,
          "user": {
            "displayName": "",
            "userId": ""
          }
        }
      },
      "id": "_q8BccELxXfn",
      "execution_count": 18,
      "outputs": []
    },
    {
      "cell_type": "code",
      "source": [
        "for col in column_names_to_be_embedded:\n",
        "  new_col_name = col + 'embedding'\n",
        "  df_embedding[new_col_name] = [chunk_and_embed_text(i) for i in df_edgar_pd[col]]\n",
        "  print(\"-----------------------------------------------------\\n Column that is completed\" + col)"
      ],
      "metadata": {
        "colab": {
          "base_uri": "https://localhost:8080/",
          "height": 1000
        },
        "collapsed": true,
        "id": "A1QRUA66eiPD",
        "executionInfo": {
          "status": "ok",
          "timestamp": 1758552940692,
          "user_tz": -330,
          "elapsed": 1959499,
          "user": {
            "displayName": "",
            "userId": ""
          }
        },
        "outputId": "b9649931-38a2-4911-e555-9b60a15f3051"
      },
      "id": "A1QRUA66eiPD",
      "execution_count": 19,
      "outputs": [
        {
          "output_type": "display_data",
          "data": {
            "text/plain": [
              "<IPython.core.display.HTML object>"
            ],
            "text/html": [
              "Query job 716a5b4d-3394-405d-9073-482bac7dfbcd is DONE. 0 Bytes processed. <a target=\"_blank\" href=\"https://console.cloud.google.com/bigquery?project=financial-fraud-detection-1&j=bq:US:716a5b4d-3394-405d-9073-482bac7dfbcd&page=queryresults\">Open Job</a>"
            ]
          },
          "metadata": {}
        },
        {
          "output_type": "stream",
          "name": "stderr",
          "text": [
            "/usr/local/lib/python3.11/dist-packages/bigframes/core/array_value.py:108: PreviewWarning: JSON column interpretation as a custom PyArrow extention in\n",
            "`db_dtypes` is a preview feature and subject to change.\n",
            "  warnings.warn(msg, bfe.PreviewWarning)\n"
          ]
        },
        {
          "output_type": "stream",
          "name": "stdout",
          "text": [
            "One cell completed with embeddings\n"
          ]
        },
        {
          "output_type": "display_data",
          "data": {
            "text/plain": [
              "<IPython.core.display.HTML object>"
            ],
            "text/html": [
              "Query job f17174bc-f1ef-42fb-9e54-ce68c7210058 is DONE. 0 Bytes processed. <a target=\"_blank\" href=\"https://console.cloud.google.com/bigquery?project=financial-fraud-detection-1&j=bq:US:f17174bc-f1ef-42fb-9e54-ce68c7210058&page=queryresults\">Open Job</a>"
            ]
          },
          "metadata": {}
        },
        {
          "output_type": "stream",
          "name": "stderr",
          "text": [
            "/usr/local/lib/python3.11/dist-packages/bigframes/core/array_value.py:108: PreviewWarning: JSON column interpretation as a custom PyArrow extention in\n",
            "`db_dtypes` is a preview feature and subject to change.\n",
            "  warnings.warn(msg, bfe.PreviewWarning)\n"
          ]
        },
        {
          "output_type": "stream",
          "name": "stdout",
          "text": [
            "One cell completed with embeddings\n"
          ]
        },
        {
          "output_type": "display_data",
          "data": {
            "text/plain": [
              "<IPython.core.display.HTML object>"
            ],
            "text/html": [
              "Query job 773e7cb5-62e1-4cab-9add-95bf2470f035 is DONE. 0 Bytes processed. <a target=\"_blank\" href=\"https://console.cloud.google.com/bigquery?project=financial-fraud-detection-1&j=bq:US:773e7cb5-62e1-4cab-9add-95bf2470f035&page=queryresults\">Open Job</a>"
            ]
          },
          "metadata": {}
        },
        {
          "output_type": "stream",
          "name": "stderr",
          "text": [
            "/usr/local/lib/python3.11/dist-packages/bigframes/core/array_value.py:108: PreviewWarning: JSON column interpretation as a custom PyArrow extention in\n",
            "`db_dtypes` is a preview feature and subject to change.\n",
            "  warnings.warn(msg, bfe.PreviewWarning)\n"
          ]
        },
        {
          "output_type": "stream",
          "name": "stdout",
          "text": [
            "One cell completed with embeddings\n"
          ]
        },
        {
          "output_type": "display_data",
          "data": {
            "text/plain": [
              "<IPython.core.display.HTML object>"
            ],
            "text/html": [
              "Load job 1fa78797-a010-4cf3-89b4-64d693e1b809 is DONE. <a target=\"_blank\" href=\"https://console.cloud.google.com/bigquery?project=financial-fraud-detection-1&j=bq:US:1fa78797-a010-4cf3-89b4-64d693e1b809&page=queryresults\">Open Job</a>"
            ]
          },
          "metadata": {}
        },
        {
          "output_type": "display_data",
          "data": {
            "text/plain": [
              "<IPython.core.display.HTML object>"
            ],
            "text/html": [
              "Query job 68008f98-ed2b-42e3-ac0e-685db677ac37 is DONE. 55.3 kB processed. <a target=\"_blank\" href=\"https://console.cloud.google.com/bigquery?project=financial-fraud-detection-1&j=bq:US:68008f98-ed2b-42e3-ac0e-685db677ac37&page=queryresults\">Open Job</a>"
            ]
          },
          "metadata": {}
        },
        {
          "output_type": "stream",
          "name": "stderr",
          "text": [
            "/usr/local/lib/python3.11/dist-packages/bigframes/core/array_value.py:108: PreviewWarning: JSON column interpretation as a custom PyArrow extention in\n",
            "`db_dtypes` is a preview feature and subject to change.\n",
            "  warnings.warn(msg, bfe.PreviewWarning)\n"
          ]
        },
        {
          "output_type": "stream",
          "name": "stdout",
          "text": [
            "One cell completed with embeddings\n"
          ]
        },
        {
          "output_type": "display_data",
          "data": {
            "text/plain": [
              "<IPython.core.display.HTML object>"
            ],
            "text/html": [
              "Load job b4a7279e-1d82-4d48-bcc7-0ad6fbe93f3b is DONE. <a target=\"_blank\" href=\"https://console.cloud.google.com/bigquery?project=financial-fraud-detection-1&j=bq:US:b4a7279e-1d82-4d48-bcc7-0ad6fbe93f3b&page=queryresults\">Open Job</a>"
            ]
          },
          "metadata": {}
        },
        {
          "output_type": "display_data",
          "data": {
            "text/plain": [
              "<IPython.core.display.HTML object>"
            ],
            "text/html": [
              "Query job 3464af4e-07f2-4eb7-aab8-87db41f8d3a1 is DONE. 127.0 kB processed. <a target=\"_blank\" href=\"https://console.cloud.google.com/bigquery?project=financial-fraud-detection-1&j=bq:US:3464af4e-07f2-4eb7-aab8-87db41f8d3a1&page=queryresults\">Open Job</a>"
            ]
          },
          "metadata": {}
        },
        {
          "output_type": "stream",
          "name": "stderr",
          "text": [
            "/usr/local/lib/python3.11/dist-packages/bigframes/core/array_value.py:108: PreviewWarning: JSON column interpretation as a custom PyArrow extention in\n",
            "`db_dtypes` is a preview feature and subject to change.\n",
            "  warnings.warn(msg, bfe.PreviewWarning)\n"
          ]
        },
        {
          "output_type": "stream",
          "name": "stdout",
          "text": [
            "One cell completed with embeddings\n"
          ]
        },
        {
          "output_type": "display_data",
          "data": {
            "text/plain": [
              "<IPython.core.display.HTML object>"
            ],
            "text/html": [
              "Load job a543ccd4-d358-4c41-a74e-5804cbe0dac3 is DONE. <a target=\"_blank\" href=\"https://console.cloud.google.com/bigquery?project=financial-fraud-detection-1&j=bq:US:a543ccd4-d358-4c41-a74e-5804cbe0dac3&page=queryresults\">Open Job</a>"
            ]
          },
          "metadata": {}
        },
        {
          "output_type": "stream",
          "name": "stdout",
          "text": [
            "-----------------------------------------------------\n",
            " Column that is completedsection_7\n"
          ]
        },
        {
          "output_type": "display_data",
          "data": {
            "text/plain": [
              "<IPython.core.display.HTML object>"
            ],
            "text/html": [
              "Query job b8b68593-0d11-464b-b635-0305b5f3ec75 is DONE. 0 Bytes processed. <a target=\"_blank\" href=\"https://console.cloud.google.com/bigquery?project=financial-fraud-detection-1&j=bq:US:b8b68593-0d11-464b-b635-0305b5f3ec75&page=queryresults\">Open Job</a>"
            ]
          },
          "metadata": {}
        },
        {
          "output_type": "stream",
          "name": "stderr",
          "text": [
            "/usr/local/lib/python3.11/dist-packages/bigframes/core/array_value.py:108: PreviewWarning: JSON column interpretation as a custom PyArrow extention in\n",
            "`db_dtypes` is a preview feature and subject to change.\n",
            "  warnings.warn(msg, bfe.PreviewWarning)\n"
          ]
        },
        {
          "output_type": "stream",
          "name": "stdout",
          "text": [
            "One cell completed with embeddings\n"
          ]
        },
        {
          "output_type": "display_data",
          "data": {
            "text/plain": [
              "<IPython.core.display.HTML object>"
            ],
            "text/html": [
              "Query job badf7584-028d-406a-91d3-c2935e71d1e5 is DONE. 0 Bytes processed. <a target=\"_blank\" href=\"https://console.cloud.google.com/bigquery?project=financial-fraud-detection-1&j=bq:US:badf7584-028d-406a-91d3-c2935e71d1e5&page=queryresults\">Open Job</a>"
            ]
          },
          "metadata": {}
        },
        {
          "output_type": "stream",
          "name": "stderr",
          "text": [
            "/usr/local/lib/python3.11/dist-packages/bigframes/core/array_value.py:108: PreviewWarning: JSON column interpretation as a custom PyArrow extention in\n",
            "`db_dtypes` is a preview feature and subject to change.\n",
            "  warnings.warn(msg, bfe.PreviewWarning)\n"
          ]
        },
        {
          "output_type": "stream",
          "name": "stdout",
          "text": [
            "One cell completed with embeddings\n"
          ]
        },
        {
          "output_type": "display_data",
          "data": {
            "text/plain": [
              "<IPython.core.display.HTML object>"
            ],
            "text/html": [
              "Query job 760bb42e-2e8e-4278-8a62-ed779354b00b is DONE. 0 Bytes processed. <a target=\"_blank\" href=\"https://console.cloud.google.com/bigquery?project=financial-fraud-detection-1&j=bq:US:760bb42e-2e8e-4278-8a62-ed779354b00b&page=queryresults\">Open Job</a>"
            ]
          },
          "metadata": {}
        },
        {
          "output_type": "stream",
          "name": "stderr",
          "text": [
            "/usr/local/lib/python3.11/dist-packages/bigframes/core/array_value.py:108: PreviewWarning: JSON column interpretation as a custom PyArrow extention in\n",
            "`db_dtypes` is a preview feature and subject to change.\n",
            "  warnings.warn(msg, bfe.PreviewWarning)\n"
          ]
        },
        {
          "output_type": "stream",
          "name": "stdout",
          "text": [
            "One cell completed with embeddings\n"
          ]
        },
        {
          "output_type": "display_data",
          "data": {
            "text/plain": [
              "<IPython.core.display.HTML object>"
            ],
            "text/html": [
              "Query job a55413d4-94a5-4402-8197-8f10761833bd is DONE. 0 Bytes processed. <a target=\"_blank\" href=\"https://console.cloud.google.com/bigquery?project=financial-fraud-detection-1&j=bq:US:a55413d4-94a5-4402-8197-8f10761833bd&page=queryresults\">Open Job</a>"
            ]
          },
          "metadata": {}
        },
        {
          "output_type": "stream",
          "name": "stderr",
          "text": [
            "/usr/local/lib/python3.11/dist-packages/bigframes/core/array_value.py:108: PreviewWarning: JSON column interpretation as a custom PyArrow extention in\n",
            "`db_dtypes` is a preview feature and subject to change.\n",
            "  warnings.warn(msg, bfe.PreviewWarning)\n"
          ]
        },
        {
          "output_type": "stream",
          "name": "stdout",
          "text": [
            "One cell completed with embeddings\n"
          ]
        },
        {
          "output_type": "display_data",
          "data": {
            "text/plain": [
              "<IPython.core.display.HTML object>"
            ],
            "text/html": [
              "Query job 923cdd1e-f63c-4f01-992f-573aca9cb596 is DONE. 0 Bytes processed. <a target=\"_blank\" href=\"https://console.cloud.google.com/bigquery?project=financial-fraud-detection-1&j=bq:US:923cdd1e-f63c-4f01-992f-573aca9cb596&page=queryresults\">Open Job</a>"
            ]
          },
          "metadata": {}
        },
        {
          "output_type": "stream",
          "name": "stderr",
          "text": [
            "/usr/local/lib/python3.11/dist-packages/bigframes/core/array_value.py:108: PreviewWarning: JSON column interpretation as a custom PyArrow extention in\n",
            "`db_dtypes` is a preview feature and subject to change.\n",
            "  warnings.warn(msg, bfe.PreviewWarning)\n"
          ]
        },
        {
          "output_type": "stream",
          "name": "stdout",
          "text": [
            "One cell completed with embeddings\n"
          ]
        },
        {
          "output_type": "display_data",
          "data": {
            "text/plain": [
              "<IPython.core.display.HTML object>"
            ],
            "text/html": [
              "Load job 7934b5e5-db65-4a5d-a707-7b49b787855b is DONE. <a target=\"_blank\" href=\"https://console.cloud.google.com/bigquery?project=financial-fraud-detection-1&j=bq:US:7934b5e5-db65-4a5d-a707-7b49b787855b&page=queryresults\">Open Job</a>"
            ]
          },
          "metadata": {}
        },
        {
          "output_type": "stream",
          "name": "stdout",
          "text": [
            "-----------------------------------------------------\n",
            " Column that is completedsection_9\n"
          ]
        },
        {
          "output_type": "display_data",
          "data": {
            "text/plain": [
              "<IPython.core.display.HTML object>"
            ],
            "text/html": [
              "Query job db5d5a05-ac3c-4f7a-aeba-dc62b9dba237 is DONE. 0 Bytes processed. <a target=\"_blank\" href=\"https://console.cloud.google.com/bigquery?project=financial-fraud-detection-1&j=bq:US:db5d5a05-ac3c-4f7a-aeba-dc62b9dba237&page=queryresults\">Open Job</a>"
            ]
          },
          "metadata": {}
        },
        {
          "output_type": "stream",
          "name": "stderr",
          "text": [
            "/usr/local/lib/python3.11/dist-packages/bigframes/core/array_value.py:108: PreviewWarning: JSON column interpretation as a custom PyArrow extention in\n",
            "`db_dtypes` is a preview feature and subject to change.\n",
            "  warnings.warn(msg, bfe.PreviewWarning)\n"
          ]
        },
        {
          "output_type": "stream",
          "name": "stdout",
          "text": [
            "One cell completed with embeddings\n"
          ]
        },
        {
          "output_type": "display_data",
          "data": {
            "text/plain": [
              "<IPython.core.display.HTML object>"
            ],
            "text/html": [
              "Query job abb4d970-f83c-4a10-a3ed-bd46ab5774ff is DONE. 0 Bytes processed. <a target=\"_blank\" href=\"https://console.cloud.google.com/bigquery?project=financial-fraud-detection-1&j=bq:US:abb4d970-f83c-4a10-a3ed-bd46ab5774ff&page=queryresults\">Open Job</a>"
            ]
          },
          "metadata": {}
        },
        {
          "output_type": "stream",
          "name": "stderr",
          "text": [
            "/usr/local/lib/python3.11/dist-packages/bigframes/core/array_value.py:108: PreviewWarning: JSON column interpretation as a custom PyArrow extention in\n",
            "`db_dtypes` is a preview feature and subject to change.\n",
            "  warnings.warn(msg, bfe.PreviewWarning)\n"
          ]
        },
        {
          "output_type": "stream",
          "name": "stdout",
          "text": [
            "One cell completed with embeddings\n"
          ]
        },
        {
          "output_type": "display_data",
          "data": {
            "text/plain": [
              "<IPython.core.display.HTML object>"
            ],
            "text/html": [
              "Query job 33901d09-51fa-4bac-bc32-68239a5baf8e is DONE. 0 Bytes processed. <a target=\"_blank\" href=\"https://console.cloud.google.com/bigquery?project=financial-fraud-detection-1&j=bq:US:33901d09-51fa-4bac-bc32-68239a5baf8e&page=queryresults\">Open Job</a>"
            ]
          },
          "metadata": {}
        },
        {
          "output_type": "stream",
          "name": "stderr",
          "text": [
            "/usr/local/lib/python3.11/dist-packages/bigframes/core/array_value.py:108: PreviewWarning: JSON column interpretation as a custom PyArrow extention in\n",
            "`db_dtypes` is a preview feature and subject to change.\n",
            "  warnings.warn(msg, bfe.PreviewWarning)\n"
          ]
        },
        {
          "output_type": "stream",
          "name": "stdout",
          "text": [
            "One cell completed with embeddings\n"
          ]
        },
        {
          "output_type": "display_data",
          "data": {
            "text/plain": [
              "<IPython.core.display.HTML object>"
            ],
            "text/html": [
              "Query job f9d6bbfb-f1f7-4074-979a-d9c42a19e4d3 is DONE. 0 Bytes processed. <a target=\"_blank\" href=\"https://console.cloud.google.com/bigquery?project=financial-fraud-detection-1&j=bq:US:f9d6bbfb-f1f7-4074-979a-d9c42a19e4d3&page=queryresults\">Open Job</a>"
            ]
          },
          "metadata": {}
        },
        {
          "output_type": "stream",
          "name": "stderr",
          "text": [
            "/usr/local/lib/python3.11/dist-packages/bigframes/core/array_value.py:108: PreviewWarning: JSON column interpretation as a custom PyArrow extention in\n",
            "`db_dtypes` is a preview feature and subject to change.\n",
            "  warnings.warn(msg, bfe.PreviewWarning)\n"
          ]
        },
        {
          "output_type": "stream",
          "name": "stdout",
          "text": [
            "One cell completed with embeddings\n"
          ]
        },
        {
          "output_type": "display_data",
          "data": {
            "text/plain": [
              "<IPython.core.display.HTML object>"
            ],
            "text/html": [
              "Load job e500ac33-d344-44df-9948-de6d0528aead is DONE. <a target=\"_blank\" href=\"https://console.cloud.google.com/bigquery?project=financial-fraud-detection-1&j=bq:US:e500ac33-d344-44df-9948-de6d0528aead&page=queryresults\">Open Job</a>"
            ]
          },
          "metadata": {}
        },
        {
          "output_type": "stream",
          "name": "stdout",
          "text": [
            "-----------------------------------------------------\n",
            " Column that is completedsection_12\n"
          ]
        },
        {
          "output_type": "display_data",
          "data": {
            "text/plain": [
              "<IPython.core.display.HTML object>"
            ],
            "text/html": [
              "Query job 63ff8f79-a8ea-4e42-b36f-b041d8b6a2de is DONE. 0 Bytes processed. <a target=\"_blank\" href=\"https://console.cloud.google.com/bigquery?project=financial-fraud-detection-1&j=bq:US:63ff8f79-a8ea-4e42-b36f-b041d8b6a2de&page=queryresults\">Open Job</a>"
            ]
          },
          "metadata": {}
        },
        {
          "output_type": "stream",
          "name": "stderr",
          "text": [
            "/usr/local/lib/python3.11/dist-packages/bigframes/core/array_value.py:108: PreviewWarning: JSON column interpretation as a custom PyArrow extention in\n",
            "`db_dtypes` is a preview feature and subject to change.\n",
            "  warnings.warn(msg, bfe.PreviewWarning)\n"
          ]
        },
        {
          "output_type": "stream",
          "name": "stdout",
          "text": [
            "One cell completed with embeddings\n"
          ]
        },
        {
          "output_type": "display_data",
          "data": {
            "text/plain": [
              "<IPython.core.display.HTML object>"
            ],
            "text/html": [
              "Query job 31ad80b1-536c-45c2-89bb-dc03a8bb8f18 is DONE. 0 Bytes processed. <a target=\"_blank\" href=\"https://console.cloud.google.com/bigquery?project=financial-fraud-detection-1&j=bq:US:31ad80b1-536c-45c2-89bb-dc03a8bb8f18&page=queryresults\">Open Job</a>"
            ]
          },
          "metadata": {}
        },
        {
          "output_type": "stream",
          "name": "stderr",
          "text": [
            "/usr/local/lib/python3.11/dist-packages/bigframes/core/array_value.py:108: PreviewWarning: JSON column interpretation as a custom PyArrow extention in\n",
            "`db_dtypes` is a preview feature and subject to change.\n",
            "  warnings.warn(msg, bfe.PreviewWarning)\n"
          ]
        },
        {
          "output_type": "stream",
          "name": "stdout",
          "text": [
            "One cell completed with embeddings\n"
          ]
        },
        {
          "output_type": "display_data",
          "data": {
            "text/plain": [
              "<IPython.core.display.HTML object>"
            ],
            "text/html": [
              "Query job 6f460715-e5ff-4fb9-96bd-53b8b85bd601 is DONE. 0 Bytes processed. <a target=\"_blank\" href=\"https://console.cloud.google.com/bigquery?project=financial-fraud-detection-1&j=bq:US:6f460715-e5ff-4fb9-96bd-53b8b85bd601&page=queryresults\">Open Job</a>"
            ]
          },
          "metadata": {}
        },
        {
          "output_type": "stream",
          "name": "stderr",
          "text": [
            "/usr/local/lib/python3.11/dist-packages/bigframes/core/array_value.py:108: PreviewWarning: JSON column interpretation as a custom PyArrow extention in\n",
            "`db_dtypes` is a preview feature and subject to change.\n",
            "  warnings.warn(msg, bfe.PreviewWarning)\n"
          ]
        },
        {
          "output_type": "stream",
          "name": "stdout",
          "text": [
            "One cell completed with embeddings\n"
          ]
        },
        {
          "output_type": "display_data",
          "data": {
            "text/plain": [
              "<IPython.core.display.HTML object>"
            ],
            "text/html": [
              "Query job f75123ab-f0a7-4d18-89b0-84f8447cf180 is DONE. 0 Bytes processed. <a target=\"_blank\" href=\"https://console.cloud.google.com/bigquery?project=financial-fraud-detection-1&j=bq:US:f75123ab-f0a7-4d18-89b0-84f8447cf180&page=queryresults\">Open Job</a>"
            ]
          },
          "metadata": {}
        },
        {
          "output_type": "stream",
          "name": "stderr",
          "text": [
            "/usr/local/lib/python3.11/dist-packages/bigframes/core/array_value.py:108: PreviewWarning: JSON column interpretation as a custom PyArrow extention in\n",
            "`db_dtypes` is a preview feature and subject to change.\n",
            "  warnings.warn(msg, bfe.PreviewWarning)\n"
          ]
        },
        {
          "output_type": "stream",
          "name": "stdout",
          "text": [
            "One cell completed with embeddings\n"
          ]
        },
        {
          "output_type": "display_data",
          "data": {
            "text/plain": [
              "<IPython.core.display.HTML object>"
            ],
            "text/html": [
              "Load job 43c88840-9fe0-4a3d-8cf4-378ada35d475 is DONE. <a target=\"_blank\" href=\"https://console.cloud.google.com/bigquery?project=financial-fraud-detection-1&j=bq:US:43c88840-9fe0-4a3d-8cf4-378ada35d475&page=queryresults\">Open Job</a>"
            ]
          },
          "metadata": {}
        },
        {
          "output_type": "stream",
          "name": "stdout",
          "text": [
            "-----------------------------------------------------\n",
            " Column that is completedsection_10\n"
          ]
        },
        {
          "output_type": "display_data",
          "data": {
            "text/plain": [
              "<IPython.core.display.HTML object>"
            ],
            "text/html": [
              "Query job b32a0777-8888-49e0-9637-b5dd60af8826 is DONE. 0 Bytes processed. <a target=\"_blank\" href=\"https://console.cloud.google.com/bigquery?project=financial-fraud-detection-1&j=bq:US:b32a0777-8888-49e0-9637-b5dd60af8826&page=queryresults\">Open Job</a>"
            ]
          },
          "metadata": {}
        },
        {
          "output_type": "stream",
          "name": "stderr",
          "text": [
            "/usr/local/lib/python3.11/dist-packages/bigframes/core/array_value.py:108: PreviewWarning: JSON column interpretation as a custom PyArrow extention in\n",
            "`db_dtypes` is a preview feature and subject to change.\n",
            "  warnings.warn(msg, bfe.PreviewWarning)\n"
          ]
        },
        {
          "output_type": "stream",
          "name": "stdout",
          "text": [
            "One cell completed with embeddings\n"
          ]
        },
        {
          "output_type": "display_data",
          "data": {
            "text/plain": [
              "<IPython.core.display.HTML object>"
            ],
            "text/html": [
              "Query job de9aaacb-b6f5-4197-854d-38a88aa4351d is DONE. 0 Bytes processed. <a target=\"_blank\" href=\"https://console.cloud.google.com/bigquery?project=financial-fraud-detection-1&j=bq:US:de9aaacb-b6f5-4197-854d-38a88aa4351d&page=queryresults\">Open Job</a>"
            ]
          },
          "metadata": {}
        },
        {
          "output_type": "stream",
          "name": "stderr",
          "text": [
            "/usr/local/lib/python3.11/dist-packages/bigframes/core/array_value.py:108: PreviewWarning: JSON column interpretation as a custom PyArrow extention in\n",
            "`db_dtypes` is a preview feature and subject to change.\n",
            "  warnings.warn(msg, bfe.PreviewWarning)\n"
          ]
        },
        {
          "output_type": "stream",
          "name": "stdout",
          "text": [
            "One cell completed with embeddings\n"
          ]
        },
        {
          "output_type": "display_data",
          "data": {
            "text/plain": [
              "<IPython.core.display.HTML object>"
            ],
            "text/html": [
              "Load job 3d8d0a7e-8580-4fac-9900-f4839f5ed4c7 is DONE. <a target=\"_blank\" href=\"https://console.cloud.google.com/bigquery?project=financial-fraud-detection-1&j=bq:US:3d8d0a7e-8580-4fac-9900-f4839f5ed4c7&page=queryresults\">Open Job</a>"
            ]
          },
          "metadata": {}
        },
        {
          "output_type": "display_data",
          "data": {
            "text/plain": [
              "<IPython.core.display.HTML object>"
            ],
            "text/html": [
              "Query job 9f18c7e8-5364-4b40-8647-5b4596caffdb is DONE. 8.4 kB processed. <a target=\"_blank\" href=\"https://console.cloud.google.com/bigquery?project=financial-fraud-detection-1&j=bq:US:9f18c7e8-5364-4b40-8647-5b4596caffdb&page=queryresults\">Open Job</a>"
            ]
          },
          "metadata": {}
        },
        {
          "output_type": "stream",
          "name": "stderr",
          "text": [
            "/usr/local/lib/python3.11/dist-packages/bigframes/core/array_value.py:108: PreviewWarning: JSON column interpretation as a custom PyArrow extention in\n",
            "`db_dtypes` is a preview feature and subject to change.\n",
            "  warnings.warn(msg, bfe.PreviewWarning)\n"
          ]
        },
        {
          "output_type": "stream",
          "name": "stdout",
          "text": [
            "One cell completed with embeddings\n"
          ]
        },
        {
          "output_type": "display_data",
          "data": {
            "text/plain": [
              "<IPython.core.display.HTML object>"
            ],
            "text/html": [
              "Query job 79c4b591-d497-4798-bc6f-177634f87767 is DONE. 0 Bytes processed. <a target=\"_blank\" href=\"https://console.cloud.google.com/bigquery?project=financial-fraud-detection-1&j=bq:US:79c4b591-d497-4798-bc6f-177634f87767&page=queryresults\">Open Job</a>"
            ]
          },
          "metadata": {}
        },
        {
          "output_type": "stream",
          "name": "stderr",
          "text": [
            "/usr/local/lib/python3.11/dist-packages/bigframes/core/array_value.py:108: PreviewWarning: JSON column interpretation as a custom PyArrow extention in\n",
            "`db_dtypes` is a preview feature and subject to change.\n",
            "  warnings.warn(msg, bfe.PreviewWarning)\n"
          ]
        },
        {
          "output_type": "stream",
          "name": "stdout",
          "text": [
            "One cell completed with embeddings\n"
          ]
        },
        {
          "output_type": "display_data",
          "data": {
            "text/plain": [
              "<IPython.core.display.HTML object>"
            ],
            "text/html": [
              "Load job 4301c486-51a6-44b8-8a33-f5ecb8e5ff28 is DONE. <a target=\"_blank\" href=\"https://console.cloud.google.com/bigquery?project=financial-fraud-detection-1&j=bq:US:4301c486-51a6-44b8-8a33-f5ecb8e5ff28&page=queryresults\">Open Job</a>"
            ]
          },
          "metadata": {}
        },
        {
          "output_type": "display_data",
          "data": {
            "text/plain": [
              "<IPython.core.display.HTML object>"
            ],
            "text/html": [
              "Query job 29664635-5658-4a2f-ac37-28b70946337a is DONE. 3.2 kB processed. <a target=\"_blank\" href=\"https://console.cloud.google.com/bigquery?project=financial-fraud-detection-1&j=bq:US:29664635-5658-4a2f-ac37-28b70946337a&page=queryresults\">Open Job</a>"
            ]
          },
          "metadata": {}
        },
        {
          "output_type": "stream",
          "name": "stderr",
          "text": [
            "/usr/local/lib/python3.11/dist-packages/bigframes/core/array_value.py:108: PreviewWarning: JSON column interpretation as a custom PyArrow extention in\n",
            "`db_dtypes` is a preview feature and subject to change.\n",
            "  warnings.warn(msg, bfe.PreviewWarning)\n"
          ]
        },
        {
          "output_type": "stream",
          "name": "stdout",
          "text": [
            "One cell completed with embeddings\n"
          ]
        },
        {
          "output_type": "display_data",
          "data": {
            "text/plain": [
              "<IPython.core.display.HTML object>"
            ],
            "text/html": [
              "Load job 39fc4cf9-c77c-4540-bccc-a17a61ba30db is DONE. <a target=\"_blank\" href=\"https://console.cloud.google.com/bigquery?project=financial-fraud-detection-1&j=bq:US:39fc4cf9-c77c-4540-bccc-a17a61ba30db&page=queryresults\">Open Job</a>"
            ]
          },
          "metadata": {}
        },
        {
          "output_type": "stream",
          "name": "stdout",
          "text": [
            "-----------------------------------------------------\n",
            " Column that is completedsection_4\n"
          ]
        },
        {
          "output_type": "display_data",
          "data": {
            "text/plain": [
              "<IPython.core.display.HTML object>"
            ],
            "text/html": [
              "Load job 4e898241-f01b-418c-a5be-d1705e608a9c is DONE. <a target=\"_blank\" href=\"https://console.cloud.google.com/bigquery?project=financial-fraud-detection-1&j=bq:US:4e898241-f01b-418c-a5be-d1705e608a9c&page=queryresults\">Open Job</a>"
            ]
          },
          "metadata": {}
        },
        {
          "output_type": "display_data",
          "data": {
            "text/plain": [
              "<IPython.core.display.HTML object>"
            ],
            "text/html": [
              "Query job 51b2b8de-b18d-4940-bcef-db9b273177b5 is DONE. 78.6 kB processed. <a target=\"_blank\" href=\"https://console.cloud.google.com/bigquery?project=financial-fraud-detection-1&j=bq:US:51b2b8de-b18d-4940-bcef-db9b273177b5&page=queryresults\">Open Job</a>"
            ]
          },
          "metadata": {}
        },
        {
          "output_type": "stream",
          "name": "stderr",
          "text": [
            "/usr/local/lib/python3.11/dist-packages/bigframes/core/array_value.py:108: PreviewWarning: JSON column interpretation as a custom PyArrow extention in\n",
            "`db_dtypes` is a preview feature and subject to change.\n",
            "  warnings.warn(msg, bfe.PreviewWarning)\n"
          ]
        },
        {
          "output_type": "stream",
          "name": "stdout",
          "text": [
            "One cell completed with embeddings\n"
          ]
        },
        {
          "output_type": "display_data",
          "data": {
            "text/plain": [
              "<IPython.core.display.HTML object>"
            ],
            "text/html": [
              "Query job 0161c99f-35d4-425e-9ae7-e4634ea77184 is DONE. 0 Bytes processed. <a target=\"_blank\" href=\"https://console.cloud.google.com/bigquery?project=financial-fraud-detection-1&j=bq:US:0161c99f-35d4-425e-9ae7-e4634ea77184&page=queryresults\">Open Job</a>"
            ]
          },
          "metadata": {}
        },
        {
          "output_type": "stream",
          "name": "stderr",
          "text": [
            "/usr/local/lib/python3.11/dist-packages/bigframes/core/array_value.py:108: PreviewWarning: JSON column interpretation as a custom PyArrow extention in\n",
            "`db_dtypes` is a preview feature and subject to change.\n",
            "  warnings.warn(msg, bfe.PreviewWarning)\n"
          ]
        },
        {
          "output_type": "stream",
          "name": "stdout",
          "text": [
            "One cell completed with embeddings\n"
          ]
        },
        {
          "output_type": "display_data",
          "data": {
            "text/plain": [
              "<IPython.core.display.HTML object>"
            ],
            "text/html": [
              "Query job 1203e63e-1eae-4120-b04e-9eadbd34729d is DONE. 0 Bytes processed. <a target=\"_blank\" href=\"https://console.cloud.google.com/bigquery?project=financial-fraud-detection-1&j=bq:US:1203e63e-1eae-4120-b04e-9eadbd34729d&page=queryresults\">Open Job</a>"
            ]
          },
          "metadata": {}
        },
        {
          "output_type": "stream",
          "name": "stderr",
          "text": [
            "/usr/local/lib/python3.11/dist-packages/bigframes/core/array_value.py:108: PreviewWarning: JSON column interpretation as a custom PyArrow extention in\n",
            "`db_dtypes` is a preview feature and subject to change.\n",
            "  warnings.warn(msg, bfe.PreviewWarning)\n"
          ]
        },
        {
          "output_type": "stream",
          "name": "stdout",
          "text": [
            "One cell completed with embeddings\n"
          ]
        },
        {
          "output_type": "display_data",
          "data": {
            "text/plain": [
              "<IPython.core.display.HTML object>"
            ],
            "text/html": [
              "Load job 962fb0d3-1587-4605-b354-a8c8f934f5b0 is DONE. <a target=\"_blank\" href=\"https://console.cloud.google.com/bigquery?project=financial-fraud-detection-1&j=bq:US:962fb0d3-1587-4605-b354-a8c8f934f5b0&page=queryresults\">Open Job</a>"
            ]
          },
          "metadata": {}
        },
        {
          "output_type": "display_data",
          "data": {
            "text/plain": [
              "<IPython.core.display.HTML object>"
            ],
            "text/html": [
              "Query job 49f2423c-d460-4dfa-b5c1-801a3fde88dc is DONE. 114.0 kB processed. <a target=\"_blank\" href=\"https://console.cloud.google.com/bigquery?project=financial-fraud-detection-1&j=bq:US:49f2423c-d460-4dfa-b5c1-801a3fde88dc&page=queryresults\">Open Job</a>"
            ]
          },
          "metadata": {}
        },
        {
          "output_type": "stream",
          "name": "stderr",
          "text": [
            "/usr/local/lib/python3.11/dist-packages/bigframes/core/array_value.py:108: PreviewWarning: JSON column interpretation as a custom PyArrow extention in\n",
            "`db_dtypes` is a preview feature and subject to change.\n",
            "  warnings.warn(msg, bfe.PreviewWarning)\n"
          ]
        },
        {
          "output_type": "stream",
          "name": "stdout",
          "text": [
            "One cell completed with embeddings\n"
          ]
        },
        {
          "output_type": "display_data",
          "data": {
            "text/plain": [
              "<IPython.core.display.HTML object>"
            ],
            "text/html": [
              "Load job bfec6c5d-5c9c-4cb4-bebe-08d9627c6c30 is DONE. <a target=\"_blank\" href=\"https://console.cloud.google.com/bigquery?project=financial-fraud-detection-1&j=bq:US:bfec6c5d-5c9c-4cb4-bebe-08d9627c6c30&page=queryresults\">Open Job</a>"
            ]
          },
          "metadata": {}
        },
        {
          "output_type": "display_data",
          "data": {
            "text/plain": [
              "<IPython.core.display.HTML object>"
            ],
            "text/html": [
              "Query job 6aa24599-2823-46a6-8e18-5a4fcd540469 is DONE. 121.3 kB processed. <a target=\"_blank\" href=\"https://console.cloud.google.com/bigquery?project=financial-fraud-detection-1&j=bq:US:6aa24599-2823-46a6-8e18-5a4fcd540469&page=queryresults\">Open Job</a>"
            ]
          },
          "metadata": {}
        },
        {
          "output_type": "stream",
          "name": "stderr",
          "text": [
            "/usr/local/lib/python3.11/dist-packages/bigframes/core/array_value.py:108: PreviewWarning: JSON column interpretation as a custom PyArrow extention in\n",
            "`db_dtypes` is a preview feature and subject to change.\n",
            "  warnings.warn(msg, bfe.PreviewWarning)\n"
          ]
        },
        {
          "output_type": "stream",
          "name": "stdout",
          "text": [
            "One cell completed with embeddings\n"
          ]
        },
        {
          "output_type": "display_data",
          "data": {
            "text/plain": [
              "<IPython.core.display.HTML object>"
            ],
            "text/html": [
              "Load job 263397d4-6ac9-491c-b813-f081af0f46f2 is DONE. <a target=\"_blank\" href=\"https://console.cloud.google.com/bigquery?project=financial-fraud-detection-1&j=bq:US:263397d4-6ac9-491c-b813-f081af0f46f2&page=queryresults\">Open Job</a>"
            ]
          },
          "metadata": {}
        },
        {
          "output_type": "stream",
          "name": "stdout",
          "text": [
            "-----------------------------------------------------\n",
            " Column that is completedsection_8\n"
          ]
        },
        {
          "output_type": "display_data",
          "data": {
            "text/plain": [
              "<IPython.core.display.HTML object>"
            ],
            "text/html": [
              "Query job 8eca6898-9077-4abe-99e2-d29a96b9d7f6 is DONE. 0 Bytes processed. <a target=\"_blank\" href=\"https://console.cloud.google.com/bigquery?project=financial-fraud-detection-1&j=bq:US:8eca6898-9077-4abe-99e2-d29a96b9d7f6&page=queryresults\">Open Job</a>"
            ]
          },
          "metadata": {}
        },
        {
          "output_type": "stream",
          "name": "stderr",
          "text": [
            "/usr/local/lib/python3.11/dist-packages/bigframes/core/array_value.py:108: PreviewWarning: JSON column interpretation as a custom PyArrow extention in\n",
            "`db_dtypes` is a preview feature and subject to change.\n",
            "  warnings.warn(msg, bfe.PreviewWarning)\n"
          ]
        },
        {
          "output_type": "stream",
          "name": "stdout",
          "text": [
            "One cell completed with embeddings\n"
          ]
        },
        {
          "output_type": "display_data",
          "data": {
            "text/plain": [
              "<IPython.core.display.HTML object>"
            ],
            "text/html": [
              "Load job d42e1d4b-3905-443b-a843-31f530761934 is DONE. <a target=\"_blank\" href=\"https://console.cloud.google.com/bigquery?project=financial-fraud-detection-1&j=bq:US:d42e1d4b-3905-443b-a843-31f530761934&page=queryresults\">Open Job</a>"
            ]
          },
          "metadata": {}
        },
        {
          "output_type": "display_data",
          "data": {
            "text/plain": [
              "<IPython.core.display.HTML object>"
            ],
            "text/html": [
              "Query job 79a5ab89-1a82-4cb6-a210-bf00ed94faea is DONE. 122.6 kB processed. <a target=\"_blank\" href=\"https://console.cloud.google.com/bigquery?project=financial-fraud-detection-1&j=bq:US:79a5ab89-1a82-4cb6-a210-bf00ed94faea&page=queryresults\">Open Job</a>"
            ]
          },
          "metadata": {}
        },
        {
          "output_type": "stream",
          "name": "stderr",
          "text": [
            "/usr/local/lib/python3.11/dist-packages/bigframes/core/array_value.py:108: PreviewWarning: JSON column interpretation as a custom PyArrow extention in\n",
            "`db_dtypes` is a preview feature and subject to change.\n",
            "  warnings.warn(msg, bfe.PreviewWarning)\n"
          ]
        },
        {
          "output_type": "stream",
          "name": "stdout",
          "text": [
            "One cell completed with embeddings\n"
          ]
        },
        {
          "output_type": "display_data",
          "data": {
            "text/plain": [
              "<IPython.core.display.HTML object>"
            ],
            "text/html": [
              "Load job 675a8605-7da4-4dd9-ac31-870423bce50b is DONE. <a target=\"_blank\" href=\"https://console.cloud.google.com/bigquery?project=financial-fraud-detection-1&j=bq:US:675a8605-7da4-4dd9-ac31-870423bce50b&page=queryresults\">Open Job</a>"
            ]
          },
          "metadata": {}
        },
        {
          "output_type": "display_data",
          "data": {
            "text/plain": [
              "<IPython.core.display.HTML object>"
            ],
            "text/html": [
              "Query job 3ef5c2b9-b20a-4272-88a9-2413e8b258ff is DONE. 5.2 kB processed. <a target=\"_blank\" href=\"https://console.cloud.google.com/bigquery?project=financial-fraud-detection-1&j=bq:US:3ef5c2b9-b20a-4272-88a9-2413e8b258ff&page=queryresults\">Open Job</a>"
            ]
          },
          "metadata": {}
        },
        {
          "output_type": "stream",
          "name": "stderr",
          "text": [
            "/usr/local/lib/python3.11/dist-packages/bigframes/core/array_value.py:108: PreviewWarning: JSON column interpretation as a custom PyArrow extention in\n",
            "`db_dtypes` is a preview feature and subject to change.\n",
            "  warnings.warn(msg, bfe.PreviewWarning)\n"
          ]
        },
        {
          "output_type": "stream",
          "name": "stdout",
          "text": [
            "One cell completed with embeddings\n"
          ]
        },
        {
          "output_type": "display_data",
          "data": {
            "text/plain": [
              "<IPython.core.display.HTML object>"
            ],
            "text/html": [
              "Query job a4c0bd05-e767-4d5e-9b79-74ea7aaaec85 is DONE. 0 Bytes processed. <a target=\"_blank\" href=\"https://console.cloud.google.com/bigquery?project=financial-fraud-detection-1&j=bq:US:a4c0bd05-e767-4d5e-9b79-74ea7aaaec85&page=queryresults\">Open Job</a>"
            ]
          },
          "metadata": {}
        },
        {
          "output_type": "stream",
          "name": "stderr",
          "text": [
            "/usr/local/lib/python3.11/dist-packages/bigframes/core/array_value.py:108: PreviewWarning: JSON column interpretation as a custom PyArrow extention in\n",
            "`db_dtypes` is a preview feature and subject to change.\n",
            "  warnings.warn(msg, bfe.PreviewWarning)\n"
          ]
        },
        {
          "output_type": "stream",
          "name": "stdout",
          "text": [
            "One cell completed with embeddings\n"
          ]
        },
        {
          "output_type": "display_data",
          "data": {
            "text/plain": [
              "<IPython.core.display.HTML object>"
            ],
            "text/html": [
              "Load job 58145311-62db-4ac9-a65d-6a625343761c is DONE. <a target=\"_blank\" href=\"https://console.cloud.google.com/bigquery?project=financial-fraud-detection-1&j=bq:US:58145311-62db-4ac9-a65d-6a625343761c&page=queryresults\">Open Job</a>"
            ]
          },
          "metadata": {}
        },
        {
          "output_type": "stream",
          "name": "stdout",
          "text": [
            "-----------------------------------------------------\n",
            " Column that is completedsection_14\n"
          ]
        },
        {
          "output_type": "display_data",
          "data": {
            "text/plain": [
              "<IPython.core.display.HTML object>"
            ],
            "text/html": [
              "Load job 6ea23a73-5327-4f5b-ae36-90c9f337fb5b is DONE. <a target=\"_blank\" href=\"https://console.cloud.google.com/bigquery?project=financial-fraud-detection-1&j=bq:US:6ea23a73-5327-4f5b-ae36-90c9f337fb5b&page=queryresults\">Open Job</a>"
            ]
          },
          "metadata": {}
        },
        {
          "output_type": "display_data",
          "data": {
            "text/plain": [
              "<IPython.core.display.HTML object>"
            ],
            "text/html": [
              "Query job 8fbe17da-b731-4373-81e4-1a1294084df2 is DONE. 57.9 kB processed. <a target=\"_blank\" href=\"https://console.cloud.google.com/bigquery?project=financial-fraud-detection-1&j=bq:US:8fbe17da-b731-4373-81e4-1a1294084df2&page=queryresults\">Open Job</a>"
            ]
          },
          "metadata": {}
        },
        {
          "output_type": "stream",
          "name": "stderr",
          "text": [
            "/usr/local/lib/python3.11/dist-packages/bigframes/core/array_value.py:108: PreviewWarning: JSON column interpretation as a custom PyArrow extention in\n",
            "`db_dtypes` is a preview feature and subject to change.\n",
            "  warnings.warn(msg, bfe.PreviewWarning)\n"
          ]
        },
        {
          "output_type": "stream",
          "name": "stdout",
          "text": [
            "One cell completed with embeddings\n"
          ]
        },
        {
          "output_type": "display_data",
          "data": {
            "text/plain": [
              "<IPython.core.display.HTML object>"
            ],
            "text/html": [
              "Load job ae4a0ac2-f259-40e6-8dfc-23eb40abd8b7 is DONE. <a target=\"_blank\" href=\"https://console.cloud.google.com/bigquery?project=financial-fraud-detection-1&j=bq:US:ae4a0ac2-f259-40e6-8dfc-23eb40abd8b7&page=queryresults\">Open Job</a>"
            ]
          },
          "metadata": {}
        },
        {
          "output_type": "display_data",
          "data": {
            "text/plain": [
              "<IPython.core.display.HTML object>"
            ],
            "text/html": [
              "Query job f7d62cc9-a92f-4ee8-88cc-1fe391d87fa5 is DONE. 18.2 kB processed. <a target=\"_blank\" href=\"https://console.cloud.google.com/bigquery?project=financial-fraud-detection-1&j=bq:US:f7d62cc9-a92f-4ee8-88cc-1fe391d87fa5&page=queryresults\">Open Job</a>"
            ]
          },
          "metadata": {}
        },
        {
          "output_type": "stream",
          "name": "stderr",
          "text": [
            "/usr/local/lib/python3.11/dist-packages/bigframes/core/array_value.py:108: PreviewWarning: JSON column interpretation as a custom PyArrow extention in\n",
            "`db_dtypes` is a preview feature and subject to change.\n",
            "  warnings.warn(msg, bfe.PreviewWarning)\n"
          ]
        },
        {
          "output_type": "stream",
          "name": "stdout",
          "text": [
            "One cell completed with embeddings\n"
          ]
        },
        {
          "output_type": "display_data",
          "data": {
            "text/plain": [
              "<IPython.core.display.HTML object>"
            ],
            "text/html": [
              "Load job 4a38d23d-5ff9-43a1-b87c-8400263112ad is DONE. <a target=\"_blank\" href=\"https://console.cloud.google.com/bigquery?project=financial-fraud-detection-1&j=bq:US:4a38d23d-5ff9-43a1-b87c-8400263112ad&page=queryresults\">Open Job</a>"
            ]
          },
          "metadata": {}
        },
        {
          "output_type": "stream",
          "name": "stdout",
          "text": [
            "-----------------------------------------------------\n",
            " Column that is completedsection_1A\n"
          ]
        },
        {
          "output_type": "display_data",
          "data": {
            "text/plain": [
              "<IPython.core.display.HTML object>"
            ],
            "text/html": [
              "Query job 27246e0d-37bb-4d3d-9567-99bf28a3cb6a is DONE. 0 Bytes processed. <a target=\"_blank\" href=\"https://console.cloud.google.com/bigquery?project=financial-fraud-detection-1&j=bq:US:27246e0d-37bb-4d3d-9567-99bf28a3cb6a&page=queryresults\">Open Job</a>"
            ]
          },
          "metadata": {}
        },
        {
          "output_type": "stream",
          "name": "stderr",
          "text": [
            "/usr/local/lib/python3.11/dist-packages/bigframes/core/array_value.py:108: PreviewWarning: JSON column interpretation as a custom PyArrow extention in\n",
            "`db_dtypes` is a preview feature and subject to change.\n",
            "  warnings.warn(msg, bfe.PreviewWarning)\n"
          ]
        },
        {
          "output_type": "stream",
          "name": "stdout",
          "text": [
            "One cell completed with embeddings\n"
          ]
        },
        {
          "output_type": "display_data",
          "data": {
            "text/plain": [
              "<IPython.core.display.HTML object>"
            ],
            "text/html": [
              "Query job 328d8625-88bc-4872-8daf-0ec33087fe64 is DONE. 0 Bytes processed. <a target=\"_blank\" href=\"https://console.cloud.google.com/bigquery?project=financial-fraud-detection-1&j=bq:US:328d8625-88bc-4872-8daf-0ec33087fe64&page=queryresults\">Open Job</a>"
            ]
          },
          "metadata": {}
        },
        {
          "output_type": "stream",
          "name": "stderr",
          "text": [
            "/usr/local/lib/python3.11/dist-packages/bigframes/core/array_value.py:108: PreviewWarning: JSON column interpretation as a custom PyArrow extention in\n",
            "`db_dtypes` is a preview feature and subject to change.\n",
            "  warnings.warn(msg, bfe.PreviewWarning)\n"
          ]
        },
        {
          "output_type": "stream",
          "name": "stdout",
          "text": [
            "One cell completed with embeddings\n"
          ]
        },
        {
          "output_type": "display_data",
          "data": {
            "text/plain": [
              "<IPython.core.display.HTML object>"
            ],
            "text/html": [
              "Query job 81c6e0c6-64b5-491f-a058-61fe10203700 is DONE. 0 Bytes processed. <a target=\"_blank\" href=\"https://console.cloud.google.com/bigquery?project=financial-fraud-detection-1&j=bq:US:81c6e0c6-64b5-491f-a058-61fe10203700&page=queryresults\">Open Job</a>"
            ]
          },
          "metadata": {}
        },
        {
          "output_type": "stream",
          "name": "stderr",
          "text": [
            "/usr/local/lib/python3.11/dist-packages/bigframes/core/array_value.py:108: PreviewWarning: JSON column interpretation as a custom PyArrow extention in\n",
            "`db_dtypes` is a preview feature and subject to change.\n",
            "  warnings.warn(msg, bfe.PreviewWarning)\n"
          ]
        },
        {
          "output_type": "stream",
          "name": "stdout",
          "text": [
            "One cell completed with embeddings\n"
          ]
        },
        {
          "output_type": "display_data",
          "data": {
            "text/plain": [
              "<IPython.core.display.HTML object>"
            ],
            "text/html": [
              "Query job ab6fad03-98a4-4abb-ba7a-fd6ec58e817d is DONE. 0 Bytes processed. <a target=\"_blank\" href=\"https://console.cloud.google.com/bigquery?project=financial-fraud-detection-1&j=bq:US:ab6fad03-98a4-4abb-ba7a-fd6ec58e817d&page=queryresults\">Open Job</a>"
            ]
          },
          "metadata": {}
        },
        {
          "output_type": "stream",
          "name": "stderr",
          "text": [
            "/usr/local/lib/python3.11/dist-packages/bigframes/core/array_value.py:108: PreviewWarning: JSON column interpretation as a custom PyArrow extention in\n",
            "`db_dtypes` is a preview feature and subject to change.\n",
            "  warnings.warn(msg, bfe.PreviewWarning)\n"
          ]
        },
        {
          "output_type": "stream",
          "name": "stdout",
          "text": [
            "One cell completed with embeddings\n"
          ]
        },
        {
          "output_type": "display_data",
          "data": {
            "text/plain": [
              "<IPython.core.display.HTML object>"
            ],
            "text/html": [
              "Load job ba1ad0d9-45fd-4037-a0be-7ebcc0ba71d5 is DONE. <a target=\"_blank\" href=\"https://console.cloud.google.com/bigquery?project=financial-fraud-detection-1&j=bq:US:ba1ad0d9-45fd-4037-a0be-7ebcc0ba71d5&page=queryresults\">Open Job</a>"
            ]
          },
          "metadata": {}
        },
        {
          "output_type": "stream",
          "name": "stdout",
          "text": [
            "-----------------------------------------------------\n",
            " Column that is completedsection_11\n"
          ]
        },
        {
          "output_type": "display_data",
          "data": {
            "text/plain": [
              "<IPython.core.display.HTML object>"
            ],
            "text/html": [
              "Query job a33a4665-b27f-4cc3-95a2-0226712daf8b is DONE. 0 Bytes processed. <a target=\"_blank\" href=\"https://console.cloud.google.com/bigquery?project=financial-fraud-detection-1&j=bq:US:a33a4665-b27f-4cc3-95a2-0226712daf8b&page=queryresults\">Open Job</a>"
            ]
          },
          "metadata": {}
        },
        {
          "output_type": "stream",
          "name": "stderr",
          "text": [
            "/usr/local/lib/python3.11/dist-packages/bigframes/core/array_value.py:108: PreviewWarning: JSON column interpretation as a custom PyArrow extention in\n",
            "`db_dtypes` is a preview feature and subject to change.\n",
            "  warnings.warn(msg, bfe.PreviewWarning)\n"
          ]
        },
        {
          "output_type": "stream",
          "name": "stdout",
          "text": [
            "One cell completed with embeddings\n"
          ]
        },
        {
          "output_type": "display_data",
          "data": {
            "text/plain": [
              "<IPython.core.display.HTML object>"
            ],
            "text/html": [
              "Load job fe076ba8-4099-4aba-b460-443a357ab4e7 is DONE. <a target=\"_blank\" href=\"https://console.cloud.google.com/bigquery?project=financial-fraud-detection-1&j=bq:US:fe076ba8-4099-4aba-b460-443a357ab4e7&page=queryresults\">Open Job</a>"
            ]
          },
          "metadata": {}
        },
        {
          "output_type": "display_data",
          "data": {
            "text/plain": [
              "<IPython.core.display.HTML object>"
            ],
            "text/html": [
              "Query job 2235fd06-ab5e-4e41-be28-f5c19c2667ff is DONE. 11.2 kB processed. <a target=\"_blank\" href=\"https://console.cloud.google.com/bigquery?project=financial-fraud-detection-1&j=bq:US:2235fd06-ab5e-4e41-be28-f5c19c2667ff&page=queryresults\">Open Job</a>"
            ]
          },
          "metadata": {}
        },
        {
          "output_type": "stream",
          "name": "stderr",
          "text": [
            "/usr/local/lib/python3.11/dist-packages/bigframes/core/array_value.py:108: PreviewWarning: JSON column interpretation as a custom PyArrow extention in\n",
            "`db_dtypes` is a preview feature and subject to change.\n",
            "  warnings.warn(msg, bfe.PreviewWarning)\n"
          ]
        },
        {
          "output_type": "stream",
          "name": "stdout",
          "text": [
            "One cell completed with embeddings\n"
          ]
        },
        {
          "output_type": "display_data",
          "data": {
            "text/plain": [
              "<IPython.core.display.HTML object>"
            ],
            "text/html": [
              "Load job 9d18c69b-7cf9-46b6-9036-fad816325bf4 is DONE. <a target=\"_blank\" href=\"https://console.cloud.google.com/bigquery?project=financial-fraud-detection-1&j=bq:US:9d18c69b-7cf9-46b6-9036-fad816325bf4&page=queryresults\">Open Job</a>"
            ]
          },
          "metadata": {}
        },
        {
          "output_type": "stream",
          "name": "stdout",
          "text": [
            "-----------------------------------------------------\n",
            " Column that is completedsection_15\n"
          ]
        },
        {
          "output_type": "display_data",
          "data": {
            "text/plain": [
              "<IPython.core.display.HTML object>"
            ],
            "text/html": [
              "Query job c15dcbe1-251b-4bf6-b089-f1a58a9da467 is DONE. 0 Bytes processed. <a target=\"_blank\" href=\"https://console.cloud.google.com/bigquery?project=financial-fraud-detection-1&j=bq:US:c15dcbe1-251b-4bf6-b089-f1a58a9da467&page=queryresults\">Open Job</a>"
            ]
          },
          "metadata": {}
        },
        {
          "output_type": "stream",
          "name": "stderr",
          "text": [
            "/usr/local/lib/python3.11/dist-packages/bigframes/core/array_value.py:108: PreviewWarning: JSON column interpretation as a custom PyArrow extention in\n",
            "`db_dtypes` is a preview feature and subject to change.\n",
            "  warnings.warn(msg, bfe.PreviewWarning)\n"
          ]
        },
        {
          "output_type": "stream",
          "name": "stdout",
          "text": [
            "One cell completed with embeddings\n"
          ]
        },
        {
          "output_type": "display_data",
          "data": {
            "text/plain": [
              "<IPython.core.display.HTML object>"
            ],
            "text/html": [
              "Query job 499d4fca-75c9-4a5a-b203-050af90ad340 is DONE. 0 Bytes processed. <a target=\"_blank\" href=\"https://console.cloud.google.com/bigquery?project=financial-fraud-detection-1&j=bq:US:499d4fca-75c9-4a5a-b203-050af90ad340&page=queryresults\">Open Job</a>"
            ]
          },
          "metadata": {}
        },
        {
          "output_type": "stream",
          "name": "stderr",
          "text": [
            "/usr/local/lib/python3.11/dist-packages/bigframes/core/array_value.py:108: PreviewWarning: JSON column interpretation as a custom PyArrow extention in\n",
            "`db_dtypes` is a preview feature and subject to change.\n",
            "  warnings.warn(msg, bfe.PreviewWarning)\n"
          ]
        },
        {
          "output_type": "stream",
          "name": "stdout",
          "text": [
            "One cell completed with embeddings\n"
          ]
        },
        {
          "output_type": "display_data",
          "data": {
            "text/plain": [
              "<IPython.core.display.HTML object>"
            ],
            "text/html": [
              "Query job 0d501574-d468-4cb9-95c9-9595a4d35717 is DONE. 0 Bytes processed. <a target=\"_blank\" href=\"https://console.cloud.google.com/bigquery?project=financial-fraud-detection-1&j=bq:US:0d501574-d468-4cb9-95c9-9595a4d35717&page=queryresults\">Open Job</a>"
            ]
          },
          "metadata": {}
        },
        {
          "output_type": "stream",
          "name": "stderr",
          "text": [
            "/usr/local/lib/python3.11/dist-packages/bigframes/core/array_value.py:108: PreviewWarning: JSON column interpretation as a custom PyArrow extention in\n",
            "`db_dtypes` is a preview feature and subject to change.\n",
            "  warnings.warn(msg, bfe.PreviewWarning)\n"
          ]
        },
        {
          "output_type": "stream",
          "name": "stdout",
          "text": [
            "One cell completed with embeddings\n"
          ]
        },
        {
          "output_type": "display_data",
          "data": {
            "text/plain": [
              "<IPython.core.display.HTML object>"
            ],
            "text/html": [
              "Query job 33e4d7e6-a764-43f8-9813-d13faca57567 is DONE. 0 Bytes processed. <a target=\"_blank\" href=\"https://console.cloud.google.com/bigquery?project=financial-fraud-detection-1&j=bq:US:33e4d7e6-a764-43f8-9813-d13faca57567&page=queryresults\">Open Job</a>"
            ]
          },
          "metadata": {}
        },
        {
          "output_type": "stream",
          "name": "stderr",
          "text": [
            "/usr/local/lib/python3.11/dist-packages/bigframes/core/array_value.py:108: PreviewWarning: JSON column interpretation as a custom PyArrow extention in\n",
            "`db_dtypes` is a preview feature and subject to change.\n",
            "  warnings.warn(msg, bfe.PreviewWarning)\n"
          ]
        },
        {
          "output_type": "stream",
          "name": "stdout",
          "text": [
            "One cell completed with embeddings\n"
          ]
        },
        {
          "output_type": "display_data",
          "data": {
            "text/plain": [
              "<IPython.core.display.HTML object>"
            ],
            "text/html": [
              "Load job 6a76397f-059f-44a5-9de1-c21cbc197713 is DONE. <a target=\"_blank\" href=\"https://console.cloud.google.com/bigquery?project=financial-fraud-detection-1&j=bq:US:6a76397f-059f-44a5-9de1-c21cbc197713&page=queryresults\">Open Job</a>"
            ]
          },
          "metadata": {}
        },
        {
          "output_type": "display_data",
          "data": {
            "text/plain": [
              "<IPython.core.display.HTML object>"
            ],
            "text/html": [
              "Query job 98c8d1d8-3a39-4812-b74c-72e5946ecaf0 is DONE. 2.6 kB processed. <a target=\"_blank\" href=\"https://console.cloud.google.com/bigquery?project=financial-fraud-detection-1&j=bq:US:98c8d1d8-3a39-4812-b74c-72e5946ecaf0&page=queryresults\">Open Job</a>"
            ]
          },
          "metadata": {}
        },
        {
          "output_type": "stream",
          "name": "stderr",
          "text": [
            "/usr/local/lib/python3.11/dist-packages/bigframes/core/array_value.py:108: PreviewWarning: JSON column interpretation as a custom PyArrow extention in\n",
            "`db_dtypes` is a preview feature and subject to change.\n",
            "  warnings.warn(msg, bfe.PreviewWarning)\n"
          ]
        },
        {
          "output_type": "stream",
          "name": "stdout",
          "text": [
            "One cell completed with embeddings\n"
          ]
        },
        {
          "output_type": "display_data",
          "data": {
            "text/plain": [
              "<IPython.core.display.HTML object>"
            ],
            "text/html": [
              "Load job c7d273d9-30e6-438f-92cd-6a9d30914512 is DONE. <a target=\"_blank\" href=\"https://console.cloud.google.com/bigquery?project=financial-fraud-detection-1&j=bq:US:c7d273d9-30e6-438f-92cd-6a9d30914512&page=queryresults\">Open Job</a>"
            ]
          },
          "metadata": {}
        },
        {
          "output_type": "stream",
          "name": "stdout",
          "text": [
            "-----------------------------------------------------\n",
            " Column that is completedsection_5\n"
          ]
        },
        {
          "output_type": "display_data",
          "data": {
            "text/plain": [
              "<IPython.core.display.HTML object>"
            ],
            "text/html": [
              "Query job 6557c6ec-2ee6-49fc-87af-2d5355a1f51b is DONE. 0 Bytes processed. <a target=\"_blank\" href=\"https://console.cloud.google.com/bigquery?project=financial-fraud-detection-1&j=bq:US:6557c6ec-2ee6-49fc-87af-2d5355a1f51b&page=queryresults\">Open Job</a>"
            ]
          },
          "metadata": {}
        },
        {
          "output_type": "stream",
          "name": "stderr",
          "text": [
            "/usr/local/lib/python3.11/dist-packages/bigframes/core/array_value.py:108: PreviewWarning: JSON column interpretation as a custom PyArrow extention in\n",
            "`db_dtypes` is a preview feature and subject to change.\n",
            "  warnings.warn(msg, bfe.PreviewWarning)\n"
          ]
        },
        {
          "output_type": "stream",
          "name": "stdout",
          "text": [
            "One cell completed with embeddings\n"
          ]
        },
        {
          "output_type": "display_data",
          "data": {
            "text/plain": [
              "<IPython.core.display.HTML object>"
            ],
            "text/html": [
              "Query job ceee0f56-870a-4fa8-9079-db76b6475f24 is DONE. 0 Bytes processed. <a target=\"_blank\" href=\"https://console.cloud.google.com/bigquery?project=financial-fraud-detection-1&j=bq:US:ceee0f56-870a-4fa8-9079-db76b6475f24&page=queryresults\">Open Job</a>"
            ]
          },
          "metadata": {}
        },
        {
          "output_type": "stream",
          "name": "stderr",
          "text": [
            "/usr/local/lib/python3.11/dist-packages/bigframes/core/array_value.py:108: PreviewWarning: JSON column interpretation as a custom PyArrow extention in\n",
            "`db_dtypes` is a preview feature and subject to change.\n",
            "  warnings.warn(msg, bfe.PreviewWarning)\n"
          ]
        },
        {
          "output_type": "stream",
          "name": "stdout",
          "text": [
            "One cell completed with embeddings\n"
          ]
        },
        {
          "output_type": "display_data",
          "data": {
            "text/plain": [
              "<IPython.core.display.HTML object>"
            ],
            "text/html": [
              "Query job 0d82d951-5c97-4c7f-9f53-a84f01e58b87 is DONE. 0 Bytes processed. <a target=\"_blank\" href=\"https://console.cloud.google.com/bigquery?project=financial-fraud-detection-1&j=bq:US:0d82d951-5c97-4c7f-9f53-a84f01e58b87&page=queryresults\">Open Job</a>"
            ]
          },
          "metadata": {}
        },
        {
          "output_type": "stream",
          "name": "stderr",
          "text": [
            "/usr/local/lib/python3.11/dist-packages/bigframes/core/array_value.py:108: PreviewWarning: JSON column interpretation as a custom PyArrow extention in\n",
            "`db_dtypes` is a preview feature and subject to change.\n",
            "  warnings.warn(msg, bfe.PreviewWarning)\n"
          ]
        },
        {
          "output_type": "stream",
          "name": "stdout",
          "text": [
            "One cell completed with embeddings\n"
          ]
        },
        {
          "output_type": "display_data",
          "data": {
            "text/plain": [
              "<IPython.core.display.HTML object>"
            ],
            "text/html": [
              "Query job 327bfabb-e5e4-4fd0-baa3-41e3af4406bb is DONE. 0 Bytes processed. <a target=\"_blank\" href=\"https://console.cloud.google.com/bigquery?project=financial-fraud-detection-1&j=bq:US:327bfabb-e5e4-4fd0-baa3-41e3af4406bb&page=queryresults\">Open Job</a>"
            ]
          },
          "metadata": {}
        },
        {
          "output_type": "stream",
          "name": "stderr",
          "text": [
            "/usr/local/lib/python3.11/dist-packages/bigframes/core/array_value.py:108: PreviewWarning: JSON column interpretation as a custom PyArrow extention in\n",
            "`db_dtypes` is a preview feature and subject to change.\n",
            "  warnings.warn(msg, bfe.PreviewWarning)\n"
          ]
        },
        {
          "output_type": "stream",
          "name": "stdout",
          "text": [
            "One cell completed with embeddings\n"
          ]
        },
        {
          "output_type": "display_data",
          "data": {
            "text/plain": [
              "<IPython.core.display.HTML object>"
            ],
            "text/html": [
              "Load job b8cd3341-e217-49d9-9565-acc6dc85135d is DONE. <a target=\"_blank\" href=\"https://console.cloud.google.com/bigquery?project=financial-fraud-detection-1&j=bq:US:b8cd3341-e217-49d9-9565-acc6dc85135d&page=queryresults\">Open Job</a>"
            ]
          },
          "metadata": {}
        },
        {
          "output_type": "stream",
          "name": "stdout",
          "text": [
            "-----------------------------------------------------\n",
            " Column that is completedsection_13\n"
          ]
        },
        {
          "output_type": "display_data",
          "data": {
            "text/plain": [
              "<IPython.core.display.HTML object>"
            ],
            "text/html": [
              "Query job c98ac8bc-af56-4242-beb0-b92c52f4c792 is DONE. 0 Bytes processed. <a target=\"_blank\" href=\"https://console.cloud.google.com/bigquery?project=financial-fraud-detection-1&j=bq:US:c98ac8bc-af56-4242-beb0-b92c52f4c792&page=queryresults\">Open Job</a>"
            ]
          },
          "metadata": {}
        },
        {
          "output_type": "stream",
          "name": "stderr",
          "text": [
            "/usr/local/lib/python3.11/dist-packages/bigframes/core/array_value.py:108: PreviewWarning: JSON column interpretation as a custom PyArrow extention in\n",
            "`db_dtypes` is a preview feature and subject to change.\n",
            "  warnings.warn(msg, bfe.PreviewWarning)\n"
          ]
        },
        {
          "output_type": "stream",
          "name": "stdout",
          "text": [
            "One cell completed with embeddings\n"
          ]
        },
        {
          "output_type": "display_data",
          "data": {
            "text/plain": [
              "<IPython.core.display.HTML object>"
            ],
            "text/html": [
              "Query job 4f0b1fe6-c22d-4cf7-b422-14293a47dedd is DONE. 0 Bytes processed. <a target=\"_blank\" href=\"https://console.cloud.google.com/bigquery?project=financial-fraud-detection-1&j=bq:US:4f0b1fe6-c22d-4cf7-b422-14293a47dedd&page=queryresults\">Open Job</a>"
            ]
          },
          "metadata": {}
        },
        {
          "output_type": "stream",
          "name": "stderr",
          "text": [
            "/usr/local/lib/python3.11/dist-packages/bigframes/core/array_value.py:108: PreviewWarning: JSON column interpretation as a custom PyArrow extention in\n",
            "`db_dtypes` is a preview feature and subject to change.\n",
            "  warnings.warn(msg, bfe.PreviewWarning)\n"
          ]
        },
        {
          "output_type": "stream",
          "name": "stdout",
          "text": [
            "One cell completed with embeddings\n"
          ]
        },
        {
          "output_type": "display_data",
          "data": {
            "text/plain": [
              "<IPython.core.display.HTML object>"
            ],
            "text/html": [
              "Load job 2de25c71-b327-4695-9864-351120af24dc is DONE. <a target=\"_blank\" href=\"https://console.cloud.google.com/bigquery?project=financial-fraud-detection-1&j=bq:US:2de25c71-b327-4695-9864-351120af24dc&page=queryresults\">Open Job</a>"
            ]
          },
          "metadata": {}
        },
        {
          "output_type": "stream",
          "name": "stdout",
          "text": [
            "-----------------------------------------------------\n",
            " Column that is completedsection_7A\n"
          ]
        },
        {
          "output_type": "display_data",
          "data": {
            "text/plain": [
              "<IPython.core.display.HTML object>"
            ],
            "text/html": [
              "Query job dd577062-4ec1-401b-bbc7-e633df428bba is DONE. 0 Bytes processed. <a target=\"_blank\" href=\"https://console.cloud.google.com/bigquery?project=financial-fraud-detection-1&j=bq:US:dd577062-4ec1-401b-bbc7-e633df428bba&page=queryresults\">Open Job</a>"
            ]
          },
          "metadata": {}
        },
        {
          "output_type": "stream",
          "name": "stderr",
          "text": [
            "/usr/local/lib/python3.11/dist-packages/bigframes/core/array_value.py:108: PreviewWarning: JSON column interpretation as a custom PyArrow extention in\n",
            "`db_dtypes` is a preview feature and subject to change.\n",
            "  warnings.warn(msg, bfe.PreviewWarning)\n"
          ]
        },
        {
          "output_type": "stream",
          "name": "stdout",
          "text": [
            "One cell completed with embeddings\n"
          ]
        },
        {
          "output_type": "display_data",
          "data": {
            "text/plain": [
              "<IPython.core.display.HTML object>"
            ],
            "text/html": [
              "Query job c973a79e-f885-48b6-9180-32c75d57317e is DONE. 0 Bytes processed. <a target=\"_blank\" href=\"https://console.cloud.google.com/bigquery?project=financial-fraud-detection-1&j=bq:US:c973a79e-f885-48b6-9180-32c75d57317e&page=queryresults\">Open Job</a>"
            ]
          },
          "metadata": {}
        },
        {
          "output_type": "stream",
          "name": "stderr",
          "text": [
            "/usr/local/lib/python3.11/dist-packages/bigframes/core/array_value.py:108: PreviewWarning: JSON column interpretation as a custom PyArrow extention in\n",
            "`db_dtypes` is a preview feature and subject to change.\n",
            "  warnings.warn(msg, bfe.PreviewWarning)\n"
          ]
        },
        {
          "output_type": "stream",
          "name": "stdout",
          "text": [
            "One cell completed with embeddings\n"
          ]
        },
        {
          "output_type": "display_data",
          "data": {
            "text/plain": [
              "<IPython.core.display.HTML object>"
            ],
            "text/html": [
              "Load job 10a8d908-b190-4bce-aaef-1497d9fe5fbc is DONE. <a target=\"_blank\" href=\"https://console.cloud.google.com/bigquery?project=financial-fraud-detection-1&j=bq:US:10a8d908-b190-4bce-aaef-1497d9fe5fbc&page=queryresults\">Open Job</a>"
            ]
          },
          "metadata": {}
        },
        {
          "output_type": "stream",
          "name": "stdout",
          "text": [
            "-----------------------------------------------------\n",
            " Column that is completedsection_1B\n"
          ]
        },
        {
          "output_type": "display_data",
          "data": {
            "text/plain": [
              "<IPython.core.display.HTML object>"
            ],
            "text/html": [
              "Query job e7a27778-1477-4734-b60c-e0fc55c9d973 is DONE. 0 Bytes processed. <a target=\"_blank\" href=\"https://console.cloud.google.com/bigquery?project=financial-fraud-detection-1&j=bq:US:e7a27778-1477-4734-b60c-e0fc55c9d973&page=queryresults\">Open Job</a>"
            ]
          },
          "metadata": {}
        },
        {
          "output_type": "stream",
          "name": "stderr",
          "text": [
            "/usr/local/lib/python3.11/dist-packages/bigframes/core/array_value.py:108: PreviewWarning: JSON column interpretation as a custom PyArrow extention in\n",
            "`db_dtypes` is a preview feature and subject to change.\n",
            "  warnings.warn(msg, bfe.PreviewWarning)\n"
          ]
        },
        {
          "output_type": "stream",
          "name": "stdout",
          "text": [
            "One cell completed with embeddings\n"
          ]
        },
        {
          "output_type": "display_data",
          "data": {
            "text/plain": [
              "<IPython.core.display.HTML object>"
            ],
            "text/html": [
              "Query job d1b88967-7349-4583-abd0-c5c70e854f93 is DONE. 0 Bytes processed. <a target=\"_blank\" href=\"https://console.cloud.google.com/bigquery?project=financial-fraud-detection-1&j=bq:US:d1b88967-7349-4583-abd0-c5c70e854f93&page=queryresults\">Open Job</a>"
            ]
          },
          "metadata": {}
        },
        {
          "output_type": "stream",
          "name": "stderr",
          "text": [
            "/usr/local/lib/python3.11/dist-packages/bigframes/core/array_value.py:108: PreviewWarning: JSON column interpretation as a custom PyArrow extention in\n",
            "`db_dtypes` is a preview feature and subject to change.\n",
            "  warnings.warn(msg, bfe.PreviewWarning)\n"
          ]
        },
        {
          "output_type": "stream",
          "name": "stdout",
          "text": [
            "One cell completed with embeddings\n"
          ]
        },
        {
          "output_type": "display_data",
          "data": {
            "text/plain": [
              "<IPython.core.display.HTML object>"
            ],
            "text/html": [
              "Load job 064399ac-e5d0-41ee-bad1-bd73e9b845ce is DONE. <a target=\"_blank\" href=\"https://console.cloud.google.com/bigquery?project=financial-fraud-detection-1&j=bq:US:064399ac-e5d0-41ee-bad1-bd73e9b845ce&page=queryresults\">Open Job</a>"
            ]
          },
          "metadata": {}
        },
        {
          "output_type": "stream",
          "name": "stdout",
          "text": [
            "-----------------------------------------------------\n",
            " Column that is completedsection_9B\n"
          ]
        },
        {
          "output_type": "display_data",
          "data": {
            "text/plain": [
              "<IPython.core.display.HTML object>"
            ],
            "text/html": [
              "Query job 061a57b6-7aad-4bbc-9399-ed3d52f2230a is DONE. 0 Bytes processed. <a target=\"_blank\" href=\"https://console.cloud.google.com/bigquery?project=financial-fraud-detection-1&j=bq:US:061a57b6-7aad-4bbc-9399-ed3d52f2230a&page=queryresults\">Open Job</a>"
            ]
          },
          "metadata": {}
        },
        {
          "output_type": "stream",
          "name": "stderr",
          "text": [
            "/usr/local/lib/python3.11/dist-packages/bigframes/core/array_value.py:108: PreviewWarning: JSON column interpretation as a custom PyArrow extention in\n",
            "`db_dtypes` is a preview feature and subject to change.\n",
            "  warnings.warn(msg, bfe.PreviewWarning)\n"
          ]
        },
        {
          "output_type": "stream",
          "name": "stdout",
          "text": [
            "One cell completed with embeddings\n"
          ]
        },
        {
          "output_type": "display_data",
          "data": {
            "text/plain": [
              "<IPython.core.display.HTML object>"
            ],
            "text/html": [
              "Query job e9d69ef8-7907-4b03-81d5-162cba9d53e9 is DONE. 0 Bytes processed. <a target=\"_blank\" href=\"https://console.cloud.google.com/bigquery?project=financial-fraud-detection-1&j=bq:US:e9d69ef8-7907-4b03-81d5-162cba9d53e9&page=queryresults\">Open Job</a>"
            ]
          },
          "metadata": {}
        },
        {
          "output_type": "stream",
          "name": "stderr",
          "text": [
            "/usr/local/lib/python3.11/dist-packages/bigframes/core/array_value.py:108: PreviewWarning: JSON column interpretation as a custom PyArrow extention in\n",
            "`db_dtypes` is a preview feature and subject to change.\n",
            "  warnings.warn(msg, bfe.PreviewWarning)\n"
          ]
        },
        {
          "output_type": "stream",
          "name": "stdout",
          "text": [
            "One cell completed with embeddings\n"
          ]
        },
        {
          "output_type": "display_data",
          "data": {
            "text/plain": [
              "<IPython.core.display.HTML object>"
            ],
            "text/html": [
              "Query job 1e243b6f-700c-4d76-83ce-599c920d39ed is DONE. 0 Bytes processed. <a target=\"_blank\" href=\"https://console.cloud.google.com/bigquery?project=financial-fraud-detection-1&j=bq:US:1e243b6f-700c-4d76-83ce-599c920d39ed&page=queryresults\">Open Job</a>"
            ]
          },
          "metadata": {}
        },
        {
          "output_type": "stream",
          "name": "stderr",
          "text": [
            "/usr/local/lib/python3.11/dist-packages/bigframes/core/array_value.py:108: PreviewWarning: JSON column interpretation as a custom PyArrow extention in\n",
            "`db_dtypes` is a preview feature and subject to change.\n",
            "  warnings.warn(msg, bfe.PreviewWarning)\n"
          ]
        },
        {
          "output_type": "stream",
          "name": "stdout",
          "text": [
            "One cell completed with embeddings\n"
          ]
        },
        {
          "output_type": "display_data",
          "data": {
            "text/plain": [
              "<IPython.core.display.HTML object>"
            ],
            "text/html": [
              "Query job 94edd45c-13ea-4ef8-9db3-12294cb16d02 is DONE. 0 Bytes processed. <a target=\"_blank\" href=\"https://console.cloud.google.com/bigquery?project=financial-fraud-detection-1&j=bq:US:94edd45c-13ea-4ef8-9db3-12294cb16d02&page=queryresults\">Open Job</a>"
            ]
          },
          "metadata": {}
        },
        {
          "output_type": "stream",
          "name": "stderr",
          "text": [
            "/usr/local/lib/python3.11/dist-packages/bigframes/core/array_value.py:108: PreviewWarning: JSON column interpretation as a custom PyArrow extention in\n",
            "`db_dtypes` is a preview feature and subject to change.\n",
            "  warnings.warn(msg, bfe.PreviewWarning)\n"
          ]
        },
        {
          "output_type": "stream",
          "name": "stdout",
          "text": [
            "One cell completed with embeddings\n"
          ]
        },
        {
          "output_type": "display_data",
          "data": {
            "text/plain": [
              "<IPython.core.display.HTML object>"
            ],
            "text/html": [
              "Load job 35f40ad1-1029-4bdd-8c8d-037fa1db4601 is DONE. <a target=\"_blank\" href=\"https://console.cloud.google.com/bigquery?project=financial-fraud-detection-1&j=bq:US:35f40ad1-1029-4bdd-8c8d-037fa1db4601&page=queryresults\">Open Job</a>"
            ]
          },
          "metadata": {}
        },
        {
          "output_type": "display_data",
          "data": {
            "text/plain": [
              "<IPython.core.display.HTML object>"
            ],
            "text/html": [
              "Query job 74b14609-e7eb-4a05-957b-a46f309cd4f2 is DONE. 6.6 kB processed. <a target=\"_blank\" href=\"https://console.cloud.google.com/bigquery?project=financial-fraud-detection-1&j=bq:US:74b14609-e7eb-4a05-957b-a46f309cd4f2&page=queryresults\">Open Job</a>"
            ]
          },
          "metadata": {}
        },
        {
          "output_type": "stream",
          "name": "stderr",
          "text": [
            "/usr/local/lib/python3.11/dist-packages/bigframes/core/array_value.py:108: PreviewWarning: JSON column interpretation as a custom PyArrow extention in\n",
            "`db_dtypes` is a preview feature and subject to change.\n",
            "  warnings.warn(msg, bfe.PreviewWarning)\n"
          ]
        },
        {
          "output_type": "stream",
          "name": "stdout",
          "text": [
            "One cell completed with embeddings\n"
          ]
        },
        {
          "output_type": "display_data",
          "data": {
            "text/plain": [
              "<IPython.core.display.HTML object>"
            ],
            "text/html": [
              "Load job 8cc20326-e018-4ae3-8efc-90d970ce4d01 is DONE. <a target=\"_blank\" href=\"https://console.cloud.google.com/bigquery?project=financial-fraud-detection-1&j=bq:US:8cc20326-e018-4ae3-8efc-90d970ce4d01&page=queryresults\">Open Job</a>"
            ]
          },
          "metadata": {}
        },
        {
          "output_type": "stream",
          "name": "stdout",
          "text": [
            "-----------------------------------------------------\n",
            " Column that is completedsection_2\n"
          ]
        },
        {
          "output_type": "display_data",
          "data": {
            "text/plain": [
              "<IPython.core.display.HTML object>"
            ],
            "text/html": [
              "Query job 207623c4-f44c-46d4-a87b-b5fcf0077d3e is DONE. 0 Bytes processed. <a target=\"_blank\" href=\"https://console.cloud.google.com/bigquery?project=financial-fraud-detection-1&j=bq:US:207623c4-f44c-46d4-a87b-b5fcf0077d3e&page=queryresults\">Open Job</a>"
            ]
          },
          "metadata": {}
        },
        {
          "output_type": "stream",
          "name": "stderr",
          "text": [
            "/usr/local/lib/python3.11/dist-packages/bigframes/core/array_value.py:108: PreviewWarning: JSON column interpretation as a custom PyArrow extention in\n",
            "`db_dtypes` is a preview feature and subject to change.\n",
            "  warnings.warn(msg, bfe.PreviewWarning)\n"
          ]
        },
        {
          "output_type": "stream",
          "name": "stdout",
          "text": [
            "One cell completed with embeddings\n"
          ]
        },
        {
          "output_type": "display_data",
          "data": {
            "text/plain": [
              "<IPython.core.display.HTML object>"
            ],
            "text/html": [
              "Query job e3f17353-eb3c-4e12-a6c9-6c1e221de2dd is DONE. 0 Bytes processed. <a target=\"_blank\" href=\"https://console.cloud.google.com/bigquery?project=financial-fraud-detection-1&j=bq:US:e3f17353-eb3c-4e12-a6c9-6c1e221de2dd&page=queryresults\">Open Job</a>"
            ]
          },
          "metadata": {}
        },
        {
          "output_type": "stream",
          "name": "stderr",
          "text": [
            "/usr/local/lib/python3.11/dist-packages/bigframes/core/array_value.py:108: PreviewWarning: JSON column interpretation as a custom PyArrow extention in\n",
            "`db_dtypes` is a preview feature and subject to change.\n",
            "  warnings.warn(msg, bfe.PreviewWarning)\n"
          ]
        },
        {
          "output_type": "stream",
          "name": "stdout",
          "text": [
            "One cell completed with embeddings\n"
          ]
        },
        {
          "output_type": "display_data",
          "data": {
            "text/plain": [
              "<IPython.core.display.HTML object>"
            ],
            "text/html": [
              "Query job 9d399842-0d46-4577-bdc5-d1889e259ea2 is DONE. 0 Bytes processed. <a target=\"_blank\" href=\"https://console.cloud.google.com/bigquery?project=financial-fraud-detection-1&j=bq:US:9d399842-0d46-4577-bdc5-d1889e259ea2&page=queryresults\">Open Job</a>"
            ]
          },
          "metadata": {}
        },
        {
          "output_type": "stream",
          "name": "stderr",
          "text": [
            "/usr/local/lib/python3.11/dist-packages/bigframes/core/array_value.py:108: PreviewWarning: JSON column interpretation as a custom PyArrow extention in\n",
            "`db_dtypes` is a preview feature and subject to change.\n",
            "  warnings.warn(msg, bfe.PreviewWarning)\n"
          ]
        },
        {
          "output_type": "stream",
          "name": "stdout",
          "text": [
            "One cell completed with embeddings\n"
          ]
        },
        {
          "output_type": "display_data",
          "data": {
            "text/plain": [
              "<IPython.core.display.HTML object>"
            ],
            "text/html": [
              "Query job f7eaccb9-f2be-458b-b458-82f71a7fae59 is DONE. 0 Bytes processed. <a target=\"_blank\" href=\"https://console.cloud.google.com/bigquery?project=financial-fraud-detection-1&j=bq:US:f7eaccb9-f2be-458b-b458-82f71a7fae59&page=queryresults\">Open Job</a>"
            ]
          },
          "metadata": {}
        },
        {
          "output_type": "stream",
          "name": "stderr",
          "text": [
            "/usr/local/lib/python3.11/dist-packages/bigframes/core/array_value.py:108: PreviewWarning: JSON column interpretation as a custom PyArrow extention in\n",
            "`db_dtypes` is a preview feature and subject to change.\n",
            "  warnings.warn(msg, bfe.PreviewWarning)\n"
          ]
        },
        {
          "output_type": "stream",
          "name": "stdout",
          "text": [
            "One cell completed with embeddings\n"
          ]
        },
        {
          "output_type": "display_data",
          "data": {
            "text/plain": [
              "<IPython.core.display.HTML object>"
            ],
            "text/html": [
              "Query job 6dd1f7a1-6aa0-4a94-a3c1-07306a94f582 is DONE. 0 Bytes processed. <a target=\"_blank\" href=\"https://console.cloud.google.com/bigquery?project=financial-fraud-detection-1&j=bq:US:6dd1f7a1-6aa0-4a94-a3c1-07306a94f582&page=queryresults\">Open Job</a>"
            ]
          },
          "metadata": {}
        },
        {
          "output_type": "stream",
          "name": "stderr",
          "text": [
            "/usr/local/lib/python3.11/dist-packages/bigframes/core/array_value.py:108: PreviewWarning: JSON column interpretation as a custom PyArrow extention in\n",
            "`db_dtypes` is a preview feature and subject to change.\n",
            "  warnings.warn(msg, bfe.PreviewWarning)\n"
          ]
        },
        {
          "output_type": "stream",
          "name": "stdout",
          "text": [
            "One cell completed with embeddings\n"
          ]
        },
        {
          "output_type": "display_data",
          "data": {
            "text/plain": [
              "<IPython.core.display.HTML object>"
            ],
            "text/html": [
              "Load job 83e94d37-418a-4d10-9313-c864b113bcf7 is DONE. <a target=\"_blank\" href=\"https://console.cloud.google.com/bigquery?project=financial-fraud-detection-1&j=bq:US:83e94d37-418a-4d10-9313-c864b113bcf7&page=queryresults\">Open Job</a>"
            ]
          },
          "metadata": {}
        },
        {
          "output_type": "stream",
          "name": "stdout",
          "text": [
            "-----------------------------------------------------\n",
            " Column that is completedsection_6\n"
          ]
        },
        {
          "output_type": "display_data",
          "data": {
            "text/plain": [
              "<IPython.core.display.HTML object>"
            ],
            "text/html": [
              "Load job 3682c2aa-5d00-483d-9570-9bde008b2101 is DONE. <a target=\"_blank\" href=\"https://console.cloud.google.com/bigquery?project=financial-fraud-detection-1&j=bq:US:3682c2aa-5d00-483d-9570-9bde008b2101&page=queryresults\">Open Job</a>"
            ]
          },
          "metadata": {}
        },
        {
          "output_type": "display_data",
          "data": {
            "text/plain": [
              "<IPython.core.display.HTML object>"
            ],
            "text/html": [
              "Query job 708bb547-870c-4da9-a18d-44d50ef3c726 is DONE. 11.5 kB processed. <a target=\"_blank\" href=\"https://console.cloud.google.com/bigquery?project=financial-fraud-detection-1&j=bq:US:708bb547-870c-4da9-a18d-44d50ef3c726&page=queryresults\">Open Job</a>"
            ]
          },
          "metadata": {}
        },
        {
          "output_type": "stream",
          "name": "stderr",
          "text": [
            "/usr/local/lib/python3.11/dist-packages/bigframes/core/array_value.py:108: PreviewWarning: JSON column interpretation as a custom PyArrow extention in\n",
            "`db_dtypes` is a preview feature and subject to change.\n",
            "  warnings.warn(msg, bfe.PreviewWarning)\n"
          ]
        },
        {
          "output_type": "stream",
          "name": "stdout",
          "text": [
            "One cell completed with embeddings\n"
          ]
        },
        {
          "output_type": "display_data",
          "data": {
            "text/plain": [
              "<IPython.core.display.HTML object>"
            ],
            "text/html": [
              "Query job 6cbe4f5e-d51c-4d5f-8ca3-7b529a6ff05b is DONE. 0 Bytes processed. <a target=\"_blank\" href=\"https://console.cloud.google.com/bigquery?project=financial-fraud-detection-1&j=bq:US:6cbe4f5e-d51c-4d5f-8ca3-7b529a6ff05b&page=queryresults\">Open Job</a>"
            ]
          },
          "metadata": {}
        },
        {
          "output_type": "stream",
          "name": "stderr",
          "text": [
            "/usr/local/lib/python3.11/dist-packages/bigframes/core/array_value.py:108: PreviewWarning: JSON column interpretation as a custom PyArrow extention in\n",
            "`db_dtypes` is a preview feature and subject to change.\n",
            "  warnings.warn(msg, bfe.PreviewWarning)\n"
          ]
        },
        {
          "output_type": "stream",
          "name": "stdout",
          "text": [
            "One cell completed with embeddings\n"
          ]
        },
        {
          "output_type": "display_data",
          "data": {
            "text/plain": [
              "<IPython.core.display.HTML object>"
            ],
            "text/html": [
              "Query job 8b6f5378-b59e-4042-b462-3f3268c14a2f is DONE. 0 Bytes processed. <a target=\"_blank\" href=\"https://console.cloud.google.com/bigquery?project=financial-fraud-detection-1&j=bq:US:8b6f5378-b59e-4042-b462-3f3268c14a2f&page=queryresults\">Open Job</a>"
            ]
          },
          "metadata": {}
        },
        {
          "output_type": "stream",
          "name": "stderr",
          "text": [
            "/usr/local/lib/python3.11/dist-packages/bigframes/core/array_value.py:108: PreviewWarning: JSON column interpretation as a custom PyArrow extention in\n",
            "`db_dtypes` is a preview feature and subject to change.\n",
            "  warnings.warn(msg, bfe.PreviewWarning)\n"
          ]
        },
        {
          "output_type": "stream",
          "name": "stdout",
          "text": [
            "One cell completed with embeddings\n"
          ]
        },
        {
          "output_type": "display_data",
          "data": {
            "text/plain": [
              "<IPython.core.display.HTML object>"
            ],
            "text/html": [
              "Query job 0303ddcc-ae98-4ed0-880d-d240739e48c7 is DONE. 0 Bytes processed. <a target=\"_blank\" href=\"https://console.cloud.google.com/bigquery?project=financial-fraud-detection-1&j=bq:US:0303ddcc-ae98-4ed0-880d-d240739e48c7&page=queryresults\">Open Job</a>"
            ]
          },
          "metadata": {}
        },
        {
          "output_type": "stream",
          "name": "stderr",
          "text": [
            "/usr/local/lib/python3.11/dist-packages/bigframes/core/array_value.py:108: PreviewWarning: JSON column interpretation as a custom PyArrow extention in\n",
            "`db_dtypes` is a preview feature and subject to change.\n",
            "  warnings.warn(msg, bfe.PreviewWarning)\n"
          ]
        },
        {
          "output_type": "stream",
          "name": "stdout",
          "text": [
            "One cell completed with embeddings\n"
          ]
        },
        {
          "output_type": "display_data",
          "data": {
            "text/plain": [
              "<IPython.core.display.HTML object>"
            ],
            "text/html": [
              "Query job bdf8e2b4-2801-48a4-bc26-1cf75ff19ed3 is DONE. 0 Bytes processed. <a target=\"_blank\" href=\"https://console.cloud.google.com/bigquery?project=financial-fraud-detection-1&j=bq:US:bdf8e2b4-2801-48a4-bc26-1cf75ff19ed3&page=queryresults\">Open Job</a>"
            ]
          },
          "metadata": {}
        },
        {
          "output_type": "stream",
          "name": "stderr",
          "text": [
            "/usr/local/lib/python3.11/dist-packages/bigframes/core/array_value.py:108: PreviewWarning: JSON column interpretation as a custom PyArrow extention in\n",
            "`db_dtypes` is a preview feature and subject to change.\n",
            "  warnings.warn(msg, bfe.PreviewWarning)\n"
          ]
        },
        {
          "output_type": "stream",
          "name": "stdout",
          "text": [
            "One cell completed with embeddings\n"
          ]
        },
        {
          "output_type": "display_data",
          "data": {
            "text/plain": [
              "<IPython.core.display.HTML object>"
            ],
            "text/html": [
              "Load job 508b71eb-e57c-44c3-93c3-15b8183cb14a is DONE. <a target=\"_blank\" href=\"https://console.cloud.google.com/bigquery?project=financial-fraud-detection-1&j=bq:US:508b71eb-e57c-44c3-93c3-15b8183cb14a&page=queryresults\">Open Job</a>"
            ]
          },
          "metadata": {}
        },
        {
          "output_type": "stream",
          "name": "stdout",
          "text": [
            "-----------------------------------------------------\n",
            " Column that is completedsection_3\n"
          ]
        },
        {
          "output_type": "display_data",
          "data": {
            "text/plain": [
              "<IPython.core.display.HTML object>"
            ],
            "text/html": [
              "Load job 1d59fc59-7de3-4de8-be76-b6daf486290d is DONE. <a target=\"_blank\" href=\"https://console.cloud.google.com/bigquery?project=financial-fraud-detection-1&j=bq:US:1d59fc59-7de3-4de8-be76-b6daf486290d&page=queryresults\">Open Job</a>"
            ]
          },
          "metadata": {}
        },
        {
          "output_type": "display_data",
          "data": {
            "text/plain": [
              "<IPython.core.display.HTML object>"
            ],
            "text/html": [
              "Query job 845dbd6c-f154-450c-8719-c8ddd528997d is DONE. 19.2 kB processed. <a target=\"_blank\" href=\"https://console.cloud.google.com/bigquery?project=financial-fraud-detection-1&j=bq:US:845dbd6c-f154-450c-8719-c8ddd528997d&page=queryresults\">Open Job</a>"
            ]
          },
          "metadata": {}
        },
        {
          "output_type": "stream",
          "name": "stderr",
          "text": [
            "/usr/local/lib/python3.11/dist-packages/bigframes/core/array_value.py:108: PreviewWarning: JSON column interpretation as a custom PyArrow extention in\n",
            "`db_dtypes` is a preview feature and subject to change.\n",
            "  warnings.warn(msg, bfe.PreviewWarning)\n"
          ]
        },
        {
          "output_type": "stream",
          "name": "stdout",
          "text": [
            "One cell completed with embeddings\n"
          ]
        },
        {
          "output_type": "display_data",
          "data": {
            "text/plain": [
              "<IPython.core.display.HTML object>"
            ],
            "text/html": [
              "Query job 191229f5-f280-4f34-b41d-8096ae6abfae is DONE. 0 Bytes processed. <a target=\"_blank\" href=\"https://console.cloud.google.com/bigquery?project=financial-fraud-detection-1&j=bq:US:191229f5-f280-4f34-b41d-8096ae6abfae&page=queryresults\">Open Job</a>"
            ]
          },
          "metadata": {}
        },
        {
          "output_type": "stream",
          "name": "stderr",
          "text": [
            "/usr/local/lib/python3.11/dist-packages/bigframes/core/array_value.py:108: PreviewWarning: JSON column interpretation as a custom PyArrow extention in\n",
            "`db_dtypes` is a preview feature and subject to change.\n",
            "  warnings.warn(msg, bfe.PreviewWarning)\n"
          ]
        },
        {
          "output_type": "stream",
          "name": "stdout",
          "text": [
            "One cell completed with embeddings\n"
          ]
        },
        {
          "output_type": "display_data",
          "data": {
            "text/plain": [
              "<IPython.core.display.HTML object>"
            ],
            "text/html": [
              "Load job 8de83b80-c6ac-4ffc-b67e-5c744fb8af68 is DONE. <a target=\"_blank\" href=\"https://console.cloud.google.com/bigquery?project=financial-fraud-detection-1&j=bq:US:8de83b80-c6ac-4ffc-b67e-5c744fb8af68&page=queryresults\">Open Job</a>"
            ]
          },
          "metadata": {}
        },
        {
          "output_type": "stream",
          "name": "stdout",
          "text": [
            "-----------------------------------------------------\n",
            " Column that is completedsection_9A\n"
          ]
        },
        {
          "output_type": "display_data",
          "data": {
            "text/plain": [
              "<IPython.core.display.HTML object>"
            ],
            "text/html": [
              "Load job 0381217e-4c91-4425-bcbd-0a4201a55d49 is DONE. <a target=\"_blank\" href=\"https://console.cloud.google.com/bigquery?project=financial-fraud-detection-1&j=bq:US:0381217e-4c91-4425-bcbd-0a4201a55d49&page=queryresults\">Open Job</a>"
            ]
          },
          "metadata": {}
        },
        {
          "output_type": "display_data",
          "data": {
            "text/plain": [
              "<IPython.core.display.HTML object>"
            ],
            "text/html": [
              "Query job 8235feae-9314-47ad-8110-55dd2d004c63 is DONE. 52.1 kB processed. <a target=\"_blank\" href=\"https://console.cloud.google.com/bigquery?project=financial-fraud-detection-1&j=bq:US:8235feae-9314-47ad-8110-55dd2d004c63&page=queryresults\">Open Job</a>"
            ]
          },
          "metadata": {}
        },
        {
          "output_type": "stream",
          "name": "stderr",
          "text": [
            "/usr/local/lib/python3.11/dist-packages/bigframes/core/array_value.py:108: PreviewWarning: JSON column interpretation as a custom PyArrow extention in\n",
            "`db_dtypes` is a preview feature and subject to change.\n",
            "  warnings.warn(msg, bfe.PreviewWarning)\n"
          ]
        },
        {
          "output_type": "stream",
          "name": "stdout",
          "text": [
            "One cell completed with embeddings\n"
          ]
        },
        {
          "output_type": "display_data",
          "data": {
            "text/plain": [
              "<IPython.core.display.HTML object>"
            ],
            "text/html": [
              "Load job f84c612a-96d0-41fa-b1e9-82f339e51767 is DONE. <a target=\"_blank\" href=\"https://console.cloud.google.com/bigquery?project=financial-fraud-detection-1&j=bq:US:f84c612a-96d0-41fa-b1e9-82f339e51767&page=queryresults\">Open Job</a>"
            ]
          },
          "metadata": {}
        },
        {
          "output_type": "display_data",
          "data": {
            "text/plain": [
              "<IPython.core.display.HTML object>"
            ],
            "text/html": [
              "Query job 9f3e40bf-f101-448a-97d1-459b5f75fb1f is DONE. 47.5 kB processed. <a target=\"_blank\" href=\"https://console.cloud.google.com/bigquery?project=financial-fraud-detection-1&j=bq:US:9f3e40bf-f101-448a-97d1-459b5f75fb1f&page=queryresults\">Open Job</a>"
            ]
          },
          "metadata": {}
        },
        {
          "output_type": "stream",
          "name": "stderr",
          "text": [
            "/usr/local/lib/python3.11/dist-packages/bigframes/core/array_value.py:108: PreviewWarning: JSON column interpretation as a custom PyArrow extention in\n",
            "`db_dtypes` is a preview feature and subject to change.\n",
            "  warnings.warn(msg, bfe.PreviewWarning)\n"
          ]
        },
        {
          "output_type": "stream",
          "name": "stdout",
          "text": [
            "One cell completed with embeddings\n"
          ]
        },
        {
          "output_type": "display_data",
          "data": {
            "text/plain": [
              "<IPython.core.display.HTML object>"
            ],
            "text/html": [
              "Load job 6939d67e-bf10-48f7-bfae-d41326f6bfbc is DONE. <a target=\"_blank\" href=\"https://console.cloud.google.com/bigquery?project=financial-fraud-detection-1&j=bq:US:6939d67e-bf10-48f7-bfae-d41326f6bfbc&page=queryresults\">Open Job</a>"
            ]
          },
          "metadata": {}
        },
        {
          "output_type": "display_data",
          "data": {
            "text/plain": [
              "<IPython.core.display.HTML object>"
            ],
            "text/html": [
              "Query job 2d91e0c9-bfa4-4061-b975-fb47d893da0e is DONE. 21.1 kB processed. <a target=\"_blank\" href=\"https://console.cloud.google.com/bigquery?project=financial-fraud-detection-1&j=bq:US:2d91e0c9-bfa4-4061-b975-fb47d893da0e&page=queryresults\">Open Job</a>"
            ]
          },
          "metadata": {}
        },
        {
          "output_type": "stream",
          "name": "stderr",
          "text": [
            "/usr/local/lib/python3.11/dist-packages/bigframes/core/array_value.py:108: PreviewWarning: JSON column interpretation as a custom PyArrow extention in\n",
            "`db_dtypes` is a preview feature and subject to change.\n",
            "  warnings.warn(msg, bfe.PreviewWarning)\n"
          ]
        },
        {
          "output_type": "stream",
          "name": "stdout",
          "text": [
            "One cell completed with embeddings\n"
          ]
        },
        {
          "output_type": "display_data",
          "data": {
            "text/plain": [
              "<IPython.core.display.HTML object>"
            ],
            "text/html": [
              "Load job 4fbac957-febf-4d6d-b369-39ca8a37744c is DONE. <a target=\"_blank\" href=\"https://console.cloud.google.com/bigquery?project=financial-fraud-detection-1&j=bq:US:4fbac957-febf-4d6d-b369-39ca8a37744c&page=queryresults\">Open Job</a>"
            ]
          },
          "metadata": {}
        },
        {
          "output_type": "display_data",
          "data": {
            "text/plain": [
              "<IPython.core.display.HTML object>"
            ],
            "text/html": [
              "Query job bef320d2-cd28-4b81-9f37-af078dded504 is DONE. 45.0 kB processed. <a target=\"_blank\" href=\"https://console.cloud.google.com/bigquery?project=financial-fraud-detection-1&j=bq:US:bef320d2-cd28-4b81-9f37-af078dded504&page=queryresults\">Open Job</a>"
            ]
          },
          "metadata": {}
        },
        {
          "output_type": "stream",
          "name": "stderr",
          "text": [
            "/usr/local/lib/python3.11/dist-packages/bigframes/core/array_value.py:108: PreviewWarning: JSON column interpretation as a custom PyArrow extention in\n",
            "`db_dtypes` is a preview feature and subject to change.\n",
            "  warnings.warn(msg, bfe.PreviewWarning)\n"
          ]
        },
        {
          "output_type": "stream",
          "name": "stdout",
          "text": [
            "One cell completed with embeddings\n"
          ]
        },
        {
          "output_type": "display_data",
          "data": {
            "text/plain": [
              "<IPython.core.display.HTML object>"
            ],
            "text/html": [
              "Load job 676a3691-adbe-4f4d-a26f-0e4f6d69b3ad is DONE. <a target=\"_blank\" href=\"https://console.cloud.google.com/bigquery?project=financial-fraud-detection-1&j=bq:US:676a3691-adbe-4f4d-a26f-0e4f6d69b3ad&page=queryresults\">Open Job</a>"
            ]
          },
          "metadata": {}
        },
        {
          "output_type": "display_data",
          "data": {
            "text/plain": [
              "<IPython.core.display.HTML object>"
            ],
            "text/html": [
              "Query job 20ddf1d2-e855-49b4-b63a-d8dc69607f43 is DONE. 118.2 kB processed. <a target=\"_blank\" href=\"https://console.cloud.google.com/bigquery?project=financial-fraud-detection-1&j=bq:US:20ddf1d2-e855-49b4-b63a-d8dc69607f43&page=queryresults\">Open Job</a>"
            ]
          },
          "metadata": {}
        },
        {
          "output_type": "stream",
          "name": "stderr",
          "text": [
            "/usr/local/lib/python3.11/dist-packages/bigframes/core/array_value.py:108: PreviewWarning: JSON column interpretation as a custom PyArrow extention in\n",
            "`db_dtypes` is a preview feature and subject to change.\n",
            "  warnings.warn(msg, bfe.PreviewWarning)\n"
          ]
        },
        {
          "output_type": "stream",
          "name": "stdout",
          "text": [
            "One cell completed with embeddings\n"
          ]
        },
        {
          "output_type": "display_data",
          "data": {
            "text/plain": [
              "<IPython.core.display.HTML object>"
            ],
            "text/html": [
              "Load job 44527933-1e13-460e-895e-665da4924504 is DONE. <a target=\"_blank\" href=\"https://console.cloud.google.com/bigquery?project=financial-fraud-detection-1&j=bq:US:44527933-1e13-460e-895e-665da4924504&page=queryresults\">Open Job</a>"
            ]
          },
          "metadata": {}
        },
        {
          "output_type": "stream",
          "name": "stdout",
          "text": [
            "-----------------------------------------------------\n",
            " Column that is completedsection_1\n"
          ]
        }
      ]
    },
    {
      "cell_type": "code",
      "source": [
        "df_embedding"
      ],
      "metadata": {
        "colab": {
          "base_uri": "https://localhost:8080/",
          "height": 533
        },
        "id": "0YlH_UP8yi4A",
        "executionInfo": {
          "status": "ok",
          "timestamp": 1758553011829,
          "user_tz": -330,
          "elapsed": 15857,
          "user": {
            "displayName": "",
            "userId": ""
          }
        },
        "outputId": "40df8814-a009-481d-c585-fa2a701a1759"
      },
      "id": "0YlH_UP8yi4A",
      "execution_count": 20,
      "outputs": [
        {
          "output_type": "display_data",
          "data": {
            "text/plain": [
              "<IPython.core.display.HTML object>"
            ],
            "text/html": [
              "Query job 974f8f39-34dc-4c40-a1ee-74d0d0f96bbb is DONE. 616.2 kB processed. <a target=\"_blank\" href=\"https://console.cloud.google.com/bigquery?project=financial-fraud-detection-1&j=bq:US:974f8f39-34dc-4c40-a1ee-74d0d0f96bbb&page=queryresults\">Open Job</a>"
            ]
          },
          "metadata": {}
        },
        {
          "output_type": "execute_result",
          "data": {
            "text/plain": [
              "           filename      cik  year  \\\n",
              "0    50104_1993.txt    50104  1993   \n",
              "1   315189_1993.txt   315189  1993   \n",
              "2     1800_1993.txt     1800  1993   \n",
              "3  1137091_2020.htm  1137091  2020   \n",
              "4  1067983_2020.htm  1067983  2020   \n",
              "\n",
              "                                  section_7embedding  \\\n",
              "0  [-3.47243063e-02  1.94188505e-02 -8.92389864e-...   \n",
              "1  [-1.35571547e-02 -1.56442206e-02 -2.92028040e-...   \n",
              "2  [-0.01756296 -0.01733708 -0.01346771 -0.013578...   \n",
              "3  [-2.10153785e-02  2.59747695e-03 -3.92209039e-...   \n",
              "4  [-3.98591966e-04 -6.93545857e-03 -3.90583078e-...   \n",
              "\n",
              "                                  section_9embedding  \\\n",
              "0  [-1.55314188e-02 -2.45964527e-03 -3.88711654e-...   \n",
              "1  [-1.83812398e-02  1.81908242e-03 -2.49630474e-...   \n",
              "2  [-1.56782791e-02 -6.42858818e-03 -3.48928086e-...   \n",
              "3  [-4.25587595e-02 -2.09636036e-02 -6.31605536e-...   \n",
              "4  [-3.78713012e-02 -2.25618221e-02 -6.61137030e-...   \n",
              "\n",
              "                                 section_12embedding  \\\n",
              "0  [-3.79250757e-02 -4.47099060e-02 -3.67634818e-...   \n",
              "1  [-3.85654159e-02 -1.78559888e-02 -4.98842299e-...   \n",
              "2  [-4.16508093e-02 -2.62772869e-02 -3.11164446e-...   \n",
              "3  [-6.73391223e-02 -1.49382157e-02 -3.27744223e-...   \n",
              "4  [0. 0. 0. 0. 0. 0. 0. 0. 0. 0. 0. 0. 0. 0. 0. ...   \n",
              "\n",
              "                                 section_10embedding  \\\n",
              "0  [-4.57181484e-02 -5.33069260e-02 -1.22106224e-...   \n",
              "1  [-5.09253442e-02 -3.28539982e-02 -1.21700037e-...   \n",
              "2  [-6.22933321e-02 -4.06846032e-02 -2.88069844e-...   \n",
              "3  [-3.24487165e-02 -1.60200917e-03 -5.89513499e-...   \n",
              "4  [0. 0. 0. 0. 0. 0. 0. 0. 0. 0. 0. 0. 0. 0. 0. ...   \n",
              "\n",
              "                                  section_4embedding  \\\n",
              "0  [-0.05072239 -0.01314292 -0.03440231 -0.023048...   \n",
              "1  [-4.47579399e-02 -1.16266981e-02 -4.29858454e-...   \n",
              "2  [-0.01235421 -0.05187324 -0.01839188  0.048709...   \n",
              "3  [-3.31896767e-02  1.45743862e-02 -3.72849405e-...   \n",
              "4  [-0.0344297  -0.01074299 -0.04601453  0.000932...   \n",
              "\n",
              "                                  section_8embedding  \\\n",
              "0  [-3.04003223e-02  4.79081871e-03 -5.41995295e-...   \n",
              "1  [-9.26065768e-05 -5.11534102e-02 -4.29588519e-...   \n",
              "2  [-0.01758242 -0.04470409 -0.02377128 -0.002298...   \n",
              "3  [-1.28673098e-02 -8.76872710e-03 -2.86414517e-...   \n",
              "4  [-1.76449773e-02 -9.34779196e-03 -3.27466425e-...   \n",
              "\n",
              "                                 section_14embedding  ...  \\\n",
              "0  [ 3.38502717e-03 -5.04764915e-03 -5.59636764e-...  ...   \n",
              "1  [ 2.28945124e-02  5.21549085e-03 -1.74354800e-...  ...   \n",
              "2  [ 3.80702619e-03 -6.57393262e-02 -4.26834710e-...  ...   \n",
              "3  [-7.22742230e-02 -2.71525867e-02 -2.11981349e-...  ...   \n",
              "4  [0. 0. 0. 0. 0. 0. 0. 0. 0. 0. 0. 0. 0. 0. 0. ...  ...   \n",
              "\n",
              "                                  section_5embedding  \\\n",
              "0  [-6.61806986e-02 -2.95599401e-02 -3.89909521e-...   \n",
              "1  [-4.36332561e-02 -1.45736393e-02 -3.86644038e-...   \n",
              "2  [-3.55412625e-02 -8.17985367e-03 -4.37800437e-...   \n",
              "3  [-2.52595507e-02 -1.44289935e-03 -3.42903212e-...   \n",
              "4  [-4.91972780e-03 -3.33572589e-02 -7.20836744e-...   \n",
              "\n",
              "                                 section_13embedding  \\\n",
              "0  [-4.50329408e-02 -7.63122365e-02 -3.43960524e-...   \n",
              "1  [-5.07865660e-02 -4.80615199e-02 -3.68813202e-...   \n",
              "2  [-4.13229093e-02 -6.52043819e-02 -4.08298895e-...   \n",
              "3  [-0.05171408 -0.06189608 -0.03306692  0.002361...   \n",
              "4  [0. 0. 0. 0. 0. 0. 0. 0. 0. 0. 0. 0. 0. 0. 0. ...   \n",
              "\n",
              "                                 section_7Aembedding  \\\n",
              "0  [0. 0. 0. 0. 0. 0. 0. 0. 0. 0. 0. 0. 0. 0. 0. ...   \n",
              "1  [0. 0. 0. 0. 0. 0. 0. 0. 0. 0. 0. 0. 0. 0. 0. ...   \n",
              "2  [0. 0. 0. 0. 0. 0. 0. 0. 0. 0. 0. 0. 0. 0. 0. ...   \n",
              "3  [-4.44080308e-02  3.40547636e-02 -2.83501763e-...   \n",
              "4  [-0.01637064  0.00202351 -0.01476053  0.020416...   \n",
              "\n",
              "                                 section_1Bembedding  \\\n",
              "0  [0. 0. 0. 0. 0. 0. 0. 0. 0. 0. 0. 0. 0. 0. 0. ...   \n",
              "1  [0. 0. 0. 0. 0. 0. 0. 0. 0. 0. 0. 0. 0. 0. 0. ...   \n",
              "2  [0. 0. 0. 0. 0. 0. 0. 0. 0. 0. 0. 0. 0. 0. 0. ...   \n",
              "3  [-6.44871220e-02 -3.82172340e-03 -1.57967471e-...   \n",
              "4  [-6.06577247e-02 -2.77587841e-03 -2.35384256e-...   \n",
              "\n",
              "                                 section_9Bembedding  \\\n",
              "0  [0. 0. 0. 0. 0. 0. 0. 0. 0. 0. 0. 0. 0. 0. 0. ...   \n",
              "1  [0. 0. 0. 0. 0. 0. 0. 0. 0. 0. 0. 0. 0. 0. 0. ...   \n",
              "2  [0. 0. 0. 0. 0. 0. 0. 0. 0. 0. 0. 0. 0. 0. 0. ...   \n",
              "3  [-5.18303849e-02 -1.67017803e-02 -4.17982489e-...   \n",
              "4  [-7.21566752e-02 -4.83474918e-02 -2.69899201e-...   \n",
              "\n",
              "                                  section_2embedding  \\\n",
              "0  [-1.83147509e-02 -4.80058193e-02 -3.25606801e-...   \n",
              "1  [ 1.60061345e-02  2.85344739e-02  2.26290263e-...   \n",
              "2  [-1.38139455e-02 -9.38619545e-04 -1.91317741e-...   \n",
              "3  [-9.54162516e-03 -8.53198580e-03  7.73510430e-...   \n",
              "4  [ 1.24421781e-02  2.63887513e-02 -2.32555494e-...   \n",
              "\n",
              "                                  section_6embedding  \\\n",
              "0  [ 1.19868275e-02 -3.50940004e-02 -3.42585109e-...   \n",
              "1  [-1.48224207e-02 -4.50210385e-02 -6.59380779e-...   \n",
              "2  [-2.47520432e-02 -3.38479057e-02 -2.15717610e-...   \n",
              "3  [-0.02995299 -0.00425722 -0.03677021  0.041000...   \n",
              "4  [-0.00219737  0.01218096 -0.02921917  0.001000...   \n",
              "\n",
              "                                  section_3embedding  \\\n",
              "0  [-5.95068801e-02  2.10417886e-03 -2.92739635e-...   \n",
              "1  [-1.44546749e-02 -2.31604483e-02 -1.49410742e-...   \n",
              "2  [-0.05118279 -0.03660664 -0.03556744 -0.023323...   \n",
              "3  [-5.38757481e-02 -4.11248840e-02 -2.54752636e-...   \n",
              "4  [-2.25880761e-02 -3.23262699e-02 -4.97009158e-...   \n",
              "\n",
              "                                 section_9Aembedding  \\\n",
              "0  [0. 0. 0. 0. 0. 0. 0. 0. 0. 0. 0. 0. 0. 0. 0. ...   \n",
              "1  [0. 0. 0. 0. 0. 0. 0. 0. 0. 0. 0. 0. 0. 0. 0. ...   \n",
              "2  [0. 0. 0. 0. 0. 0. 0. 0. 0. 0. 0. 0. 0. 0. 0. ...   \n",
              "3  [-3.16515304e-02 -1.75493170e-02 -9.58232504e-...   \n",
              "4  [ 1.63675216e-03 -2.70394441e-02 -3.73632014e-...   \n",
              "\n",
              "                                  section_1embedding  \n",
              "0  [-0.03292404  0.00087296 -0.04182    -0.004596...  \n",
              "1  [ 2.29252045e-02  2.62432406e-03 -4.36920724e-...  \n",
              "2  [-8.46420446e-03 -1.74391275e-02 -3.04021587e-...  \n",
              "3  [-5.22894418e-03 -6.85504824e-03 -1.68921131e-...  \n",
              "4  [ 7.57767455e-03 -5.32740511e-03 -1.38319638e-...  \n",
              "\n",
              "[5 rows x 23 columns]"
            ],
            "text/html": [
              "<div>\n",
              "<style scoped>\n",
              "    .dataframe tbody tr th:only-of-type {\n",
              "        vertical-align: middle;\n",
              "    }\n",
              "\n",
              "    .dataframe tbody tr th {\n",
              "        vertical-align: top;\n",
              "    }\n",
              "\n",
              "    .dataframe thead th {\n",
              "        text-align: right;\n",
              "    }\n",
              "</style>\n",
              "<table border=\"1\" class=\"dataframe\">\n",
              "  <thead>\n",
              "    <tr style=\"text-align: right;\">\n",
              "      <th></th>\n",
              "      <th>filename</th>\n",
              "      <th>cik</th>\n",
              "      <th>year</th>\n",
              "      <th>section_7embedding</th>\n",
              "      <th>section_9embedding</th>\n",
              "      <th>section_12embedding</th>\n",
              "      <th>section_10embedding</th>\n",
              "      <th>section_4embedding</th>\n",
              "      <th>section_8embedding</th>\n",
              "      <th>section_14embedding</th>\n",
              "      <th>...</th>\n",
              "      <th>section_5embedding</th>\n",
              "      <th>section_13embedding</th>\n",
              "      <th>section_7Aembedding</th>\n",
              "      <th>section_1Bembedding</th>\n",
              "      <th>section_9Bembedding</th>\n",
              "      <th>section_2embedding</th>\n",
              "      <th>section_6embedding</th>\n",
              "      <th>section_3embedding</th>\n",
              "      <th>section_9Aembedding</th>\n",
              "      <th>section_1embedding</th>\n",
              "    </tr>\n",
              "  </thead>\n",
              "  <tbody>\n",
              "    <tr>\n",
              "      <th>0</th>\n",
              "      <td>50104_1993.txt</td>\n",
              "      <td>50104</td>\n",
              "      <td>1993</td>\n",
              "      <td>[-3.47243063e-02  1.94188505e-02 -8.92389864e-...</td>\n",
              "      <td>[-1.55314188e-02 -2.45964527e-03 -3.88711654e-...</td>\n",
              "      <td>[-3.79250757e-02 -4.47099060e-02 -3.67634818e-...</td>\n",
              "      <td>[-4.57181484e-02 -5.33069260e-02 -1.22106224e-...</td>\n",
              "      <td>[-0.05072239 -0.01314292 -0.03440231 -0.023048...</td>\n",
              "      <td>[-3.04003223e-02  4.79081871e-03 -5.41995295e-...</td>\n",
              "      <td>[ 3.38502717e-03 -5.04764915e-03 -5.59636764e-...</td>\n",
              "      <td>...</td>\n",
              "      <td>[-6.61806986e-02 -2.95599401e-02 -3.89909521e-...</td>\n",
              "      <td>[-4.50329408e-02 -7.63122365e-02 -3.43960524e-...</td>\n",
              "      <td>[0. 0. 0. 0. 0. 0. 0. 0. 0. 0. 0. 0. 0. 0. 0. ...</td>\n",
              "      <td>[0. 0. 0. 0. 0. 0. 0. 0. 0. 0. 0. 0. 0. 0. 0. ...</td>\n",
              "      <td>[0. 0. 0. 0. 0. 0. 0. 0. 0. 0. 0. 0. 0. 0. 0. ...</td>\n",
              "      <td>[-1.83147509e-02 -4.80058193e-02 -3.25606801e-...</td>\n",
              "      <td>[ 1.19868275e-02 -3.50940004e-02 -3.42585109e-...</td>\n",
              "      <td>[-5.95068801e-02  2.10417886e-03 -2.92739635e-...</td>\n",
              "      <td>[0. 0. 0. 0. 0. 0. 0. 0. 0. 0. 0. 0. 0. 0. 0. ...</td>\n",
              "      <td>[-0.03292404  0.00087296 -0.04182    -0.004596...</td>\n",
              "    </tr>\n",
              "    <tr>\n",
              "      <th>1</th>\n",
              "      <td>315189_1993.txt</td>\n",
              "      <td>315189</td>\n",
              "      <td>1993</td>\n",
              "      <td>[-1.35571547e-02 -1.56442206e-02 -2.92028040e-...</td>\n",
              "      <td>[-1.83812398e-02  1.81908242e-03 -2.49630474e-...</td>\n",
              "      <td>[-3.85654159e-02 -1.78559888e-02 -4.98842299e-...</td>\n",
              "      <td>[-5.09253442e-02 -3.28539982e-02 -1.21700037e-...</td>\n",
              "      <td>[-4.47579399e-02 -1.16266981e-02 -4.29858454e-...</td>\n",
              "      <td>[-9.26065768e-05 -5.11534102e-02 -4.29588519e-...</td>\n",
              "      <td>[ 2.28945124e-02  5.21549085e-03 -1.74354800e-...</td>\n",
              "      <td>...</td>\n",
              "      <td>[-4.36332561e-02 -1.45736393e-02 -3.86644038e-...</td>\n",
              "      <td>[-5.07865660e-02 -4.80615199e-02 -3.68813202e-...</td>\n",
              "      <td>[0. 0. 0. 0. 0. 0. 0. 0. 0. 0. 0. 0. 0. 0. 0. ...</td>\n",
              "      <td>[0. 0. 0. 0. 0. 0. 0. 0. 0. 0. 0. 0. 0. 0. 0. ...</td>\n",
              "      <td>[0. 0. 0. 0. 0. 0. 0. 0. 0. 0. 0. 0. 0. 0. 0. ...</td>\n",
              "      <td>[ 1.60061345e-02  2.85344739e-02  2.26290263e-...</td>\n",
              "      <td>[-1.48224207e-02 -4.50210385e-02 -6.59380779e-...</td>\n",
              "      <td>[-1.44546749e-02 -2.31604483e-02 -1.49410742e-...</td>\n",
              "      <td>[0. 0. 0. 0. 0. 0. 0. 0. 0. 0. 0. 0. 0. 0. 0. ...</td>\n",
              "      <td>[ 2.29252045e-02  2.62432406e-03 -4.36920724e-...</td>\n",
              "    </tr>\n",
              "    <tr>\n",
              "      <th>2</th>\n",
              "      <td>1800_1993.txt</td>\n",
              "      <td>1800</td>\n",
              "      <td>1993</td>\n",
              "      <td>[-0.01756296 -0.01733708 -0.01346771 -0.013578...</td>\n",
              "      <td>[-1.56782791e-02 -6.42858818e-03 -3.48928086e-...</td>\n",
              "      <td>[-4.16508093e-02 -2.62772869e-02 -3.11164446e-...</td>\n",
              "      <td>[-6.22933321e-02 -4.06846032e-02 -2.88069844e-...</td>\n",
              "      <td>[-0.01235421 -0.05187324 -0.01839188  0.048709...</td>\n",
              "      <td>[-0.01758242 -0.04470409 -0.02377128 -0.002298...</td>\n",
              "      <td>[ 3.80702619e-03 -6.57393262e-02 -4.26834710e-...</td>\n",
              "      <td>...</td>\n",
              "      <td>[-3.55412625e-02 -8.17985367e-03 -4.37800437e-...</td>\n",
              "      <td>[-4.13229093e-02 -6.52043819e-02 -4.08298895e-...</td>\n",
              "      <td>[0. 0. 0. 0. 0. 0. 0. 0. 0. 0. 0. 0. 0. 0. 0. ...</td>\n",
              "      <td>[0. 0. 0. 0. 0. 0. 0. 0. 0. 0. 0. 0. 0. 0. 0. ...</td>\n",
              "      <td>[0. 0. 0. 0. 0. 0. 0. 0. 0. 0. 0. 0. 0. 0. 0. ...</td>\n",
              "      <td>[-1.38139455e-02 -9.38619545e-04 -1.91317741e-...</td>\n",
              "      <td>[-2.47520432e-02 -3.38479057e-02 -2.15717610e-...</td>\n",
              "      <td>[-0.05118279 -0.03660664 -0.03556744 -0.023323...</td>\n",
              "      <td>[0. 0. 0. 0. 0. 0. 0. 0. 0. 0. 0. 0. 0. 0. 0. ...</td>\n",
              "      <td>[-8.46420446e-03 -1.74391275e-02 -3.04021587e-...</td>\n",
              "    </tr>\n",
              "    <tr>\n",
              "      <th>3</th>\n",
              "      <td>1137091_2020.htm</td>\n",
              "      <td>1137091</td>\n",
              "      <td>2020</td>\n",
              "      <td>[-2.10153785e-02  2.59747695e-03 -3.92209039e-...</td>\n",
              "      <td>[-4.25587595e-02 -2.09636036e-02 -6.31605536e-...</td>\n",
              "      <td>[-6.73391223e-02 -1.49382157e-02 -3.27744223e-...</td>\n",
              "      <td>[-3.24487165e-02 -1.60200917e-03 -5.89513499e-...</td>\n",
              "      <td>[-3.31896767e-02  1.45743862e-02 -3.72849405e-...</td>\n",
              "      <td>[-1.28673098e-02 -8.76872710e-03 -2.86414517e-...</td>\n",
              "      <td>[-7.22742230e-02 -2.71525867e-02 -2.11981349e-...</td>\n",
              "      <td>...</td>\n",
              "      <td>[-2.52595507e-02 -1.44289935e-03 -3.42903212e-...</td>\n",
              "      <td>[-0.05171408 -0.06189608 -0.03306692  0.002361...</td>\n",
              "      <td>[-4.44080308e-02  3.40547636e-02 -2.83501763e-...</td>\n",
              "      <td>[-6.44871220e-02 -3.82172340e-03 -1.57967471e-...</td>\n",
              "      <td>[-5.18303849e-02 -1.67017803e-02 -4.17982489e-...</td>\n",
              "      <td>[-9.54162516e-03 -8.53198580e-03  7.73510430e-...</td>\n",
              "      <td>[-0.02995299 -0.00425722 -0.03677021  0.041000...</td>\n",
              "      <td>[-5.38757481e-02 -4.11248840e-02 -2.54752636e-...</td>\n",
              "      <td>[-3.16515304e-02 -1.75493170e-02 -9.58232504e-...</td>\n",
              "      <td>[-5.22894418e-03 -6.85504824e-03 -1.68921131e-...</td>\n",
              "    </tr>\n",
              "    <tr>\n",
              "      <th>4</th>\n",
              "      <td>1067983_2020.htm</td>\n",
              "      <td>1067983</td>\n",
              "      <td>2020</td>\n",
              "      <td>[-3.98591966e-04 -6.93545857e-03 -3.90583078e-...</td>\n",
              "      <td>[-3.78713012e-02 -2.25618221e-02 -6.61137030e-...</td>\n",
              "      <td>[0. 0. 0. 0. 0. 0. 0. 0. 0. 0. 0. 0. 0. 0. 0. ...</td>\n",
              "      <td>[0. 0. 0. 0. 0. 0. 0. 0. 0. 0. 0. 0. 0. 0. 0. ...</td>\n",
              "      <td>[-0.0344297  -0.01074299 -0.04601453  0.000932...</td>\n",
              "      <td>[-1.76449773e-02 -9.34779196e-03 -3.27466425e-...</td>\n",
              "      <td>[0. 0. 0. 0. 0. 0. 0. 0. 0. 0. 0. 0. 0. 0. 0. ...</td>\n",
              "      <td>...</td>\n",
              "      <td>[-4.91972780e-03 -3.33572589e-02 -7.20836744e-...</td>\n",
              "      <td>[0. 0. 0. 0. 0. 0. 0. 0. 0. 0. 0. 0. 0. 0. 0. ...</td>\n",
              "      <td>[-0.01637064  0.00202351 -0.01476053  0.020416...</td>\n",
              "      <td>[-6.06577247e-02 -2.77587841e-03 -2.35384256e-...</td>\n",
              "      <td>[-7.21566752e-02 -4.83474918e-02 -2.69899201e-...</td>\n",
              "      <td>[ 1.24421781e-02  2.63887513e-02 -2.32555494e-...</td>\n",
              "      <td>[-0.00219737  0.01218096 -0.02921917  0.001000...</td>\n",
              "      <td>[-2.25880761e-02 -3.23262699e-02 -4.97009158e-...</td>\n",
              "      <td>[ 1.63675216e-03 -2.70394441e-02 -3.73632014e-...</td>\n",
              "      <td>[ 7.57767455e-03 -5.32740511e-03 -1.38319638e-...</td>\n",
              "    </tr>\n",
              "  </tbody>\n",
              "</table>\n",
              "<p>5 rows × 23 columns</p>\n",
              "</div>[5 rows x 23 columns in total]"
            ]
          },
          "metadata": {},
          "execution_count": 20
        }
      ]
    },
    {
      "cell_type": "code",
      "source": [
        "df_embedding.info()"
      ],
      "metadata": {
        "colab": {
          "base_uri": "https://localhost:8080/"
        },
        "id": "B38rH5v_ytaW",
        "executionInfo": {
          "status": "ok",
          "timestamp": 1758553084245,
          "user_tz": -330,
          "elapsed": 1819,
          "user": {
            "displayName": "",
            "userId": ""
          }
        },
        "outputId": "1a643c03-ffdd-4726-f159-26edbde891ed"
      },
      "id": "B38rH5v_ytaW",
      "execution_count": 21,
      "outputs": [
        {
          "output_type": "stream",
          "name": "stdout",
          "text": [
            "<class 'bigframes.dataframe.DataFrame'>\n",
            "Index: 5 entries, 0 to 4\n",
            "Data columns (total 23 columns):\n",
            "  #  Column               Non-Null Count    Dtype\n",
            "---  -------------------  ----------------  ---------------------------\n",
            "  0  filename             5 non-null        string\n",
            "  1  cik                  5 non-null        Int64\n",
            "  2  year                 5 non-null        Int64\n",
            "  3  section_7embedding   5 non-null        list<item: double>[pyarrow]\n",
            "  4  section_9embedding   5 non-null        list<item: double>[pyarrow]\n",
            "  5  section_12embedding  5 non-null        list<item: double>[pyarrow]\n",
            "  6  section_10embedding  5 non-null        list<item: double>[pyarrow]\n",
            "  7  section_4embedding   5 non-null        list<item: double>[pyarrow]\n",
            "  8  section_8embedding   5 non-null        list<item: double>[pyarrow]\n",
            "  9  section_14embedding  5 non-null        list<item: double>[pyarrow]\n",
            " 10  section_1Aembedding  5 non-null        list<item: double>[pyarrow]\n",
            " 11  section_11embedding  5 non-null        list<item: double>[pyarrow]\n",
            " 12  section_15embedding  5 non-null        list<item: double>[pyarrow]\n",
            " 13  section_5embedding   5 non-null        list<item: double>[pyarrow]\n",
            " 14  section_13embedding  5 non-null        list<item: double>[pyarrow]\n",
            " 15  section_7Aembedding  5 non-null        list<item: double>[pyarrow]\n",
            " 16  section_1Bembedding  5 non-null        list<item: double>[pyarrow]\n",
            " 17  section_9Bembedding  5 non-null        list<item: double>[pyarrow]\n",
            " 18  section_2embedding   5 non-null        list<item: double>[pyarrow]\n",
            " 19  section_6embedding   5 non-null        list<item: double>[pyarrow]\n",
            " 20  section_3embedding   5 non-null        list<item: double>[pyarrow]\n",
            " 21  section_9Aembedding  5 non-null        list<item: double>[pyarrow]\n",
            " 22  section_1embedding   5 non-null        list<item: double>[pyarrow]\n",
            "dtypes: Int64(2), list<item: double>[pyarrow](20), string(1)\n",
            "memory usage: 960 bytes\n"
          ]
        }
      ]
    },
    {
      "cell_type": "code",
      "source": [
        "df_embedding.to_pandas().iloc[:, 3:]"
      ],
      "metadata": {
        "colab": {
          "base_uri": "https://localhost:8080/",
          "height": 469
        },
        "id": "Gcrk4gqG7oGx",
        "executionInfo": {
          "status": "ok",
          "timestamp": 1758553312761,
          "user_tz": -330,
          "elapsed": 23801,
          "user": {
            "displayName": "",
            "userId": ""
          }
        },
        "outputId": "6f88a78b-6f96-4922-8673-9c95538e00a0"
      },
      "id": "Gcrk4gqG7oGx",
      "execution_count": 27,
      "outputs": [
        {
          "output_type": "execute_result",
          "data": {
            "text/plain": [
              "                                  section_7embedding  \\\n",
              "0  [-3.47243063e-02  1.94188505e-02 -8.92389864e-...   \n",
              "1  [-1.35571547e-02 -1.56442206e-02 -2.92028040e-...   \n",
              "2  [-0.01756296 -0.01733708 -0.01346771 -0.013578...   \n",
              "3  [-2.10153785e-02  2.59747695e-03 -3.92209039e-...   \n",
              "4  [-3.98591966e-04 -6.93545857e-03 -3.90583078e-...   \n",
              "\n",
              "                                  section_9embedding  \\\n",
              "0  [-1.55314188e-02 -2.45964527e-03 -3.88711654e-...   \n",
              "1  [-1.83812398e-02  1.81908242e-03 -2.49630474e-...   \n",
              "2  [-1.56782791e-02 -6.42858818e-03 -3.48928086e-...   \n",
              "3  [-4.25587595e-02 -2.09636036e-02 -6.31605536e-...   \n",
              "4  [-3.78713012e-02 -2.25618221e-02 -6.61137030e-...   \n",
              "\n",
              "                                 section_12embedding  \\\n",
              "0  [-3.79250757e-02 -4.47099060e-02 -3.67634818e-...   \n",
              "1  [-3.85654159e-02 -1.78559888e-02 -4.98842299e-...   \n",
              "2  [-4.16508093e-02 -2.62772869e-02 -3.11164446e-...   \n",
              "3  [-6.73391223e-02 -1.49382157e-02 -3.27744223e-...   \n",
              "4  [0. 0. 0. 0. 0. 0. 0. 0. 0. 0. 0. 0. 0. 0. 0. ...   \n",
              "\n",
              "                                 section_10embedding  \\\n",
              "0  [-4.57181484e-02 -5.33069260e-02 -1.22106224e-...   \n",
              "1  [-5.09253442e-02 -3.28539982e-02 -1.21700037e-...   \n",
              "2  [-6.22933321e-02 -4.06846032e-02 -2.88069844e-...   \n",
              "3  [-3.24487165e-02 -1.60200917e-03 -5.89513499e-...   \n",
              "4  [0. 0. 0. 0. 0. 0. 0. 0. 0. 0. 0. 0. 0. 0. 0. ...   \n",
              "\n",
              "                                  section_4embedding  \\\n",
              "0  [-0.05072239 -0.01314292 -0.03440231 -0.023048...   \n",
              "1  [-4.47579399e-02 -1.16266981e-02 -4.29858454e-...   \n",
              "2  [-0.01235421 -0.05187324 -0.01839188  0.048709...   \n",
              "3  [-3.31896767e-02  1.45743862e-02 -3.72849405e-...   \n",
              "4  [-0.0344297  -0.01074299 -0.04601453  0.000932...   \n",
              "\n",
              "                                  section_8embedding  \\\n",
              "0  [-3.04003223e-02  4.79081871e-03 -5.41995295e-...   \n",
              "1  [-9.26065768e-05 -5.11534102e-02 -4.29588519e-...   \n",
              "2  [-0.01758242 -0.04470409 -0.02377128 -0.002298...   \n",
              "3  [-1.28673098e-02 -8.76872710e-03 -2.86414517e-...   \n",
              "4  [-1.76449773e-02 -9.34779196e-03 -3.27466425e-...   \n",
              "\n",
              "                                 section_14embedding  \\\n",
              "0  [ 3.38502717e-03 -5.04764915e-03 -5.59636764e-...   \n",
              "1  [ 2.28945124e-02  5.21549085e-03 -1.74354800e-...   \n",
              "2  [ 3.80702619e-03 -6.57393262e-02 -4.26834710e-...   \n",
              "3  [-7.22742230e-02 -2.71525867e-02 -2.11981349e-...   \n",
              "4  [0. 0. 0. 0. 0. 0. 0. 0. 0. 0. 0. 0. 0. 0. 0. ...   \n",
              "\n",
              "                                 section_1Aembedding  \\\n",
              "0  [0. 0. 0. 0. 0. 0. 0. 0. 0. 0. 0. 0. 0. 0. 0. ...   \n",
              "1  [0. 0. 0. 0. 0. 0. 0. 0. 0. 0. 0. 0. 0. 0. 0. ...   \n",
              "2  [0. 0. 0. 0. 0. 0. 0. 0. 0. 0. 0. 0. 0. 0. 0. ...   \n",
              "3  [-2.56591383e-02  4.31199711e-03 -2.39572942e-...   \n",
              "4  [-3.21148975e-02  1.48406814e-02 -1.78575261e-...   \n",
              "\n",
              "                                 section_11embedding  \\\n",
              "0  [-4.79705371e-02 -6.59401938e-02 -2.51594633e-...   \n",
              "1  [-7.09736049e-02 -2.02373546e-02 -4.63324003e-...   \n",
              "2  [-6.68694451e-02 -4.11794297e-02 -2.24579200e-...   \n",
              "3  [-6.45152405e-02 -2.94506457e-02 -1.84390489e-...   \n",
              "4  [0. 0. 0. 0. 0. 0. 0. 0. 0. 0. 0. 0. 0. 0. 0. ...   \n",
              "\n",
              "                                 section_15embedding  \\\n",
              "0  [0. 0. 0. 0. 0. 0. 0. 0. 0. 0. 0. 0. 0. 0. 0. ...   \n",
              "1  [0. 0. 0. 0. 0. 0. 0. 0. 0. 0. 0. 0. 0. 0. 0. ...   \n",
              "2  [0. 0. 0. 0. 0. 0. 0. 0. 0. 0. 0. 0. 0. 0. 0. ...   \n",
              "3  [-5.07084047e-03 -2.76713558e-02 -2.69693565e-...   \n",
              "4  [ 8.35774001e-04 -1.55258252e-02 -5.76969292e-...   \n",
              "\n",
              "                                  section_5embedding  \\\n",
              "0  [-6.61806986e-02 -2.95599401e-02 -3.89909521e-...   \n",
              "1  [-4.36332561e-02 -1.45736393e-02 -3.86644038e-...   \n",
              "2  [-3.55412625e-02 -8.17985367e-03 -4.37800437e-...   \n",
              "3  [-2.52595507e-02 -1.44289935e-03 -3.42903212e-...   \n",
              "4  [-4.91972780e-03 -3.33572589e-02 -7.20836744e-...   \n",
              "\n",
              "                                 section_13embedding  \\\n",
              "0  [-4.50329408e-02 -7.63122365e-02 -3.43960524e-...   \n",
              "1  [-5.07865660e-02 -4.80615199e-02 -3.68813202e-...   \n",
              "2  [-4.13229093e-02 -6.52043819e-02 -4.08298895e-...   \n",
              "3  [-0.05171408 -0.06189608 -0.03306692  0.002361...   \n",
              "4  [0. 0. 0. 0. 0. 0. 0. 0. 0. 0. 0. 0. 0. 0. 0. ...   \n",
              "\n",
              "                                 section_7Aembedding  \\\n",
              "0  [0. 0. 0. 0. 0. 0. 0. 0. 0. 0. 0. 0. 0. 0. 0. ...   \n",
              "1  [0. 0. 0. 0. 0. 0. 0. 0. 0. 0. 0. 0. 0. 0. 0. ...   \n",
              "2  [0. 0. 0. 0. 0. 0. 0. 0. 0. 0. 0. 0. 0. 0. 0. ...   \n",
              "3  [-4.44080308e-02  3.40547636e-02 -2.83501763e-...   \n",
              "4  [-0.01637064  0.00202351 -0.01476053  0.020416...   \n",
              "\n",
              "                                 section_1Bembedding  \\\n",
              "0  [0. 0. 0. 0. 0. 0. 0. 0. 0. 0. 0. 0. 0. 0. 0. ...   \n",
              "1  [0. 0. 0. 0. 0. 0. 0. 0. 0. 0. 0. 0. 0. 0. 0. ...   \n",
              "2  [0. 0. 0. 0. 0. 0. 0. 0. 0. 0. 0. 0. 0. 0. 0. ...   \n",
              "3  [-6.44871220e-02 -3.82172340e-03 -1.57967471e-...   \n",
              "4  [-6.06577247e-02 -2.77587841e-03 -2.35384256e-...   \n",
              "\n",
              "                                 section_9Bembedding  \\\n",
              "0  [0. 0. 0. 0. 0. 0. 0. 0. 0. 0. 0. 0. 0. 0. 0. ...   \n",
              "1  [0. 0. 0. 0. 0. 0. 0. 0. 0. 0. 0. 0. 0. 0. 0. ...   \n",
              "2  [0. 0. 0. 0. 0. 0. 0. 0. 0. 0. 0. 0. 0. 0. 0. ...   \n",
              "3  [-5.18303849e-02 -1.67017803e-02 -4.17982489e-...   \n",
              "4  [-7.21566752e-02 -4.83474918e-02 -2.69899201e-...   \n",
              "\n",
              "                                  section_2embedding  \\\n",
              "0  [-1.83147509e-02 -4.80058193e-02 -3.25606801e-...   \n",
              "1  [ 1.60061345e-02  2.85344739e-02  2.26290263e-...   \n",
              "2  [-1.38139455e-02 -9.38619545e-04 -1.91317741e-...   \n",
              "3  [-9.54162516e-03 -8.53198580e-03  7.73510430e-...   \n",
              "4  [ 1.24421781e-02  2.63887513e-02 -2.32555494e-...   \n",
              "\n",
              "                                  section_6embedding  \\\n",
              "0  [ 1.19868275e-02 -3.50940004e-02 -3.42585109e-...   \n",
              "1  [-1.48224207e-02 -4.50210385e-02 -6.59380779e-...   \n",
              "2  [-2.47520432e-02 -3.38479057e-02 -2.15717610e-...   \n",
              "3  [-0.02995299 -0.00425722 -0.03677021  0.041000...   \n",
              "4  [-0.00219737  0.01218096 -0.02921917  0.001000...   \n",
              "\n",
              "                                  section_3embedding  \\\n",
              "0  [-5.95068801e-02  2.10417886e-03 -2.92739635e-...   \n",
              "1  [-1.44546749e-02 -2.31604483e-02 -1.49410742e-...   \n",
              "2  [-0.05118279 -0.03660664 -0.03556744 -0.023323...   \n",
              "3  [-5.38757481e-02 -4.11248840e-02 -2.54752636e-...   \n",
              "4  [-2.25880761e-02 -3.23262699e-02 -4.97009158e-...   \n",
              "\n",
              "                                 section_9Aembedding  \\\n",
              "0  [0. 0. 0. 0. 0. 0. 0. 0. 0. 0. 0. 0. 0. 0. 0. ...   \n",
              "1  [0. 0. 0. 0. 0. 0. 0. 0. 0. 0. 0. 0. 0. 0. 0. ...   \n",
              "2  [0. 0. 0. 0. 0. 0. 0. 0. 0. 0. 0. 0. 0. 0. 0. ...   \n",
              "3  [-3.16515304e-02 -1.75493170e-02 -9.58232504e-...   \n",
              "4  [ 1.63675216e-03 -2.70394441e-02 -3.73632014e-...   \n",
              "\n",
              "                                  section_1embedding  \n",
              "0  [-0.03292404  0.00087296 -0.04182    -0.004596...  \n",
              "1  [ 2.29252045e-02  2.62432406e-03 -4.36920724e-...  \n",
              "2  [-8.46420446e-03 -1.74391275e-02 -3.04021587e-...  \n",
              "3  [-5.22894418e-03 -6.85504824e-03 -1.68921131e-...  \n",
              "4  [ 7.57767455e-03 -5.32740511e-03 -1.38319638e-...  "
            ],
            "text/html": [
              "\n",
              "  <div id=\"df-83406313-c5e9-4d25-9a06-b41b1af2d3e2\" class=\"colab-df-container\">\n",
              "    <div>\n",
              "<style scoped>\n",
              "    .dataframe tbody tr th:only-of-type {\n",
              "        vertical-align: middle;\n",
              "    }\n",
              "\n",
              "    .dataframe tbody tr th {\n",
              "        vertical-align: top;\n",
              "    }\n",
              "\n",
              "    .dataframe thead th {\n",
              "        text-align: right;\n",
              "    }\n",
              "</style>\n",
              "<table border=\"1\" class=\"dataframe\">\n",
              "  <thead>\n",
              "    <tr style=\"text-align: right;\">\n",
              "      <th></th>\n",
              "      <th>section_7embedding</th>\n",
              "      <th>section_9embedding</th>\n",
              "      <th>section_12embedding</th>\n",
              "      <th>section_10embedding</th>\n",
              "      <th>section_4embedding</th>\n",
              "      <th>section_8embedding</th>\n",
              "      <th>section_14embedding</th>\n",
              "      <th>section_1Aembedding</th>\n",
              "      <th>section_11embedding</th>\n",
              "      <th>section_15embedding</th>\n",
              "      <th>section_5embedding</th>\n",
              "      <th>section_13embedding</th>\n",
              "      <th>section_7Aembedding</th>\n",
              "      <th>section_1Bembedding</th>\n",
              "      <th>section_9Bembedding</th>\n",
              "      <th>section_2embedding</th>\n",
              "      <th>section_6embedding</th>\n",
              "      <th>section_3embedding</th>\n",
              "      <th>section_9Aembedding</th>\n",
              "      <th>section_1embedding</th>\n",
              "    </tr>\n",
              "  </thead>\n",
              "  <tbody>\n",
              "    <tr>\n",
              "      <th>0</th>\n",
              "      <td>[-3.47243063e-02  1.94188505e-02 -8.92389864e-...</td>\n",
              "      <td>[-1.55314188e-02 -2.45964527e-03 -3.88711654e-...</td>\n",
              "      <td>[-3.79250757e-02 -4.47099060e-02 -3.67634818e-...</td>\n",
              "      <td>[-4.57181484e-02 -5.33069260e-02 -1.22106224e-...</td>\n",
              "      <td>[-0.05072239 -0.01314292 -0.03440231 -0.023048...</td>\n",
              "      <td>[-3.04003223e-02  4.79081871e-03 -5.41995295e-...</td>\n",
              "      <td>[ 3.38502717e-03 -5.04764915e-03 -5.59636764e-...</td>\n",
              "      <td>[0. 0. 0. 0. 0. 0. 0. 0. 0. 0. 0. 0. 0. 0. 0. ...</td>\n",
              "      <td>[-4.79705371e-02 -6.59401938e-02 -2.51594633e-...</td>\n",
              "      <td>[0. 0. 0. 0. 0. 0. 0. 0. 0. 0. 0. 0. 0. 0. 0. ...</td>\n",
              "      <td>[-6.61806986e-02 -2.95599401e-02 -3.89909521e-...</td>\n",
              "      <td>[-4.50329408e-02 -7.63122365e-02 -3.43960524e-...</td>\n",
              "      <td>[0. 0. 0. 0. 0. 0. 0. 0. 0. 0. 0. 0. 0. 0. 0. ...</td>\n",
              "      <td>[0. 0. 0. 0. 0. 0. 0. 0. 0. 0. 0. 0. 0. 0. 0. ...</td>\n",
              "      <td>[0. 0. 0. 0. 0. 0. 0. 0. 0. 0. 0. 0. 0. 0. 0. ...</td>\n",
              "      <td>[-1.83147509e-02 -4.80058193e-02 -3.25606801e-...</td>\n",
              "      <td>[ 1.19868275e-02 -3.50940004e-02 -3.42585109e-...</td>\n",
              "      <td>[-5.95068801e-02  2.10417886e-03 -2.92739635e-...</td>\n",
              "      <td>[0. 0. 0. 0. 0. 0. 0. 0. 0. 0. 0. 0. 0. 0. 0. ...</td>\n",
              "      <td>[-0.03292404  0.00087296 -0.04182    -0.004596...</td>\n",
              "    </tr>\n",
              "    <tr>\n",
              "      <th>1</th>\n",
              "      <td>[-1.35571547e-02 -1.56442206e-02 -2.92028040e-...</td>\n",
              "      <td>[-1.83812398e-02  1.81908242e-03 -2.49630474e-...</td>\n",
              "      <td>[-3.85654159e-02 -1.78559888e-02 -4.98842299e-...</td>\n",
              "      <td>[-5.09253442e-02 -3.28539982e-02 -1.21700037e-...</td>\n",
              "      <td>[-4.47579399e-02 -1.16266981e-02 -4.29858454e-...</td>\n",
              "      <td>[-9.26065768e-05 -5.11534102e-02 -4.29588519e-...</td>\n",
              "      <td>[ 2.28945124e-02  5.21549085e-03 -1.74354800e-...</td>\n",
              "      <td>[0. 0. 0. 0. 0. 0. 0. 0. 0. 0. 0. 0. 0. 0. 0. ...</td>\n",
              "      <td>[-7.09736049e-02 -2.02373546e-02 -4.63324003e-...</td>\n",
              "      <td>[0. 0. 0. 0. 0. 0. 0. 0. 0. 0. 0. 0. 0. 0. 0. ...</td>\n",
              "      <td>[-4.36332561e-02 -1.45736393e-02 -3.86644038e-...</td>\n",
              "      <td>[-5.07865660e-02 -4.80615199e-02 -3.68813202e-...</td>\n",
              "      <td>[0. 0. 0. 0. 0. 0. 0. 0. 0. 0. 0. 0. 0. 0. 0. ...</td>\n",
              "      <td>[0. 0. 0. 0. 0. 0. 0. 0. 0. 0. 0. 0. 0. 0. 0. ...</td>\n",
              "      <td>[0. 0. 0. 0. 0. 0. 0. 0. 0. 0. 0. 0. 0. 0. 0. ...</td>\n",
              "      <td>[ 1.60061345e-02  2.85344739e-02  2.26290263e-...</td>\n",
              "      <td>[-1.48224207e-02 -4.50210385e-02 -6.59380779e-...</td>\n",
              "      <td>[-1.44546749e-02 -2.31604483e-02 -1.49410742e-...</td>\n",
              "      <td>[0. 0. 0. 0. 0. 0. 0. 0. 0. 0. 0. 0. 0. 0. 0. ...</td>\n",
              "      <td>[ 2.29252045e-02  2.62432406e-03 -4.36920724e-...</td>\n",
              "    </tr>\n",
              "    <tr>\n",
              "      <th>2</th>\n",
              "      <td>[-0.01756296 -0.01733708 -0.01346771 -0.013578...</td>\n",
              "      <td>[-1.56782791e-02 -6.42858818e-03 -3.48928086e-...</td>\n",
              "      <td>[-4.16508093e-02 -2.62772869e-02 -3.11164446e-...</td>\n",
              "      <td>[-6.22933321e-02 -4.06846032e-02 -2.88069844e-...</td>\n",
              "      <td>[-0.01235421 -0.05187324 -0.01839188  0.048709...</td>\n",
              "      <td>[-0.01758242 -0.04470409 -0.02377128 -0.002298...</td>\n",
              "      <td>[ 3.80702619e-03 -6.57393262e-02 -4.26834710e-...</td>\n",
              "      <td>[0. 0. 0. 0. 0. 0. 0. 0. 0. 0. 0. 0. 0. 0. 0. ...</td>\n",
              "      <td>[-6.68694451e-02 -4.11794297e-02 -2.24579200e-...</td>\n",
              "      <td>[0. 0. 0. 0. 0. 0. 0. 0. 0. 0. 0. 0. 0. 0. 0. ...</td>\n",
              "      <td>[-3.55412625e-02 -8.17985367e-03 -4.37800437e-...</td>\n",
              "      <td>[-4.13229093e-02 -6.52043819e-02 -4.08298895e-...</td>\n",
              "      <td>[0. 0. 0. 0. 0. 0. 0. 0. 0. 0. 0. 0. 0. 0. 0. ...</td>\n",
              "      <td>[0. 0. 0. 0. 0. 0. 0. 0. 0. 0. 0. 0. 0. 0. 0. ...</td>\n",
              "      <td>[0. 0. 0. 0. 0. 0. 0. 0. 0. 0. 0. 0. 0. 0. 0. ...</td>\n",
              "      <td>[-1.38139455e-02 -9.38619545e-04 -1.91317741e-...</td>\n",
              "      <td>[-2.47520432e-02 -3.38479057e-02 -2.15717610e-...</td>\n",
              "      <td>[-0.05118279 -0.03660664 -0.03556744 -0.023323...</td>\n",
              "      <td>[0. 0. 0. 0. 0. 0. 0. 0. 0. 0. 0. 0. 0. 0. 0. ...</td>\n",
              "      <td>[-8.46420446e-03 -1.74391275e-02 -3.04021587e-...</td>\n",
              "    </tr>\n",
              "    <tr>\n",
              "      <th>3</th>\n",
              "      <td>[-2.10153785e-02  2.59747695e-03 -3.92209039e-...</td>\n",
              "      <td>[-4.25587595e-02 -2.09636036e-02 -6.31605536e-...</td>\n",
              "      <td>[-6.73391223e-02 -1.49382157e-02 -3.27744223e-...</td>\n",
              "      <td>[-3.24487165e-02 -1.60200917e-03 -5.89513499e-...</td>\n",
              "      <td>[-3.31896767e-02  1.45743862e-02 -3.72849405e-...</td>\n",
              "      <td>[-1.28673098e-02 -8.76872710e-03 -2.86414517e-...</td>\n",
              "      <td>[-7.22742230e-02 -2.71525867e-02 -2.11981349e-...</td>\n",
              "      <td>[-2.56591383e-02  4.31199711e-03 -2.39572942e-...</td>\n",
              "      <td>[-6.45152405e-02 -2.94506457e-02 -1.84390489e-...</td>\n",
              "      <td>[-5.07084047e-03 -2.76713558e-02 -2.69693565e-...</td>\n",
              "      <td>[-2.52595507e-02 -1.44289935e-03 -3.42903212e-...</td>\n",
              "      <td>[-0.05171408 -0.06189608 -0.03306692  0.002361...</td>\n",
              "      <td>[-4.44080308e-02  3.40547636e-02 -2.83501763e-...</td>\n",
              "      <td>[-6.44871220e-02 -3.82172340e-03 -1.57967471e-...</td>\n",
              "      <td>[-5.18303849e-02 -1.67017803e-02 -4.17982489e-...</td>\n",
              "      <td>[-9.54162516e-03 -8.53198580e-03  7.73510430e-...</td>\n",
              "      <td>[-0.02995299 -0.00425722 -0.03677021  0.041000...</td>\n",
              "      <td>[-5.38757481e-02 -4.11248840e-02 -2.54752636e-...</td>\n",
              "      <td>[-3.16515304e-02 -1.75493170e-02 -9.58232504e-...</td>\n",
              "      <td>[-5.22894418e-03 -6.85504824e-03 -1.68921131e-...</td>\n",
              "    </tr>\n",
              "    <tr>\n",
              "      <th>4</th>\n",
              "      <td>[-3.98591966e-04 -6.93545857e-03 -3.90583078e-...</td>\n",
              "      <td>[-3.78713012e-02 -2.25618221e-02 -6.61137030e-...</td>\n",
              "      <td>[0. 0. 0. 0. 0. 0. 0. 0. 0. 0. 0. 0. 0. 0. 0. ...</td>\n",
              "      <td>[0. 0. 0. 0. 0. 0. 0. 0. 0. 0. 0. 0. 0. 0. 0. ...</td>\n",
              "      <td>[-0.0344297  -0.01074299 -0.04601453  0.000932...</td>\n",
              "      <td>[-1.76449773e-02 -9.34779196e-03 -3.27466425e-...</td>\n",
              "      <td>[0. 0. 0. 0. 0. 0. 0. 0. 0. 0. 0. 0. 0. 0. 0. ...</td>\n",
              "      <td>[-3.21148975e-02  1.48406814e-02 -1.78575261e-...</td>\n",
              "      <td>[0. 0. 0. 0. 0. 0. 0. 0. 0. 0. 0. 0. 0. 0. 0. ...</td>\n",
              "      <td>[ 8.35774001e-04 -1.55258252e-02 -5.76969292e-...</td>\n",
              "      <td>[-4.91972780e-03 -3.33572589e-02 -7.20836744e-...</td>\n",
              "      <td>[0. 0. 0. 0. 0. 0. 0. 0. 0. 0. 0. 0. 0. 0. 0. ...</td>\n",
              "      <td>[-0.01637064  0.00202351 -0.01476053  0.020416...</td>\n",
              "      <td>[-6.06577247e-02 -2.77587841e-03 -2.35384256e-...</td>\n",
              "      <td>[-7.21566752e-02 -4.83474918e-02 -2.69899201e-...</td>\n",
              "      <td>[ 1.24421781e-02  2.63887513e-02 -2.32555494e-...</td>\n",
              "      <td>[-0.00219737  0.01218096 -0.02921917  0.001000...</td>\n",
              "      <td>[-2.25880761e-02 -3.23262699e-02 -4.97009158e-...</td>\n",
              "      <td>[ 1.63675216e-03 -2.70394441e-02 -3.73632014e-...</td>\n",
              "      <td>[ 7.57767455e-03 -5.32740511e-03 -1.38319638e-...</td>\n",
              "    </tr>\n",
              "  </tbody>\n",
              "</table>\n",
              "</div>\n",
              "    <div class=\"colab-df-buttons\">\n",
              "\n",
              "  <div class=\"colab-df-container\">\n",
              "    <button class=\"colab-df-convert\" onclick=\"convertToInteractive('df-83406313-c5e9-4d25-9a06-b41b1af2d3e2')\"\n",
              "            title=\"Convert this dataframe to an interactive table.\"\n",
              "            style=\"display:none;\">\n",
              "\n",
              "  <svg xmlns=\"http://www.w3.org/2000/svg\" height=\"24px\" viewBox=\"0 -960 960 960\">\n",
              "    <path d=\"M120-120v-720h720v720H120Zm60-500h600v-160H180v160Zm220 220h160v-160H400v160Zm0 220h160v-160H400v160ZM180-400h160v-160H180v160Zm440 0h160v-160H620v160ZM180-180h160v-160H180v160Zm440 0h160v-160H620v160Z\"/>\n",
              "  </svg>\n",
              "    </button>\n",
              "\n",
              "  <style>\n",
              "    .colab-df-container {\n",
              "      display:flex;\n",
              "      gap: 12px;\n",
              "    }\n",
              "\n",
              "    .colab-df-convert {\n",
              "      background-color: #E8F0FE;\n",
              "      border: none;\n",
              "      border-radius: 50%;\n",
              "      cursor: pointer;\n",
              "      display: none;\n",
              "      fill: #1967D2;\n",
              "      height: 32px;\n",
              "      padding: 0 0 0 0;\n",
              "      width: 32px;\n",
              "    }\n",
              "\n",
              "    .colab-df-convert:hover {\n",
              "      background-color: #E2EBFA;\n",
              "      box-shadow: 0px 1px 2px rgba(60, 64, 67, 0.3), 0px 1px 3px 1px rgba(60, 64, 67, 0.15);\n",
              "      fill: #174EA6;\n",
              "    }\n",
              "\n",
              "    .colab-df-buttons div {\n",
              "      margin-bottom: 4px;\n",
              "    }\n",
              "\n",
              "    [theme=dark] .colab-df-convert {\n",
              "      background-color: #3B4455;\n",
              "      fill: #D2E3FC;\n",
              "    }\n",
              "\n",
              "    [theme=dark] .colab-df-convert:hover {\n",
              "      background-color: #434B5C;\n",
              "      box-shadow: 0px 1px 3px 1px rgba(0, 0, 0, 0.15);\n",
              "      filter: drop-shadow(0px 1px 2px rgba(0, 0, 0, 0.3));\n",
              "      fill: #FFFFFF;\n",
              "    }\n",
              "  </style>\n",
              "\n",
              "    <script>\n",
              "      const buttonEl =\n",
              "        document.querySelector('#df-83406313-c5e9-4d25-9a06-b41b1af2d3e2 button.colab-df-convert');\n",
              "      buttonEl.style.display =\n",
              "        google.colab.kernel.accessAllowed ? 'block' : 'none';\n",
              "\n",
              "      async function convertToInteractive(key) {\n",
              "        const element = document.querySelector('#df-83406313-c5e9-4d25-9a06-b41b1af2d3e2');\n",
              "        const dataTable =\n",
              "          await google.colab.kernel.invokeFunction('convertToInteractive',\n",
              "                                                    [key], {});\n",
              "        if (!dataTable) return;\n",
              "\n",
              "        const docLinkHtml = 'Like what you see? Visit the ' +\n",
              "          '<a target=\"_blank\" href=https://colab.research.google.com/notebooks/data_table.ipynb>data table notebook</a>'\n",
              "          + ' to learn more about interactive tables.';\n",
              "        element.innerHTML = '';\n",
              "        dataTable['output_type'] = 'display_data';\n",
              "        await google.colab.output.renderOutput(dataTable, element);\n",
              "        const docLink = document.createElement('div');\n",
              "        docLink.innerHTML = docLinkHtml;\n",
              "        element.appendChild(docLink);\n",
              "      }\n",
              "    </script>\n",
              "  </div>\n",
              "\n",
              "\n",
              "    <div id=\"df-2556214b-e3a2-48b3-9b88-1293fdc7b165\">\n",
              "      <button class=\"colab-df-quickchart\" onclick=\"quickchart('df-2556214b-e3a2-48b3-9b88-1293fdc7b165')\"\n",
              "                title=\"Suggest charts\"\n",
              "                style=\"display:none;\">\n",
              "\n",
              "<svg xmlns=\"http://www.w3.org/2000/svg\" height=\"24px\"viewBox=\"0 0 24 24\"\n",
              "     width=\"24px\">\n",
              "    <g>\n",
              "        <path d=\"M19 3H5c-1.1 0-2 .9-2 2v14c0 1.1.9 2 2 2h14c1.1 0 2-.9 2-2V5c0-1.1-.9-2-2-2zM9 17H7v-7h2v7zm4 0h-2V7h2v10zm4 0h-2v-4h2v4z\"/>\n",
              "    </g>\n",
              "</svg>\n",
              "      </button>\n",
              "\n",
              "<style>\n",
              "  .colab-df-quickchart {\n",
              "      --bg-color: #E8F0FE;\n",
              "      --fill-color: #1967D2;\n",
              "      --hover-bg-color: #E2EBFA;\n",
              "      --hover-fill-color: #174EA6;\n",
              "      --disabled-fill-color: #AAA;\n",
              "      --disabled-bg-color: #DDD;\n",
              "  }\n",
              "\n",
              "  [theme=dark] .colab-df-quickchart {\n",
              "      --bg-color: #3B4455;\n",
              "      --fill-color: #D2E3FC;\n",
              "      --hover-bg-color: #434B5C;\n",
              "      --hover-fill-color: #FFFFFF;\n",
              "      --disabled-bg-color: #3B4455;\n",
              "      --disabled-fill-color: #666;\n",
              "  }\n",
              "\n",
              "  .colab-df-quickchart {\n",
              "    background-color: var(--bg-color);\n",
              "    border: none;\n",
              "    border-radius: 50%;\n",
              "    cursor: pointer;\n",
              "    display: none;\n",
              "    fill: var(--fill-color);\n",
              "    height: 32px;\n",
              "    padding: 0;\n",
              "    width: 32px;\n",
              "  }\n",
              "\n",
              "  .colab-df-quickchart:hover {\n",
              "    background-color: var(--hover-bg-color);\n",
              "    box-shadow: 0 1px 2px rgba(60, 64, 67, 0.3), 0 1px 3px 1px rgba(60, 64, 67, 0.15);\n",
              "    fill: var(--button-hover-fill-color);\n",
              "  }\n",
              "\n",
              "  .colab-df-quickchart-complete:disabled,\n",
              "  .colab-df-quickchart-complete:disabled:hover {\n",
              "    background-color: var(--disabled-bg-color);\n",
              "    fill: var(--disabled-fill-color);\n",
              "    box-shadow: none;\n",
              "  }\n",
              "\n",
              "  .colab-df-spinner {\n",
              "    border: 2px solid var(--fill-color);\n",
              "    border-color: transparent;\n",
              "    border-bottom-color: var(--fill-color);\n",
              "    animation:\n",
              "      spin 1s steps(1) infinite;\n",
              "  }\n",
              "\n",
              "  @keyframes spin {\n",
              "    0% {\n",
              "      border-color: transparent;\n",
              "      border-bottom-color: var(--fill-color);\n",
              "      border-left-color: var(--fill-color);\n",
              "    }\n",
              "    20% {\n",
              "      border-color: transparent;\n",
              "      border-left-color: var(--fill-color);\n",
              "      border-top-color: var(--fill-color);\n",
              "    }\n",
              "    30% {\n",
              "      border-color: transparent;\n",
              "      border-left-color: var(--fill-color);\n",
              "      border-top-color: var(--fill-color);\n",
              "      border-right-color: var(--fill-color);\n",
              "    }\n",
              "    40% {\n",
              "      border-color: transparent;\n",
              "      border-right-color: var(--fill-color);\n",
              "      border-top-color: var(--fill-color);\n",
              "    }\n",
              "    60% {\n",
              "      border-color: transparent;\n",
              "      border-right-color: var(--fill-color);\n",
              "    }\n",
              "    80% {\n",
              "      border-color: transparent;\n",
              "      border-right-color: var(--fill-color);\n",
              "      border-bottom-color: var(--fill-color);\n",
              "    }\n",
              "    90% {\n",
              "      border-color: transparent;\n",
              "      border-bottom-color: var(--fill-color);\n",
              "    }\n",
              "  }\n",
              "</style>\n",
              "\n",
              "      <script>\n",
              "        async function quickchart(key) {\n",
              "          const quickchartButtonEl =\n",
              "            document.querySelector('#' + key + ' button');\n",
              "          quickchartButtonEl.disabled = true;  // To prevent multiple clicks.\n",
              "          quickchartButtonEl.classList.add('colab-df-spinner');\n",
              "          try {\n",
              "            const charts = await google.colab.kernel.invokeFunction(\n",
              "                'suggestCharts', [key], {});\n",
              "          } catch (error) {\n",
              "            console.error('Error during call to suggestCharts:', error);\n",
              "          }\n",
              "          quickchartButtonEl.classList.remove('colab-df-spinner');\n",
              "          quickchartButtonEl.classList.add('colab-df-quickchart-complete');\n",
              "        }\n",
              "        (() => {\n",
              "          let quickchartButtonEl =\n",
              "            document.querySelector('#df-2556214b-e3a2-48b3-9b88-1293fdc7b165 button');\n",
              "          quickchartButtonEl.style.display =\n",
              "            google.colab.kernel.accessAllowed ? 'block' : 'none';\n",
              "        })();\n",
              "      </script>\n",
              "    </div>\n",
              "\n",
              "    </div>\n",
              "  </div>\n"
            ],
            "application/vnd.google.colaboratory.intrinsic+json": {
              "type": "dataframe",
              "repr_error": "Function 'unique' has no kernel matching input types (list<item: double>)"
            }
          },
          "metadata": {},
          "execution_count": 27
        }
      ]
    },
    {
      "cell_type": "code",
      "source": [
        "df_embedding.to_pandas().iloc[:, 3:].applymap(len)"
      ],
      "metadata": {
        "colab": {
          "base_uri": "https://localhost:8080/",
          "height": 261
        },
        "id": "XQB486W278Y8",
        "executionInfo": {
          "status": "ok",
          "timestamp": 1758553396457,
          "user_tz": -330,
          "elapsed": 3855,
          "user": {
            "displayName": "",
            "userId": ""
          }
        },
        "outputId": "310c4b0e-73ee-4040-d0a1-64636cdff4ba"
      },
      "id": "XQB486W278Y8",
      "execution_count": 29,
      "outputs": [
        {
          "output_type": "stream",
          "name": "stderr",
          "text": [
            "/tmp/ipython-input-2795087265.py:1: FutureWarning: DataFrame.applymap has been deprecated. Use DataFrame.map instead.\n",
            "  df_embedding.to_pandas().iloc[:, 3:].applymap(len)\n"
          ]
        },
        {
          "output_type": "execute_result",
          "data": {
            "text/plain": [
              "   section_7embedding  section_9embedding  section_12embedding  \\\n",
              "0                 768                 768                  768   \n",
              "1                 768                 768                  768   \n",
              "2                 768                 768                  768   \n",
              "3                 768                 768                  768   \n",
              "4                 768                 768                  768   \n",
              "\n",
              "   section_10embedding  section_4embedding  section_8embedding  \\\n",
              "0                  768                 768                 768   \n",
              "1                  768                 768                 768   \n",
              "2                  768                 768                 768   \n",
              "3                  768                 768                 768   \n",
              "4                  768                 768                 768   \n",
              "\n",
              "   section_14embedding  section_1Aembedding  section_11embedding  \\\n",
              "0                  768                  768                  768   \n",
              "1                  768                  768                  768   \n",
              "2                  768                  768                  768   \n",
              "3                  768                  768                  768   \n",
              "4                  768                  768                  768   \n",
              "\n",
              "   section_15embedding  section_5embedding  section_13embedding  \\\n",
              "0                  768                 768                  768   \n",
              "1                  768                 768                  768   \n",
              "2                  768                 768                  768   \n",
              "3                  768                 768                  768   \n",
              "4                  768                 768                  768   \n",
              "\n",
              "   section_7Aembedding  section_1Bembedding  section_9Bembedding  \\\n",
              "0                  768                  768                  768   \n",
              "1                  768                  768                  768   \n",
              "2                  768                  768                  768   \n",
              "3                  768                  768                  768   \n",
              "4                  768                  768                  768   \n",
              "\n",
              "   section_2embedding  section_6embedding  section_3embedding  \\\n",
              "0                 768                 768                 768   \n",
              "1                 768                 768                 768   \n",
              "2                 768                 768                 768   \n",
              "3                 768                 768                 768   \n",
              "4                 768                 768                 768   \n",
              "\n",
              "   section_9Aembedding  section_1embedding  \n",
              "0                  768                 768  \n",
              "1                  768                 768  \n",
              "2                  768                 768  \n",
              "3                  768                 768  \n",
              "4                  768                 768  "
            ],
            "text/html": [
              "\n",
              "  <div id=\"df-3e70b5af-99b6-4f7c-a1b3-16a0bea7d068\" class=\"colab-df-container\">\n",
              "    <div>\n",
              "<style scoped>\n",
              "    .dataframe tbody tr th:only-of-type {\n",
              "        vertical-align: middle;\n",
              "    }\n",
              "\n",
              "    .dataframe tbody tr th {\n",
              "        vertical-align: top;\n",
              "    }\n",
              "\n",
              "    .dataframe thead th {\n",
              "        text-align: right;\n",
              "    }\n",
              "</style>\n",
              "<table border=\"1\" class=\"dataframe\">\n",
              "  <thead>\n",
              "    <tr style=\"text-align: right;\">\n",
              "      <th></th>\n",
              "      <th>section_7embedding</th>\n",
              "      <th>section_9embedding</th>\n",
              "      <th>section_12embedding</th>\n",
              "      <th>section_10embedding</th>\n",
              "      <th>section_4embedding</th>\n",
              "      <th>section_8embedding</th>\n",
              "      <th>section_14embedding</th>\n",
              "      <th>section_1Aembedding</th>\n",
              "      <th>section_11embedding</th>\n",
              "      <th>section_15embedding</th>\n",
              "      <th>section_5embedding</th>\n",
              "      <th>section_13embedding</th>\n",
              "      <th>section_7Aembedding</th>\n",
              "      <th>section_1Bembedding</th>\n",
              "      <th>section_9Bembedding</th>\n",
              "      <th>section_2embedding</th>\n",
              "      <th>section_6embedding</th>\n",
              "      <th>section_3embedding</th>\n",
              "      <th>section_9Aembedding</th>\n",
              "      <th>section_1embedding</th>\n",
              "    </tr>\n",
              "  </thead>\n",
              "  <tbody>\n",
              "    <tr>\n",
              "      <th>0</th>\n",
              "      <td>768</td>\n",
              "      <td>768</td>\n",
              "      <td>768</td>\n",
              "      <td>768</td>\n",
              "      <td>768</td>\n",
              "      <td>768</td>\n",
              "      <td>768</td>\n",
              "      <td>768</td>\n",
              "      <td>768</td>\n",
              "      <td>768</td>\n",
              "      <td>768</td>\n",
              "      <td>768</td>\n",
              "      <td>768</td>\n",
              "      <td>768</td>\n",
              "      <td>768</td>\n",
              "      <td>768</td>\n",
              "      <td>768</td>\n",
              "      <td>768</td>\n",
              "      <td>768</td>\n",
              "      <td>768</td>\n",
              "    </tr>\n",
              "    <tr>\n",
              "      <th>1</th>\n",
              "      <td>768</td>\n",
              "      <td>768</td>\n",
              "      <td>768</td>\n",
              "      <td>768</td>\n",
              "      <td>768</td>\n",
              "      <td>768</td>\n",
              "      <td>768</td>\n",
              "      <td>768</td>\n",
              "      <td>768</td>\n",
              "      <td>768</td>\n",
              "      <td>768</td>\n",
              "      <td>768</td>\n",
              "      <td>768</td>\n",
              "      <td>768</td>\n",
              "      <td>768</td>\n",
              "      <td>768</td>\n",
              "      <td>768</td>\n",
              "      <td>768</td>\n",
              "      <td>768</td>\n",
              "      <td>768</td>\n",
              "    </tr>\n",
              "    <tr>\n",
              "      <th>2</th>\n",
              "      <td>768</td>\n",
              "      <td>768</td>\n",
              "      <td>768</td>\n",
              "      <td>768</td>\n",
              "      <td>768</td>\n",
              "      <td>768</td>\n",
              "      <td>768</td>\n",
              "      <td>768</td>\n",
              "      <td>768</td>\n",
              "      <td>768</td>\n",
              "      <td>768</td>\n",
              "      <td>768</td>\n",
              "      <td>768</td>\n",
              "      <td>768</td>\n",
              "      <td>768</td>\n",
              "      <td>768</td>\n",
              "      <td>768</td>\n",
              "      <td>768</td>\n",
              "      <td>768</td>\n",
              "      <td>768</td>\n",
              "    </tr>\n",
              "    <tr>\n",
              "      <th>3</th>\n",
              "      <td>768</td>\n",
              "      <td>768</td>\n",
              "      <td>768</td>\n",
              "      <td>768</td>\n",
              "      <td>768</td>\n",
              "      <td>768</td>\n",
              "      <td>768</td>\n",
              "      <td>768</td>\n",
              "      <td>768</td>\n",
              "      <td>768</td>\n",
              "      <td>768</td>\n",
              "      <td>768</td>\n",
              "      <td>768</td>\n",
              "      <td>768</td>\n",
              "      <td>768</td>\n",
              "      <td>768</td>\n",
              "      <td>768</td>\n",
              "      <td>768</td>\n",
              "      <td>768</td>\n",
              "      <td>768</td>\n",
              "    </tr>\n",
              "    <tr>\n",
              "      <th>4</th>\n",
              "      <td>768</td>\n",
              "      <td>768</td>\n",
              "      <td>768</td>\n",
              "      <td>768</td>\n",
              "      <td>768</td>\n",
              "      <td>768</td>\n",
              "      <td>768</td>\n",
              "      <td>768</td>\n",
              "      <td>768</td>\n",
              "      <td>768</td>\n",
              "      <td>768</td>\n",
              "      <td>768</td>\n",
              "      <td>768</td>\n",
              "      <td>768</td>\n",
              "      <td>768</td>\n",
              "      <td>768</td>\n",
              "      <td>768</td>\n",
              "      <td>768</td>\n",
              "      <td>768</td>\n",
              "      <td>768</td>\n",
              "    </tr>\n",
              "  </tbody>\n",
              "</table>\n",
              "</div>\n",
              "    <div class=\"colab-df-buttons\">\n",
              "\n",
              "  <div class=\"colab-df-container\">\n",
              "    <button class=\"colab-df-convert\" onclick=\"convertToInteractive('df-3e70b5af-99b6-4f7c-a1b3-16a0bea7d068')\"\n",
              "            title=\"Convert this dataframe to an interactive table.\"\n",
              "            style=\"display:none;\">\n",
              "\n",
              "  <svg xmlns=\"http://www.w3.org/2000/svg\" height=\"24px\" viewBox=\"0 -960 960 960\">\n",
              "    <path d=\"M120-120v-720h720v720H120Zm60-500h600v-160H180v160Zm220 220h160v-160H400v160Zm0 220h160v-160H400v160ZM180-400h160v-160H180v160Zm440 0h160v-160H620v160ZM180-180h160v-160H180v160Zm440 0h160v-160H620v160Z\"/>\n",
              "  </svg>\n",
              "    </button>\n",
              "\n",
              "  <style>\n",
              "    .colab-df-container {\n",
              "      display:flex;\n",
              "      gap: 12px;\n",
              "    }\n",
              "\n",
              "    .colab-df-convert {\n",
              "      background-color: #E8F0FE;\n",
              "      border: none;\n",
              "      border-radius: 50%;\n",
              "      cursor: pointer;\n",
              "      display: none;\n",
              "      fill: #1967D2;\n",
              "      height: 32px;\n",
              "      padding: 0 0 0 0;\n",
              "      width: 32px;\n",
              "    }\n",
              "\n",
              "    .colab-df-convert:hover {\n",
              "      background-color: #E2EBFA;\n",
              "      box-shadow: 0px 1px 2px rgba(60, 64, 67, 0.3), 0px 1px 3px 1px rgba(60, 64, 67, 0.15);\n",
              "      fill: #174EA6;\n",
              "    }\n",
              "\n",
              "    .colab-df-buttons div {\n",
              "      margin-bottom: 4px;\n",
              "    }\n",
              "\n",
              "    [theme=dark] .colab-df-convert {\n",
              "      background-color: #3B4455;\n",
              "      fill: #D2E3FC;\n",
              "    }\n",
              "\n",
              "    [theme=dark] .colab-df-convert:hover {\n",
              "      background-color: #434B5C;\n",
              "      box-shadow: 0px 1px 3px 1px rgba(0, 0, 0, 0.15);\n",
              "      filter: drop-shadow(0px 1px 2px rgba(0, 0, 0, 0.3));\n",
              "      fill: #FFFFFF;\n",
              "    }\n",
              "  </style>\n",
              "\n",
              "    <script>\n",
              "      const buttonEl =\n",
              "        document.querySelector('#df-3e70b5af-99b6-4f7c-a1b3-16a0bea7d068 button.colab-df-convert');\n",
              "      buttonEl.style.display =\n",
              "        google.colab.kernel.accessAllowed ? 'block' : 'none';\n",
              "\n",
              "      async function convertToInteractive(key) {\n",
              "        const element = document.querySelector('#df-3e70b5af-99b6-4f7c-a1b3-16a0bea7d068');\n",
              "        const dataTable =\n",
              "          await google.colab.kernel.invokeFunction('convertToInteractive',\n",
              "                                                    [key], {});\n",
              "        if (!dataTable) return;\n",
              "\n",
              "        const docLinkHtml = 'Like what you see? Visit the ' +\n",
              "          '<a target=\"_blank\" href=https://colab.research.google.com/notebooks/data_table.ipynb>data table notebook</a>'\n",
              "          + ' to learn more about interactive tables.';\n",
              "        element.innerHTML = '';\n",
              "        dataTable['output_type'] = 'display_data';\n",
              "        await google.colab.output.renderOutput(dataTable, element);\n",
              "        const docLink = document.createElement('div');\n",
              "        docLink.innerHTML = docLinkHtml;\n",
              "        element.appendChild(docLink);\n",
              "      }\n",
              "    </script>\n",
              "  </div>\n",
              "\n",
              "\n",
              "    <div id=\"df-f802c1cc-3fb2-4adb-90e0-6ad00d2b13a6\">\n",
              "      <button class=\"colab-df-quickchart\" onclick=\"quickchart('df-f802c1cc-3fb2-4adb-90e0-6ad00d2b13a6')\"\n",
              "                title=\"Suggest charts\"\n",
              "                style=\"display:none;\">\n",
              "\n",
              "<svg xmlns=\"http://www.w3.org/2000/svg\" height=\"24px\"viewBox=\"0 0 24 24\"\n",
              "     width=\"24px\">\n",
              "    <g>\n",
              "        <path d=\"M19 3H5c-1.1 0-2 .9-2 2v14c0 1.1.9 2 2 2h14c1.1 0 2-.9 2-2V5c0-1.1-.9-2-2-2zM9 17H7v-7h2v7zm4 0h-2V7h2v10zm4 0h-2v-4h2v4z\"/>\n",
              "    </g>\n",
              "</svg>\n",
              "      </button>\n",
              "\n",
              "<style>\n",
              "  .colab-df-quickchart {\n",
              "      --bg-color: #E8F0FE;\n",
              "      --fill-color: #1967D2;\n",
              "      --hover-bg-color: #E2EBFA;\n",
              "      --hover-fill-color: #174EA6;\n",
              "      --disabled-fill-color: #AAA;\n",
              "      --disabled-bg-color: #DDD;\n",
              "  }\n",
              "\n",
              "  [theme=dark] .colab-df-quickchart {\n",
              "      --bg-color: #3B4455;\n",
              "      --fill-color: #D2E3FC;\n",
              "      --hover-bg-color: #434B5C;\n",
              "      --hover-fill-color: #FFFFFF;\n",
              "      --disabled-bg-color: #3B4455;\n",
              "      --disabled-fill-color: #666;\n",
              "  }\n",
              "\n",
              "  .colab-df-quickchart {\n",
              "    background-color: var(--bg-color);\n",
              "    border: none;\n",
              "    border-radius: 50%;\n",
              "    cursor: pointer;\n",
              "    display: none;\n",
              "    fill: var(--fill-color);\n",
              "    height: 32px;\n",
              "    padding: 0;\n",
              "    width: 32px;\n",
              "  }\n",
              "\n",
              "  .colab-df-quickchart:hover {\n",
              "    background-color: var(--hover-bg-color);\n",
              "    box-shadow: 0 1px 2px rgba(60, 64, 67, 0.3), 0 1px 3px 1px rgba(60, 64, 67, 0.15);\n",
              "    fill: var(--button-hover-fill-color);\n",
              "  }\n",
              "\n",
              "  .colab-df-quickchart-complete:disabled,\n",
              "  .colab-df-quickchart-complete:disabled:hover {\n",
              "    background-color: var(--disabled-bg-color);\n",
              "    fill: var(--disabled-fill-color);\n",
              "    box-shadow: none;\n",
              "  }\n",
              "\n",
              "  .colab-df-spinner {\n",
              "    border: 2px solid var(--fill-color);\n",
              "    border-color: transparent;\n",
              "    border-bottom-color: var(--fill-color);\n",
              "    animation:\n",
              "      spin 1s steps(1) infinite;\n",
              "  }\n",
              "\n",
              "  @keyframes spin {\n",
              "    0% {\n",
              "      border-color: transparent;\n",
              "      border-bottom-color: var(--fill-color);\n",
              "      border-left-color: var(--fill-color);\n",
              "    }\n",
              "    20% {\n",
              "      border-color: transparent;\n",
              "      border-left-color: var(--fill-color);\n",
              "      border-top-color: var(--fill-color);\n",
              "    }\n",
              "    30% {\n",
              "      border-color: transparent;\n",
              "      border-left-color: var(--fill-color);\n",
              "      border-top-color: var(--fill-color);\n",
              "      border-right-color: var(--fill-color);\n",
              "    }\n",
              "    40% {\n",
              "      border-color: transparent;\n",
              "      border-right-color: var(--fill-color);\n",
              "      border-top-color: var(--fill-color);\n",
              "    }\n",
              "    60% {\n",
              "      border-color: transparent;\n",
              "      border-right-color: var(--fill-color);\n",
              "    }\n",
              "    80% {\n",
              "      border-color: transparent;\n",
              "      border-right-color: var(--fill-color);\n",
              "      border-bottom-color: var(--fill-color);\n",
              "    }\n",
              "    90% {\n",
              "      border-color: transparent;\n",
              "      border-bottom-color: var(--fill-color);\n",
              "    }\n",
              "  }\n",
              "</style>\n",
              "\n",
              "      <script>\n",
              "        async function quickchart(key) {\n",
              "          const quickchartButtonEl =\n",
              "            document.querySelector('#' + key + ' button');\n",
              "          quickchartButtonEl.disabled = true;  // To prevent multiple clicks.\n",
              "          quickchartButtonEl.classList.add('colab-df-spinner');\n",
              "          try {\n",
              "            const charts = await google.colab.kernel.invokeFunction(\n",
              "                'suggestCharts', [key], {});\n",
              "          } catch (error) {\n",
              "            console.error('Error during call to suggestCharts:', error);\n",
              "          }\n",
              "          quickchartButtonEl.classList.remove('colab-df-spinner');\n",
              "          quickchartButtonEl.classList.add('colab-df-quickchart-complete');\n",
              "        }\n",
              "        (() => {\n",
              "          let quickchartButtonEl =\n",
              "            document.querySelector('#df-f802c1cc-3fb2-4adb-90e0-6ad00d2b13a6 button');\n",
              "          quickchartButtonEl.style.display =\n",
              "            google.colab.kernel.accessAllowed ? 'block' : 'none';\n",
              "        })();\n",
              "      </script>\n",
              "    </div>\n",
              "\n",
              "    </div>\n",
              "  </div>\n"
            ],
            "application/vnd.google.colaboratory.intrinsic+json": {
              "type": "dataframe",
              "summary": "{\n  \"name\": \"df_embedding\",\n  \"rows\": 5,\n  \"fields\": [\n    {\n      \"column\": \"section_7embedding\",\n      \"properties\": {\n        \"dtype\": \"number\",\n        \"std\": 0,\n        \"min\": 768,\n        \"max\": 768,\n        \"num_unique_values\": 1,\n        \"samples\": [\n          768\n        ],\n        \"semantic_type\": \"\",\n        \"description\": \"\"\n      }\n    },\n    {\n      \"column\": \"section_9embedding\",\n      \"properties\": {\n        \"dtype\": \"number\",\n        \"std\": 0,\n        \"min\": 768,\n        \"max\": 768,\n        \"num_unique_values\": 1,\n        \"samples\": [\n          768\n        ],\n        \"semantic_type\": \"\",\n        \"description\": \"\"\n      }\n    },\n    {\n      \"column\": \"section_12embedding\",\n      \"properties\": {\n        \"dtype\": \"number\",\n        \"std\": 0,\n        \"min\": 768,\n        \"max\": 768,\n        \"num_unique_values\": 1,\n        \"samples\": [\n          768\n        ],\n        \"semantic_type\": \"\",\n        \"description\": \"\"\n      }\n    },\n    {\n      \"column\": \"section_10embedding\",\n      \"properties\": {\n        \"dtype\": \"number\",\n        \"std\": 0,\n        \"min\": 768,\n        \"max\": 768,\n        \"num_unique_values\": 1,\n        \"samples\": [\n          768\n        ],\n        \"semantic_type\": \"\",\n        \"description\": \"\"\n      }\n    },\n    {\n      \"column\": \"section_4embedding\",\n      \"properties\": {\n        \"dtype\": \"number\",\n        \"std\": 0,\n        \"min\": 768,\n        \"max\": 768,\n        \"num_unique_values\": 1,\n        \"samples\": [\n          768\n        ],\n        \"semantic_type\": \"\",\n        \"description\": \"\"\n      }\n    },\n    {\n      \"column\": \"section_8embedding\",\n      \"properties\": {\n        \"dtype\": \"number\",\n        \"std\": 0,\n        \"min\": 768,\n        \"max\": 768,\n        \"num_unique_values\": 1,\n        \"samples\": [\n          768\n        ],\n        \"semantic_type\": \"\",\n        \"description\": \"\"\n      }\n    },\n    {\n      \"column\": \"section_14embedding\",\n      \"properties\": {\n        \"dtype\": \"number\",\n        \"std\": 0,\n        \"min\": 768,\n        \"max\": 768,\n        \"num_unique_values\": 1,\n        \"samples\": [\n          768\n        ],\n        \"semantic_type\": \"\",\n        \"description\": \"\"\n      }\n    },\n    {\n      \"column\": \"section_1Aembedding\",\n      \"properties\": {\n        \"dtype\": \"number\",\n        \"std\": 0,\n        \"min\": 768,\n        \"max\": 768,\n        \"num_unique_values\": 1,\n        \"samples\": [\n          768\n        ],\n        \"semantic_type\": \"\",\n        \"description\": \"\"\n      }\n    },\n    {\n      \"column\": \"section_11embedding\",\n      \"properties\": {\n        \"dtype\": \"number\",\n        \"std\": 0,\n        \"min\": 768,\n        \"max\": 768,\n        \"num_unique_values\": 1,\n        \"samples\": [\n          768\n        ],\n        \"semantic_type\": \"\",\n        \"description\": \"\"\n      }\n    },\n    {\n      \"column\": \"section_15embedding\",\n      \"properties\": {\n        \"dtype\": \"number\",\n        \"std\": 0,\n        \"min\": 768,\n        \"max\": 768,\n        \"num_unique_values\": 1,\n        \"samples\": [\n          768\n        ],\n        \"semantic_type\": \"\",\n        \"description\": \"\"\n      }\n    },\n    {\n      \"column\": \"section_5embedding\",\n      \"properties\": {\n        \"dtype\": \"number\",\n        \"std\": 0,\n        \"min\": 768,\n        \"max\": 768,\n        \"num_unique_values\": 1,\n        \"samples\": [\n          768\n        ],\n        \"semantic_type\": \"\",\n        \"description\": \"\"\n      }\n    },\n    {\n      \"column\": \"section_13embedding\",\n      \"properties\": {\n        \"dtype\": \"number\",\n        \"std\": 0,\n        \"min\": 768,\n        \"max\": 768,\n        \"num_unique_values\": 1,\n        \"samples\": [\n          768\n        ],\n        \"semantic_type\": \"\",\n        \"description\": \"\"\n      }\n    },\n    {\n      \"column\": \"section_7Aembedding\",\n      \"properties\": {\n        \"dtype\": \"number\",\n        \"std\": 0,\n        \"min\": 768,\n        \"max\": 768,\n        \"num_unique_values\": 1,\n        \"samples\": [\n          768\n        ],\n        \"semantic_type\": \"\",\n        \"description\": \"\"\n      }\n    },\n    {\n      \"column\": \"section_1Bembedding\",\n      \"properties\": {\n        \"dtype\": \"number\",\n        \"std\": 0,\n        \"min\": 768,\n        \"max\": 768,\n        \"num_unique_values\": 1,\n        \"samples\": [\n          768\n        ],\n        \"semantic_type\": \"\",\n        \"description\": \"\"\n      }\n    },\n    {\n      \"column\": \"section_9Bembedding\",\n      \"properties\": {\n        \"dtype\": \"number\",\n        \"std\": 0,\n        \"min\": 768,\n        \"max\": 768,\n        \"num_unique_values\": 1,\n        \"samples\": [\n          768\n        ],\n        \"semantic_type\": \"\",\n        \"description\": \"\"\n      }\n    },\n    {\n      \"column\": \"section_2embedding\",\n      \"properties\": {\n        \"dtype\": \"number\",\n        \"std\": 0,\n        \"min\": 768,\n        \"max\": 768,\n        \"num_unique_values\": 1,\n        \"samples\": [\n          768\n        ],\n        \"semantic_type\": \"\",\n        \"description\": \"\"\n      }\n    },\n    {\n      \"column\": \"section_6embedding\",\n      \"properties\": {\n        \"dtype\": \"number\",\n        \"std\": 0,\n        \"min\": 768,\n        \"max\": 768,\n        \"num_unique_values\": 1,\n        \"samples\": [\n          768\n        ],\n        \"semantic_type\": \"\",\n        \"description\": \"\"\n      }\n    },\n    {\n      \"column\": \"section_3embedding\",\n      \"properties\": {\n        \"dtype\": \"number\",\n        \"std\": 0,\n        \"min\": 768,\n        \"max\": 768,\n        \"num_unique_values\": 1,\n        \"samples\": [\n          768\n        ],\n        \"semantic_type\": \"\",\n        \"description\": \"\"\n      }\n    },\n    {\n      \"column\": \"section_9Aembedding\",\n      \"properties\": {\n        \"dtype\": \"number\",\n        \"std\": 0,\n        \"min\": 768,\n        \"max\": 768,\n        \"num_unique_values\": 1,\n        \"samples\": [\n          768\n        ],\n        \"semantic_type\": \"\",\n        \"description\": \"\"\n      }\n    },\n    {\n      \"column\": \"section_1embedding\",\n      \"properties\": {\n        \"dtype\": \"number\",\n        \"std\": 0,\n        \"min\": 768,\n        \"max\": 768,\n        \"num_unique_values\": 1,\n        \"samples\": [\n          768\n        ],\n        \"semantic_type\": \"\",\n        \"description\": \"\"\n      }\n    }\n  ]\n}"
            }
          },
          "metadata": {},
          "execution_count": 29
        }
      ]
    },
    {
      "cell_type": "code",
      "source": [
        "df_embedding.to_gbq(\"financial-fraud-detection-1.EDGAR.edgar_corpus_small_embeddings\", if_exists='replace')"
      ],
      "metadata": {
        "colab": {
          "base_uri": "https://localhost:8080/",
          "height": 53
        },
        "id": "zOxwiTBR8rvP",
        "executionInfo": {
          "status": "ok",
          "timestamp": 1758553590643,
          "user_tz": -330,
          "elapsed": 3615,
          "user": {
            "displayName": "",
            "userId": ""
          }
        },
        "outputId": "1242bfe8-9561-4f09-f2f1-1ece52fb20ee"
      },
      "id": "zOxwiTBR8rvP",
      "execution_count": 30,
      "outputs": [
        {
          "output_type": "display_data",
          "data": {
            "text/plain": [
              "<IPython.core.display.HTML object>"
            ],
            "text/html": [
              "Query job 729851a4-0f85-403a-b4c6-dfaefa5a7303 is DONE. 614.6 kB processed. <a target=\"_blank\" href=\"https://console.cloud.google.com/bigquery?project=financial-fraud-detection-1&j=bq:US:729851a4-0f85-403a-b4c6-dfaefa5a7303&page=queryresults\">Open Job</a>"
            ]
          },
          "metadata": {}
        },
        {
          "output_type": "execute_result",
          "data": {
            "text/plain": [
              "'financial-fraud-detection-1.EDGAR.edgar_corpus_small_embeddings'"
            ],
            "application/vnd.google.colaboratory.intrinsic+json": {
              "type": "string"
            }
          },
          "metadata": {},
          "execution_count": 30
        }
      ]
    },
    {
      "cell_type": "code",
      "source": [],
      "metadata": {
        "id": "Y2qacM3jNeaP"
      },
      "id": "Y2qacM3jNeaP",
      "execution_count": null,
      "outputs": []
    },
    {
      "cell_type": "code",
      "source": [
        "type(df_embedding.to_pandas().iloc[:, 3:])"
      ],
      "metadata": {
        "colab": {
          "base_uri": "https://localhost:8080/"
        },
        "collapsed": true,
        "id": "YSrKACFdLkBt",
        "executionInfo": {
          "status": "ok",
          "timestamp": 1758557385284,
          "user_tz": -330,
          "elapsed": 3617,
          "user": {
            "displayName": "",
            "userId": ""
          }
        },
        "outputId": "eb79a1a5-1438-4128-e130-2e5e63b9b2a6"
      },
      "id": "YSrKACFdLkBt",
      "execution_count": 37,
      "outputs": [
        {
          "output_type": "execute_result",
          "data": {
            "text/plain": [
              "pandas.core.frame.DataFrame"
            ]
          },
          "metadata": {},
          "execution_count": 37
        }
      ]
    },
    {
      "cell_type": "code",
      "source": [
        "df_embedding_only = df_embedding.to_pandas().iloc[:, 3:]"
      ],
      "metadata": {
        "id": "nfWxgZ4FOzuM",
        "executionInfo": {
          "status": "ok",
          "timestamp": 1758558130397,
          "user_tz": -330,
          "elapsed": 2091,
          "user": {
            "displayName": "",
            "userId": ""
          }
        }
      },
      "id": "nfWxgZ4FOzuM",
      "execution_count": 42,
      "outputs": []
    },
    {
      "cell_type": "code",
      "source": [
        "df_embedding_only.iloc[0]"
      ],
      "metadata": {
        "colab": {
          "base_uri": "https://localhost:8080/",
          "height": 711
        },
        "collapsed": true,
        "id": "W65oqcE6O5O3",
        "executionInfo": {
          "status": "ok",
          "timestamp": 1758558148281,
          "user_tz": -330,
          "elapsed": 6,
          "user": {
            "displayName": "",
            "userId": ""
          }
        },
        "outputId": "b65648b9-a616-4359-bbc3-9eb18bb4ba99"
      },
      "id": "W65oqcE6O5O3",
      "execution_count": 44,
      "outputs": [
        {
          "output_type": "execute_result",
          "data": {
            "text/plain": [
              "section_7embedding     [-3.47243063e-02  1.94188505e-02 -8.92389864e-...\n",
              "section_9embedding     [-1.55314188e-02 -2.45964527e-03 -3.88711654e-...\n",
              "section_12embedding    [-3.79250757e-02 -4.47099060e-02 -3.67634818e-...\n",
              "section_10embedding    [-4.57181484e-02 -5.33069260e-02 -1.22106224e-...\n",
              "section_4embedding     [-0.05072239 -0.01314292 -0.03440231 -0.023048...\n",
              "section_8embedding     [-3.04003223e-02  4.79081871e-03 -5.41995295e-...\n",
              "section_14embedding    [ 3.38502717e-03 -5.04764915e-03 -5.59636764e-...\n",
              "section_1Aembedding    [0. 0. 0. 0. 0. 0. 0. 0. 0. 0. 0. 0. 0. 0. 0. ...\n",
              "section_11embedding    [-4.79705371e-02 -6.59401938e-02 -2.51594633e-...\n",
              "section_15embedding    [0. 0. 0. 0. 0. 0. 0. 0. 0. 0. 0. 0. 0. 0. 0. ...\n",
              "section_5embedding     [-6.61806986e-02 -2.95599401e-02 -3.89909521e-...\n",
              "section_13embedding    [-4.50329408e-02 -7.63122365e-02 -3.43960524e-...\n",
              "section_7Aembedding    [0. 0. 0. 0. 0. 0. 0. 0. 0. 0. 0. 0. 0. 0. 0. ...\n",
              "section_1Bembedding    [0. 0. 0. 0. 0. 0. 0. 0. 0. 0. 0. 0. 0. 0. 0. ...\n",
              "section_9Bembedding    [0. 0. 0. 0. 0. 0. 0. 0. 0. 0. 0. 0. 0. 0. 0. ...\n",
              "section_2embedding     [-1.83147509e-02 -4.80058193e-02 -3.25606801e-...\n",
              "section_6embedding     [ 1.19868275e-02 -3.50940004e-02 -3.42585109e-...\n",
              "section_3embedding     [-5.95068801e-02  2.10417886e-03 -2.92739635e-...\n",
              "section_9Aembedding    [0. 0. 0. 0. 0. 0. 0. 0. 0. 0. 0. 0. 0. 0. 0. ...\n",
              "section_1embedding     [-0.03292404  0.00087296 -0.04182    -0.004596...\n",
              "Name: 0, dtype: list<item: double>[pyarrow]"
            ],
            "text/html": [
              "<div>\n",
              "<style scoped>\n",
              "    .dataframe tbody tr th:only-of-type {\n",
              "        vertical-align: middle;\n",
              "    }\n",
              "\n",
              "    .dataframe tbody tr th {\n",
              "        vertical-align: top;\n",
              "    }\n",
              "\n",
              "    .dataframe thead th {\n",
              "        text-align: right;\n",
              "    }\n",
              "</style>\n",
              "<table border=\"1\" class=\"dataframe\">\n",
              "  <thead>\n",
              "    <tr style=\"text-align: right;\">\n",
              "      <th></th>\n",
              "      <th>0</th>\n",
              "    </tr>\n",
              "  </thead>\n",
              "  <tbody>\n",
              "    <tr>\n",
              "      <th>section_7embedding</th>\n",
              "      <td>[-3.47243063e-02  1.94188505e-02 -8.92389864e-...</td>\n",
              "    </tr>\n",
              "    <tr>\n",
              "      <th>section_9embedding</th>\n",
              "      <td>[-1.55314188e-02 -2.45964527e-03 -3.88711654e-...</td>\n",
              "    </tr>\n",
              "    <tr>\n",
              "      <th>section_12embedding</th>\n",
              "      <td>[-3.79250757e-02 -4.47099060e-02 -3.67634818e-...</td>\n",
              "    </tr>\n",
              "    <tr>\n",
              "      <th>section_10embedding</th>\n",
              "      <td>[-4.57181484e-02 -5.33069260e-02 -1.22106224e-...</td>\n",
              "    </tr>\n",
              "    <tr>\n",
              "      <th>section_4embedding</th>\n",
              "      <td>[-0.05072239 -0.01314292 -0.03440231 -0.023048...</td>\n",
              "    </tr>\n",
              "    <tr>\n",
              "      <th>section_8embedding</th>\n",
              "      <td>[-3.04003223e-02  4.79081871e-03 -5.41995295e-...</td>\n",
              "    </tr>\n",
              "    <tr>\n",
              "      <th>section_14embedding</th>\n",
              "      <td>[ 3.38502717e-03 -5.04764915e-03 -5.59636764e-...</td>\n",
              "    </tr>\n",
              "    <tr>\n",
              "      <th>section_1Aembedding</th>\n",
              "      <td>[0. 0. 0. 0. 0. 0. 0. 0. 0. 0. 0. 0. 0. 0. 0. ...</td>\n",
              "    </tr>\n",
              "    <tr>\n",
              "      <th>section_11embedding</th>\n",
              "      <td>[-4.79705371e-02 -6.59401938e-02 -2.51594633e-...</td>\n",
              "    </tr>\n",
              "    <tr>\n",
              "      <th>section_15embedding</th>\n",
              "      <td>[0. 0. 0. 0. 0. 0. 0. 0. 0. 0. 0. 0. 0. 0. 0. ...</td>\n",
              "    </tr>\n",
              "    <tr>\n",
              "      <th>section_5embedding</th>\n",
              "      <td>[-6.61806986e-02 -2.95599401e-02 -3.89909521e-...</td>\n",
              "    </tr>\n",
              "    <tr>\n",
              "      <th>section_13embedding</th>\n",
              "      <td>[-4.50329408e-02 -7.63122365e-02 -3.43960524e-...</td>\n",
              "    </tr>\n",
              "    <tr>\n",
              "      <th>section_7Aembedding</th>\n",
              "      <td>[0. 0. 0. 0. 0. 0. 0. 0. 0. 0. 0. 0. 0. 0. 0. ...</td>\n",
              "    </tr>\n",
              "    <tr>\n",
              "      <th>section_1Bembedding</th>\n",
              "      <td>[0. 0. 0. 0. 0. 0. 0. 0. 0. 0. 0. 0. 0. 0. 0. ...</td>\n",
              "    </tr>\n",
              "    <tr>\n",
              "      <th>section_9Bembedding</th>\n",
              "      <td>[0. 0. 0. 0. 0. 0. 0. 0. 0. 0. 0. 0. 0. 0. 0. ...</td>\n",
              "    </tr>\n",
              "    <tr>\n",
              "      <th>section_2embedding</th>\n",
              "      <td>[-1.83147509e-02 -4.80058193e-02 -3.25606801e-...</td>\n",
              "    </tr>\n",
              "    <tr>\n",
              "      <th>section_6embedding</th>\n",
              "      <td>[ 1.19868275e-02 -3.50940004e-02 -3.42585109e-...</td>\n",
              "    </tr>\n",
              "    <tr>\n",
              "      <th>section_3embedding</th>\n",
              "      <td>[-5.95068801e-02  2.10417886e-03 -2.92739635e-...</td>\n",
              "    </tr>\n",
              "    <tr>\n",
              "      <th>section_9Aembedding</th>\n",
              "      <td>[0. 0. 0. 0. 0. 0. 0. 0. 0. 0. 0. 0. 0. 0. 0. ...</td>\n",
              "    </tr>\n",
              "    <tr>\n",
              "      <th>section_1embedding</th>\n",
              "      <td>[-0.03292404  0.00087296 -0.04182    -0.004596...</td>\n",
              "    </tr>\n",
              "  </tbody>\n",
              "</table>\n",
              "</div><br><label><b>dtype:</b> list<item: double>[pyarrow]</label>"
            ]
          },
          "metadata": {},
          "execution_count": 44
        }
      ]
    },
    {
      "cell_type": "code",
      "source": [
        "df_embedding_only.iloc[0].info()"
      ],
      "metadata": {
        "colab": {
          "base_uri": "https://localhost:8080/"
        },
        "id": "cKEoZFPyPCWo",
        "executionInfo": {
          "status": "ok",
          "timestamp": 1758558173973,
          "user_tz": -330,
          "elapsed": 4,
          "user": {
            "displayName": "",
            "userId": ""
          }
        },
        "outputId": "5478d2d9-6acd-4f6d-8c09-5584efb31811"
      },
      "id": "cKEoZFPyPCWo",
      "execution_count": 46,
      "outputs": [
        {
          "output_type": "stream",
          "name": "stdout",
          "text": [
            "<class 'pandas.core.series.Series'>\n",
            "Index: 20 entries, section_7embedding to section_1embedding\n",
            "Series name: 0\n",
            "Non-Null Count  Dtype                      \n",
            "--------------  -----                      \n",
            "20 non-null     list<item: double>[pyarrow]\n",
            "dtypes: list<item: double>[pyarrow](1)\n",
            "memory usage: 120.8+ KB\n"
          ]
        }
      ]
    },
    {
      "cell_type": "code",
      "source": [
        "type(df_embedding_only.iloc[0])"
      ],
      "metadata": {
        "colab": {
          "base_uri": "https://localhost:8080/"
        },
        "id": "RrRnZURGO_4_",
        "executionInfo": {
          "status": "ok",
          "timestamp": 1758558164495,
          "user_tz": -330,
          "elapsed": 7,
          "user": {
            "displayName": "",
            "userId": ""
          }
        },
        "outputId": "7c5c3669-2648-452f-cd02-5e3c47d6d3e4"
      },
      "id": "RrRnZURGO_4_",
      "execution_count": 45,
      "outputs": [
        {
          "output_type": "execute_result",
          "data": {
            "text/plain": [
              "pandas.core.series.Series"
            ]
          },
          "metadata": {},
          "execution_count": 45
        }
      ]
    },
    {
      "cell_type": "code",
      "source": [
        "import numpy as np"
      ],
      "metadata": {
        "id": "Jz4hRPP7MsHn",
        "executionInfo": {
          "status": "ok",
          "timestamp": 1758558768151,
          "user_tz": -330,
          "elapsed": 2,
          "user": {
            "displayName": "",
            "userId": ""
          }
        }
      },
      "id": "Jz4hRPP7MsHn",
      "execution_count": 52,
      "outputs": []
    },
    {
      "cell_type": "code",
      "source": [
        "def calculate_mean(row):\n",
        "  vector_df = pd.DataFrame(row.to_list())\n",
        "  averaged_embedding_series = vector_df.mean(axis = 0)\n",
        "  return averaged_embedding_series.to_list()\n",
        "\n",
        "# Apply the function row-wise to create a new column with the mean\n",
        "df_embedding['overall_embedding'] = df_embedding_only.apply(calculate_mean, axis=1)\n",
        "\n",
        "# Display the first few rows to verify the result\n",
        "print(df_embedding.head())"
      ],
      "metadata": {
        "colab": {
          "base_uri": "https://localhost:8080/",
          "height": 1000
        },
        "id": "SCUQIWRj9jfo",
        "executionInfo": {
          "status": "ok",
          "timestamp": 1758558763110,
          "user_tz": -330,
          "elapsed": 16562,
          "user": {
            "displayName": "",
            "userId": ""
          }
        },
        "outputId": "266c4d59-c346-4180-88d0-7d8ca9e01b17"
      },
      "id": "SCUQIWRj9jfo",
      "execution_count": 51,
      "outputs": [
        {
          "output_type": "display_data",
          "data": {
            "text/plain": [
              "<IPython.core.display.HTML object>"
            ],
            "text/html": [
              "Load job 77654014-6030-49be-af28-0095b63a137b is DONE. <a target=\"_blank\" href=\"https://console.cloud.google.com/bigquery?project=financial-fraud-detection-1&j=bq:US:77654014-6030-49be-af28-0095b63a137b&page=queryresults\">Open Job</a>"
            ]
          },
          "metadata": {}
        },
        {
          "output_type": "display_data",
          "data": {
            "text/plain": [
              "<IPython.core.display.HTML object>"
            ],
            "text/html": [
              "Query job 7e5577bb-a48d-4bd9-b827-55f73d5b1326 is DONE. 645.4 kB processed. <a target=\"_blank\" href=\"https://console.cloud.google.com/bigquery?project=financial-fraud-detection-1&j=bq:US:7e5577bb-a48d-4bd9-b827-55f73d5b1326&page=queryresults\">Open Job</a>"
            ]
          },
          "metadata": {}
        },
        {
          "output_type": "stream",
          "name": "stdout",
          "text": [
            "           filename      cik  year  \\\n",
            "0    50104_1993.txt    50104  1993   \n",
            "1   315189_1993.txt   315189  1993   \n",
            "2     1800_1993.txt     1800  1993   \n",
            "3  1137091_2020.htm  1137091  2020   \n",
            "4  1067983_2020.htm  1067983  2020   \n",
            "\n",
            "                                  section_7embedding  \\\n",
            "0  [-3.47243063e-02  1.94188505e-02 -8.92389864e-...   \n",
            "1  [-1.35571547e-02 -1.56442206e-02 -2.92028040e-...   \n",
            "2  [-0.01756296 -0.01733708 -0.01346771 -0.013578...   \n",
            "3  [-2.10153785e-02  2.59747695e-03 -3.92209039e-...   \n",
            "4  [-3.98591966e-04 -6.93545857e-03 -3.90583078e-...   \n",
            "\n",
            "                                  section_9embedding  \\\n",
            "0  [-1.55314188e-02 -2.45964527e-03 -3.88711654e-...   \n",
            "1  [-1.83812398e-02  1.81908242e-03 -2.49630474e-...   \n",
            "2  [-1.56782791e-02 -6.42858818e-03 -3.48928086e-...   \n",
            "3  [-4.25587595e-02 -2.09636036e-02 -6.31605536e-...   \n",
            "4  [-3.78713012e-02 -2.25618221e-02 -6.61137030e-...   \n",
            "\n",
            "                                 section_12embedding  \\\n",
            "0  [-3.79250757e-02 -4.47099060e-02 -3.67634818e-...   \n",
            "1  [-3.85654159e-02 -1.78559888e-02 -4.98842299e-...   \n",
            "2  [-4.16508093e-02 -2.62772869e-02 -3.11164446e-...   \n",
            "3  [-6.73391223e-02 -1.49382157e-02 -3.27744223e-...   \n",
            "4  [0. 0. 0. 0. 0. 0. 0. 0. 0. 0. 0. 0. 0. 0. 0. ...   \n",
            "\n",
            "                                 section_10embedding  \\\n",
            "0  [-4.57181484e-02 -5.33069260e-02 -1.22106224e-...   \n",
            "1  [-5.09253442e-02 -3.28539982e-02 -1.21700037e-...   \n",
            "2  [-6.22933321e-02 -4.06846032e-02 -2.88069844e-...   \n",
            "3  [-3.24487165e-02 -1.60200917e-03 -5.89513499e-...   \n",
            "4  [0. 0. 0. 0. 0. 0. 0. 0. 0. 0. 0. 0. 0. 0. 0. ...   \n",
            "\n",
            "                                  section_4embedding  \\\n",
            "0  [-0.05072239 -0.01314292 -0.03440231 -0.023048...   \n",
            "1  [-4.47579399e-02 -1.16266981e-02 -4.29858454e-...   \n",
            "2  [-0.01235421 -0.05187324 -0.01839188  0.048709...   \n",
            "3  [-3.31896767e-02  1.45743862e-02 -3.72849405e-...   \n",
            "4  [-0.0344297  -0.01074299 -0.04601453  0.000932...   \n",
            "\n",
            "                                  section_8embedding  \\\n",
            "0  [-3.04003223e-02  4.79081871e-03 -5.41995295e-...   \n",
            "1  [-9.26065768e-05 -5.11534102e-02 -4.29588519e-...   \n",
            "2  [-0.01758242 -0.04470409 -0.02377128 -0.002298...   \n",
            "3  [-1.28673098e-02 -8.76872710e-03 -2.86414517e-...   \n",
            "4  [-1.76449773e-02 -9.34779196e-03 -3.27466425e-...   \n",
            "\n",
            "                                 section_14embedding  ...  \\\n",
            "0  [ 3.38502717e-03 -5.04764915e-03 -5.59636764e-...  ...   \n",
            "1  [ 2.28945124e-02  5.21549085e-03 -1.74354800e-...  ...   \n",
            "2  [ 3.80702619e-03 -6.57393262e-02 -4.26834710e-...  ...   \n",
            "3  [-7.22742230e-02 -2.71525867e-02 -2.11981349e-...  ...   \n",
            "4  [0. 0. 0. 0. 0. 0. 0. 0. 0. 0. 0. 0. 0. 0. 0. ...  ...   \n",
            "\n",
            "                                 section_13embedding  \\\n",
            "0  [-4.50329408e-02 -7.63122365e-02 -3.43960524e-...   \n",
            "1  [-5.07865660e-02 -4.80615199e-02 -3.68813202e-...   \n",
            "2  [-4.13229093e-02 -6.52043819e-02 -4.08298895e-...   \n",
            "3  [-0.05171408 -0.06189608 -0.03306692  0.002361...   \n",
            "4  [0. 0. 0. 0. 0. 0. 0. 0. 0. 0. 0. 0. 0. 0. 0. ...   \n",
            "\n",
            "                                 section_7Aembedding  \\\n",
            "0  [0. 0. 0. 0. 0. 0. 0. 0. 0. 0. 0. 0. 0. 0. 0. ...   \n",
            "1  [0. 0. 0. 0. 0. 0. 0. 0. 0. 0. 0. 0. 0. 0. 0. ...   \n",
            "2  [0. 0. 0. 0. 0. 0. 0. 0. 0. 0. 0. 0. 0. 0. 0. ...   \n",
            "3  [-4.44080308e-02  3.40547636e-02 -2.83501763e-...   \n",
            "4  [-0.01637064  0.00202351 -0.01476053  0.020416...   \n",
            "\n",
            "                                 section_1Bembedding  \\\n",
            "0  [0. 0. 0. 0. 0. 0. 0. 0. 0. 0. 0. 0. 0. 0. 0. ...   \n",
            "1  [0. 0. 0. 0. 0. 0. 0. 0. 0. 0. 0. 0. 0. 0. 0. ...   \n",
            "2  [0. 0. 0. 0. 0. 0. 0. 0. 0. 0. 0. 0. 0. 0. 0. ...   \n",
            "3  [-6.44871220e-02 -3.82172340e-03 -1.57967471e-...   \n",
            "4  [-6.06577247e-02 -2.77587841e-03 -2.35384256e-...   \n",
            "\n",
            "                                 section_9Bembedding  \\\n",
            "0  [0. 0. 0. 0. 0. 0. 0. 0. 0. 0. 0. 0. 0. 0. 0. ...   \n",
            "1  [0. 0. 0. 0. 0. 0. 0. 0. 0. 0. 0. 0. 0. 0. 0. ...   \n",
            "2  [0. 0. 0. 0. 0. 0. 0. 0. 0. 0. 0. 0. 0. 0. 0. ...   \n",
            "3  [-5.18303849e-02 -1.67017803e-02 -4.17982489e-...   \n",
            "4  [-7.21566752e-02 -4.83474918e-02 -2.69899201e-...   \n",
            "\n",
            "                                  section_2embedding  \\\n",
            "0  [-1.83147509e-02 -4.80058193e-02 -3.25606801e-...   \n",
            "1  [ 1.60061345e-02  2.85344739e-02  2.26290263e-...   \n",
            "2  [-1.38139455e-02 -9.38619545e-04 -1.91317741e-...   \n",
            "3  [-9.54162516e-03 -8.53198580e-03  7.73510430e-...   \n",
            "4  [ 1.24421781e-02  2.63887513e-02 -2.32555494e-...   \n",
            "\n",
            "                                  section_6embedding  \\\n",
            "0  [ 1.19868275e-02 -3.50940004e-02 -3.42585109e-...   \n",
            "1  [-1.48224207e-02 -4.50210385e-02 -6.59380779e-...   \n",
            "2  [-2.47520432e-02 -3.38479057e-02 -2.15717610e-...   \n",
            "3  [-0.02995299 -0.00425722 -0.03677021  0.041000...   \n",
            "4  [-0.00219737  0.01218096 -0.02921917  0.001000...   \n",
            "\n",
            "                                  section_3embedding  \\\n",
            "0  [-5.95068801e-02  2.10417886e-03 -2.92739635e-...   \n",
            "1  [-1.44546749e-02 -2.31604483e-02 -1.49410742e-...   \n",
            "2  [-0.05118279 -0.03660664 -0.03556744 -0.023323...   \n",
            "3  [-5.38757481e-02 -4.11248840e-02 -2.54752636e-...   \n",
            "4  [-2.25880761e-02 -3.23262699e-02 -4.97009158e-...   \n",
            "\n",
            "                                 section_9Aembedding  \\\n",
            "0  [0. 0. 0. 0. 0. 0. 0. 0. 0. 0. 0. 0. 0. 0. 0. ...   \n",
            "1  [0. 0. 0. 0. 0. 0. 0. 0. 0. 0. 0. 0. 0. 0. 0. ...   \n",
            "2  [0. 0. 0. 0. 0. 0. 0. 0. 0. 0. 0. 0. 0. 0. 0. ...   \n",
            "3  [-3.16515304e-02 -1.75493170e-02 -9.58232504e-...   \n",
            "4  [ 1.63675216e-03 -2.70394441e-02 -3.73632014e-...   \n",
            "\n",
            "                                  section_1embedding  \\\n",
            "0  [-0.03292404  0.00087296 -0.04182    -0.004596...   \n",
            "1  [ 2.29252045e-02  2.62432406e-03 -4.36920724e-...   \n",
            "2  [-8.46420446e-03 -1.74391275e-02 -3.04021587e-...   \n",
            "3  [-5.22894418e-03 -6.85504824e-03 -1.68921131e-...   \n",
            "4  [ 7.57767455e-03 -5.32740511e-03 -1.38319638e-...   \n",
            "\n",
            "                                   overall_embedding  \n",
            "0  [-0.02347898 -0.01731962 -0.02790547  0.000921...  \n",
            "1  [-1.49562186e-02 -1.20997473e-02 -1.77254046e-...  \n",
            "2  [-2.02630794e-02 -2.28220087e-02 -2.03435779e-...  \n",
            "3  [-3.72444206e-02 -1.18594729e-02 -2.65914233e-...  \n",
            "4  [-1.39428654e-02 -7.94268673e-03 -2.75115496e-...  \n",
            "\n",
            "[5 rows x 24 columns]\n"
          ]
        }
      ]
    },
    {
      "cell_type": "code",
      "source": [
        "def x(row):\n",
        "  print(type(row))\n",
        "df_embedding.to_pandas().apply(x, axis=1)\n"
      ],
      "metadata": {
        "colab": {
          "base_uri": "https://localhost:8080/",
          "height": 327
        },
        "id": "S76KccWRLPj2",
        "executionInfo": {
          "status": "ok",
          "timestamp": 1758558802174,
          "user_tz": -330,
          "elapsed": 4151,
          "user": {
            "displayName": "",
            "userId": ""
          }
        },
        "outputId": "9ceb6d15-173c-4f07-8347-1b9cc0b72034"
      },
      "id": "S76KccWRLPj2",
      "execution_count": 53,
      "outputs": [
        {
          "output_type": "stream",
          "name": "stdout",
          "text": [
            "<class 'pandas.core.series.Series'>\n",
            "<class 'pandas.core.series.Series'>\n",
            "<class 'pandas.core.series.Series'>\n",
            "<class 'pandas.core.series.Series'>\n",
            "<class 'pandas.core.series.Series'>\n"
          ]
        },
        {
          "output_type": "execute_result",
          "data": {
            "text/plain": [
              "0    None\n",
              "1    None\n",
              "2    None\n",
              "3    None\n",
              "4    None\n",
              "dtype: object"
            ],
            "text/html": [
              "<div>\n",
              "<style scoped>\n",
              "    .dataframe tbody tr th:only-of-type {\n",
              "        vertical-align: middle;\n",
              "    }\n",
              "\n",
              "    .dataframe tbody tr th {\n",
              "        vertical-align: top;\n",
              "    }\n",
              "\n",
              "    .dataframe thead th {\n",
              "        text-align: right;\n",
              "    }\n",
              "</style>\n",
              "<table border=\"1\" class=\"dataframe\">\n",
              "  <thead>\n",
              "    <tr style=\"text-align: right;\">\n",
              "      <th></th>\n",
              "      <th>0</th>\n",
              "    </tr>\n",
              "  </thead>\n",
              "  <tbody>\n",
              "    <tr>\n",
              "      <th>0</th>\n",
              "      <td>None</td>\n",
              "    </tr>\n",
              "    <tr>\n",
              "      <th>1</th>\n",
              "      <td>None</td>\n",
              "    </tr>\n",
              "    <tr>\n",
              "      <th>2</th>\n",
              "      <td>None</td>\n",
              "    </tr>\n",
              "    <tr>\n",
              "      <th>3</th>\n",
              "      <td>None</td>\n",
              "    </tr>\n",
              "    <tr>\n",
              "      <th>4</th>\n",
              "      <td>None</td>\n",
              "    </tr>\n",
              "  </tbody>\n",
              "</table>\n",
              "</div><br><label><b>dtype:</b> object</label>"
            ]
          },
          "metadata": {},
          "execution_count": 53
        }
      ]
    },
    {
      "cell_type": "code",
      "source": [
        "df_embedding"
      ],
      "metadata": {
        "colab": {
          "base_uri": "https://localhost:8080/",
          "height": 533
        },
        "id": "N0YcyMC5Qnqx",
        "executionInfo": {
          "status": "ok",
          "timestamp": 1758558816211,
          "user_tz": -330,
          "elapsed": 7129,
          "user": {
            "displayName": "",
            "userId": ""
          }
        },
        "outputId": "1bca58d6-7dcb-4fbb-df42-d87dc99a9f3b"
      },
      "id": "N0YcyMC5Qnqx",
      "execution_count": 54,
      "outputs": [
        {
          "output_type": "display_data",
          "data": {
            "text/plain": [
              "<IPython.core.display.HTML object>"
            ],
            "text/html": [
              "Query job 04643b3e-5d87-478b-812c-bc12682cd886 is DONE. 645.4 kB processed. <a target=\"_blank\" href=\"https://console.cloud.google.com/bigquery?project=financial-fraud-detection-1&j=bq:US:04643b3e-5d87-478b-812c-bc12682cd886&page=queryresults\">Open Job</a>"
            ]
          },
          "metadata": {}
        },
        {
          "output_type": "execute_result",
          "data": {
            "text/plain": [
              "           filename      cik  year  \\\n",
              "0    50104_1993.txt    50104  1993   \n",
              "1   315189_1993.txt   315189  1993   \n",
              "2     1800_1993.txt     1800  1993   \n",
              "3  1137091_2020.htm  1137091  2020   \n",
              "4  1067983_2020.htm  1067983  2020   \n",
              "\n",
              "                                  section_7embedding  \\\n",
              "0  [-3.47243063e-02  1.94188505e-02 -8.92389864e-...   \n",
              "1  [-1.35571547e-02 -1.56442206e-02 -2.92028040e-...   \n",
              "2  [-0.01756296 -0.01733708 -0.01346771 -0.013578...   \n",
              "3  [-2.10153785e-02  2.59747695e-03 -3.92209039e-...   \n",
              "4  [-3.98591966e-04 -6.93545857e-03 -3.90583078e-...   \n",
              "\n",
              "                                  section_9embedding  \\\n",
              "0  [-1.55314188e-02 -2.45964527e-03 -3.88711654e-...   \n",
              "1  [-1.83812398e-02  1.81908242e-03 -2.49630474e-...   \n",
              "2  [-1.56782791e-02 -6.42858818e-03 -3.48928086e-...   \n",
              "3  [-4.25587595e-02 -2.09636036e-02 -6.31605536e-...   \n",
              "4  [-3.78713012e-02 -2.25618221e-02 -6.61137030e-...   \n",
              "\n",
              "                                 section_12embedding  \\\n",
              "0  [-3.79250757e-02 -4.47099060e-02 -3.67634818e-...   \n",
              "1  [-3.85654159e-02 -1.78559888e-02 -4.98842299e-...   \n",
              "2  [-4.16508093e-02 -2.62772869e-02 -3.11164446e-...   \n",
              "3  [-6.73391223e-02 -1.49382157e-02 -3.27744223e-...   \n",
              "4  [0. 0. 0. 0. 0. 0. 0. 0. 0. 0. 0. 0. 0. 0. 0. ...   \n",
              "\n",
              "                                 section_10embedding  \\\n",
              "0  [-4.57181484e-02 -5.33069260e-02 -1.22106224e-...   \n",
              "1  [-5.09253442e-02 -3.28539982e-02 -1.21700037e-...   \n",
              "2  [-6.22933321e-02 -4.06846032e-02 -2.88069844e-...   \n",
              "3  [-3.24487165e-02 -1.60200917e-03 -5.89513499e-...   \n",
              "4  [0. 0. 0. 0. 0. 0. 0. 0. 0. 0. 0. 0. 0. 0. 0. ...   \n",
              "\n",
              "                                  section_4embedding  \\\n",
              "0  [-0.05072239 -0.01314292 -0.03440231 -0.023048...   \n",
              "1  [-4.47579399e-02 -1.16266981e-02 -4.29858454e-...   \n",
              "2  [-0.01235421 -0.05187324 -0.01839188  0.048709...   \n",
              "3  [-3.31896767e-02  1.45743862e-02 -3.72849405e-...   \n",
              "4  [-0.0344297  -0.01074299 -0.04601453  0.000932...   \n",
              "\n",
              "                                  section_8embedding  \\\n",
              "0  [-3.04003223e-02  4.79081871e-03 -5.41995295e-...   \n",
              "1  [-9.26065768e-05 -5.11534102e-02 -4.29588519e-...   \n",
              "2  [-0.01758242 -0.04470409 -0.02377128 -0.002298...   \n",
              "3  [-1.28673098e-02 -8.76872710e-03 -2.86414517e-...   \n",
              "4  [-1.76449773e-02 -9.34779196e-03 -3.27466425e-...   \n",
              "\n",
              "                                 section_14embedding  ...  \\\n",
              "0  [ 3.38502717e-03 -5.04764915e-03 -5.59636764e-...  ...   \n",
              "1  [ 2.28945124e-02  5.21549085e-03 -1.74354800e-...  ...   \n",
              "2  [ 3.80702619e-03 -6.57393262e-02 -4.26834710e-...  ...   \n",
              "3  [-7.22742230e-02 -2.71525867e-02 -2.11981349e-...  ...   \n",
              "4  [0. 0. 0. 0. 0. 0. 0. 0. 0. 0. 0. 0. 0. 0. 0. ...  ...   \n",
              "\n",
              "                                 section_13embedding  \\\n",
              "0  [-4.50329408e-02 -7.63122365e-02 -3.43960524e-...   \n",
              "1  [-5.07865660e-02 -4.80615199e-02 -3.68813202e-...   \n",
              "2  [-4.13229093e-02 -6.52043819e-02 -4.08298895e-...   \n",
              "3  [-0.05171408 -0.06189608 -0.03306692  0.002361...   \n",
              "4  [0. 0. 0. 0. 0. 0. 0. 0. 0. 0. 0. 0. 0. 0. 0. ...   \n",
              "\n",
              "                                 section_7Aembedding  \\\n",
              "0  [0. 0. 0. 0. 0. 0. 0. 0. 0. 0. 0. 0. 0. 0. 0. ...   \n",
              "1  [0. 0. 0. 0. 0. 0. 0. 0. 0. 0. 0. 0. 0. 0. 0. ...   \n",
              "2  [0. 0. 0. 0. 0. 0. 0. 0. 0. 0. 0. 0. 0. 0. 0. ...   \n",
              "3  [-4.44080308e-02  3.40547636e-02 -2.83501763e-...   \n",
              "4  [-0.01637064  0.00202351 -0.01476053  0.020416...   \n",
              "\n",
              "                                 section_1Bembedding  \\\n",
              "0  [0. 0. 0. 0. 0. 0. 0. 0. 0. 0. 0. 0. 0. 0. 0. ...   \n",
              "1  [0. 0. 0. 0. 0. 0. 0. 0. 0. 0. 0. 0. 0. 0. 0. ...   \n",
              "2  [0. 0. 0. 0. 0. 0. 0. 0. 0. 0. 0. 0. 0. 0. 0. ...   \n",
              "3  [-6.44871220e-02 -3.82172340e-03 -1.57967471e-...   \n",
              "4  [-6.06577247e-02 -2.77587841e-03 -2.35384256e-...   \n",
              "\n",
              "                                 section_9Bembedding  \\\n",
              "0  [0. 0. 0. 0. 0. 0. 0. 0. 0. 0. 0. 0. 0. 0. 0. ...   \n",
              "1  [0. 0. 0. 0. 0. 0. 0. 0. 0. 0. 0. 0. 0. 0. 0. ...   \n",
              "2  [0. 0. 0. 0. 0. 0. 0. 0. 0. 0. 0. 0. 0. 0. 0. ...   \n",
              "3  [-5.18303849e-02 -1.67017803e-02 -4.17982489e-...   \n",
              "4  [-7.21566752e-02 -4.83474918e-02 -2.69899201e-...   \n",
              "\n",
              "                                  section_2embedding  \\\n",
              "0  [-1.83147509e-02 -4.80058193e-02 -3.25606801e-...   \n",
              "1  [ 1.60061345e-02  2.85344739e-02  2.26290263e-...   \n",
              "2  [-1.38139455e-02 -9.38619545e-04 -1.91317741e-...   \n",
              "3  [-9.54162516e-03 -8.53198580e-03  7.73510430e-...   \n",
              "4  [ 1.24421781e-02  2.63887513e-02 -2.32555494e-...   \n",
              "\n",
              "                                  section_6embedding  \\\n",
              "0  [ 1.19868275e-02 -3.50940004e-02 -3.42585109e-...   \n",
              "1  [-1.48224207e-02 -4.50210385e-02 -6.59380779e-...   \n",
              "2  [-2.47520432e-02 -3.38479057e-02 -2.15717610e-...   \n",
              "3  [-0.02995299 -0.00425722 -0.03677021  0.041000...   \n",
              "4  [-0.00219737  0.01218096 -0.02921917  0.001000...   \n",
              "\n",
              "                                  section_3embedding  \\\n",
              "0  [-5.95068801e-02  2.10417886e-03 -2.92739635e-...   \n",
              "1  [-1.44546749e-02 -2.31604483e-02 -1.49410742e-...   \n",
              "2  [-0.05118279 -0.03660664 -0.03556744 -0.023323...   \n",
              "3  [-5.38757481e-02 -4.11248840e-02 -2.54752636e-...   \n",
              "4  [-2.25880761e-02 -3.23262699e-02 -4.97009158e-...   \n",
              "\n",
              "                                 section_9Aembedding  \\\n",
              "0  [0. 0. 0. 0. 0. 0. 0. 0. 0. 0. 0. 0. 0. 0. 0. ...   \n",
              "1  [0. 0. 0. 0. 0. 0. 0. 0. 0. 0. 0. 0. 0. 0. 0. ...   \n",
              "2  [0. 0. 0. 0. 0. 0. 0. 0. 0. 0. 0. 0. 0. 0. 0. ...   \n",
              "3  [-3.16515304e-02 -1.75493170e-02 -9.58232504e-...   \n",
              "4  [ 1.63675216e-03 -2.70394441e-02 -3.73632014e-...   \n",
              "\n",
              "                                  section_1embedding  \\\n",
              "0  [-0.03292404  0.00087296 -0.04182    -0.004596...   \n",
              "1  [ 2.29252045e-02  2.62432406e-03 -4.36920724e-...   \n",
              "2  [-8.46420446e-03 -1.74391275e-02 -3.04021587e-...   \n",
              "3  [-5.22894418e-03 -6.85504824e-03 -1.68921131e-...   \n",
              "4  [ 7.57767455e-03 -5.32740511e-03 -1.38319638e-...   \n",
              "\n",
              "                                   overall_embedding  \n",
              "0  [-0.02347898 -0.01731962 -0.02790547  0.000921...  \n",
              "1  [-1.49562186e-02 -1.20997473e-02 -1.77254046e-...  \n",
              "2  [-2.02630794e-02 -2.28220087e-02 -2.03435779e-...  \n",
              "3  [-3.72444206e-02 -1.18594729e-02 -2.65914233e-...  \n",
              "4  [-1.39428654e-02 -7.94268673e-03 -2.75115496e-...  \n",
              "\n",
              "[5 rows x 24 columns]"
            ],
            "text/html": [
              "<div>\n",
              "<style scoped>\n",
              "    .dataframe tbody tr th:only-of-type {\n",
              "        vertical-align: middle;\n",
              "    }\n",
              "\n",
              "    .dataframe tbody tr th {\n",
              "        vertical-align: top;\n",
              "    }\n",
              "\n",
              "    .dataframe thead th {\n",
              "        text-align: right;\n",
              "    }\n",
              "</style>\n",
              "<table border=\"1\" class=\"dataframe\">\n",
              "  <thead>\n",
              "    <tr style=\"text-align: right;\">\n",
              "      <th></th>\n",
              "      <th>filename</th>\n",
              "      <th>cik</th>\n",
              "      <th>year</th>\n",
              "      <th>section_7embedding</th>\n",
              "      <th>section_9embedding</th>\n",
              "      <th>section_12embedding</th>\n",
              "      <th>section_10embedding</th>\n",
              "      <th>section_4embedding</th>\n",
              "      <th>section_8embedding</th>\n",
              "      <th>section_14embedding</th>\n",
              "      <th>...</th>\n",
              "      <th>section_13embedding</th>\n",
              "      <th>section_7Aembedding</th>\n",
              "      <th>section_1Bembedding</th>\n",
              "      <th>section_9Bembedding</th>\n",
              "      <th>section_2embedding</th>\n",
              "      <th>section_6embedding</th>\n",
              "      <th>section_3embedding</th>\n",
              "      <th>section_9Aembedding</th>\n",
              "      <th>section_1embedding</th>\n",
              "      <th>overall_embedding</th>\n",
              "    </tr>\n",
              "  </thead>\n",
              "  <tbody>\n",
              "    <tr>\n",
              "      <th>0</th>\n",
              "      <td>50104_1993.txt</td>\n",
              "      <td>50104</td>\n",
              "      <td>1993</td>\n",
              "      <td>[-3.47243063e-02  1.94188505e-02 -8.92389864e-...</td>\n",
              "      <td>[-1.55314188e-02 -2.45964527e-03 -3.88711654e-...</td>\n",
              "      <td>[-3.79250757e-02 -4.47099060e-02 -3.67634818e-...</td>\n",
              "      <td>[-4.57181484e-02 -5.33069260e-02 -1.22106224e-...</td>\n",
              "      <td>[-0.05072239 -0.01314292 -0.03440231 -0.023048...</td>\n",
              "      <td>[-3.04003223e-02  4.79081871e-03 -5.41995295e-...</td>\n",
              "      <td>[ 3.38502717e-03 -5.04764915e-03 -5.59636764e-...</td>\n",
              "      <td>...</td>\n",
              "      <td>[-4.50329408e-02 -7.63122365e-02 -3.43960524e-...</td>\n",
              "      <td>[0. 0. 0. 0. 0. 0. 0. 0. 0. 0. 0. 0. 0. 0. 0. ...</td>\n",
              "      <td>[0. 0. 0. 0. 0. 0. 0. 0. 0. 0. 0. 0. 0. 0. 0. ...</td>\n",
              "      <td>[0. 0. 0. 0. 0. 0. 0. 0. 0. 0. 0. 0. 0. 0. 0. ...</td>\n",
              "      <td>[-1.83147509e-02 -4.80058193e-02 -3.25606801e-...</td>\n",
              "      <td>[ 1.19868275e-02 -3.50940004e-02 -3.42585109e-...</td>\n",
              "      <td>[-5.95068801e-02  2.10417886e-03 -2.92739635e-...</td>\n",
              "      <td>[0. 0. 0. 0. 0. 0. 0. 0. 0. 0. 0. 0. 0. 0. 0. ...</td>\n",
              "      <td>[-0.03292404  0.00087296 -0.04182    -0.004596...</td>\n",
              "      <td>[-0.02347898 -0.01731962 -0.02790547  0.000921...</td>\n",
              "    </tr>\n",
              "    <tr>\n",
              "      <th>1</th>\n",
              "      <td>315189_1993.txt</td>\n",
              "      <td>315189</td>\n",
              "      <td>1993</td>\n",
              "      <td>[-1.35571547e-02 -1.56442206e-02 -2.92028040e-...</td>\n",
              "      <td>[-1.83812398e-02  1.81908242e-03 -2.49630474e-...</td>\n",
              "      <td>[-3.85654159e-02 -1.78559888e-02 -4.98842299e-...</td>\n",
              "      <td>[-5.09253442e-02 -3.28539982e-02 -1.21700037e-...</td>\n",
              "      <td>[-4.47579399e-02 -1.16266981e-02 -4.29858454e-...</td>\n",
              "      <td>[-9.26065768e-05 -5.11534102e-02 -4.29588519e-...</td>\n",
              "      <td>[ 2.28945124e-02  5.21549085e-03 -1.74354800e-...</td>\n",
              "      <td>...</td>\n",
              "      <td>[-5.07865660e-02 -4.80615199e-02 -3.68813202e-...</td>\n",
              "      <td>[0. 0. 0. 0. 0. 0. 0. 0. 0. 0. 0. 0. 0. 0. 0. ...</td>\n",
              "      <td>[0. 0. 0. 0. 0. 0. 0. 0. 0. 0. 0. 0. 0. 0. 0. ...</td>\n",
              "      <td>[0. 0. 0. 0. 0. 0. 0. 0. 0. 0. 0. 0. 0. 0. 0. ...</td>\n",
              "      <td>[ 1.60061345e-02  2.85344739e-02  2.26290263e-...</td>\n",
              "      <td>[-1.48224207e-02 -4.50210385e-02 -6.59380779e-...</td>\n",
              "      <td>[-1.44546749e-02 -2.31604483e-02 -1.49410742e-...</td>\n",
              "      <td>[0. 0. 0. 0. 0. 0. 0. 0. 0. 0. 0. 0. 0. 0. 0. ...</td>\n",
              "      <td>[ 2.29252045e-02  2.62432406e-03 -4.36920724e-...</td>\n",
              "      <td>[-1.49562186e-02 -1.20997473e-02 -1.77254046e-...</td>\n",
              "    </tr>\n",
              "    <tr>\n",
              "      <th>2</th>\n",
              "      <td>1800_1993.txt</td>\n",
              "      <td>1800</td>\n",
              "      <td>1993</td>\n",
              "      <td>[-0.01756296 -0.01733708 -0.01346771 -0.013578...</td>\n",
              "      <td>[-1.56782791e-02 -6.42858818e-03 -3.48928086e-...</td>\n",
              "      <td>[-4.16508093e-02 -2.62772869e-02 -3.11164446e-...</td>\n",
              "      <td>[-6.22933321e-02 -4.06846032e-02 -2.88069844e-...</td>\n",
              "      <td>[-0.01235421 -0.05187324 -0.01839188  0.048709...</td>\n",
              "      <td>[-0.01758242 -0.04470409 -0.02377128 -0.002298...</td>\n",
              "      <td>[ 3.80702619e-03 -6.57393262e-02 -4.26834710e-...</td>\n",
              "      <td>...</td>\n",
              "      <td>[-4.13229093e-02 -6.52043819e-02 -4.08298895e-...</td>\n",
              "      <td>[0. 0. 0. 0. 0. 0. 0. 0. 0. 0. 0. 0. 0. 0. 0. ...</td>\n",
              "      <td>[0. 0. 0. 0. 0. 0. 0. 0. 0. 0. 0. 0. 0. 0. 0. ...</td>\n",
              "      <td>[0. 0. 0. 0. 0. 0. 0. 0. 0. 0. 0. 0. 0. 0. 0. ...</td>\n",
              "      <td>[-1.38139455e-02 -9.38619545e-04 -1.91317741e-...</td>\n",
              "      <td>[-2.47520432e-02 -3.38479057e-02 -2.15717610e-...</td>\n",
              "      <td>[-0.05118279 -0.03660664 -0.03556744 -0.023323...</td>\n",
              "      <td>[0. 0. 0. 0. 0. 0. 0. 0. 0. 0. 0. 0. 0. 0. 0. ...</td>\n",
              "      <td>[-8.46420446e-03 -1.74391275e-02 -3.04021587e-...</td>\n",
              "      <td>[-2.02630794e-02 -2.28220087e-02 -2.03435779e-...</td>\n",
              "    </tr>\n",
              "    <tr>\n",
              "      <th>3</th>\n",
              "      <td>1137091_2020.htm</td>\n",
              "      <td>1137091</td>\n",
              "      <td>2020</td>\n",
              "      <td>[-2.10153785e-02  2.59747695e-03 -3.92209039e-...</td>\n",
              "      <td>[-4.25587595e-02 -2.09636036e-02 -6.31605536e-...</td>\n",
              "      <td>[-6.73391223e-02 -1.49382157e-02 -3.27744223e-...</td>\n",
              "      <td>[-3.24487165e-02 -1.60200917e-03 -5.89513499e-...</td>\n",
              "      <td>[-3.31896767e-02  1.45743862e-02 -3.72849405e-...</td>\n",
              "      <td>[-1.28673098e-02 -8.76872710e-03 -2.86414517e-...</td>\n",
              "      <td>[-7.22742230e-02 -2.71525867e-02 -2.11981349e-...</td>\n",
              "      <td>...</td>\n",
              "      <td>[-0.05171408 -0.06189608 -0.03306692  0.002361...</td>\n",
              "      <td>[-4.44080308e-02  3.40547636e-02 -2.83501763e-...</td>\n",
              "      <td>[-6.44871220e-02 -3.82172340e-03 -1.57967471e-...</td>\n",
              "      <td>[-5.18303849e-02 -1.67017803e-02 -4.17982489e-...</td>\n",
              "      <td>[-9.54162516e-03 -8.53198580e-03  7.73510430e-...</td>\n",
              "      <td>[-0.02995299 -0.00425722 -0.03677021  0.041000...</td>\n",
              "      <td>[-5.38757481e-02 -4.11248840e-02 -2.54752636e-...</td>\n",
              "      <td>[-3.16515304e-02 -1.75493170e-02 -9.58232504e-...</td>\n",
              "      <td>[-5.22894418e-03 -6.85504824e-03 -1.68921131e-...</td>\n",
              "      <td>[-3.72444206e-02 -1.18594729e-02 -2.65914233e-...</td>\n",
              "    </tr>\n",
              "    <tr>\n",
              "      <th>4</th>\n",
              "      <td>1067983_2020.htm</td>\n",
              "      <td>1067983</td>\n",
              "      <td>2020</td>\n",
              "      <td>[-3.98591966e-04 -6.93545857e-03 -3.90583078e-...</td>\n",
              "      <td>[-3.78713012e-02 -2.25618221e-02 -6.61137030e-...</td>\n",
              "      <td>[0. 0. 0. 0. 0. 0. 0. 0. 0. 0. 0. 0. 0. 0. 0. ...</td>\n",
              "      <td>[0. 0. 0. 0. 0. 0. 0. 0. 0. 0. 0. 0. 0. 0. 0. ...</td>\n",
              "      <td>[-0.0344297  -0.01074299 -0.04601453  0.000932...</td>\n",
              "      <td>[-1.76449773e-02 -9.34779196e-03 -3.27466425e-...</td>\n",
              "      <td>[0. 0. 0. 0. 0. 0. 0. 0. 0. 0. 0. 0. 0. 0. 0. ...</td>\n",
              "      <td>...</td>\n",
              "      <td>[0. 0. 0. 0. 0. 0. 0. 0. 0. 0. 0. 0. 0. 0. 0. ...</td>\n",
              "      <td>[-0.01637064  0.00202351 -0.01476053  0.020416...</td>\n",
              "      <td>[-6.06577247e-02 -2.77587841e-03 -2.35384256e-...</td>\n",
              "      <td>[-7.21566752e-02 -4.83474918e-02 -2.69899201e-...</td>\n",
              "      <td>[ 1.24421781e-02  2.63887513e-02 -2.32555494e-...</td>\n",
              "      <td>[-0.00219737  0.01218096 -0.02921917  0.001000...</td>\n",
              "      <td>[-2.25880761e-02 -3.23262699e-02 -4.97009158e-...</td>\n",
              "      <td>[ 1.63675216e-03 -2.70394441e-02 -3.73632014e-...</td>\n",
              "      <td>[ 7.57767455e-03 -5.32740511e-03 -1.38319638e-...</td>\n",
              "      <td>[-1.39428654e-02 -7.94268673e-03 -2.75115496e-...</td>\n",
              "    </tr>\n",
              "  </tbody>\n",
              "</table>\n",
              "<p>5 rows × 24 columns</p>\n",
              "</div>[5 rows x 24 columns in total]"
            ]
          },
          "metadata": {},
          "execution_count": 54
        }
      ]
    },
    {
      "cell_type": "code",
      "source": [
        "df_embedding.info()"
      ],
      "metadata": {
        "colab": {
          "base_uri": "https://localhost:8080/"
        },
        "id": "XjzGH--lRfjt",
        "executionInfo": {
          "status": "ok",
          "timestamp": 1758558822752,
          "user_tz": -330,
          "elapsed": 1627,
          "user": {
            "displayName": "",
            "userId": ""
          }
        },
        "outputId": "364c886d-b488-4f34-bd5b-2ccc4a11c4f5"
      },
      "id": "XjzGH--lRfjt",
      "execution_count": 55,
      "outputs": [
        {
          "output_type": "stream",
          "name": "stdout",
          "text": [
            "<class 'bigframes.dataframe.DataFrame'>\n",
            "Index: 5 entries, 0 to 4\n",
            "Data columns (total 24 columns):\n",
            "  #  Column               Non-Null Count    Dtype\n",
            "---  -------------------  ----------------  ---------------------------\n",
            "  0  filename             5 non-null        string\n",
            "  1  cik                  5 non-null        Int64\n",
            "  2  year                 5 non-null        Int64\n",
            "  3  section_7embedding   5 non-null        list<item: double>[pyarrow]\n",
            "  4  section_9embedding   5 non-null        list<item: double>[pyarrow]\n",
            "  5  section_12embedding  5 non-null        list<item: double>[pyarrow]\n",
            "  6  section_10embedding  5 non-null        list<item: double>[pyarrow]\n",
            "  7  section_4embedding   5 non-null        list<item: double>[pyarrow]\n",
            "  8  section_8embedding   5 non-null        list<item: double>[pyarrow]\n",
            "  9  section_14embedding  5 non-null        list<item: double>[pyarrow]\n",
            " 10  section_1Aembedding  5 non-null        list<item: double>[pyarrow]\n",
            " 11  section_11embedding  5 non-null        list<item: double>[pyarrow]\n",
            " 12  section_15embedding  5 non-null        list<item: double>[pyarrow]\n",
            " 13  section_5embedding   5 non-null        list<item: double>[pyarrow]\n",
            " 14  section_13embedding  5 non-null        list<item: double>[pyarrow]\n",
            " 15  section_7Aembedding  5 non-null        list<item: double>[pyarrow]\n",
            " 16  section_1Bembedding  5 non-null        list<item: double>[pyarrow]\n",
            " 17  section_9Bembedding  5 non-null        list<item: double>[pyarrow]\n",
            " 18  section_2embedding   5 non-null        list<item: double>[pyarrow]\n",
            " 19  section_6embedding   5 non-null        list<item: double>[pyarrow]\n",
            " 20  section_3embedding   5 non-null        list<item: double>[pyarrow]\n",
            " 21  section_9Aembedding  5 non-null        list<item: double>[pyarrow]\n",
            " 22  section_1embedding   5 non-null        list<item: double>[pyarrow]\n",
            " 23  overall_embedding    5 non-null        list<item: double>[pyarrow]\n",
            "dtypes: Int64(2), list<item: double>[pyarrow](21), string(1)\n",
            "memory usage: 1000 bytes\n"
          ]
        }
      ]
    },
    {
      "cell_type": "code",
      "source": [
        "df_embedding.to_pandas().iloc[:, 3:].applymap(len)"
      ],
      "metadata": {
        "colab": {
          "base_uri": "https://localhost:8080/",
          "height": 290
        },
        "id": "4if9538mRg5d",
        "executionInfo": {
          "status": "ok",
          "timestamp": 1758558846866,
          "user_tz": -330,
          "elapsed": 2335,
          "user": {
            "displayName": "",
            "userId": ""
          }
        },
        "outputId": "e44f2188-2e39-43ab-95e2-e478670961fa"
      },
      "id": "4if9538mRg5d",
      "execution_count": 56,
      "outputs": [
        {
          "output_type": "stream",
          "name": "stderr",
          "text": [
            "/tmp/ipython-input-2795087265.py:1: FutureWarning: DataFrame.applymap has been deprecated. Use DataFrame.map instead.\n",
            "  df_embedding.to_pandas().iloc[:, 3:].applymap(len)\n"
          ]
        },
        {
          "output_type": "execute_result",
          "data": {
            "text/plain": [
              "   section_7embedding  section_9embedding  section_12embedding  \\\n",
              "0                 768                 768                  768   \n",
              "1                 768                 768                  768   \n",
              "2                 768                 768                  768   \n",
              "3                 768                 768                  768   \n",
              "4                 768                 768                  768   \n",
              "\n",
              "   section_10embedding  section_4embedding  section_8embedding  \\\n",
              "0                  768                 768                 768   \n",
              "1                  768                 768                 768   \n",
              "2                  768                 768                 768   \n",
              "3                  768                 768                 768   \n",
              "4                  768                 768                 768   \n",
              "\n",
              "   section_14embedding  section_1Aembedding  section_11embedding  \\\n",
              "0                  768                  768                  768   \n",
              "1                  768                  768                  768   \n",
              "2                  768                  768                  768   \n",
              "3                  768                  768                  768   \n",
              "4                  768                  768                  768   \n",
              "\n",
              "   section_15embedding  ...  section_13embedding  section_7Aembedding  \\\n",
              "0                  768  ...                  768                  768   \n",
              "1                  768  ...                  768                  768   \n",
              "2                  768  ...                  768                  768   \n",
              "3                  768  ...                  768                  768   \n",
              "4                  768  ...                  768                  768   \n",
              "\n",
              "   section_1Bembedding  section_9Bembedding  section_2embedding  \\\n",
              "0                  768                  768                 768   \n",
              "1                  768                  768                 768   \n",
              "2                  768                  768                 768   \n",
              "3                  768                  768                 768   \n",
              "4                  768                  768                 768   \n",
              "\n",
              "   section_6embedding  section_3embedding  section_9Aembedding  \\\n",
              "0                 768                 768                  768   \n",
              "1                 768                 768                  768   \n",
              "2                 768                 768                  768   \n",
              "3                 768                 768                  768   \n",
              "4                 768                 768                  768   \n",
              "\n",
              "   section_1embedding  overall_embedding  \n",
              "0                 768                768  \n",
              "1                 768                768  \n",
              "2                 768                768  \n",
              "3                 768                768  \n",
              "4                 768                768  \n",
              "\n",
              "[5 rows x 21 columns]"
            ],
            "text/html": [
              "\n",
              "  <div id=\"df-2f7a965c-f7b3-448c-9464-844cf28bbd5d\" class=\"colab-df-container\">\n",
              "    <div>\n",
              "<style scoped>\n",
              "    .dataframe tbody tr th:only-of-type {\n",
              "        vertical-align: middle;\n",
              "    }\n",
              "\n",
              "    .dataframe tbody tr th {\n",
              "        vertical-align: top;\n",
              "    }\n",
              "\n",
              "    .dataframe thead th {\n",
              "        text-align: right;\n",
              "    }\n",
              "</style>\n",
              "<table border=\"1\" class=\"dataframe\">\n",
              "  <thead>\n",
              "    <tr style=\"text-align: right;\">\n",
              "      <th></th>\n",
              "      <th>section_7embedding</th>\n",
              "      <th>section_9embedding</th>\n",
              "      <th>section_12embedding</th>\n",
              "      <th>section_10embedding</th>\n",
              "      <th>section_4embedding</th>\n",
              "      <th>section_8embedding</th>\n",
              "      <th>section_14embedding</th>\n",
              "      <th>section_1Aembedding</th>\n",
              "      <th>section_11embedding</th>\n",
              "      <th>section_15embedding</th>\n",
              "      <th>...</th>\n",
              "      <th>section_13embedding</th>\n",
              "      <th>section_7Aembedding</th>\n",
              "      <th>section_1Bembedding</th>\n",
              "      <th>section_9Bembedding</th>\n",
              "      <th>section_2embedding</th>\n",
              "      <th>section_6embedding</th>\n",
              "      <th>section_3embedding</th>\n",
              "      <th>section_9Aembedding</th>\n",
              "      <th>section_1embedding</th>\n",
              "      <th>overall_embedding</th>\n",
              "    </tr>\n",
              "  </thead>\n",
              "  <tbody>\n",
              "    <tr>\n",
              "      <th>0</th>\n",
              "      <td>768</td>\n",
              "      <td>768</td>\n",
              "      <td>768</td>\n",
              "      <td>768</td>\n",
              "      <td>768</td>\n",
              "      <td>768</td>\n",
              "      <td>768</td>\n",
              "      <td>768</td>\n",
              "      <td>768</td>\n",
              "      <td>768</td>\n",
              "      <td>...</td>\n",
              "      <td>768</td>\n",
              "      <td>768</td>\n",
              "      <td>768</td>\n",
              "      <td>768</td>\n",
              "      <td>768</td>\n",
              "      <td>768</td>\n",
              "      <td>768</td>\n",
              "      <td>768</td>\n",
              "      <td>768</td>\n",
              "      <td>768</td>\n",
              "    </tr>\n",
              "    <tr>\n",
              "      <th>1</th>\n",
              "      <td>768</td>\n",
              "      <td>768</td>\n",
              "      <td>768</td>\n",
              "      <td>768</td>\n",
              "      <td>768</td>\n",
              "      <td>768</td>\n",
              "      <td>768</td>\n",
              "      <td>768</td>\n",
              "      <td>768</td>\n",
              "      <td>768</td>\n",
              "      <td>...</td>\n",
              "      <td>768</td>\n",
              "      <td>768</td>\n",
              "      <td>768</td>\n",
              "      <td>768</td>\n",
              "      <td>768</td>\n",
              "      <td>768</td>\n",
              "      <td>768</td>\n",
              "      <td>768</td>\n",
              "      <td>768</td>\n",
              "      <td>768</td>\n",
              "    </tr>\n",
              "    <tr>\n",
              "      <th>2</th>\n",
              "      <td>768</td>\n",
              "      <td>768</td>\n",
              "      <td>768</td>\n",
              "      <td>768</td>\n",
              "      <td>768</td>\n",
              "      <td>768</td>\n",
              "      <td>768</td>\n",
              "      <td>768</td>\n",
              "      <td>768</td>\n",
              "      <td>768</td>\n",
              "      <td>...</td>\n",
              "      <td>768</td>\n",
              "      <td>768</td>\n",
              "      <td>768</td>\n",
              "      <td>768</td>\n",
              "      <td>768</td>\n",
              "      <td>768</td>\n",
              "      <td>768</td>\n",
              "      <td>768</td>\n",
              "      <td>768</td>\n",
              "      <td>768</td>\n",
              "    </tr>\n",
              "    <tr>\n",
              "      <th>3</th>\n",
              "      <td>768</td>\n",
              "      <td>768</td>\n",
              "      <td>768</td>\n",
              "      <td>768</td>\n",
              "      <td>768</td>\n",
              "      <td>768</td>\n",
              "      <td>768</td>\n",
              "      <td>768</td>\n",
              "      <td>768</td>\n",
              "      <td>768</td>\n",
              "      <td>...</td>\n",
              "      <td>768</td>\n",
              "      <td>768</td>\n",
              "      <td>768</td>\n",
              "      <td>768</td>\n",
              "      <td>768</td>\n",
              "      <td>768</td>\n",
              "      <td>768</td>\n",
              "      <td>768</td>\n",
              "      <td>768</td>\n",
              "      <td>768</td>\n",
              "    </tr>\n",
              "    <tr>\n",
              "      <th>4</th>\n",
              "      <td>768</td>\n",
              "      <td>768</td>\n",
              "      <td>768</td>\n",
              "      <td>768</td>\n",
              "      <td>768</td>\n",
              "      <td>768</td>\n",
              "      <td>768</td>\n",
              "      <td>768</td>\n",
              "      <td>768</td>\n",
              "      <td>768</td>\n",
              "      <td>...</td>\n",
              "      <td>768</td>\n",
              "      <td>768</td>\n",
              "      <td>768</td>\n",
              "      <td>768</td>\n",
              "      <td>768</td>\n",
              "      <td>768</td>\n",
              "      <td>768</td>\n",
              "      <td>768</td>\n",
              "      <td>768</td>\n",
              "      <td>768</td>\n",
              "    </tr>\n",
              "  </tbody>\n",
              "</table>\n",
              "<p>5 rows × 21 columns</p>\n",
              "</div>\n",
              "    <div class=\"colab-df-buttons\">\n",
              "\n",
              "  <div class=\"colab-df-container\">\n",
              "    <button class=\"colab-df-convert\" onclick=\"convertToInteractive('df-2f7a965c-f7b3-448c-9464-844cf28bbd5d')\"\n",
              "            title=\"Convert this dataframe to an interactive table.\"\n",
              "            style=\"display:none;\">\n",
              "\n",
              "  <svg xmlns=\"http://www.w3.org/2000/svg\" height=\"24px\" viewBox=\"0 -960 960 960\">\n",
              "    <path d=\"M120-120v-720h720v720H120Zm60-500h600v-160H180v160Zm220 220h160v-160H400v160Zm0 220h160v-160H400v160ZM180-400h160v-160H180v160Zm440 0h160v-160H620v160ZM180-180h160v-160H180v160Zm440 0h160v-160H620v160Z\"/>\n",
              "  </svg>\n",
              "    </button>\n",
              "\n",
              "  <style>\n",
              "    .colab-df-container {\n",
              "      display:flex;\n",
              "      gap: 12px;\n",
              "    }\n",
              "\n",
              "    .colab-df-convert {\n",
              "      background-color: #E8F0FE;\n",
              "      border: none;\n",
              "      border-radius: 50%;\n",
              "      cursor: pointer;\n",
              "      display: none;\n",
              "      fill: #1967D2;\n",
              "      height: 32px;\n",
              "      padding: 0 0 0 0;\n",
              "      width: 32px;\n",
              "    }\n",
              "\n",
              "    .colab-df-convert:hover {\n",
              "      background-color: #E2EBFA;\n",
              "      box-shadow: 0px 1px 2px rgba(60, 64, 67, 0.3), 0px 1px 3px 1px rgba(60, 64, 67, 0.15);\n",
              "      fill: #174EA6;\n",
              "    }\n",
              "\n",
              "    .colab-df-buttons div {\n",
              "      margin-bottom: 4px;\n",
              "    }\n",
              "\n",
              "    [theme=dark] .colab-df-convert {\n",
              "      background-color: #3B4455;\n",
              "      fill: #D2E3FC;\n",
              "    }\n",
              "\n",
              "    [theme=dark] .colab-df-convert:hover {\n",
              "      background-color: #434B5C;\n",
              "      box-shadow: 0px 1px 3px 1px rgba(0, 0, 0, 0.15);\n",
              "      filter: drop-shadow(0px 1px 2px rgba(0, 0, 0, 0.3));\n",
              "      fill: #FFFFFF;\n",
              "    }\n",
              "  </style>\n",
              "\n",
              "    <script>\n",
              "      const buttonEl =\n",
              "        document.querySelector('#df-2f7a965c-f7b3-448c-9464-844cf28bbd5d button.colab-df-convert');\n",
              "      buttonEl.style.display =\n",
              "        google.colab.kernel.accessAllowed ? 'block' : 'none';\n",
              "\n",
              "      async function convertToInteractive(key) {\n",
              "        const element = document.querySelector('#df-2f7a965c-f7b3-448c-9464-844cf28bbd5d');\n",
              "        const dataTable =\n",
              "          await google.colab.kernel.invokeFunction('convertToInteractive',\n",
              "                                                    [key], {});\n",
              "        if (!dataTable) return;\n",
              "\n",
              "        const docLinkHtml = 'Like what you see? Visit the ' +\n",
              "          '<a target=\"_blank\" href=https://colab.research.google.com/notebooks/data_table.ipynb>data table notebook</a>'\n",
              "          + ' to learn more about interactive tables.';\n",
              "        element.innerHTML = '';\n",
              "        dataTable['output_type'] = 'display_data';\n",
              "        await google.colab.output.renderOutput(dataTable, element);\n",
              "        const docLink = document.createElement('div');\n",
              "        docLink.innerHTML = docLinkHtml;\n",
              "        element.appendChild(docLink);\n",
              "      }\n",
              "    </script>\n",
              "  </div>\n",
              "\n",
              "\n",
              "    <div id=\"df-35a53da4-230d-4a18-8657-3d415b9da1e6\">\n",
              "      <button class=\"colab-df-quickchart\" onclick=\"quickchart('df-35a53da4-230d-4a18-8657-3d415b9da1e6')\"\n",
              "                title=\"Suggest charts\"\n",
              "                style=\"display:none;\">\n",
              "\n",
              "<svg xmlns=\"http://www.w3.org/2000/svg\" height=\"24px\"viewBox=\"0 0 24 24\"\n",
              "     width=\"24px\">\n",
              "    <g>\n",
              "        <path d=\"M19 3H5c-1.1 0-2 .9-2 2v14c0 1.1.9 2 2 2h14c1.1 0 2-.9 2-2V5c0-1.1-.9-2-2-2zM9 17H7v-7h2v7zm4 0h-2V7h2v10zm4 0h-2v-4h2v4z\"/>\n",
              "    </g>\n",
              "</svg>\n",
              "      </button>\n",
              "\n",
              "<style>\n",
              "  .colab-df-quickchart {\n",
              "      --bg-color: #E8F0FE;\n",
              "      --fill-color: #1967D2;\n",
              "      --hover-bg-color: #E2EBFA;\n",
              "      --hover-fill-color: #174EA6;\n",
              "      --disabled-fill-color: #AAA;\n",
              "      --disabled-bg-color: #DDD;\n",
              "  }\n",
              "\n",
              "  [theme=dark] .colab-df-quickchart {\n",
              "      --bg-color: #3B4455;\n",
              "      --fill-color: #D2E3FC;\n",
              "      --hover-bg-color: #434B5C;\n",
              "      --hover-fill-color: #FFFFFF;\n",
              "      --disabled-bg-color: #3B4455;\n",
              "      --disabled-fill-color: #666;\n",
              "  }\n",
              "\n",
              "  .colab-df-quickchart {\n",
              "    background-color: var(--bg-color);\n",
              "    border: none;\n",
              "    border-radius: 50%;\n",
              "    cursor: pointer;\n",
              "    display: none;\n",
              "    fill: var(--fill-color);\n",
              "    height: 32px;\n",
              "    padding: 0;\n",
              "    width: 32px;\n",
              "  }\n",
              "\n",
              "  .colab-df-quickchart:hover {\n",
              "    background-color: var(--hover-bg-color);\n",
              "    box-shadow: 0 1px 2px rgba(60, 64, 67, 0.3), 0 1px 3px 1px rgba(60, 64, 67, 0.15);\n",
              "    fill: var(--button-hover-fill-color);\n",
              "  }\n",
              "\n",
              "  .colab-df-quickchart-complete:disabled,\n",
              "  .colab-df-quickchart-complete:disabled:hover {\n",
              "    background-color: var(--disabled-bg-color);\n",
              "    fill: var(--disabled-fill-color);\n",
              "    box-shadow: none;\n",
              "  }\n",
              "\n",
              "  .colab-df-spinner {\n",
              "    border: 2px solid var(--fill-color);\n",
              "    border-color: transparent;\n",
              "    border-bottom-color: var(--fill-color);\n",
              "    animation:\n",
              "      spin 1s steps(1) infinite;\n",
              "  }\n",
              "\n",
              "  @keyframes spin {\n",
              "    0% {\n",
              "      border-color: transparent;\n",
              "      border-bottom-color: var(--fill-color);\n",
              "      border-left-color: var(--fill-color);\n",
              "    }\n",
              "    20% {\n",
              "      border-color: transparent;\n",
              "      border-left-color: var(--fill-color);\n",
              "      border-top-color: var(--fill-color);\n",
              "    }\n",
              "    30% {\n",
              "      border-color: transparent;\n",
              "      border-left-color: var(--fill-color);\n",
              "      border-top-color: var(--fill-color);\n",
              "      border-right-color: var(--fill-color);\n",
              "    }\n",
              "    40% {\n",
              "      border-color: transparent;\n",
              "      border-right-color: var(--fill-color);\n",
              "      border-top-color: var(--fill-color);\n",
              "    }\n",
              "    60% {\n",
              "      border-color: transparent;\n",
              "      border-right-color: var(--fill-color);\n",
              "    }\n",
              "    80% {\n",
              "      border-color: transparent;\n",
              "      border-right-color: var(--fill-color);\n",
              "      border-bottom-color: var(--fill-color);\n",
              "    }\n",
              "    90% {\n",
              "      border-color: transparent;\n",
              "      border-bottom-color: var(--fill-color);\n",
              "    }\n",
              "  }\n",
              "</style>\n",
              "\n",
              "      <script>\n",
              "        async function quickchart(key) {\n",
              "          const quickchartButtonEl =\n",
              "            document.querySelector('#' + key + ' button');\n",
              "          quickchartButtonEl.disabled = true;  // To prevent multiple clicks.\n",
              "          quickchartButtonEl.classList.add('colab-df-spinner');\n",
              "          try {\n",
              "            const charts = await google.colab.kernel.invokeFunction(\n",
              "                'suggestCharts', [key], {});\n",
              "          } catch (error) {\n",
              "            console.error('Error during call to suggestCharts:', error);\n",
              "          }\n",
              "          quickchartButtonEl.classList.remove('colab-df-spinner');\n",
              "          quickchartButtonEl.classList.add('colab-df-quickchart-complete');\n",
              "        }\n",
              "        (() => {\n",
              "          let quickchartButtonEl =\n",
              "            document.querySelector('#df-35a53da4-230d-4a18-8657-3d415b9da1e6 button');\n",
              "          quickchartButtonEl.style.display =\n",
              "            google.colab.kernel.accessAllowed ? 'block' : 'none';\n",
              "        })();\n",
              "      </script>\n",
              "    </div>\n",
              "\n",
              "    </div>\n",
              "  </div>\n"
            ],
            "application/vnd.google.colaboratory.intrinsic+json": {
              "type": "dataframe"
            }
          },
          "metadata": {},
          "execution_count": 56
        }
      ]
    },
    {
      "cell_type": "code",
      "source": [
        "df_embedding.to_gbq(\"financial-fraud-detection-1.EDGAR.edgar_corpus_small_embeddings\", if_exists='replace')"
      ],
      "metadata": {
        "colab": {
          "base_uri": "https://localhost:8080/",
          "height": 53
        },
        "id": "N5VXIv0aRyGg",
        "executionInfo": {
          "status": "ok",
          "timestamp": 1758558895192,
          "user_tz": -330,
          "elapsed": 3153,
          "user": {
            "displayName": "",
            "userId": ""
          }
        },
        "outputId": "96593eea-b060-4b7c-8002-8cbd44ae4d86"
      },
      "id": "N5VXIv0aRyGg",
      "execution_count": 57,
      "outputs": [
        {
          "output_type": "display_data",
          "data": {
            "text/plain": [
              "<IPython.core.display.HTML object>"
            ],
            "text/html": [
              "Query job b2dbd610-63e9-4275-8cf9-e2e60cdab8ff is DONE. 645.3 kB processed. <a target=\"_blank\" href=\"https://console.cloud.google.com/bigquery?project=financial-fraud-detection-1&j=bq:US:b2dbd610-63e9-4275-8cf9-e2e60cdab8ff&page=queryresults\">Open Job</a>"
            ]
          },
          "metadata": {}
        },
        {
          "output_type": "execute_result",
          "data": {
            "text/plain": [
              "'financial-fraud-detection-1.EDGAR.edgar_corpus_small_embeddings'"
            ],
            "application/vnd.google.colaboratory.intrinsic+json": {
              "type": "string"
            }
          },
          "metadata": {},
          "execution_count": 57
        }
      ]
    },
    {
      "cell_type": "code",
      "source": [],
      "metadata": {
        "id": "F9bv_pdajd2O"
      },
      "id": "F9bv_pdajd2O",
      "execution_count": null,
      "outputs": []
    }
  ],
  "metadata": {
    "kernelspec": {
      "display_name": "Python 3",
      "language": "python",
      "name": "python3"
    },
    "language_info": {
      "codemirror_mode": {
        "name": "ipython",
        "version": 3
      },
      "file_extension": ".py",
      "mimetype": "text/x-python",
      "name": "python",
      "nbconvert_exporter": "python",
      "pygments_lexer": "ipython3",
      "version": "3.10.10"
    },
    "colab": {
      "provenance": [],
      "name": "EDGAR Embeddings"
    }
  },
  "nbformat": 4,
  "nbformat_minor": 5
}